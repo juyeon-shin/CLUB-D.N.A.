{
 "cells": [
  {
   "cell_type": "code",
   "execution_count": 1,
   "id": "f0db5f03",
   "metadata": {},
   "outputs": [],
   "source": [
    "import numpy as np\n",
    "import pandas as pd\n",
    "import scipy.stats\n",
    "import seaborn as sns\n",
    "import matplotlib.pyplot as plt\n",
    "\n",
    "plt.rc('font', family='New Gulim')"
   ]
  },
  {
   "cell_type": "code",
   "execution_count": 2,
   "id": "4f5c17b2",
   "metadata": {},
   "outputs": [],
   "source": [
    "train = pd.read_csv('train.csv')\n",
    "test = pd. read_csv('test_x.csv')\n",
    "sample_submission = pd.read_csv('sample_submission.csv')"
   ]
  },
  {
   "cell_type": "code",
   "execution_count": 4,
   "id": "fc1ece07",
   "metadata": {},
   "outputs": [
    {
     "data": {
      "text/html": [
       "<div>\n",
       "<style scoped>\n",
       "    .dataframe tbody tr th:only-of-type {\n",
       "        vertical-align: middle;\n",
       "    }\n",
       "\n",
       "    .dataframe tbody tr th {\n",
       "        vertical-align: top;\n",
       "    }\n",
       "\n",
       "    .dataframe thead th {\n",
       "        text-align: right;\n",
       "    }\n",
       "</style>\n",
       "<table border=\"1\" class=\"dataframe\">\n",
       "  <thead>\n",
       "    <tr style=\"text-align: right;\">\n",
       "      <th></th>\n",
       "      <th>index</th>\n",
       "      <th>QaA</th>\n",
       "      <th>QaE</th>\n",
       "      <th>QbA</th>\n",
       "      <th>QbE</th>\n",
       "      <th>QcA</th>\n",
       "      <th>QcE</th>\n",
       "      <th>QdA</th>\n",
       "      <th>QdE</th>\n",
       "      <th>QeA</th>\n",
       "      <th>...</th>\n",
       "      <th>wr_04</th>\n",
       "      <th>wr_05</th>\n",
       "      <th>wr_06</th>\n",
       "      <th>wr_07</th>\n",
       "      <th>wr_08</th>\n",
       "      <th>wr_09</th>\n",
       "      <th>wr_10</th>\n",
       "      <th>wr_11</th>\n",
       "      <th>wr_12</th>\n",
       "      <th>wr_13</th>\n",
       "    </tr>\n",
       "  </thead>\n",
       "  <tbody>\n",
       "    <tr>\n",
       "      <th>0</th>\n",
       "      <td>0</td>\n",
       "      <td>3.0</td>\n",
       "      <td>363</td>\n",
       "      <td>4.0</td>\n",
       "      <td>1370</td>\n",
       "      <td>5.0</td>\n",
       "      <td>997</td>\n",
       "      <td>1.0</td>\n",
       "      <td>1024</td>\n",
       "      <td>2.0</td>\n",
       "      <td>...</td>\n",
       "      <td>0</td>\n",
       "      <td>1</td>\n",
       "      <td>0</td>\n",
       "      <td>1</td>\n",
       "      <td>1</td>\n",
       "      <td>0</td>\n",
       "      <td>1</td>\n",
       "      <td>0</td>\n",
       "      <td>1</td>\n",
       "      <td>1</td>\n",
       "    </tr>\n",
       "    <tr>\n",
       "      <th>1</th>\n",
       "      <td>1</td>\n",
       "      <td>5.0</td>\n",
       "      <td>647</td>\n",
       "      <td>5.0</td>\n",
       "      <td>1313</td>\n",
       "      <td>3.0</td>\n",
       "      <td>3387</td>\n",
       "      <td>5.0</td>\n",
       "      <td>2969</td>\n",
       "      <td>1.0</td>\n",
       "      <td>...</td>\n",
       "      <td>1</td>\n",
       "      <td>1</td>\n",
       "      <td>0</td>\n",
       "      <td>1</td>\n",
       "      <td>1</td>\n",
       "      <td>0</td>\n",
       "      <td>1</td>\n",
       "      <td>0</td>\n",
       "      <td>1</td>\n",
       "      <td>1</td>\n",
       "    </tr>\n",
       "    <tr>\n",
       "      <th>2</th>\n",
       "      <td>2</td>\n",
       "      <td>4.0</td>\n",
       "      <td>1623</td>\n",
       "      <td>1.0</td>\n",
       "      <td>1480</td>\n",
       "      <td>1.0</td>\n",
       "      <td>1021</td>\n",
       "      <td>4.0</td>\n",
       "      <td>3374</td>\n",
       "      <td>5.0</td>\n",
       "      <td>...</td>\n",
       "      <td>1</td>\n",
       "      <td>1</td>\n",
       "      <td>0</td>\n",
       "      <td>1</td>\n",
       "      <td>1</td>\n",
       "      <td>1</td>\n",
       "      <td>1</td>\n",
       "      <td>0</td>\n",
       "      <td>1</td>\n",
       "      <td>1</td>\n",
       "    </tr>\n",
       "    <tr>\n",
       "      <th>3</th>\n",
       "      <td>3</td>\n",
       "      <td>3.0</td>\n",
       "      <td>504</td>\n",
       "      <td>3.0</td>\n",
       "      <td>2311</td>\n",
       "      <td>4.0</td>\n",
       "      <td>992</td>\n",
       "      <td>3.0</td>\n",
       "      <td>3245</td>\n",
       "      <td>1.0</td>\n",
       "      <td>...</td>\n",
       "      <td>0</td>\n",
       "      <td>0</td>\n",
       "      <td>0</td>\n",
       "      <td>0</td>\n",
       "      <td>1</td>\n",
       "      <td>0</td>\n",
       "      <td>1</td>\n",
       "      <td>0</td>\n",
       "      <td>1</td>\n",
       "      <td>1</td>\n",
       "    </tr>\n",
       "    <tr>\n",
       "      <th>4</th>\n",
       "      <td>4</td>\n",
       "      <td>1.0</td>\n",
       "      <td>927</td>\n",
       "      <td>1.0</td>\n",
       "      <td>707</td>\n",
       "      <td>5.0</td>\n",
       "      <td>556</td>\n",
       "      <td>2.0</td>\n",
       "      <td>1062</td>\n",
       "      <td>1.0</td>\n",
       "      <td>...</td>\n",
       "      <td>1</td>\n",
       "      <td>1</td>\n",
       "      <td>1</td>\n",
       "      <td>1</td>\n",
       "      <td>1</td>\n",
       "      <td>0</td>\n",
       "      <td>1</td>\n",
       "      <td>1</td>\n",
       "      <td>1</td>\n",
       "      <td>1</td>\n",
       "    </tr>\n",
       "    <tr>\n",
       "      <th>...</th>\n",
       "      <td>...</td>\n",
       "      <td>...</td>\n",
       "      <td>...</td>\n",
       "      <td>...</td>\n",
       "      <td>...</td>\n",
       "      <td>...</td>\n",
       "      <td>...</td>\n",
       "      <td>...</td>\n",
       "      <td>...</td>\n",
       "      <td>...</td>\n",
       "      <td>...</td>\n",
       "      <td>...</td>\n",
       "      <td>...</td>\n",
       "      <td>...</td>\n",
       "      <td>...</td>\n",
       "      <td>...</td>\n",
       "      <td>...</td>\n",
       "      <td>...</td>\n",
       "      <td>...</td>\n",
       "      <td>...</td>\n",
       "      <td>...</td>\n",
       "    </tr>\n",
       "    <tr>\n",
       "      <th>45527</th>\n",
       "      <td>45527</td>\n",
       "      <td>2.0</td>\n",
       "      <td>1050</td>\n",
       "      <td>5.0</td>\n",
       "      <td>619</td>\n",
       "      <td>4.0</td>\n",
       "      <td>328</td>\n",
       "      <td>1.0</td>\n",
       "      <td>285</td>\n",
       "      <td>1.0</td>\n",
       "      <td>...</td>\n",
       "      <td>1</td>\n",
       "      <td>1</td>\n",
       "      <td>0</td>\n",
       "      <td>1</td>\n",
       "      <td>1</td>\n",
       "      <td>1</td>\n",
       "      <td>1</td>\n",
       "      <td>0</td>\n",
       "      <td>1</td>\n",
       "      <td>1</td>\n",
       "    </tr>\n",
       "    <tr>\n",
       "      <th>45528</th>\n",
       "      <td>45528</td>\n",
       "      <td>2.0</td>\n",
       "      <td>581</td>\n",
       "      <td>3.0</td>\n",
       "      <td>1353</td>\n",
       "      <td>4.0</td>\n",
       "      <td>1164</td>\n",
       "      <td>1.0</td>\n",
       "      <td>798</td>\n",
       "      <td>3.0</td>\n",
       "      <td>...</td>\n",
       "      <td>1</td>\n",
       "      <td>1</td>\n",
       "      <td>0</td>\n",
       "      <td>1</td>\n",
       "      <td>1</td>\n",
       "      <td>1</td>\n",
       "      <td>1</td>\n",
       "      <td>0</td>\n",
       "      <td>1</td>\n",
       "      <td>1</td>\n",
       "    </tr>\n",
       "    <tr>\n",
       "      <th>45529</th>\n",
       "      <td>45529</td>\n",
       "      <td>4.0</td>\n",
       "      <td>593</td>\n",
       "      <td>1.0</td>\n",
       "      <td>857</td>\n",
       "      <td>1.0</td>\n",
       "      <td>1047</td>\n",
       "      <td>4.0</td>\n",
       "      <td>1515</td>\n",
       "      <td>5.0</td>\n",
       "      <td>...</td>\n",
       "      <td>1</td>\n",
       "      <td>1</td>\n",
       "      <td>0</td>\n",
       "      <td>1</td>\n",
       "      <td>1</td>\n",
       "      <td>0</td>\n",
       "      <td>1</td>\n",
       "      <td>0</td>\n",
       "      <td>1</td>\n",
       "      <td>1</td>\n",
       "    </tr>\n",
       "    <tr>\n",
       "      <th>45530</th>\n",
       "      <td>45530</td>\n",
       "      <td>1.0</td>\n",
       "      <td>747</td>\n",
       "      <td>3.0</td>\n",
       "      <td>1331</td>\n",
       "      <td>4.0</td>\n",
       "      <td>892</td>\n",
       "      <td>2.0</td>\n",
       "      <td>1281</td>\n",
       "      <td>1.0</td>\n",
       "      <td>...</td>\n",
       "      <td>1</td>\n",
       "      <td>1</td>\n",
       "      <td>0</td>\n",
       "      <td>1</td>\n",
       "      <td>1</td>\n",
       "      <td>1</td>\n",
       "      <td>1</td>\n",
       "      <td>0</td>\n",
       "      <td>1</td>\n",
       "      <td>1</td>\n",
       "    </tr>\n",
       "    <tr>\n",
       "      <th>45531</th>\n",
       "      <td>45531</td>\n",
       "      <td>3.0</td>\n",
       "      <td>496</td>\n",
       "      <td>5.0</td>\n",
       "      <td>1827</td>\n",
       "      <td>5.0</td>\n",
       "      <td>754</td>\n",
       "      <td>3.0</td>\n",
       "      <td>1117</td>\n",
       "      <td>1.0</td>\n",
       "      <td>...</td>\n",
       "      <td>1</td>\n",
       "      <td>1</td>\n",
       "      <td>0</td>\n",
       "      <td>1</td>\n",
       "      <td>1</td>\n",
       "      <td>0</td>\n",
       "      <td>1</td>\n",
       "      <td>0</td>\n",
       "      <td>1</td>\n",
       "      <td>1</td>\n",
       "    </tr>\n",
       "  </tbody>\n",
       "</table>\n",
       "<p>45532 rows × 78 columns</p>\n",
       "</div>"
      ],
      "text/plain": [
       "       index  QaA   QaE  QbA   QbE  QcA   QcE  QdA   QdE  QeA  ...  wr_04  \\\n",
       "0          0  3.0   363  4.0  1370  5.0   997  1.0  1024  2.0  ...      0   \n",
       "1          1  5.0   647  5.0  1313  3.0  3387  5.0  2969  1.0  ...      1   \n",
       "2          2  4.0  1623  1.0  1480  1.0  1021  4.0  3374  5.0  ...      1   \n",
       "3          3  3.0   504  3.0  2311  4.0   992  3.0  3245  1.0  ...      0   \n",
       "4          4  1.0   927  1.0   707  5.0   556  2.0  1062  1.0  ...      1   \n",
       "...      ...  ...   ...  ...   ...  ...   ...  ...   ...  ...  ...    ...   \n",
       "45527  45527  2.0  1050  5.0   619  4.0   328  1.0   285  1.0  ...      1   \n",
       "45528  45528  2.0   581  3.0  1353  4.0  1164  1.0   798  3.0  ...      1   \n",
       "45529  45529  4.0   593  1.0   857  1.0  1047  4.0  1515  5.0  ...      1   \n",
       "45530  45530  1.0   747  3.0  1331  4.0   892  2.0  1281  1.0  ...      1   \n",
       "45531  45531  3.0   496  5.0  1827  5.0   754  3.0  1117  1.0  ...      1   \n",
       "\n",
       "       wr_05  wr_06  wr_07  wr_08  wr_09  wr_10  wr_11  wr_12  wr_13  \n",
       "0          1      0      1      1      0      1      0      1      1  \n",
       "1          1      0      1      1      0      1      0      1      1  \n",
       "2          1      0      1      1      1      1      0      1      1  \n",
       "3          0      0      0      1      0      1      0      1      1  \n",
       "4          1      1      1      1      0      1      1      1      1  \n",
       "...      ...    ...    ...    ...    ...    ...    ...    ...    ...  \n",
       "45527      1      0      1      1      1      1      0      1      1  \n",
       "45528      1      0      1      1      1      1      0      1      1  \n",
       "45529      1      0      1      1      0      1      0      1      1  \n",
       "45530      1      0      1      1      1      1      0      1      1  \n",
       "45531      1      0      1      1      0      1      0      1      1  \n",
       "\n",
       "[45532 rows x 78 columns]"
      ]
     },
     "execution_count": 4,
     "metadata": {},
     "output_type": "execute_result"
    }
   ],
   "source": [
    "train"
   ]
  },
  {
   "cell_type": "code",
   "execution_count": 3,
   "id": "c60df184",
   "metadata": {},
   "outputs": [
    {
     "name": "stderr",
     "output_type": "stream",
     "text": [
      "<ipython-input-3-b3b498bc15e6>:3: SettingWithCopyWarning: \n",
      "A value is trying to be set on a copy of a slice from a DataFrame\n",
      "\n",
      "See the caveats in the documentation: https://pandas.pydata.org/pandas-docs/stable/user_guide/indexing.html#returning-a-view-versus-a-copy\n",
      "  train['voted'][i] = 0\n"
     ]
    }
   ],
   "source": [
    "for i in range(len(train)):\n",
    "    if train['voted'][i] == 2:\n",
    "        train['voted'][i] = 0"
   ]
  },
  {
   "cell_type": "code",
   "execution_count": 4,
   "id": "e10e4308",
   "metadata": {},
   "outputs": [
    {
     "data": {
      "text/plain": [
       "0        0\n",
       "1        0\n",
       "2        1\n",
       "3        1\n",
       "4        1\n",
       "        ..\n",
       "45527    0\n",
       "45528    0\n",
       "45529    1\n",
       "45530    1\n",
       "45531    1\n",
       "Name: voted, Length: 45532, dtype: int64"
      ]
     },
     "execution_count": 4,
     "metadata": {},
     "output_type": "execute_result"
    }
   ],
   "source": [
    "train['voted']"
   ]
  },
  {
   "cell_type": "code",
   "execution_count": 7,
   "id": "ce2be4ff",
   "metadata": {},
   "outputs": [
    {
     "data": {
      "text/plain": [
       "age_group\n",
       "+70s    0.736170\n",
       "10s     0.162786\n",
       "20s     0.530329\n",
       "30s     0.588821\n",
       "40s     0.642051\n",
       "50s     0.670128\n",
       "60s     0.728643\n",
       "Name: voted, dtype: float64"
      ]
     },
     "execution_count": 7,
     "metadata": {},
     "output_type": "execute_result"
    }
   ],
   "source": [
    "#연령별 투표율\n",
    "train.groupby(['age_group']).sum()['voted'] / train.groupby(['age_group']).count()['voted']"
   ]
  },
  {
   "cell_type": "code",
   "execution_count": 10,
   "id": "4e02622d",
   "metadata": {},
   "outputs": [
    {
     "data": {
      "text/html": [
       "<div>\n",
       "<style scoped>\n",
       "    .dataframe tbody tr th:only-of-type {\n",
       "        vertical-align: middle;\n",
       "    }\n",
       "\n",
       "    .dataframe tbody tr th {\n",
       "        vertical-align: top;\n",
       "    }\n",
       "\n",
       "    .dataframe thead th {\n",
       "        text-align: right;\n",
       "    }\n",
       "</style>\n",
       "<table border=\"1\" class=\"dataframe\">\n",
       "  <thead>\n",
       "    <tr style=\"text-align: right;\">\n",
       "      <th></th>\n",
       "      <th>index</th>\n",
       "      <th>QaA</th>\n",
       "      <th>QaE</th>\n",
       "      <th>QbA</th>\n",
       "      <th>QbE</th>\n",
       "      <th>QcA</th>\n",
       "      <th>QcE</th>\n",
       "      <th>QdA</th>\n",
       "      <th>QdE</th>\n",
       "      <th>QeA</th>\n",
       "      <th>...</th>\n",
       "      <th>wr_04</th>\n",
       "      <th>wr_05</th>\n",
       "      <th>wr_06</th>\n",
       "      <th>wr_07</th>\n",
       "      <th>wr_08</th>\n",
       "      <th>wr_09</th>\n",
       "      <th>wr_10</th>\n",
       "      <th>wr_11</th>\n",
       "      <th>wr_12</th>\n",
       "      <th>wr_13</th>\n",
       "    </tr>\n",
       "  </thead>\n",
       "  <tbody>\n",
       "    <tr>\n",
       "      <th>11</th>\n",
       "      <td>11</td>\n",
       "      <td>3.0</td>\n",
       "      <td>1086</td>\n",
       "      <td>2.0</td>\n",
       "      <td>3020</td>\n",
       "      <td>5.0</td>\n",
       "      <td>1997</td>\n",
       "      <td>1.0</td>\n",
       "      <td>1358</td>\n",
       "      <td>1.0</td>\n",
       "      <td>...</td>\n",
       "      <td>1</td>\n",
       "      <td>1</td>\n",
       "      <td>0</td>\n",
       "      <td>1</td>\n",
       "      <td>1</td>\n",
       "      <td>0</td>\n",
       "      <td>1</td>\n",
       "      <td>0</td>\n",
       "      <td>1</td>\n",
       "      <td>1</td>\n",
       "    </tr>\n",
       "    <tr>\n",
       "      <th>12</th>\n",
       "      <td>12</td>\n",
       "      <td>2.0</td>\n",
       "      <td>466</td>\n",
       "      <td>4.0</td>\n",
       "      <td>1650</td>\n",
       "      <td>4.0</td>\n",
       "      <td>655</td>\n",
       "      <td>3.0</td>\n",
       "      <td>1241</td>\n",
       "      <td>5.0</td>\n",
       "      <td>...</td>\n",
       "      <td>1</td>\n",
       "      <td>1</td>\n",
       "      <td>0</td>\n",
       "      <td>1</td>\n",
       "      <td>1</td>\n",
       "      <td>0</td>\n",
       "      <td>1</td>\n",
       "      <td>1</td>\n",
       "      <td>1</td>\n",
       "      <td>1</td>\n",
       "    </tr>\n",
       "    <tr>\n",
       "      <th>17</th>\n",
       "      <td>17</td>\n",
       "      <td>2.0</td>\n",
       "      <td>247</td>\n",
       "      <td>4.0</td>\n",
       "      <td>1097</td>\n",
       "      <td>3.0</td>\n",
       "      <td>2135</td>\n",
       "      <td>1.0</td>\n",
       "      <td>451</td>\n",
       "      <td>4.0</td>\n",
       "      <td>...</td>\n",
       "      <td>1</td>\n",
       "      <td>1</td>\n",
       "      <td>0</td>\n",
       "      <td>1</td>\n",
       "      <td>1</td>\n",
       "      <td>0</td>\n",
       "      <td>1</td>\n",
       "      <td>1</td>\n",
       "      <td>1</td>\n",
       "      <td>1</td>\n",
       "    </tr>\n",
       "    <tr>\n",
       "      <th>22</th>\n",
       "      <td>22</td>\n",
       "      <td>4.0</td>\n",
       "      <td>366</td>\n",
       "      <td>2.0</td>\n",
       "      <td>1123</td>\n",
       "      <td>2.0</td>\n",
       "      <td>1007</td>\n",
       "      <td>2.0</td>\n",
       "      <td>581</td>\n",
       "      <td>2.0</td>\n",
       "      <td>...</td>\n",
       "      <td>0</td>\n",
       "      <td>1</td>\n",
       "      <td>0</td>\n",
       "      <td>1</td>\n",
       "      <td>1</td>\n",
       "      <td>0</td>\n",
       "      <td>1</td>\n",
       "      <td>0</td>\n",
       "      <td>1</td>\n",
       "      <td>1</td>\n",
       "    </tr>\n",
       "    <tr>\n",
       "      <th>27</th>\n",
       "      <td>27</td>\n",
       "      <td>1.0</td>\n",
       "      <td>368</td>\n",
       "      <td>4.0</td>\n",
       "      <td>2668</td>\n",
       "      <td>4.0</td>\n",
       "      <td>767</td>\n",
       "      <td>1.0</td>\n",
       "      <td>659</td>\n",
       "      <td>1.0</td>\n",
       "      <td>...</td>\n",
       "      <td>1</td>\n",
       "      <td>1</td>\n",
       "      <td>0</td>\n",
       "      <td>1</td>\n",
       "      <td>1</td>\n",
       "      <td>0</td>\n",
       "      <td>1</td>\n",
       "      <td>1</td>\n",
       "      <td>1</td>\n",
       "      <td>1</td>\n",
       "    </tr>\n",
       "    <tr>\n",
       "      <th>...</th>\n",
       "      <td>...</td>\n",
       "      <td>...</td>\n",
       "      <td>...</td>\n",
       "      <td>...</td>\n",
       "      <td>...</td>\n",
       "      <td>...</td>\n",
       "      <td>...</td>\n",
       "      <td>...</td>\n",
       "      <td>...</td>\n",
       "      <td>...</td>\n",
       "      <td>...</td>\n",
       "      <td>...</td>\n",
       "      <td>...</td>\n",
       "      <td>...</td>\n",
       "      <td>...</td>\n",
       "      <td>...</td>\n",
       "      <td>...</td>\n",
       "      <td>...</td>\n",
       "      <td>...</td>\n",
       "      <td>...</td>\n",
       "      <td>...</td>\n",
       "    </tr>\n",
       "    <tr>\n",
       "      <th>45519</th>\n",
       "      <td>45519</td>\n",
       "      <td>2.0</td>\n",
       "      <td>941</td>\n",
       "      <td>1.0</td>\n",
       "      <td>12535</td>\n",
       "      <td>1.0</td>\n",
       "      <td>1261</td>\n",
       "      <td>2.0</td>\n",
       "      <td>2278</td>\n",
       "      <td>5.0</td>\n",
       "      <td>...</td>\n",
       "      <td>1</td>\n",
       "      <td>1</td>\n",
       "      <td>0</td>\n",
       "      <td>1</td>\n",
       "      <td>1</td>\n",
       "      <td>0</td>\n",
       "      <td>1</td>\n",
       "      <td>0</td>\n",
       "      <td>1</td>\n",
       "      <td>1</td>\n",
       "    </tr>\n",
       "    <tr>\n",
       "      <th>45524</th>\n",
       "      <td>45524</td>\n",
       "      <td>2.0</td>\n",
       "      <td>254</td>\n",
       "      <td>4.0</td>\n",
       "      <td>839</td>\n",
       "      <td>2.0</td>\n",
       "      <td>557</td>\n",
       "      <td>2.0</td>\n",
       "      <td>768</td>\n",
       "      <td>1.0</td>\n",
       "      <td>...</td>\n",
       "      <td>1</td>\n",
       "      <td>1</td>\n",
       "      <td>0</td>\n",
       "      <td>1</td>\n",
       "      <td>1</td>\n",
       "      <td>0</td>\n",
       "      <td>1</td>\n",
       "      <td>1</td>\n",
       "      <td>1</td>\n",
       "      <td>1</td>\n",
       "    </tr>\n",
       "    <tr>\n",
       "      <th>45526</th>\n",
       "      <td>45526</td>\n",
       "      <td>4.0</td>\n",
       "      <td>454</td>\n",
       "      <td>5.0</td>\n",
       "      <td>1007</td>\n",
       "      <td>4.0</td>\n",
       "      <td>758</td>\n",
       "      <td>2.0</td>\n",
       "      <td>1117</td>\n",
       "      <td>3.0</td>\n",
       "      <td>...</td>\n",
       "      <td>0</td>\n",
       "      <td>0</td>\n",
       "      <td>0</td>\n",
       "      <td>1</td>\n",
       "      <td>1</td>\n",
       "      <td>0</td>\n",
       "      <td>1</td>\n",
       "      <td>0</td>\n",
       "      <td>1</td>\n",
       "      <td>1</td>\n",
       "    </tr>\n",
       "    <tr>\n",
       "      <th>45527</th>\n",
       "      <td>45527</td>\n",
       "      <td>2.0</td>\n",
       "      <td>1050</td>\n",
       "      <td>5.0</td>\n",
       "      <td>619</td>\n",
       "      <td>4.0</td>\n",
       "      <td>328</td>\n",
       "      <td>1.0</td>\n",
       "      <td>285</td>\n",
       "      <td>1.0</td>\n",
       "      <td>...</td>\n",
       "      <td>1</td>\n",
       "      <td>1</td>\n",
       "      <td>0</td>\n",
       "      <td>1</td>\n",
       "      <td>1</td>\n",
       "      <td>1</td>\n",
       "      <td>1</td>\n",
       "      <td>0</td>\n",
       "      <td>1</td>\n",
       "      <td>1</td>\n",
       "    </tr>\n",
       "    <tr>\n",
       "      <th>45529</th>\n",
       "      <td>45529</td>\n",
       "      <td>4.0</td>\n",
       "      <td>593</td>\n",
       "      <td>1.0</td>\n",
       "      <td>857</td>\n",
       "      <td>1.0</td>\n",
       "      <td>1047</td>\n",
       "      <td>4.0</td>\n",
       "      <td>1515</td>\n",
       "      <td>5.0</td>\n",
       "      <td>...</td>\n",
       "      <td>1</td>\n",
       "      <td>1</td>\n",
       "      <td>0</td>\n",
       "      <td>1</td>\n",
       "      <td>1</td>\n",
       "      <td>0</td>\n",
       "      <td>1</td>\n",
       "      <td>0</td>\n",
       "      <td>1</td>\n",
       "      <td>1</td>\n",
       "    </tr>\n",
       "  </tbody>\n",
       "</table>\n",
       "<p>14215 rows × 78 columns</p>\n",
       "</div>"
      ],
      "text/plain": [
       "       index  QaA   QaE  QbA    QbE  QcA   QcE  QdA   QdE  QeA  ...  wr_04  \\\n",
       "11        11  3.0  1086  2.0   3020  5.0  1997  1.0  1358  1.0  ...      1   \n",
       "12        12  2.0   466  4.0   1650  4.0   655  3.0  1241  5.0  ...      1   \n",
       "17        17  2.0   247  4.0   1097  3.0  2135  1.0   451  4.0  ...      1   \n",
       "22        22  4.0   366  2.0   1123  2.0  1007  2.0   581  2.0  ...      0   \n",
       "27        27  1.0   368  4.0   2668  4.0   767  1.0   659  1.0  ...      1   \n",
       "...      ...  ...   ...  ...    ...  ...   ...  ...   ...  ...  ...    ...   \n",
       "45519  45519  2.0   941  1.0  12535  1.0  1261  2.0  2278  5.0  ...      1   \n",
       "45524  45524  2.0   254  4.0    839  2.0   557  2.0   768  1.0  ...      1   \n",
       "45526  45526  4.0   454  5.0   1007  4.0   758  2.0  1117  3.0  ...      0   \n",
       "45527  45527  2.0  1050  5.0    619  4.0   328  1.0   285  1.0  ...      1   \n",
       "45529  45529  4.0   593  1.0    857  1.0  1047  4.0  1515  5.0  ...      1   \n",
       "\n",
       "       wr_05  wr_06  wr_07  wr_08  wr_09  wr_10  wr_11  wr_12  wr_13  \n",
       "11         1      0      1      1      0      1      0      1      1  \n",
       "12         1      0      1      1      0      1      1      1      1  \n",
       "17         1      0      1      1      0      1      1      1      1  \n",
       "22         1      0      1      1      0      1      0      1      1  \n",
       "27         1      0      1      1      0      1      1      1      1  \n",
       "...      ...    ...    ...    ...    ...    ...    ...    ...    ...  \n",
       "45519      1      0      1      1      0      1      0      1      1  \n",
       "45524      1      0      1      1      0      1      1      1      1  \n",
       "45526      0      0      1      1      0      1      0      1      1  \n",
       "45527      1      0      1      1      1      1      0      1      1  \n",
       "45529      1      0      1      1      0      1      0      1      1  \n",
       "\n",
       "[14215 rows x 78 columns]"
      ]
     },
     "execution_count": 10,
     "metadata": {},
     "output_type": "execute_result"
    }
   ],
   "source": [
    "a_10"
   ]
  },
  {
   "cell_type": "code",
   "execution_count": 17,
   "id": "6df5cc80",
   "metadata": {},
   "outputs": [
    {
     "data": {
      "text/plain": [
       "0.7361702127659574"
      ]
     },
     "execution_count": 17,
     "metadata": {},
     "output_type": "execute_result"
    }
   ],
   "source": [
    "a_10 = train[train['age_group'] == '10s']\n",
    "av_10 = a_10[a_10['voted'] == 1]\n",
    "av_10\n",
    "#투표율   0.1627857896588111\n",
    "len(av_10)/14215\n",
    "\n",
    "a_20 = train[train['age_group'] == '20s']\n",
    "av_20 = a_20[a_20['voted'] == 1]\n",
    "av_20\n",
    "#투표율   0.530328798185941\n",
    "len(av_20)/14112\n",
    "\n",
    "a_30 = train[train['age_group'] == '30s']\n",
    "av_30 = a_30[a_30['voted'] == 1]\n",
    "av_30\n",
    "#투표율   0.5888208269525268\n",
    "len(av_30)/7836\n",
    "\n",
    "a_40 = train[train['age_group'] == '40s']\n",
    "av_40 = a_40[a_40['voted'] == 1]\n",
    "av_40\n",
    "#투표율   0.6420510789942586\n",
    "len(av_40)/5051\n",
    "\n",
    "a_50 = train[train['age_group'] == '50s']\n",
    "av_50 = a_50[a_50['voted'] == 1]\n",
    "av_50\n",
    "#투표율   0.6701280719972309\n",
    "len(av_50)/2889\n",
    "\n",
    "a_60 = train[train['age_group'] == '60s']\n",
    "av_60 = a_60[a_60['voted'] == 1]\n",
    "av_60\n",
    "#투표율   0.7286432160804021\n",
    "len(av_60)/1194\n",
    "\n",
    "a_70 = train[train['age_group'] == '+70s']\n",
    "av_70 = a_70[a_70['voted'] == 1]\n",
    "av_70\n",
    "#투표율   0.7361702127659574\n",
    "len(av_70)/235"
   ]
  },
  {
   "cell_type": "code",
   "execution_count": 21,
   "id": "c66463d7",
   "metadata": {},
   "outputs": [
    {
     "data": {
      "text/plain": [
       "14215"
      ]
     },
     "execution_count": 21,
     "metadata": {},
     "output_type": "execute_result"
    }
   ],
   "source": [
    "a_10.reset_index()\n",
    "a_10['voted'].count()"
   ]
  },
  {
   "cell_type": "code",
   "execution_count": null,
   "id": "9c99b399",
   "metadata": {},
   "outputs": [],
   "source": []
  },
  {
   "cell_type": "code",
   "execution_count": 24,
   "id": "c5cca092",
   "metadata": {},
   "outputs": [
    {
     "data": {
      "text/plain": [
       "Ttest_indResult(statistic=-inf, pvalue=0.0)"
      ]
     },
     "execution_count": 24,
     "metadata": {},
     "output_type": "execute_result"
    }
   ],
   "source": [
    "scipy.stats.ttest_ind (av_20['voted']/14112,av_70['voted']/235, nan_policy='omit')\n",
    "#scipy.stats.ttest_ind (av_20['voted'],av_70['voted'], nan_policy='omit')\n",
    "\n",
    "#통계량 = -inf , pvalue=0.0\n",
    "#"
   ]
  },
  {
   "cell_type": "code",
   "execution_count": null,
   "id": "120e1cf7",
   "metadata": {},
   "outputs": [],
   "source": [
    "가설 설정\n",
    "H0 : 70대의 투표율과 20대의 투표율은 같다\n",
    "H1 : 70대의 투표율과 20대의 투표율은 같지 않다 (0)\n",
    "\n",
    "귀무가설 기각, 대립가설 채택"
   ]
  },
  {
   "cell_type": "code",
   "execution_count": 32,
   "id": "41b535e9",
   "metadata": {},
   "outputs": [
    {
     "name": "stdout",
     "output_type": "stream",
     "text": [
      "Ttest_indResult(statistic=nan, pvalue=nan)\n"
     ]
    }
   ],
   "source": [
    "print(scipy.stats.ttest_ind (av_10['voted'],av_20['voted'], nan_policy='omit'))"
   ]
  },
  {
   "cell_type": "code",
   "execution_count": 15,
   "id": "1814b9ec",
   "metadata": {},
   "outputs": [
    {
     "data": {
      "text/plain": [
       "0.1627857896588111"
      ]
     },
     "execution_count": 15,
     "metadata": {},
     "output_type": "execute_result"
    }
   ],
   "source": [
    "av_10['voted'].sum()/len(a_10)"
   ]
  },
  {
   "cell_type": "code",
   "execution_count": null,
   "id": "26334b95",
   "metadata": {},
   "outputs": [],
   "source": [
    "각 연령대의 투표율은 다른 연령대의 투표율과 다름\n"
   ]
  },
  {
   "cell_type": "code",
   "execution_count": 49,
   "id": "c2e1f2a9",
   "metadata": {},
   "outputs": [],
   "source": [
    "age_voted = []"
   ]
  },
  {
   "cell_type": "code",
   "execution_count": 11,
   "id": "6ff3fae8",
   "metadata": {},
   "outputs": [
    {
     "data": {
      "text/plain": [
       "Ttest_indResult(statistic=-190.07947299253158, pvalue=0.0)"
      ]
     },
     "execution_count": 11,
     "metadata": {},
     "output_type": "execute_result"
    }
   ],
   "source": [
    "import scipy.stats\n",
    "scipy.stats.ttest_ind(train['age_group']=='10s', train['voted']==1,equal_var=False)\n",
    "scipy.stats.ttest_ind(train['age_group']=='20s', train['voted']==1,equal_var=False)\n",
    "scipy.stats.ttest_ind(train['age_group']=='30s', train['voted']==1,equal_var=False)\n",
    "scipy.stats.ttest_ind(train['age_group']=='40s', train['voted']==1,equal_var=False)\n",
    "scipy.stats.ttest_ind(train['age_group']=='50s', train['voted']==1,equal_var=False)\n",
    "scipy.stats.ttest_ind(train['age_group']=='60s', train['voted']==1,equal_var=False)\n",
    "scipy.stats.ttest_ind(train['age_group']=='+70s', train['voted']==1,equal_var=False)"
   ]
  },
  {
   "cell_type": "code",
   "execution_count": null,
   "id": "110f7397",
   "metadata": {},
   "outputs": [],
   "source": [
    "연령대의 투표여부는 인원수의 영향을 받는다\n",
    "연령대의 투표여부 인원수의 영향을 받지 않는다\n",
    "투표여부 - 범주형\n",
    "인원수 - 수치형 -> t"
   ]
  },
  {
   "cell_type": "code",
   "execution_count": 26,
   "id": "27705add",
   "metadata": {},
   "outputs": [
    {
     "ename": "AttributeError",
     "evalue": "module 'statsmodels.api' has no attribute 'a_10'",
     "output_type": "error",
     "traceback": [
      "\u001b[1;31m---------------------------------------------------------------------------\u001b[0m",
      "\u001b[1;31mAttributeError\u001b[0m                            Traceback (most recent call last)",
      "\u001b[1;32m<ipython-input-26-e034a2eeb5ba>\u001b[0m in \u001b[0;36m<module>\u001b[1;34m\u001b[0m\n\u001b[0;32m      2\u001b[0m \u001b[0mfeature\u001b[0m \u001b[1;33m=\u001b[0m \u001b[0ma_10\u001b[0m\u001b[1;33m[\u001b[0m\u001b[1;34m'voted'\u001b[0m\u001b[1;33m]\u001b[0m\u001b[1;33m\u001b[0m\u001b[1;33m\u001b[0m\u001b[0m\n\u001b[0;32m      3\u001b[0m \u001b[0moutput\u001b[0m \u001b[1;33m=\u001b[0m \u001b[0mav_10\u001b[0m\u001b[1;33m[\u001b[0m\u001b[1;34m'voted'\u001b[0m\u001b[1;33m]\u001b[0m\u001b[1;33m\u001b[0m\u001b[1;33m\u001b[0m\u001b[0m\n\u001b[1;32m----> 4\u001b[1;33m \u001b[0mmodel\u001b[0m \u001b[1;33m=\u001b[0m \u001b[0msm\u001b[0m\u001b[1;33m.\u001b[0m\u001b[0mformula\u001b[0m\u001b[1;33m.\u001b[0m\u001b[0mglm\u001b[0m\u001b[1;33m(\u001b[0m\u001b[1;34m\"output ~ feature\"\u001b[0m\u001b[1;33m,\u001b[0m \u001b[0mav_10\u001b[0m\u001b[1;33m,\u001b[0m \u001b[0mfamily\u001b[0m \u001b[1;33m=\u001b[0m \u001b[0msm\u001b[0m\u001b[1;33m.\u001b[0m\u001b[0ma_10\u001b[0m\u001b[1;33m.\u001b[0m\u001b[0mBinomial\u001b[0m\u001b[1;33m(\u001b[0m\u001b[1;33m)\u001b[0m\u001b[1;33m)\u001b[0m\u001b[1;33m.\u001b[0m\u001b[0mfit\u001b[0m\u001b[1;33m(\u001b[0m\u001b[1;33m)\u001b[0m\u001b[1;33m\u001b[0m\u001b[1;33m\u001b[0m\u001b[0m\n\u001b[0m\u001b[0;32m      5\u001b[0m \u001b[0mprint\u001b[0m\u001b[1;33m(\u001b[0m\u001b[0mmodel\u001b[0m\u001b[1;33m.\u001b[0m\u001b[0msummary\u001b[0m\u001b[1;33m(\u001b[0m\u001b[1;33m)\u001b[0m\u001b[1;33m)\u001b[0m\u001b[1;33m\u001b[0m\u001b[1;33m\u001b[0m\u001b[0m\n",
      "\u001b[1;31mAttributeError\u001b[0m: module 'statsmodels.api' has no attribute 'a_10'"
     ]
    }
   ],
   "source": [
    "import statsmodels.api as sm\n",
    "feature = a_10['voted']\n",
    "output = av_10['voted']\n",
    "model = sm.formula.glm(\"output ~ feature\", av_10, family = sm.a_10.Binomial()).fit()\n",
    "print(model.summary())"
   ]
  },
  {
   "cell_type": "code",
   "execution_count": 24,
   "id": "88fbffed",
   "metadata": {},
   "outputs": [
    {
     "name": "stdout",
     "output_type": "stream",
     "text": [
      "Ttest_indResult(statistic=-270.3760417932763, pvalue=0.0)\n",
      "Ttest_indResult(statistic=-111.79007728301178, pvalue=0.0)\n",
      "Ttest_indResult(statistic=-73.96793140586628, pvalue=0.0)\n",
      "Ttest_indResult(statistic=-53.06051095686311, pvalue=0.0)\n",
      "Ttest_indResult(statistic=-37.704429009628946, pvalue=2.421060910242973e-253)\n",
      "Ttest_indResult(statistic=-21.07817959816297, pvalue=4.324553640038874e-84)\n",
      "Ttest_indResult(statistic=-9.15758001200648, pvalue=2.739478273532107e-17)\n"
     ]
    }
   ],
   "source": [
    "import scipy.stats\n",
    "print(scipy.stats.ttest_ind(a_10['voted']~ av_10['voted'],equal_var=False))\n",
    "print(scipy.stats.ttest_ind(a_20['voted'], av_20['voted'],equal_var=False))\n",
    "print(scipy.stats.ttest_ind(a_30['voted'], av_30['voted'],equal_var=False))\n",
    "print(scipy.stats.ttest_ind(a_40['voted'], av_40['voted'],equal_var=False))\n",
    "print(scipy.stats.ttest_ind(a_50['voted'], av_50['voted'],equal_var=False))\n",
    "print(scipy.stats.ttest_ind(a_60['voted'], av_60['voted'],equal_var=False))\n",
    "print(scipy.stats.ttest_ind(a_70['voted'], av_70['voted'],equal_var=False))"
   ]
  },
  {
   "cell_type": "code",
   "execution_count": 50,
   "id": "ed56d4e3",
   "metadata": {},
   "outputs": [
    {
     "name": "stdout",
     "output_type": "stream",
     "text": [
      "1. age_group  카이제곱 통계량: 7032.865540036868\n",
      "2. p-value: 0.0\n",
      "3. df: 1\n"
     ]
    }
   ],
   "source": [
    "#10대 투표 유\n",
    "import scipy.stats\n",
    "vote_crosstab=pd.crosstab(train['age_group']=='10s', av_10['voted'], margins=False)\n",
    "result=chi2_contingency(observed = vote_crosstab, correction=False)\n",
    "age_voted.append(result[0])\n",
    "print(\"1.\", 'age_group', \" 카이제곱 통계량:\", result[0])\n",
    "print(\"2. p-value:\", result[1])\n",
    "print(\"3. df:\", result[2]) #(행의개수-1)*(열의개수-1)"
   ]
  },
  {
   "cell_type": "code",
   "execution_count": 51,
   "id": "37b71170",
   "metadata": {},
   "outputs": [
    {
     "name": "stdout",
     "output_type": "stream",
     "text": [
      "1. age_group  카이제곱 통계량: 491.23626971408027\n",
      "2. p-value: 7.670339649395373e-109\n",
      "3. df: 1\n"
     ]
    }
   ],
   "source": [
    "#20대 투표 유\n",
    "\n",
    "vote_crosstab=pd.crosstab(train['age_group']=='20s', train['voted']==1, margins=False)\n",
    "result=chi2_contingency(observed = vote_crosstab, correction=False)\n",
    "age_voted.append(result[0])\n",
    "print(\"1.\", 'age_group', \" 카이제곱 통계량:\", result[0])\n",
    "print(\"2. p-value:\", result[1])\n",
    "print(\"3. df:\", result[2]) #(행의개수-1)*(열의개수-1)"
   ]
  },
  {
   "cell_type": "code",
   "execution_count": 52,
   "id": "2bd6e3d4",
   "metadata": {},
   "outputs": [
    {
     "name": "stdout",
     "output_type": "stream",
     "text": [
      "1. age_group  카이제곱 통계량: 702.7636302190567\n",
      "2. p-value: 7.494389864722789e-155\n",
      "3. df: 1\n"
     ]
    }
   ],
   "source": [
    "vote_crosstab=pd.crosstab(train['age_group']=='30s', train['voted']==1, margins=False)\n",
    "result=chi2_contingency(observed = vote_crosstab, correction=False)\n",
    "age_voted.append(result[0])\n",
    "print(\"1.\", 'age_group', \" 카이제곱 통계량:\", result[0])\n",
    "print(\"2. p-value:\", result[1])\n",
    "print(\"3. df:\", result[2]) #(행의개수-1)*(열의개수-1)"
   ]
  },
  {
   "cell_type": "code",
   "execution_count": 53,
   "id": "c7fe719f",
   "metadata": {},
   "outputs": [
    {
     "name": "stdout",
     "output_type": "stream",
     "text": [
      "1. age_group  카이제곱 통계량: 817.8595321063781\n",
      "2. p-value: 7.065296933428165e-180\n",
      "3. df: 1\n"
     ]
    }
   ],
   "source": [
    "import pandas as pd\n",
    "from scipy.stats import chi2_contingency\n",
    "\n",
    "vote_crosstab=pd.crosstab(train['age_group']=='40s', train['voted']==1, margins=False)\n",
    "result=chi2_contingency(observed = vote_crosstab, correction=False)\n",
    "age_voted.append(result[0])\n",
    "print(\"1.\", 'age_group', \" 카이제곱 통계량:\", result[0])\n",
    "print(\"2. p-value:\", result[1])\n",
    "print(\"3. df:\", result[2]) #(행의개수-1)*(열의개수-1)"
   ]
  },
  {
   "cell_type": "code",
   "execution_count": 54,
   "id": "8eaedc9b",
   "metadata": {},
   "outputs": [
    {
     "name": "stdout",
     "output_type": "stream",
     "text": [
      "1. age_group  카이제곱 통계량: 585.9094943133687\n",
      "2. p-value: 1.943822305083815e-129\n",
      "3. df: 1\n"
     ]
    }
   ],
   "source": [
    "import pandas as pd\n",
    "from scipy.stats import chi2_contingency\n",
    "\n",
    "vote_crosstab=pd.crosstab(train['age_group']=='50s', train['voted']==1, margins=False)\n",
    "result=chi2_contingency(observed = vote_crosstab, correction=False)\n",
    "age_voted.append(result[0])\n",
    "print(\"1.\", 'age_group', \" 카이제곱 통계량:\", result[0])\n",
    "print(\"2. p-value:\", result[1])\n",
    "print(\"3. df:\", result[2]) #(행의개수-1)*(열의개수-1)"
   ]
  },
  {
   "cell_type": "code",
   "execution_count": 55,
   "id": "d7e87ab8",
   "metadata": {},
   "outputs": [
    {
     "name": "stdout",
     "output_type": "stream",
     "text": [
      "1. age_group  카이제곱 통계량: 375.46635576467094\n",
      "2. p-value: 1.2078757033869722e-83\n",
      "3. df: 1\n"
     ]
    }
   ],
   "source": [
    "import pandas as pd\n",
    "from scipy.stats import chi2_contingency\n",
    "\n",
    "vote_crosstab=pd.crosstab(train['age_group']=='60s', train['voted']==1, margins=False)\n",
    "result=chi2_contingency(observed = vote_crosstab, correction=False)\n",
    "age_voted.append(result[0])\n",
    "print(\"1.\", 'age_group', \" 카이제곱 통계량:\", result[0])\n",
    "print(\"2. p-value:\", result[1])\n",
    "print(\"3. df:\", result[2]) #(행의개수-1)*(열의개수-1)"
   ]
  },
  {
   "cell_type": "code",
   "execution_count": 56,
   "id": "c66dcbd6",
   "metadata": {},
   "outputs": [
    {
     "name": "stdout",
     "output_type": "stream",
     "text": [
      "1. age_group  카이제곱 통계량: 76.34075891563329\n",
      "2. p-value: 2.3870583190312077e-18\n",
      "3. df: 1\n"
     ]
    }
   ],
   "source": [
    "import pandas as pd\n",
    "from scipy.stats import chi2_contingency\n",
    "\n",
    "vote_crosstab=pd.crosstab(train['age_group']=='+70s', train['voted']==1, margins=False)\n",
    "result=chi2_contingency(observed = vote_crosstab, correction=False)\n",
    "age_voted.append(result[0])\n",
    "print(\"1.\", 'age_group', \" 카이제곱 통계량:\", result[0])\n",
    "print(\"2. p-value:\", result[1])\n",
    "print(\"3. df:\", result[2]) #(행의개수-1)*(열의개수-1)"
   ]
  },
  {
   "cell_type": "code",
   "execution_count": 57,
   "id": "58e0136a",
   "metadata": {},
   "outputs": [
    {
     "data": {
      "text/plain": [
       "[7032.865540036868,\n",
       " 491.23626971408027,\n",
       " 702.7636302190567,\n",
       " 817.8595321063781,\n",
       " 585.9094943133687,\n",
       " 375.46635576467094,\n",
       " 76.34075891563329]"
      ]
     },
     "execution_count": 57,
     "metadata": {},
     "output_type": "execute_result"
    }
   ],
   "source": []
  },
  {
   "cell_type": "code",
   "execution_count": 59,
   "id": "17cf3d1c",
   "metadata": {},
   "outputs": [
    {
     "data": {
      "text/plain": [
       "Text(0.5, 1.0, '연령대 별 투표 카이제곱분포')"
      ]
     },
     "execution_count": 59,
     "metadata": {},
     "output_type": "execute_result"
    },
    {
     "data": {
      "image/png": "[encoded data removed]",
      "text/plain": [
       "<Figure size 432x288 with 1 Axes>"
      ]
     },
     "metadata": {
      "needs_background": "light"
     },
     "output_type": "display_data"
    }
   ],
   "source": [
    "colors=['#FFCA08','#F8931D','#EC7016','#CE8D3E','#FBBE77']\n",
    "age = ['10s','20s','30s','40s','50s','60s','+70s']\n"
   ]
  },
  {
   "cell_type": "markdown",
   "id": "3f3aafca",
   "metadata": {},
   "source": [
    "범주형 - 범주형 분석에서 카이제곱분포 = 독립성 검정\n",
    "10대가 투표와 가장 독립적\n",
    "70대가 투표와 가장 관계있음\n",
    "\n",
    "연령대 별 투표 비율과 반비례 관계?\n",
    "-> 20,30대와 투표의 관계가 40대 보다 깊다\n",
    "-> 연령대 별 투표 비율과 반대되는 상황\n",
    "\n",
    "-> 10대의 투표 여부 예측은 정확하지 않을 가능성이 크다\n",
    "\n",
    "-> 60,70대의 투표 여부 예측은 정확할 가능성이 높다\n",
    "-> 연령은 투표 예측에 도움이 되는 변수이다 (10대 제외)"
   ]
  },
  {
   "cell_type": "code",
   "execution_count": null,
   "id": "9dd87b3f",
   "metadata": {},
   "outputs": [],
   "source": [
    "연령대만 보면 카이제곱 맞음\n",
    "연령대 안으로 들어가서 투표여부를 보기에는 범주형인지 잘 모르겠다\n",
    "각 연령대의 투표 여부는 수치형 변수로 봐도 될듯?!?\n",
    "\n",
    "10대가 투표에 독립적이다 -> 가설 오류\n",
    "투표 여부 건수 별로 t-test\n",
    "\n",
    "연령대가 투표 여부에 독립적이다 (0)\n",
    "10대가 투표여부에 독립적이다 (x) -> t-test\n",
    "이론 공부!\n",
    "\n",
    "독립성 여부와 가설 관계!\n",
    "t- test!\n"
   ]
  },
  {
   "cell_type": "code",
   "execution_count": null,
   "id": "7ae76a66",
   "metadata": {},
   "outputs": [],
   "source": []
  }
 ],
 "metadata": {
  "kernelspec": {
   "display_name": "Python 3",
   "language": "python",
   "name": "python3"
  },
  "language_info": {
   "codemirror_mode": {
    "name": "ipython",
    "version": 3
   },
   "file_extension": ".py",
   "mimetype": "text/x-python",
   "name": "python",
   "nbconvert_exporter": "python",
   "pygments_lexer": "ipython3",
   "version": "3.8.8"
  }
 },
 "nbformat": 4,
 "nbformat_minor": 5
}
