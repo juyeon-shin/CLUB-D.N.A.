{
 "cells": [
  {
   "cell_type": "markdown",
   "metadata": {},
   "source": [
    "## 상권분석 - 토지 용도지역별 기본 현황(시군구)\n",
    "### 1. 데이터 불러오기"
   ]
  },
  {
   "cell_type": "code",
   "execution_count": 2,
   "metadata": {},
   "outputs": [],
   "source": [
    "#모듈 불러오기\n",
    "import numpy as np\n",
    "import pandas as pd #데이터 프레임 다양한 형태로 읽음\n",
    "import matplotlib.pyplot as plt\n",
    "import seaborn\n",
    "plt.style.use('seaborn')#스타일 넣기\n",
    "import sys\n",
    "import io\n",
    "import warnings\n",
    "#한국어 깨짐\n",
    "from matplotlib import font_manager, rc\n",
    "rc('font', family='New Gulim')"
   ]
  },
  {
   "cell_type": "code",
   "execution_count": 3,
   "metadata": {},
   "outputs": [],
   "source": [
    "#데이터 확인\n",
    "dang = pd.read_csv(\"C:/Users/juyeo/Desktop/store/토지 용도지역별 기본현황(시군구).csv\")"
   ]
  },
  {
   "cell_type": "code",
   "execution_count": 4,
   "metadata": {},
   "outputs": [
    {
     "data": {
      "text/plain": [
       "Index(['(단위: ㎢, 천 필지, 10억원)', 'Unnamed: 1', 'Unnamed: 2', 'Unnamed: 3',\n",
       "       'Unnamed: 4', 'Unnamed: 5', 'Unnamed: 6', 'Unnamed: 7', 'Unnamed: 8',\n",
       "       'Unnamed: 9', 'Unnamed: 10', 'Unnamed: 11', 'Unnamed: 12',\n",
       "       'Unnamed: 13', 'Unnamed: 14', 'Unnamed: 15', 'Unnamed: 16',\n",
       "       'Unnamed: 17', 'Unnamed: 18', 'Unnamed: 19', 'Unnamed: 20',\n",
       "       'Unnamed: 21', 'Unnamed: 22', 'Unnamed: 23', 'Unnamed: 24',\n",
       "       'Unnamed: 25', 'Unnamed: 26', 'Unnamed: 27', 'Unnamed: 28',\n",
       "       'Unnamed: 29', 'Unnamed: 30'],\n",
       "      dtype='object')"
      ]
     },
     "execution_count": 4,
     "metadata": {},
     "output_type": "execute_result"
    }
   ],
   "source": [
    "dang.columns"
   ]
  },
  {
   "cell_type": "code",
   "execution_count": 5,
   "metadata": {},
   "outputs": [],
   "source": [
    "dang = dang.rename(columns={'Unnamed: 1': '면적수 합','Unnamed: 2': '지번수 합','Unnamed: 3': '가액 합','Unnamed: 4': '주거지역 면적','Unnamed: 5': '주거지역 지번수','Unnamed: 6': '주거지역 가액'\n",
    "                            ,'Unnamed: 7': '상업지역 면적','Unnamed: 8': '상업지역 지번수','Unnamed: 9': '상업지역 가액','Unnamed: 10': '공업지역 면적','Unnamed: 11': '공업지역 지번수','Unnamed: 12': '공업지역 가액'\n",
    "                            ,'Unnamed: 13': '녹지지역 면적','Unnamed: 14': '녹지지역 지번수','Unnamed: 15': '녹지지역 가액','Unnamed: 16': '기타지역 면적','Unnamed: 17': '기타지역 지번수','Unnamed: 18': '기타지역 가액'})"
   ]
  },
  {
   "cell_type": "code",
   "execution_count": 6,
   "metadata": {},
   "outputs": [
    {
     "data": {
      "text/html": [
       "<div>\n",
       "<style scoped>\n",
       "    .dataframe tbody tr th:only-of-type {\n",
       "        vertical-align: middle;\n",
       "    }\n",
       "\n",
       "    .dataframe tbody tr th {\n",
       "        vertical-align: top;\n",
       "    }\n",
       "\n",
       "    .dataframe thead th {\n",
       "        text-align: right;\n",
       "    }\n",
       "</style>\n",
       "<table border=\"1\" class=\"dataframe\">\n",
       "  <thead>\n",
       "    <tr style=\"text-align: right;\">\n",
       "      <th></th>\n",
       "      <th>(단위: ㎢, 천 필지, 10억원)</th>\n",
       "      <th>면적수 합</th>\n",
       "      <th>지번수 합</th>\n",
       "      <th>가액 합</th>\n",
       "      <th>주거지역 면적</th>\n",
       "      <th>주거지역 지번수</th>\n",
       "      <th>주거지역 가액</th>\n",
       "      <th>상업지역 면적</th>\n",
       "      <th>상업지역 지번수</th>\n",
       "      <th>상업지역 가액</th>\n",
       "      <th>...</th>\n",
       "      <th>Unnamed: 21</th>\n",
       "      <th>Unnamed: 22</th>\n",
       "      <th>Unnamed: 23</th>\n",
       "      <th>Unnamed: 24</th>\n",
       "      <th>Unnamed: 25</th>\n",
       "      <th>Unnamed: 26</th>\n",
       "      <th>Unnamed: 27</th>\n",
       "      <th>Unnamed: 28</th>\n",
       "      <th>Unnamed: 29</th>\n",
       "      <th>Unnamed: 30</th>\n",
       "    </tr>\n",
       "  </thead>\n",
       "  <tbody>\n",
       "    <tr>\n",
       "      <th>0</th>\n",
       "      <td></td>\n",
       "      <td>합 계</td>\n",
       "      <td>NaN</td>\n",
       "      <td>NaN</td>\n",
       "      <td>주거 지역</td>\n",
       "      <td>NaN</td>\n",
       "      <td>NaN</td>\n",
       "      <td>상업 지역</td>\n",
       "      <td>NaN</td>\n",
       "      <td>NaN</td>\n",
       "      <td>...</td>\n",
       "      <td>NaN</td>\n",
       "      <td>자연환경 보호</td>\n",
       "      <td>NaN</td>\n",
       "      <td>NaN</td>\n",
       "      <td>용도미지정</td>\n",
       "      <td>NaN</td>\n",
       "      <td>NaN</td>\n",
       "      <td>기타</td>\n",
       "      <td>NaN</td>\n",
       "      <td>NaN</td>\n",
       "    </tr>\n",
       "    <tr>\n",
       "      <th>1</th>\n",
       "      <td>NaN</td>\n",
       "      <td>면적</td>\n",
       "      <td>지번수</td>\n",
       "      <td>가액</td>\n",
       "      <td>면적</td>\n",
       "      <td>지번수</td>\n",
       "      <td>가액</td>\n",
       "      <td>면적</td>\n",
       "      <td>지번수</td>\n",
       "      <td>가액</td>\n",
       "      <td>...</td>\n",
       "      <td>가액</td>\n",
       "      <td>면적</td>\n",
       "      <td>지번수</td>\n",
       "      <td>가액</td>\n",
       "      <td>면적</td>\n",
       "      <td>지번수</td>\n",
       "      <td>가액</td>\n",
       "      <td>면적</td>\n",
       "      <td>지번수</td>\n",
       "      <td>가액</td>\n",
       "    </tr>\n",
       "    <tr>\n",
       "      <th>2</th>\n",
       "      <td>전국</td>\n",
       "      <td>100,401</td>\n",
       "      <td>38,994</td>\n",
       "      <td>5,275,427</td>\n",
       "      <td>2,374</td>\n",
       "      <td>5,028</td>\n",
       "      <td>2,678,732</td>\n",
       "      <td>281</td>\n",
       "      <td>742</td>\n",
       "      <td>709,953</td>\n",
       "      <td>...</td>\n",
       "      <td>210,428</td>\n",
       "      <td>6,486</td>\n",
       "      <td>625</td>\n",
       "      <td>14,235</td>\n",
       "      <td>81</td>\n",
       "      <td>12</td>\n",
       "      <td>3,559</td>\n",
       "      <td>6,557</td>\n",
       "      <td>6,088</td>\n",
       "      <td>0</td>\n",
       "    </tr>\n",
       "    <tr>\n",
       "      <th>3</th>\n",
       "      <td></td>\n",
       "      <td>605</td>\n",
       "      <td>943</td>\n",
       "      <td>1,662,762</td>\n",
       "      <td>312</td>\n",
       "      <td>766</td>\n",
       "      <td>1,196,086</td>\n",
       "      <td>25</td>\n",
       "      <td>62</td>\n",
       "      <td>324,311</td>\n",
       "      <td>...</td>\n",
       "      <td>NaN</td>\n",
       "      <td>NaN</td>\n",
       "      <td>NaN</td>\n",
       "      <td>NaN</td>\n",
       "      <td>NaN</td>\n",
       "      <td>NaN</td>\n",
       "      <td>NaN</td>\n",
       "      <td>29</td>\n",
       "      <td>38</td>\n",
       "      <td>0</td>\n",
       "    </tr>\n",
       "    <tr>\n",
       "      <th>4</th>\n",
       "      <td>서울특별시 종로구</td>\n",
       "      <td>24</td>\n",
       "      <td>49</td>\n",
       "      <td>70,578</td>\n",
       "      <td>10</td>\n",
       "      <td>32</td>\n",
       "      <td>31,594</td>\n",
       "      <td>3</td>\n",
       "      <td>13</td>\n",
       "      <td>37,182</td>\n",
       "      <td>...</td>\n",
       "      <td>NaN</td>\n",
       "      <td>NaN</td>\n",
       "      <td>NaN</td>\n",
       "      <td>NaN</td>\n",
       "      <td>NaN</td>\n",
       "      <td>NaN</td>\n",
       "      <td>NaN</td>\n",
       "      <td>0</td>\n",
       "      <td>3</td>\n",
       "      <td>0</td>\n",
       "    </tr>\n",
       "    <tr>\n",
       "      <th>...</th>\n",
       "      <td>...</td>\n",
       "      <td>...</td>\n",
       "      <td>...</td>\n",
       "      <td>...</td>\n",
       "      <td>...</td>\n",
       "      <td>...</td>\n",
       "      <td>...</td>\n",
       "      <td>...</td>\n",
       "      <td>...</td>\n",
       "      <td>...</td>\n",
       "      <td>...</td>\n",
       "      <td>...</td>\n",
       "      <td>...</td>\n",
       "      <td>...</td>\n",
       "      <td>...</td>\n",
       "      <td>...</td>\n",
       "      <td>...</td>\n",
       "      <td>...</td>\n",
       "      <td>...</td>\n",
       "      <td>...</td>\n",
       "      <td>...</td>\n",
       "    </tr>\n",
       "    <tr>\n",
       "      <th>265</th>\n",
       "      <td>경상남도 거창군</td>\n",
       "      <td>803</td>\n",
       "      <td>263</td>\n",
       "      <td>3,687</td>\n",
       "      <td>5</td>\n",
       "      <td>15</td>\n",
       "      <td>1,158</td>\n",
       "      <td>0</td>\n",
       "      <td>2</td>\n",
       "      <td>234</td>\n",
       "      <td>...</td>\n",
       "      <td>685</td>\n",
       "      <td>19</td>\n",
       "      <td>3</td>\n",
       "      <td>37</td>\n",
       "      <td>NaN</td>\n",
       "      <td>NaN</td>\n",
       "      <td>NaN</td>\n",
       "      <td>3</td>\n",
       "      <td>16</td>\n",
       "      <td>0</td>\n",
       "    </tr>\n",
       "    <tr>\n",
       "      <th>266</th>\n",
       "      <td>경상남도 합천군</td>\n",
       "      <td>984</td>\n",
       "      <td>325</td>\n",
       "      <td>3,147</td>\n",
       "      <td>3</td>\n",
       "      <td>7</td>\n",
       "      <td>468</td>\n",
       "      <td>0</td>\n",
       "      <td>1</td>\n",
       "      <td>138</td>\n",
       "      <td>...</td>\n",
       "      <td>1,053</td>\n",
       "      <td>67</td>\n",
       "      <td>2</td>\n",
       "      <td>36</td>\n",
       "      <td>NaN</td>\n",
       "      <td>NaN</td>\n",
       "      <td>NaN</td>\n",
       "      <td>105</td>\n",
       "      <td>84</td>\n",
       "      <td>0</td>\n",
       "    </tr>\n",
       "    <tr>\n",
       "      <th>267</th>\n",
       "      <td></td>\n",
       "      <td>1,850</td>\n",
       "      <td>862</td>\n",
       "      <td>88,874</td>\n",
       "      <td>43</td>\n",
       "      <td>89</td>\n",
       "      <td>19,490</td>\n",
       "      <td>5</td>\n",
       "      <td>14</td>\n",
       "      <td>6,090</td>\n",
       "      <td>...</td>\n",
       "      <td>308</td>\n",
       "      <td>201</td>\n",
       "      <td>2</td>\n",
       "      <td>530</td>\n",
       "      <td>1</td>\n",
       "      <td>0</td>\n",
       "      <td>47</td>\n",
       "      <td>147</td>\n",
       "      <td>299</td>\n",
       "      <td>0</td>\n",
       "    </tr>\n",
       "    <tr>\n",
       "      <th>268</th>\n",
       "      <td>제주특별자치도 제주시</td>\n",
       "      <td>979</td>\n",
       "      <td>513</td>\n",
       "      <td>54,851</td>\n",
       "      <td>23</td>\n",
       "      <td>56</td>\n",
       "      <td>14,007</td>\n",
       "      <td>3</td>\n",
       "      <td>9</td>\n",
       "      <td>4,435</td>\n",
       "      <td>...</td>\n",
       "      <td>139</td>\n",
       "      <td>128</td>\n",
       "      <td>2</td>\n",
       "      <td>420</td>\n",
       "      <td>1</td>\n",
       "      <td>0</td>\n",
       "      <td>47</td>\n",
       "      <td>76</td>\n",
       "      <td>184</td>\n",
       "      <td>0</td>\n",
       "    </tr>\n",
       "    <tr>\n",
       "      <th>269</th>\n",
       "      <td>제주특별자치도 서귀포시</td>\n",
       "      <td>872</td>\n",
       "      <td>350</td>\n",
       "      <td>34,023</td>\n",
       "      <td>20</td>\n",
       "      <td>33</td>\n",
       "      <td>5,483</td>\n",
       "      <td>2</td>\n",
       "      <td>5</td>\n",
       "      <td>1,655</td>\n",
       "      <td>...</td>\n",
       "      <td>169</td>\n",
       "      <td>73</td>\n",
       "      <td>0</td>\n",
       "      <td>109</td>\n",
       "      <td>NaN</td>\n",
       "      <td>NaN</td>\n",
       "      <td>NaN</td>\n",
       "      <td>71</td>\n",
       "      <td>115</td>\n",
       "      <td>0</td>\n",
       "    </tr>\n",
       "  </tbody>\n",
       "</table>\n",
       "<p>270 rows × 31 columns</p>\n",
       "</div>"
      ],
      "text/plain": [
       "    (단위: ㎢, 천 필지, 10억원)     면적수 합    지번수 합        가액 합 주거지역 면적 주거지역 지번수  \\\n",
       "0                             합 계      NaN         NaN   주거 지역      NaN   \n",
       "1                   NaN        면적      지번수          가액      면적      지번수   \n",
       "2                    전국  100,401   38,994   5,275,427   2,374    5,028    \n",
       "3                             605      943   1,662,762     312      766   \n",
       "4             서울특별시 종로구        24       49      70,578      10       32   \n",
       "..                  ...       ...      ...         ...     ...      ...   \n",
       "265            경상남도 거창군       803      263       3,687       5       15   \n",
       "266            경상남도 합천군       984      325       3,147       3        7   \n",
       "267                         1,850      862      88,874      43       89   \n",
       "268         제주특별자치도 제주시       979      513      54,851      23       56   \n",
       "269        제주특별자치도 서귀포시       872      350      34,023      20       33   \n",
       "\n",
       "        주거지역 가액 상업지역 면적 상업지역 지번수   상업지역 가액  ... Unnamed: 21 Unnamed: 22  \\\n",
       "0           NaN   상업 지역      NaN       NaN  ...         NaN     자연환경 보호   \n",
       "1            가액      면적      지번수        가액  ...          가액          면적   \n",
       "2    2,678,732     281      742   709,953   ...    210,428       6,486    \n",
       "3     1,196,086      25       62   324,311  ...         NaN         NaN   \n",
       "4        31,594       3       13    37,182  ...         NaN         NaN   \n",
       "..          ...     ...      ...       ...  ...         ...         ...   \n",
       "265       1,158       0        2       234  ...         685          19   \n",
       "266         468       0        1       138  ...       1,053          67   \n",
       "267      19,490       5       14     6,090  ...         308         201   \n",
       "268      14,007       3        9     4,435  ...         139         128   \n",
       "269       5,483       2        5     1,655  ...         169          73   \n",
       "\n",
       "    Unnamed: 23 Unnamed: 24 Unnamed: 25 Unnamed: 26 Unnamed: 27 Unnamed: 28  \\\n",
       "0           NaN         NaN       용도미지정         NaN         NaN          기타   \n",
       "1           지번수          가액          면적         지번수          가액          면적   \n",
       "2          625      14,235          81          12       3,559       6,557    \n",
       "3           NaN         NaN         NaN         NaN         NaN          29   \n",
       "4           NaN         NaN         NaN         NaN         NaN           0   \n",
       "..          ...         ...         ...         ...         ...         ...   \n",
       "265           3          37         NaN         NaN         NaN           3   \n",
       "266           2          36         NaN         NaN         NaN         105   \n",
       "267           2         530           1           0          47         147   \n",
       "268           2         420           1           0          47          76   \n",
       "269           0         109         NaN         NaN         NaN          71   \n",
       "\n",
       "    Unnamed: 29 Unnamed: 30  \n",
       "0           NaN         NaN  \n",
       "1           지번수          가액  \n",
       "2        6,088           0   \n",
       "3            38           0  \n",
       "4             3           0  \n",
       "..          ...         ...  \n",
       "265          16           0  \n",
       "266          84           0  \n",
       "267         299           0  \n",
       "268         184           0  \n",
       "269         115           0  \n",
       "\n",
       "[270 rows x 31 columns]"
      ]
     },
     "execution_count": 6,
     "metadata": {},
     "output_type": "execute_result"
    }
   ],
   "source": [
    "dang"
   ]
  },
  {
   "cell_type": "code",
   "execution_count": 7,
   "metadata": {},
   "outputs": [],
   "source": [
    "#결측값 채우기\n",
    "dang=dang.fillna(0)\n",
    "#서울 특별시의 땅만 자르기 \n",
    "seoul_dang=dang.iloc[4:29]"
   ]
  },
  {
   "cell_type": "code",
   "execution_count": 8,
   "metadata": {},
   "outputs": [
    {
     "data": {
      "text/plain": [
       "Text(0.5, 1.0, '서울시 구별 총 면적')"
      ]
     },
     "execution_count": 8,
     "metadata": {},
     "output_type": "execute_result"
    },
    {
     "data": {
      "image/png": "[encoded data removed]",
      "text/plain": [
       "<Figure size 576x396 with 1 Axes>"
      ]
     },
     "metadata": {},
     "output_type": "display_data"
    }
   ],
   "source": [
    "#토지 총면적 시각화\n",
    "plt.bar(seoul_dang[\"(단위: ㎢, 천 필지, 10억원)\"],seoul_dang[\"면적수 합\"],color='#ff9999')\n",
    "plt.xticks(rotation=90)\n",
    "plt.ylabel(\"총 면적\")\n",
    "plt.title(\"서울시 구별 총 면적\")"
   ]
  },
  {
   "cell_type": "code",
   "execution_count": 9,
   "metadata": {},
   "outputs": [
    {
     "data": {
      "text/plain": [
       "Text(0.5, 1.0, '서울시 구별 상업 지역 면적')"
      ]
     },
     "execution_count": 9,
     "metadata": {},
     "output_type": "execute_result"
    },
    {
     "data": {
      "image/png": "[encoded data removed]",
      "text/plain": [
       "<Figure size 576x396 with 1 Axes>"
      ]
     },
     "metadata": {},
     "output_type": "display_data"
    }
   ],
   "source": [
    "#서울시 주거 상업 지역 면적\n",
    "plt.bar(seoul_dang[\"(단위: ㎢, 천 필지, 10억원)\"],seoul_dang[\"상업지역 면적\"],color='#ff9999')\n",
    "plt.xticks(rotation=90)\n",
    "plt.ylabel(\"상업 지역 면적\")\n",
    "plt.title(\"서울시 구별 상업 지역 면적\")"
   ]
  },
  {
   "cell_type": "code",
   "execution_count": 21,
   "metadata": {},
   "outputs": [
    {
     "data": {
      "text/plain": [
       "24    0\n",
       "Name: 공업지역 면적, dtype: object"
      ]
     },
     "execution_count": 21,
     "metadata": {},
     "output_type": "execute_result"
    }
   ],
   "source": [
    "gangnam_dang=seoul_dang[seoul_dang[\"(단위: ㎢, 천 필지, 10억원)\"]=='서울특별시 관악구']\n",
    "gangnam_dang['공업지역 면적']"
   ]
  },
  {
   "cell_type": "code",
   "execution_count": 22,
   "metadata": {},
   "outputs": [
    {
     "data": {
      "image/png": "[encoded data removed]",
      "text/plain": [
       "<Figure size 576x396 with 1 Axes>"
      ]
     },
     "metadata": {},
     "output_type": "display_data"
    }
   ],
   "source": [
    "#서울시 관악구 상업 지역 면적 \n",
    "gangnam_dang=seoul_dang[seoul_dang[\"(단위: ㎢, 천 필지, 10억원)\"]=='서울특별시 관악구']\n",
    "ratio=[30,0,0,14,0]\n",
    "labels=['주거지역','상업지역','공업지역','녹지지역','기타']\n",
    "colors = ['#ff9999', '#ffc000', '#8fd9b6', '#d395d0','whitesmoke']\n",
    "plt.pie(ratio, labels=labels, autopct='%.1f%%', colors=colors)\n",
    "plt.title(\"관악구 면적 비율\")\n",
    "plt.show()"
   ]
  },
  {
   "cell_type": "code",
   "execution_count": 27,
   "metadata": {},
   "outputs": [
    {
     "data": {
      "text/plain": [
       "21    0\n",
       "Name: 기타지역 면적, dtype: object"
      ]
     },
     "execution_count": 27,
     "metadata": {},
     "output_type": "execute_result"
    }
   ],
   "source": [
    "sucho_dang=seoul_dang[seoul_dang[\"(단위: ㎢, 천 필지, 10억원)\"]=='서울특별시 금천구']\n",
    "sucho_dang\n",
    "sucho_dang['기타지역 면적']"
   ]
  },
  {
   "cell_type": "code",
   "execution_count": 28,
   "metadata": {},
   "outputs": [
    {
     "data": {
      "image/png": "[encoded data removed]",
      "text/plain": [
       "<Figure size 576x396 with 1 Axes>"
      ]
     },
     "metadata": {},
     "output_type": "display_data"
    }
   ],
   "source": [
    "##서울시 서초구 상업 지역 면적\n",
    "\n",
    "ratio=[6,0,4,3,0]\n",
    "labels=['주거지역','상업지역','공업지역','녹지지역','기타']\n",
    "plt.pie(ratio, labels=labels, autopct='%.1f%%',colors=colors)\n",
    "plt.title(\"금천구 면적 비율\")\n",
    "plt.show()"
   ]
  },
  {
   "cell_type": "code",
   "execution_count": 32,
   "metadata": {},
   "outputs": [
    {
     "data": {
      "text/plain": [
       "23    0\n",
       "Name: 기타지역 면적, dtype: object"
      ]
     },
     "execution_count": 32,
     "metadata": {},
     "output_type": "execute_result"
    }
   ],
   "source": [
    "#서울시 동작구 상업 지역 비율\n",
    "songpha_dang=seoul_dang[seoul_dang[\"(단위: ㎢, 천 필지, 10억원)\"]=='서울특별시 동작구']\n",
    "songpha_dang\n",
    "songpha_dang['기타지역 면적']"
   ]
  },
  {
   "cell_type": "code",
   "execution_count": 33,
   "metadata": {},
   "outputs": [
    {
     "data": {
      "image/png": "[encoded data removed]",
      "text/plain": [
       "<Figure size 576x396 with 1 Axes>"
      ]
     },
     "metadata": {},
     "output_type": "display_data"
    }
   ],
   "source": [
    "#서울시 동작구 상업 지역 비율\n",
    "songpha_dang=seoul_dang[seoul_dang[\"(단위: ㎢, 천 필지, 10억원)\"]=='서울특별시 동작구']\n",
    "ratio=[13,0,0,2,0]\n",
    "labels=['주거지역','상업지역','공업지역','녹지지역','기타']\n",
    "plt.pie(ratio, labels=labels, autopct='%.1f%%',colors=colors)\n",
    "plt.title(\"동작구 면적 비율\")\n",
    "plt.show()"
   ]
  },
  {
   "cell_type": "code",
   "execution_count": null,
   "metadata": {},
   "outputs": [],
   "source": []
  },
  {
   "cell_type": "code",
   "execution_count": null,
   "metadata": {},
   "outputs": [],
   "source": []
  },
  {
   "cell_type": "code",
   "execution_count": null,
   "metadata": {},
   "outputs": [],
   "source": []
  }
 ],
 "metadata": {
  "kernelspec": {
   "display_name": "Python 3",
   "language": "python",
   "name": "python3"
  },
  "language_info": {
   "codemirror_mode": {
    "name": "ipython",
    "version": 3
   },
   "file_extension": ".py",
   "mimetype": "text/x-python",
   "name": "python",
   "nbconvert_exporter": "python",
   "pygments_lexer": "ipython3",
   "version": "3.8.5"
  }
 },
 "nbformat": 4,
 "nbformat_minor": 4
}
