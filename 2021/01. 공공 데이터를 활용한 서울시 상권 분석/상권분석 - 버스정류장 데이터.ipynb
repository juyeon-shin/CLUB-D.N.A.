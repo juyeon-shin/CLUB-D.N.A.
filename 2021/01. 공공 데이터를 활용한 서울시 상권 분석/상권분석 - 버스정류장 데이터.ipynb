{
 "cells": [
  {
   "cell_type": "code",
   "execution_count": 1,
   "metadata": {},
   "outputs": [],
   "source": [
    "import pandas as pd\n",
    "df1=pd.read_csv(\"C:/Users/juyeo/Downloads/서울시버스정류소좌표데이터(2021.01.14.).csv\",encoding='cp949',thousands='.')"
   ]
  },
  {
   "cell_type": "code",
   "execution_count": 2,
   "metadata": {},
   "outputs": [
    {
     "data": {
      "text/html": [
       "<div>\n",
       "<style scoped>\n",
       "    .dataframe tbody tr th:only-of-type {\n",
       "        vertical-align: middle;\n",
       "    }\n",
       "\n",
       "    .dataframe tbody tr th {\n",
       "        vertical-align: top;\n",
       "    }\n",
       "\n",
       "    .dataframe thead th {\n",
       "        text-align: right;\n",
       "    }\n",
       "</style>\n",
       "<table border=\"1\" class=\"dataframe\">\n",
       "  <thead>\n",
       "    <tr style=\"text-align: right;\">\n",
       "      <th></th>\n",
       "      <th>표준ID</th>\n",
       "      <th>ARS-ID</th>\n",
       "      <th>정류소명</th>\n",
       "      <th>X좌표</th>\n",
       "      <th>Y좌표</th>\n",
       "    </tr>\n",
       "  </thead>\n",
       "  <tbody>\n",
       "    <tr>\n",
       "      <th>0</th>\n",
       "      <td>100000001</td>\n",
       "      <td>1001</td>\n",
       "      <td>종로2가사거리</td>\n",
       "      <td>1269877861534</td>\n",
       "      <td>375697641508</td>\n",
       "    </tr>\n",
       "    <tr>\n",
       "      <th>1</th>\n",
       "      <td>100000002</td>\n",
       "      <td>1002</td>\n",
       "      <td>창경궁.서울대학교병원</td>\n",
       "      <td>1269965201597</td>\n",
       "      <td>375791788583</td>\n",
       "    </tr>\n",
       "    <tr>\n",
       "      <th>2</th>\n",
       "      <td>100000003</td>\n",
       "      <td>1003</td>\n",
       "      <td>명륜3가.성대입구</td>\n",
       "      <td>1269982901625</td>\n",
       "      <td>375827088189</td>\n",
       "    </tr>\n",
       "    <tr>\n",
       "      <th>3</th>\n",
       "      <td>100000004</td>\n",
       "      <td>1004</td>\n",
       "      <td>종로2가.삼일교</td>\n",
       "      <td>1269875072018</td>\n",
       "      <td>375685822333</td>\n",
       "    </tr>\n",
       "    <tr>\n",
       "      <th>4</th>\n",
       "      <td>100000005</td>\n",
       "      <td>1005</td>\n",
       "      <td>혜화동로터리.여운형활동터</td>\n",
       "      <td>1270016943494</td>\n",
       "      <td>375862299819</td>\n",
       "    </tr>\n",
       "    <tr>\n",
       "      <th>...</th>\n",
       "      <td>...</td>\n",
       "      <td>...</td>\n",
       "      <td>...</td>\n",
       "      <td>...</td>\n",
       "      <td>...</td>\n",
       "    </tr>\n",
       "    <tr>\n",
       "      <th>10916</th>\n",
       "      <td>124000334</td>\n",
       "      <td>25995</td>\n",
       "      <td>우성아파트</td>\n",
       "      <td>1271393257207</td>\n",
       "      <td>37550442004</td>\n",
       "    </tr>\n",
       "    <tr>\n",
       "      <th>10917</th>\n",
       "      <td>124000333</td>\n",
       "      <td>25996</td>\n",
       "      <td>우성아파트</td>\n",
       "      <td>1271400516576</td>\n",
       "      <td>375506195561</td>\n",
       "    </tr>\n",
       "    <tr>\n",
       "      <th>10918</th>\n",
       "      <td>124000332</td>\n",
       "      <td>25997</td>\n",
       "      <td>조일약국</td>\n",
       "      <td>1271234769276</td>\n",
       "      <td>375336860369</td>\n",
       "    </tr>\n",
       "    <tr>\n",
       "      <th>10919</th>\n",
       "      <td>124000331</td>\n",
       "      <td>25998</td>\n",
       "      <td>성내시장</td>\n",
       "      <td>1271254098082</td>\n",
       "      <td>375361986947</td>\n",
       "    </tr>\n",
       "    <tr>\n",
       "      <th>10920</th>\n",
       "      <td>124000330</td>\n",
       "      <td>25999</td>\n",
       "      <td>천호우체국.로데오거리</td>\n",
       "      <td>1271273535299</td>\n",
       "      <td>375403900989</td>\n",
       "    </tr>\n",
       "  </tbody>\n",
       "</table>\n",
       "<p>10921 rows × 5 columns</p>\n",
       "</div>"
      ],
      "text/plain": [
       "            표준ID  ARS-ID           정류소명            X좌표           Y좌표\n",
       "0      100000001    1001        종로2가사거리  1269877861534  375697641508\n",
       "1      100000002    1002    창경궁.서울대학교병원  1269965201597  375791788583\n",
       "2      100000003    1003      명륜3가.성대입구  1269982901625  375827088189\n",
       "3      100000004    1004       종로2가.삼일교  1269875072018  375685822333\n",
       "4      100000005    1005  혜화동로터리.여운형활동터  1270016943494  375862299819\n",
       "...          ...     ...            ...            ...           ...\n",
       "10916  124000334   25995          우성아파트  1271393257207   37550442004\n",
       "10917  124000333   25996          우성아파트  1271400516576  375506195561\n",
       "10918  124000332   25997           조일약국  1271234769276  375336860369\n",
       "10919  124000331   25998           성내시장  1271254098082  375361986947\n",
       "10920  124000330   25999    천호우체국.로데오거리  1271273535299  375403900989\n",
       "\n",
       "[10921 rows x 5 columns]"
      ]
     },
     "execution_count": 2,
     "metadata": {},
     "output_type": "execute_result"
    }
   ],
   "source": [
    "df1"
   ]
  },
  {
   "cell_type": "code",
   "execution_count": 3,
   "metadata": {},
   "outputs": [
    {
     "data": {
      "text/plain": [
       "0        100000001\n",
       "1        100000002\n",
       "2        100000003\n",
       "3        100000004\n",
       "4        100000005\n",
       "           ...    \n",
       "10916    124000334\n",
       "10917    124000333\n",
       "10918    124000332\n",
       "10919    124000331\n",
       "10920    124000330\n",
       "Name: 표준ID, Length: 10921, dtype: int64"
      ]
     },
     "execution_count": 3,
     "metadata": {},
     "output_type": "execute_result"
    }
   ],
   "source": [
    "round(df1['표준ID'],10)"
   ]
  },
  {
   "cell_type": "code",
   "execution_count": 4,
   "metadata": {},
   "outputs": [],
   "source": [
    "pd.options.display.float_format='{:.}'.format"
   ]
  },
  {
   "cell_type": "code",
   "execution_count": 5,
   "metadata": {},
   "outputs": [],
   "source": [
    "find_row=df1.loc[(df1['ARS-ID']<2005)]\n",
    "find_row=find_row.iloc[:,6:7]"
   ]
  },
  {
   "cell_type": "code",
   "execution_count": 6,
   "metadata": {},
   "outputs": [
    {
     "name": "stdout",
     "output_type": "stream",
     "text": [
      "Empty DataFrame\n",
      "Columns: []\n",
      "Index: [0, 1, 2, 3, 4, 5, 6, 7, 8, 9, 10, 11, 12, 13, 14, 15, 16, 17, 18, 19, 20, 21, 22, 23, 24, 25, 26, 27, 28, 29, 30, 31, 32, 33, 34, 35, 36, 37, 38, 39, 40, 41, 42, 43, 44, 45, 46, 47, 48, 49, 50, 51, 52, 53, 54, 55, 56, 57, 58, 59, 60, 61, 62, 63, 64, 65, 66, 67, 68, 69, 70, 71, 72, 73, 74, 75, 76, 77, 78, 79, 80, 81, 82, 83, 84, 85, 86, 87, 88, 89, 90, 91, 92, 93, 94, 95, 96, 97, 98, 99, ...]\n",
      "\n",
      "[375 rows x 0 columns]\n"
     ]
    }
   ],
   "source": [
    "print(find_row)"
   ]
  },
  {
   "cell_type": "code",
   "execution_count": 7,
   "metadata": {},
   "outputs": [
    {
     "data": {
      "text/plain": [
       "0         1001\n",
       "1         1002\n",
       "2         1003\n",
       "3         1004\n",
       "4         1005\n",
       "         ...  \n",
       "10916    25995\n",
       "10917    25996\n",
       "10918    25997\n",
       "10919    25998\n",
       "10920    25999\n",
       "Name: ARS-ID, Length: 10921, dtype: object"
      ]
     },
     "execution_count": 7,
     "metadata": {},
     "output_type": "execute_result"
    }
   ],
   "source": [
    "def function1(x):\n",
    "    result=str(x)\n",
    "    return result[0:5]\n",
    "df1['ARS-ID'].apply(function1)"
   ]
  },
  {
   "cell_type": "code",
   "execution_count": 8,
   "metadata": {},
   "outputs": [
    {
     "data": {
      "text/html": [
       "<div>\n",
       "<style scoped>\n",
       "    .dataframe tbody tr th:only-of-type {\n",
       "        vertical-align: middle;\n",
       "    }\n",
       "\n",
       "    .dataframe tbody tr th {\n",
       "        vertical-align: top;\n",
       "    }\n",
       "\n",
       "    .dataframe thead th {\n",
       "        text-align: right;\n",
       "    }\n",
       "</style>\n",
       "<table border=\"1\" class=\"dataframe\">\n",
       "  <thead>\n",
       "    <tr style=\"text-align: right;\">\n",
       "      <th></th>\n",
       "      <th>표준ID</th>\n",
       "      <th>ARS-ID</th>\n",
       "      <th>정류소명</th>\n",
       "      <th>X좌표</th>\n",
       "      <th>Y좌표</th>\n",
       "    </tr>\n",
       "  </thead>\n",
       "  <tbody>\n",
       "    <tr>\n",
       "      <th>0</th>\n",
       "      <td>100000001</td>\n",
       "      <td>1001</td>\n",
       "      <td>종로2가사거리</td>\n",
       "      <td>1269877861534</td>\n",
       "      <td>375697641508</td>\n",
       "    </tr>\n",
       "    <tr>\n",
       "      <th>1</th>\n",
       "      <td>100000002</td>\n",
       "      <td>1002</td>\n",
       "      <td>창경궁.서울대학교병원</td>\n",
       "      <td>1269965201597</td>\n",
       "      <td>375791788583</td>\n",
       "    </tr>\n",
       "    <tr>\n",
       "      <th>2</th>\n",
       "      <td>100000003</td>\n",
       "      <td>1003</td>\n",
       "      <td>명륜3가.성대입구</td>\n",
       "      <td>1269982901625</td>\n",
       "      <td>375827088189</td>\n",
       "    </tr>\n",
       "    <tr>\n",
       "      <th>3</th>\n",
       "      <td>100000004</td>\n",
       "      <td>1004</td>\n",
       "      <td>종로2가.삼일교</td>\n",
       "      <td>1269875072018</td>\n",
       "      <td>375685822333</td>\n",
       "    </tr>\n",
       "    <tr>\n",
       "      <th>4</th>\n",
       "      <td>100000005</td>\n",
       "      <td>1005</td>\n",
       "      <td>혜화동로터리.여운형활동터</td>\n",
       "      <td>1270016943494</td>\n",
       "      <td>375862299819</td>\n",
       "    </tr>\n",
       "    <tr>\n",
       "      <th>...</th>\n",
       "      <td>...</td>\n",
       "      <td>...</td>\n",
       "      <td>...</td>\n",
       "      <td>...</td>\n",
       "      <td>...</td>\n",
       "    </tr>\n",
       "    <tr>\n",
       "      <th>10916</th>\n",
       "      <td>124000334</td>\n",
       "      <td>25995</td>\n",
       "      <td>우성아파트</td>\n",
       "      <td>1271393257207</td>\n",
       "      <td>37550442004</td>\n",
       "    </tr>\n",
       "    <tr>\n",
       "      <th>10917</th>\n",
       "      <td>124000333</td>\n",
       "      <td>25996</td>\n",
       "      <td>우성아파트</td>\n",
       "      <td>1271400516576</td>\n",
       "      <td>375506195561</td>\n",
       "    </tr>\n",
       "    <tr>\n",
       "      <th>10918</th>\n",
       "      <td>124000332</td>\n",
       "      <td>25997</td>\n",
       "      <td>조일약국</td>\n",
       "      <td>1271234769276</td>\n",
       "      <td>375336860369</td>\n",
       "    </tr>\n",
       "    <tr>\n",
       "      <th>10919</th>\n",
       "      <td>124000331</td>\n",
       "      <td>25998</td>\n",
       "      <td>성내시장</td>\n",
       "      <td>1271254098082</td>\n",
       "      <td>375361986947</td>\n",
       "    </tr>\n",
       "    <tr>\n",
       "      <th>10920</th>\n",
       "      <td>124000330</td>\n",
       "      <td>25999</td>\n",
       "      <td>천호우체국.로데오거리</td>\n",
       "      <td>1271273535299</td>\n",
       "      <td>375403900989</td>\n",
       "    </tr>\n",
       "  </tbody>\n",
       "</table>\n",
       "<p>10921 rows × 5 columns</p>\n",
       "</div>"
      ],
      "text/plain": [
       "            표준ID  ARS-ID           정류소명            X좌표           Y좌표\n",
       "0      100000001    1001        종로2가사거리  1269877861534  375697641508\n",
       "1      100000002    1002    창경궁.서울대학교병원  1269965201597  375791788583\n",
       "2      100000003    1003      명륜3가.성대입구  1269982901625  375827088189\n",
       "3      100000004    1004       종로2가.삼일교  1269875072018  375685822333\n",
       "4      100000005    1005  혜화동로터리.여운형활동터  1270016943494  375862299819\n",
       "...          ...     ...            ...            ...           ...\n",
       "10916  124000334   25995          우성아파트  1271393257207   37550442004\n",
       "10917  124000333   25996          우성아파트  1271400516576  375506195561\n",
       "10918  124000332   25997           조일약국  1271234769276  375336860369\n",
       "10919  124000331   25998           성내시장  1271254098082  375361986947\n",
       "10920  124000330   25999    천호우체국.로데오거리  1271273535299  375403900989\n",
       "\n",
       "[10921 rows x 5 columns]"
      ]
     },
     "execution_count": 8,
     "metadata": {},
     "output_type": "execute_result"
    }
   ],
   "source": [
    "df_dop_row = df1.dropna(axis=0)\n",
    "\n",
    "df_dop_row"
   ]
  },
  {
   "cell_type": "code",
   "execution_count": null,
   "metadata": {},
   "outputs": [],
   "source": []
  },
  {
   "cell_type": "code",
   "execution_count": 10,
   "metadata": {},
   "outputs": [
    {
     "name": "stdout",
     "output_type": "stream",
     "text": [
      "1\n"
     ]
    }
   ],
   "source": [
    "import numpy as np\n",
    "reqd_Index = list(np.where((df1[\"ARS-ID\"]>=1000)&(df1[\"ARS-ID\"]<2000)))\n",
    "print(len(reqd_Index))"
   ]
  },
  {
   "cell_type": "code",
   "execution_count": 11,
   "metadata": {},
   "outputs": [
    {
     "data": {
      "text/plain": [
       "329"
      ]
     },
     "execution_count": 11,
     "metadata": {},
     "output_type": "execute_result"
    }
   ],
   "source": [
    "import numpy as np\n",
    "reqd_Index = list(np.where((df1[\"ARS-ID\"]>=3000)&(df1[\"ARS-ID\"]<4000)))\n",
    "#print(list(reqd_Index)\n",
    "#특정 조건을 만족하는 행 값 구하기\n",
    "a=list(np.array(np.where((df1[\"ARS-ID\"]>=3000)&(df1[\"ARS-ID\"]<4000))).tolist())\n",
    "#2차원 리스트 -> 1차원 리스트\n",
    "b=np.array(a).flatten().tolist()\n",
    "#리스트의 값을 구하기\n",
    "len(b)"
   ]
  },
  {
   "cell_type": "code",
   "execution_count": null,
   "metadata": {},
   "outputs": [],
   "source": []
  },
  {
   "cell_type": "code",
   "execution_count": 13,
   "metadata": {},
   "outputs": [
    {
     "data": {
      "text/plain": [
       "359"
      ]
     },
     "execution_count": 13,
     "metadata": {},
     "output_type": "execute_result"
    }
   ],
   "source": [
    "#금천\n",
    "a=list(np.array(np.where((df1[\"ARS-ID\"]>=18000)&(df1[\"ARS-ID\"]<19000))).tolist())\n",
    "#2차원 리스트 -> 1차원 리스트\n",
    "금천구=np.array(a).flatten().tolist()\n",
    "#리스트의 값을 구하기\n",
    "금천구=len(금천구)\n",
    "금천구"
   ]
  },
  {
   "cell_type": "code",
   "execution_count": 14,
   "metadata": {},
   "outputs": [
    {
     "data": {
      "text/plain": [
       "436"
      ]
     },
     "execution_count": 14,
     "metadata": {},
     "output_type": "execute_result"
    }
   ],
   "source": [
    "#동작\n",
    "a=list(np.array(np.where((df1[\"ARS-ID\"]>=20000)&(df1[\"ARS-ID\"]<21000))).tolist())\n",
    "#2차원 리스트 -> 1차원 리스트\n",
    "동작구=np.array(a).flatten().tolist()\n",
    "#리스트의 값을 구하기\n",
    "동작구=len(동작구)\n",
    "동작구"
   ]
  },
  {
   "cell_type": "code",
   "execution_count": 15,
   "metadata": {},
   "outputs": [
    {
     "data": {
      "text/plain": [
       "466"
      ]
     },
     "execution_count": 15,
     "metadata": {},
     "output_type": "execute_result"
    }
   ],
   "source": [
    "#관악\n",
    "a=list(np.array(np.where((df1[\"ARS-ID\"]>=21000)&(df1[\"ARS-ID\"]<22000))).tolist())\n",
    "#2차원 리스트 -> 1차원 리스트\n",
    "관악구=np.array(a).flatten().tolist()\n",
    "#리스트의 값을 구하기\n",
    "관악구=len(관악구)\n",
    "관악구"
   ]
  },
  {
   "cell_type": "code",
   "execution_count": 19,
   "metadata": {},
   "outputs": [
    {
     "data": {
      "image/png": "[encoded data removed]",
      "text/plain": [
       "<Figure size 576x576 with 1 Axes>"
      ]
     },
     "metadata": {},
     "output_type": "display_data"
    }
   ],
   "source": [
    "import matplotlib.pyplot as plt\n",
    "import matplotlib as mpl\n",
    "from matplotlib import font_manager, rc\n",
    "rc('font', family='New Gulim')\n",
    "#폰트\n",
    "\n",
    "ratio=[관악구, 동작구, 금천구]\n",
    "labels=['관악구','동작구','금천구']\n",
    " \n",
    "\n",
    "\n",
    "fig = plt.figure(figsize=(8,8)) ## 캔버스 생성\n",
    "fig.set_facecolor('white') ## 캔버스 색상 하얀색\n",
    " \n",
    "ax = fig.add_subplot() ## 프래임 생성\n",
    " \n",
    "ax.pie(x=ratio,labels=labels,autopct=lambda p:'{:.2f}%'.format(p)) ## 파이 차트 출력\n",
    "plt.show()"
   ]
  },
  {
   "cell_type": "code",
   "execution_count": null,
   "metadata": {},
   "outputs": [],
   "source": []
  },
  {
   "cell_type": "code",
   "execution_count": null,
   "metadata": {},
   "outputs": [],
   "source": []
  }
 ],
 "metadata": {
  "kernelspec": {
   "display_name": "Python 3 (ipykernel)",
   "language": "python",
   "name": "python3"
  },
  "language_info": {
   "codemirror_mode": {
    "name": "ipython",
    "version": 3
   },
   "file_extension": ".py",
   "mimetype": "text/x-python",
   "name": "python",
   "nbconvert_exporter": "python",
   "pygments_lexer": "ipython3",
   "version": "3.8.8"
  }
 },
 "nbformat": 4,
 "nbformat_minor": 4
}
