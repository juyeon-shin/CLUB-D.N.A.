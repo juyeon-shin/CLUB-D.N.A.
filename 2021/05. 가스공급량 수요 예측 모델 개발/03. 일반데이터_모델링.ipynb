{
  "nbformat": 4,
  "nbformat_minor": 0,
  "metadata": {
    "colab": {
      "name": "20211119_주연_ 일반데이터 모델링",
      "provenance": [],
      "collapsed_sections": [
        "jtf3skKzzcn9",
        "MhdgSRiKzlB0",
        "ImfyvLVlDH8D",
        "9i5YBytkxg7w",
        "Fu87y6RAxvL-",
        "Tj1lO8wzQj1c",
        "Or3FK7xNv_L-"
      ],
      "toc_visible": true,
      "authorship_tag": "ABX9TyMqQnHyzqNmwWH+NFZ23V0Y",
      "include_colab_link": true
    },
    "kernelspec": {
      "name": "python3",
      "display_name": "Python 3"
    },
    "language_info": {
      "name": "python"
    }
  },
  "cells": [
    {
      "cell_type": "markdown",
      "metadata": {
        "id": "view-in-github",
        "colab_type": "text"
      },
      "source": [
        "<a href=\"https://colab.research.google.com/github/juyeon-shin/CLUB-D.N.A./blob/main/%EC%9D%BC%EB%B0%98%EB%8D%B0%EC%9D%B4%ED%84%B0_%EB%AA%A8%EB%8D%B8%EB%A7%81.ipynb\" target=\"_parent\"><img src=\"https://colab.research.google.com/assets/colab-badge.svg\" alt=\"Open In Colab\"/></a>"
      ]
    },
    {
      "cell_type": "markdown",
      "metadata": {
        "id": "jtf3skKzzcn9"
      },
      "source": [
        "## 기본 설정"
      ]
    },
    {
      "cell_type": "code",
      "metadata": {
        "colab": {
          "base_uri": "https://localhost:8080/"
        },
        "id": "S2_Ba2KWxh5o",
        "outputId": "a9858178-974c-4a45-c393-9d5715633638"
      },
      "source": [
        "from google.colab import drive\n",
        "drive.mount('/content/drive')"
      ],
      "execution_count": null,
      "outputs": [
        {
          "output_type": "stream",
          "name": "stdout",
          "text": [
            "Mounted at /content/drive\n"
          ]
        }
      ]
    },
    {
      "cell_type": "code",
      "metadata": {
        "id": "RA-MDBPGxjjS"
      },
      "source": [
        "import pandas as pd\n",
        "import numpy as np\n",
        "import datetime as dt\n",
        "import matplotlib.pyplot as plt\n",
        "plt.rc('font', family='NanumBarunGothic') \n",
        "import warnings\n",
        "warnings.filterwarnings('ignore')"
      ],
      "execution_count": null,
      "outputs": []
    },
    {
      "cell_type": "code",
      "source": [
        "def nmae(true, pred):\n",
        "  score = np.mean((np.abs(true-pred))/true)\n",
        "  return score"
      ],
      "metadata": {
        "id": "6ohicAMLnW0b"
      },
      "execution_count": null,
      "outputs": []
    },
    {
      "cell_type": "markdown",
      "metadata": {
        "id": "MhdgSRiKzlB0"
      },
      "source": [
        "## 1. 데이터 셋 전처리"
      ]
    },
    {
      "cell_type": "code",
      "metadata": {
        "colab": {
          "base_uri": "https://localhost:8080/",
          "height": 454
        },
        "id": "eRnf93hjxjly",
        "outputId": "082a3005-2748-4757-c88c-5926566e90d0"
      },
      "source": [
        "train_mer = pd.read_csv('/content/drive/MyDrive/202110 데이콘_가스공급량 수요예측 모델개발/데이터/train_mer.csv')\n",
        "\n",
        "train_mer['연월일'] = pd.to_datetime(train_mer['연월일'], format='%Y-%m-%d', errors='raise')\n",
        "train_mer.index = train_mer['연월일']\n",
        "train_mer = train_mer.drop(['연월일'],axis=1)\n",
        "train_mer = train_mer.drop(['최저기온(℃)','최고기온(℃)'], axis=1)\n",
        "train_mer.dtypes\n",
        "train_mer"
      ],
      "execution_count": null,
      "outputs": [
        {
          "output_type": "execute_result",
          "data": {
            "text/html": [
              "<div>\n",
              "<style scoped>\n",
              "    .dataframe tbody tr th:only-of-type {\n",
              "        vertical-align: middle;\n",
              "    }\n",
              "\n",
              "    .dataframe tbody tr th {\n",
              "        vertical-align: top;\n",
              "    }\n",
              "\n",
              "    .dataframe thead th {\n",
              "        text-align: right;\n",
              "    }\n",
              "</style>\n",
              "<table border=\"1\" class=\"dataframe\">\n",
              "  <thead>\n",
              "    <tr style=\"text-align: right;\">\n",
              "      <th></th>\n",
              "      <th>시간</th>\n",
              "      <th>구분</th>\n",
              "      <th>year</th>\n",
              "      <th>month</th>\n",
              "      <th>day</th>\n",
              "      <th>weekday</th>\n",
              "      <th>수입금액지수</th>\n",
              "      <th>가스소비량</th>\n",
              "      <th>평균기온(℃)</th>\n",
              "      <th>환율</th>\n",
              "      <th>공급량</th>\n",
              "    </tr>\n",
              "    <tr>\n",
              "      <th>연월일</th>\n",
              "      <th></th>\n",
              "      <th></th>\n",
              "      <th></th>\n",
              "      <th></th>\n",
              "      <th></th>\n",
              "      <th></th>\n",
              "      <th></th>\n",
              "      <th></th>\n",
              "      <th></th>\n",
              "      <th></th>\n",
              "      <th></th>\n",
              "    </tr>\n",
              "  </thead>\n",
              "  <tbody>\n",
              "    <tr>\n",
              "      <th>2013-01-01</th>\n",
              "      <td>1</td>\n",
              "      <td>0</td>\n",
              "      <td>2013</td>\n",
              "      <td>1</td>\n",
              "      <td>1</td>\n",
              "      <td>1</td>\n",
              "      <td>193.49</td>\n",
              "      <td>6487</td>\n",
              "      <td>-3.2</td>\n",
              "      <td>1071.3</td>\n",
              "      <td>2497.129</td>\n",
              "    </tr>\n",
              "    <tr>\n",
              "      <th>2013-01-01</th>\n",
              "      <td>2</td>\n",
              "      <td>0</td>\n",
              "      <td>2013</td>\n",
              "      <td>1</td>\n",
              "      <td>1</td>\n",
              "      <td>1</td>\n",
              "      <td>193.49</td>\n",
              "      <td>6487</td>\n",
              "      <td>-3.2</td>\n",
              "      <td>1071.3</td>\n",
              "      <td>2363.265</td>\n",
              "    </tr>\n",
              "    <tr>\n",
              "      <th>2013-01-01</th>\n",
              "      <td>3</td>\n",
              "      <td>0</td>\n",
              "      <td>2013</td>\n",
              "      <td>1</td>\n",
              "      <td>1</td>\n",
              "      <td>1</td>\n",
              "      <td>193.49</td>\n",
              "      <td>6487</td>\n",
              "      <td>-3.2</td>\n",
              "      <td>1071.3</td>\n",
              "      <td>2258.505</td>\n",
              "    </tr>\n",
              "    <tr>\n",
              "      <th>2013-01-01</th>\n",
              "      <td>4</td>\n",
              "      <td>0</td>\n",
              "      <td>2013</td>\n",
              "      <td>1</td>\n",
              "      <td>1</td>\n",
              "      <td>1</td>\n",
              "      <td>193.49</td>\n",
              "      <td>6487</td>\n",
              "      <td>-3.2</td>\n",
              "      <td>1071.3</td>\n",
              "      <td>2243.969</td>\n",
              "    </tr>\n",
              "    <tr>\n",
              "      <th>2013-01-01</th>\n",
              "      <td>5</td>\n",
              "      <td>0</td>\n",
              "      <td>2013</td>\n",
              "      <td>1</td>\n",
              "      <td>1</td>\n",
              "      <td>1</td>\n",
              "      <td>193.49</td>\n",
              "      <td>6487</td>\n",
              "      <td>-3.2</td>\n",
              "      <td>1071.3</td>\n",
              "      <td>2344.105</td>\n",
              "    </tr>\n",
              "    <tr>\n",
              "      <th>...</th>\n",
              "      <td>...</td>\n",
              "      <td>...</td>\n",
              "      <td>...</td>\n",
              "      <td>...</td>\n",
              "      <td>...</td>\n",
              "      <td>...</td>\n",
              "      <td>...</td>\n",
              "      <td>...</td>\n",
              "      <td>...</td>\n",
              "      <td>...</td>\n",
              "      <td>...</td>\n",
              "    </tr>\n",
              "    <tr>\n",
              "      <th>2017-12-31</th>\n",
              "      <td>20</td>\n",
              "      <td>6</td>\n",
              "      <td>2017</td>\n",
              "      <td>12</td>\n",
              "      <td>31</td>\n",
              "      <td>6</td>\n",
              "      <td>114.29</td>\n",
              "      <td>6569</td>\n",
              "      <td>2.1</td>\n",
              "      <td>1076.0</td>\n",
              "      <td>517.264</td>\n",
              "    </tr>\n",
              "    <tr>\n",
              "      <th>2017-12-31</th>\n",
              "      <td>21</td>\n",
              "      <td>6</td>\n",
              "      <td>2017</td>\n",
              "      <td>12</td>\n",
              "      <td>31</td>\n",
              "      <td>6</td>\n",
              "      <td>114.29</td>\n",
              "      <td>6569</td>\n",
              "      <td>2.1</td>\n",
              "      <td>1076.0</td>\n",
              "      <td>530.896</td>\n",
              "    </tr>\n",
              "    <tr>\n",
              "      <th>2017-12-31</th>\n",
              "      <td>22</td>\n",
              "      <td>6</td>\n",
              "      <td>2017</td>\n",
              "      <td>12</td>\n",
              "      <td>31</td>\n",
              "      <td>6</td>\n",
              "      <td>114.29</td>\n",
              "      <td>6569</td>\n",
              "      <td>2.1</td>\n",
              "      <td>1076.0</td>\n",
              "      <td>506.287</td>\n",
              "    </tr>\n",
              "    <tr>\n",
              "      <th>2017-12-31</th>\n",
              "      <td>23</td>\n",
              "      <td>6</td>\n",
              "      <td>2017</td>\n",
              "      <td>12</td>\n",
              "      <td>31</td>\n",
              "      <td>6</td>\n",
              "      <td>114.29</td>\n",
              "      <td>6569</td>\n",
              "      <td>2.1</td>\n",
              "      <td>1076.0</td>\n",
              "      <td>470.638</td>\n",
              "    </tr>\n",
              "    <tr>\n",
              "      <th>2017-12-31</th>\n",
              "      <td>24</td>\n",
              "      <td>6</td>\n",
              "      <td>2017</td>\n",
              "      <td>12</td>\n",
              "      <td>31</td>\n",
              "      <td>6</td>\n",
              "      <td>114.29</td>\n",
              "      <td>6569</td>\n",
              "      <td>2.1</td>\n",
              "      <td>1076.0</td>\n",
              "      <td>444.618</td>\n",
              "    </tr>\n",
              "  </tbody>\n",
              "</table>\n",
              "<p>306768 rows × 11 columns</p>\n",
              "</div>"
            ],
            "text/plain": [
              "            시간  구분  year  month  day  ...  수입금액지수  가스소비량  평균기온(℃)      환율       공급량\n",
              "연월일                                   ...                                          \n",
              "2013-01-01   1   0  2013      1    1  ...  193.49   6487     -3.2  1071.3  2497.129\n",
              "2013-01-01   2   0  2013      1    1  ...  193.49   6487     -3.2  1071.3  2363.265\n",
              "2013-01-01   3   0  2013      1    1  ...  193.49   6487     -3.2  1071.3  2258.505\n",
              "2013-01-01   4   0  2013      1    1  ...  193.49   6487     -3.2  1071.3  2243.969\n",
              "2013-01-01   5   0  2013      1    1  ...  193.49   6487     -3.2  1071.3  2344.105\n",
              "...         ..  ..   ...    ...  ...  ...     ...    ...      ...     ...       ...\n",
              "2017-12-31  20   6  2017     12   31  ...  114.29   6569      2.1  1076.0   517.264\n",
              "2017-12-31  21   6  2017     12   31  ...  114.29   6569      2.1  1076.0   530.896\n",
              "2017-12-31  22   6  2017     12   31  ...  114.29   6569      2.1  1076.0   506.287\n",
              "2017-12-31  23   6  2017     12   31  ...  114.29   6569      2.1  1076.0   470.638\n",
              "2017-12-31  24   6  2017     12   31  ...  114.29   6569      2.1  1076.0   444.618\n",
              "\n",
              "[306768 rows x 11 columns]"
            ]
          },
          "metadata": {},
          "execution_count": 4
        }
      ]
    },
    {
      "cell_type": "code",
      "metadata": {
        "colab": {
          "base_uri": "https://localhost:8080/",
          "height": 454
        },
        "id": "4Qo8HwoYTY_Q",
        "outputId": "dbaacd23-fdca-4a39-98f8-db202bd68555"
      },
      "source": [
        "val_mer = pd.read_csv('/content/drive/MyDrive/202110 데이콘_가스공급량 수요예측 모델개발/데이터/val_mer.csv')\n",
        "\n",
        "val_mer['연월일'] = pd.to_datetime(val_mer['연월일'], format='%Y-%m-%d', errors='raise')\n",
        "val_mer.index = val_mer['연월일']\n",
        "val_mer = val_mer.drop(['연월일'],axis=1)\n",
        "val_mer = val_mer.drop(['최저기온(℃)','최고기온(℃)'], axis=1)\n",
        "val_mer.dtypes\n",
        "val_mer"
      ],
      "execution_count": null,
      "outputs": [
        {
          "output_type": "execute_result",
          "data": {
            "text/html": [
              "<div>\n",
              "<style scoped>\n",
              "    .dataframe tbody tr th:only-of-type {\n",
              "        vertical-align: middle;\n",
              "    }\n",
              "\n",
              "    .dataframe tbody tr th {\n",
              "        vertical-align: top;\n",
              "    }\n",
              "\n",
              "    .dataframe thead th {\n",
              "        text-align: right;\n",
              "    }\n",
              "</style>\n",
              "<table border=\"1\" class=\"dataframe\">\n",
              "  <thead>\n",
              "    <tr style=\"text-align: right;\">\n",
              "      <th></th>\n",
              "      <th>시간</th>\n",
              "      <th>구분</th>\n",
              "      <th>year</th>\n",
              "      <th>month</th>\n",
              "      <th>day</th>\n",
              "      <th>weekday</th>\n",
              "      <th>수입금액지수</th>\n",
              "      <th>가스소비량</th>\n",
              "      <th>평균기온(℃)</th>\n",
              "      <th>환율</th>\n",
              "      <th>공급량</th>\n",
              "    </tr>\n",
              "    <tr>\n",
              "      <th>연월일</th>\n",
              "      <th></th>\n",
              "      <th></th>\n",
              "      <th></th>\n",
              "      <th></th>\n",
              "      <th></th>\n",
              "      <th></th>\n",
              "      <th></th>\n",
              "      <th></th>\n",
              "      <th></th>\n",
              "      <th></th>\n",
              "      <th></th>\n",
              "    </tr>\n",
              "  </thead>\n",
              "  <tbody>\n",
              "    <tr>\n",
              "      <th>2018-01-01</th>\n",
              "      <td>1</td>\n",
              "      <td>0</td>\n",
              "      <td>2018</td>\n",
              "      <td>1</td>\n",
              "      <td>1</td>\n",
              "      <td>0</td>\n",
              "      <td>119.47</td>\n",
              "      <td>7013</td>\n",
              "      <td>-0.4</td>\n",
              "      <td>1076.0</td>\n",
              "      <td>1765.008</td>\n",
              "    </tr>\n",
              "    <tr>\n",
              "      <th>2018-01-01</th>\n",
              "      <td>2</td>\n",
              "      <td>0</td>\n",
              "      <td>2018</td>\n",
              "      <td>1</td>\n",
              "      <td>1</td>\n",
              "      <td>0</td>\n",
              "      <td>119.47</td>\n",
              "      <td>7013</td>\n",
              "      <td>-0.4</td>\n",
              "      <td>1076.0</td>\n",
              "      <td>1679.186</td>\n",
              "    </tr>\n",
              "    <tr>\n",
              "      <th>2018-01-01</th>\n",
              "      <td>3</td>\n",
              "      <td>0</td>\n",
              "      <td>2018</td>\n",
              "      <td>1</td>\n",
              "      <td>1</td>\n",
              "      <td>0</td>\n",
              "      <td>119.47</td>\n",
              "      <td>7013</td>\n",
              "      <td>-0.4</td>\n",
              "      <td>1076.0</td>\n",
              "      <td>1610.885</td>\n",
              "    </tr>\n",
              "    <tr>\n",
              "      <th>2018-01-01</th>\n",
              "      <td>4</td>\n",
              "      <td>0</td>\n",
              "      <td>2018</td>\n",
              "      <td>1</td>\n",
              "      <td>1</td>\n",
              "      <td>0</td>\n",
              "      <td>119.47</td>\n",
              "      <td>7013</td>\n",
              "      <td>-0.4</td>\n",
              "      <td>1076.0</td>\n",
              "      <td>1604.123</td>\n",
              "    </tr>\n",
              "    <tr>\n",
              "      <th>2018-01-01</th>\n",
              "      <td>5</td>\n",
              "      <td>0</td>\n",
              "      <td>2018</td>\n",
              "      <td>1</td>\n",
              "      <td>1</td>\n",
              "      <td>0</td>\n",
              "      <td>119.47</td>\n",
              "      <td>7013</td>\n",
              "      <td>-0.4</td>\n",
              "      <td>1076.0</td>\n",
              "      <td>1711.506</td>\n",
              "    </tr>\n",
              "    <tr>\n",
              "      <th>...</th>\n",
              "      <td>...</td>\n",
              "      <td>...</td>\n",
              "      <td>...</td>\n",
              "      <td>...</td>\n",
              "      <td>...</td>\n",
              "      <td>...</td>\n",
              "      <td>...</td>\n",
              "      <td>...</td>\n",
              "      <td>...</td>\n",
              "      <td>...</td>\n",
              "      <td>...</td>\n",
              "    </tr>\n",
              "    <tr>\n",
              "      <th>2018-12-31</th>\n",
              "      <td>20</td>\n",
              "      <td>6</td>\n",
              "      <td>2018</td>\n",
              "      <td>12</td>\n",
              "      <td>31</td>\n",
              "      <td>0</td>\n",
              "      <td>172.60</td>\n",
              "      <td>6381</td>\n",
              "      <td>-3.2</td>\n",
              "      <td>1120.0</td>\n",
              "      <td>681.033</td>\n",
              "    </tr>\n",
              "    <tr>\n",
              "      <th>2018-12-31</th>\n",
              "      <td>21</td>\n",
              "      <td>6</td>\n",
              "      <td>2018</td>\n",
              "      <td>12</td>\n",
              "      <td>31</td>\n",
              "      <td>0</td>\n",
              "      <td>172.60</td>\n",
              "      <td>6381</td>\n",
              "      <td>-3.2</td>\n",
              "      <td>1120.0</td>\n",
              "      <td>669.961</td>\n",
              "    </tr>\n",
              "    <tr>\n",
              "      <th>2018-12-31</th>\n",
              "      <td>22</td>\n",
              "      <td>6</td>\n",
              "      <td>2018</td>\n",
              "      <td>12</td>\n",
              "      <td>31</td>\n",
              "      <td>0</td>\n",
              "      <td>172.60</td>\n",
              "      <td>6381</td>\n",
              "      <td>-3.2</td>\n",
              "      <td>1120.0</td>\n",
              "      <td>657.941</td>\n",
              "    </tr>\n",
              "    <tr>\n",
              "      <th>2018-12-31</th>\n",
              "      <td>23</td>\n",
              "      <td>6</td>\n",
              "      <td>2018</td>\n",
              "      <td>12</td>\n",
              "      <td>31</td>\n",
              "      <td>0</td>\n",
              "      <td>172.60</td>\n",
              "      <td>6381</td>\n",
              "      <td>-3.2</td>\n",
              "      <td>1120.0</td>\n",
              "      <td>610.953</td>\n",
              "    </tr>\n",
              "    <tr>\n",
              "      <th>2018-12-31</th>\n",
              "      <td>24</td>\n",
              "      <td>6</td>\n",
              "      <td>2018</td>\n",
              "      <td>12</td>\n",
              "      <td>31</td>\n",
              "      <td>0</td>\n",
              "      <td>172.60</td>\n",
              "      <td>6381</td>\n",
              "      <td>-3.2</td>\n",
              "      <td>1120.0</td>\n",
              "      <td>560.896</td>\n",
              "    </tr>\n",
              "  </tbody>\n",
              "</table>\n",
              "<p>61320 rows × 11 columns</p>\n",
              "</div>"
            ],
            "text/plain": [
              "            시간  구분  year  month  day  ...  수입금액지수  가스소비량  평균기온(℃)      환율       공급량\n",
              "연월일                                   ...                                          \n",
              "2018-01-01   1   0  2018      1    1  ...  119.47   7013     -0.4  1076.0  1765.008\n",
              "2018-01-01   2   0  2018      1    1  ...  119.47   7013     -0.4  1076.0  1679.186\n",
              "2018-01-01   3   0  2018      1    1  ...  119.47   7013     -0.4  1076.0  1610.885\n",
              "2018-01-01   4   0  2018      1    1  ...  119.47   7013     -0.4  1076.0  1604.123\n",
              "2018-01-01   5   0  2018      1    1  ...  119.47   7013     -0.4  1076.0  1711.506\n",
              "...         ..  ..   ...    ...  ...  ...     ...    ...      ...     ...       ...\n",
              "2018-12-31  20   6  2018     12   31  ...  172.60   6381     -3.2  1120.0   681.033\n",
              "2018-12-31  21   6  2018     12   31  ...  172.60   6381     -3.2  1120.0   669.961\n",
              "2018-12-31  22   6  2018     12   31  ...  172.60   6381     -3.2  1120.0   657.941\n",
              "2018-12-31  23   6  2018     12   31  ...  172.60   6381     -3.2  1120.0   610.953\n",
              "2018-12-31  24   6  2018     12   31  ...  172.60   6381     -3.2  1120.0   560.896\n",
              "\n",
              "[61320 rows x 11 columns]"
            ]
          },
          "metadata": {},
          "execution_count": 5
        }
      ]
    },
    {
      "cell_type": "code",
      "metadata": {
        "colab": {
          "base_uri": "https://localhost:8080/",
          "height": 454
        },
        "id": "BFFmsD97ROb4",
        "outputId": "f689fa40-2809-4ab7-b9f7-0dc0b4dce85a"
      },
      "source": [
        "test = pd.read_csv('/content/drive/MyDrive/깍두기와 겉절이들/가스공급량 수요 예측/데이터/same_test.csv')\n",
        "test['일자'] = pd.to_datetime(test['일자'], format='%Y-%m-%d', errors='raise')\n",
        "test.index= test['일자']\n",
        "test = test.drop(['Unnamed: 0','일자','연월일'],axis=1)#, , '시간', '구분', '연월일', 'year', 'month', 'day','weekday', 'pred_y', 'pred_x.1', 'pred_y.1'], axis=1)\n",
        "d_map = {}\n",
        "for i, d in enumerate(test['구분'].unique()):\n",
        "    d_map[d] = i\n",
        "test['구분'] = test['구분'].map(d_map)\n",
        "\n",
        "test"
      ],
      "execution_count": null,
      "outputs": [
        {
          "output_type": "execute_result",
          "data": {
            "text/html": [
              "<div>\n",
              "<style scoped>\n",
              "    .dataframe tbody tr th:only-of-type {\n",
              "        vertical-align: middle;\n",
              "    }\n",
              "\n",
              "    .dataframe tbody tr th {\n",
              "        vertical-align: top;\n",
              "    }\n",
              "\n",
              "    .dataframe thead th {\n",
              "        text-align: right;\n",
              "    }\n",
              "</style>\n",
              "<table border=\"1\" class=\"dataframe\">\n",
              "  <thead>\n",
              "    <tr style=\"text-align: right;\">\n",
              "      <th></th>\n",
              "      <th>시간</th>\n",
              "      <th>구분</th>\n",
              "      <th>year</th>\n",
              "      <th>month</th>\n",
              "      <th>day</th>\n",
              "      <th>weekday</th>\n",
              "      <th>소비량</th>\n",
              "      <th>평균기온</th>\n",
              "      <th>수입금액지수</th>\n",
              "      <th>달러환율</th>\n",
              "    </tr>\n",
              "    <tr>\n",
              "      <th>일자</th>\n",
              "      <th></th>\n",
              "      <th></th>\n",
              "      <th></th>\n",
              "      <th></th>\n",
              "      <th></th>\n",
              "      <th></th>\n",
              "      <th></th>\n",
              "      <th></th>\n",
              "      <th></th>\n",
              "      <th></th>\n",
              "    </tr>\n",
              "  </thead>\n",
              "  <tbody>\n",
              "    <tr>\n",
              "      <th>2019-01-01</th>\n",
              "      <td>1</td>\n",
              "      <td>0</td>\n",
              "      <td>2019</td>\n",
              "      <td>1</td>\n",
              "      <td>1</td>\n",
              "      <td>1</td>\n",
              "      <td>7094.169809</td>\n",
              "      <td>-3.531051</td>\n",
              "      <td>185.074997</td>\n",
              "      <td>1120</td>\n",
              "    </tr>\n",
              "    <tr>\n",
              "      <th>2019-01-01</th>\n",
              "      <td>2</td>\n",
              "      <td>0</td>\n",
              "      <td>2019</td>\n",
              "      <td>1</td>\n",
              "      <td>1</td>\n",
              "      <td>1</td>\n",
              "      <td>7094.169809</td>\n",
              "      <td>-3.531051</td>\n",
              "      <td>185.074997</td>\n",
              "      <td>1120</td>\n",
              "    </tr>\n",
              "    <tr>\n",
              "      <th>2019-01-01</th>\n",
              "      <td>3</td>\n",
              "      <td>0</td>\n",
              "      <td>2019</td>\n",
              "      <td>1</td>\n",
              "      <td>1</td>\n",
              "      <td>1</td>\n",
              "      <td>7094.169809</td>\n",
              "      <td>-3.531051</td>\n",
              "      <td>185.074997</td>\n",
              "      <td>1120</td>\n",
              "    </tr>\n",
              "    <tr>\n",
              "      <th>2019-01-01</th>\n",
              "      <td>4</td>\n",
              "      <td>0</td>\n",
              "      <td>2019</td>\n",
              "      <td>1</td>\n",
              "      <td>1</td>\n",
              "      <td>1</td>\n",
              "      <td>7094.169809</td>\n",
              "      <td>-3.531051</td>\n",
              "      <td>185.074997</td>\n",
              "      <td>1120</td>\n",
              "    </tr>\n",
              "    <tr>\n",
              "      <th>2019-01-01</th>\n",
              "      <td>5</td>\n",
              "      <td>0</td>\n",
              "      <td>2019</td>\n",
              "      <td>1</td>\n",
              "      <td>1</td>\n",
              "      <td>1</td>\n",
              "      <td>7094.169809</td>\n",
              "      <td>-3.531051</td>\n",
              "      <td>185.074997</td>\n",
              "      <td>1120</td>\n",
              "    </tr>\n",
              "    <tr>\n",
              "      <th>...</th>\n",
              "      <td>...</td>\n",
              "      <td>...</td>\n",
              "      <td>...</td>\n",
              "      <td>...</td>\n",
              "      <td>...</td>\n",
              "      <td>...</td>\n",
              "      <td>...</td>\n",
              "      <td>...</td>\n",
              "      <td>...</td>\n",
              "      <td>...</td>\n",
              "    </tr>\n",
              "    <tr>\n",
              "      <th>2019-03-31</th>\n",
              "      <td>20</td>\n",
              "      <td>6</td>\n",
              "      <td>2019</td>\n",
              "      <td>3</td>\n",
              "      <td>31</td>\n",
              "      <td>6</td>\n",
              "      <td>5482.130419</td>\n",
              "      <td>14.000000</td>\n",
              "      <td>192.097301</td>\n",
              "      <td>1120</td>\n",
              "    </tr>\n",
              "    <tr>\n",
              "      <th>2019-03-31</th>\n",
              "      <td>21</td>\n",
              "      <td>6</td>\n",
              "      <td>2019</td>\n",
              "      <td>3</td>\n",
              "      <td>31</td>\n",
              "      <td>6</td>\n",
              "      <td>5482.130419</td>\n",
              "      <td>14.000000</td>\n",
              "      <td>192.097301</td>\n",
              "      <td>1120</td>\n",
              "    </tr>\n",
              "    <tr>\n",
              "      <th>2019-03-31</th>\n",
              "      <td>22</td>\n",
              "      <td>6</td>\n",
              "      <td>2019</td>\n",
              "      <td>3</td>\n",
              "      <td>31</td>\n",
              "      <td>6</td>\n",
              "      <td>5482.130419</td>\n",
              "      <td>14.000000</td>\n",
              "      <td>192.097301</td>\n",
              "      <td>1120</td>\n",
              "    </tr>\n",
              "    <tr>\n",
              "      <th>2019-03-31</th>\n",
              "      <td>23</td>\n",
              "      <td>6</td>\n",
              "      <td>2019</td>\n",
              "      <td>3</td>\n",
              "      <td>31</td>\n",
              "      <td>6</td>\n",
              "      <td>5482.130419</td>\n",
              "      <td>14.000000</td>\n",
              "      <td>192.097301</td>\n",
              "      <td>1120</td>\n",
              "    </tr>\n",
              "    <tr>\n",
              "      <th>2019-03-31</th>\n",
              "      <td>24</td>\n",
              "      <td>6</td>\n",
              "      <td>2019</td>\n",
              "      <td>3</td>\n",
              "      <td>31</td>\n",
              "      <td>6</td>\n",
              "      <td>5482.130419</td>\n",
              "      <td>14.000000</td>\n",
              "      <td>192.097301</td>\n",
              "      <td>1120</td>\n",
              "    </tr>\n",
              "  </tbody>\n",
              "</table>\n",
              "<p>15120 rows × 10 columns</p>\n",
              "</div>"
            ],
            "text/plain": [
              "            시간  구분  year  month  ...          소비량       평균기온      수입금액지수  달러환율\n",
              "일자                               ...                                          \n",
              "2019-01-01   1   0  2019      1  ...  7094.169809  -3.531051  185.074997  1120\n",
              "2019-01-01   2   0  2019      1  ...  7094.169809  -3.531051  185.074997  1120\n",
              "2019-01-01   3   0  2019      1  ...  7094.169809  -3.531051  185.074997  1120\n",
              "2019-01-01   4   0  2019      1  ...  7094.169809  -3.531051  185.074997  1120\n",
              "2019-01-01   5   0  2019      1  ...  7094.169809  -3.531051  185.074997  1120\n",
              "...         ..  ..   ...    ...  ...          ...        ...         ...   ...\n",
              "2019-03-31  20   6  2019      3  ...  5482.130419  14.000000  192.097301  1120\n",
              "2019-03-31  21   6  2019      3  ...  5482.130419  14.000000  192.097301  1120\n",
              "2019-03-31  22   6  2019      3  ...  5482.130419  14.000000  192.097301  1120\n",
              "2019-03-31  23   6  2019      3  ...  5482.130419  14.000000  192.097301  1120\n",
              "2019-03-31  24   6  2019      3  ...  5482.130419  14.000000  192.097301  1120\n",
              "\n",
              "[15120 rows x 10 columns]"
            ]
          },
          "metadata": {},
          "execution_count": 6
        }
      ]
    },
    {
      "cell_type": "markdown",
      "metadata": {
        "id": "ImfyvLVlDH8D"
      },
      "source": [
        "## 2. RNN 모델링"
      ]
    },
    {
      "cell_type": "markdown",
      "metadata": {
        "id": "lzxhEIC06MoJ"
      },
      "source": [
        "+ 요일의 라벨 인코딩이 되어있는 상태\n",
        "+ 구분의 라벨 인코딩이 되어있는 상태\n"
      ]
    },
    {
      "cell_type": "markdown",
      "metadata": {
        "id": "eW5xBgHegj-6"
      },
      "source": [
        "+ 트레인 데이터 정규화\n",
        "+ 트레인 데이터 x,y 분할\n",
        "+ 분할한 데이터 reshape"
      ]
    },
    {
      "cell_type": "code",
      "metadata": {
        "id": "Bswkh1UVU3Yi",
        "colab": {
          "base_uri": "https://localhost:8080/"
        },
        "outputId": "654ddb0a-24f2-402d-fe8d-76b115564f18"
      },
      "source": [
        "train_values = train_mer.values[:,-1]\n",
        "\n",
        "X_train = []\n",
        "for i in range(len(train_values)-24):\n",
        "  X_train.append(train_values[i:i+24])\n",
        "\n",
        "X_data = np.array(X_train)\n",
        "X_data"
      ],
      "execution_count": null,
      "outputs": [
        {
          "output_type": "execute_result",
          "data": {
            "text/plain": [
              "array([[2497.129, 2363.265, 2258.505, ..., 2711.441, 2586.297, 2494.457],\n",
              "       [2363.265, 2258.505, 2243.969, ..., 2586.297, 2494.457, 2169.093],\n",
              "       [2258.505, 2243.969, 2344.105, ..., 2494.457, 2169.093, 2051.733],\n",
              "       ...,\n",
              "       [3183.359, 3081.029, 2927.616, ...,  520.804,  517.264,  530.896],\n",
              "       [3081.029, 2927.616,  409.619, ...,  517.264,  530.896,  506.287],\n",
              "       [2927.616,  409.619,  356.824, ...,  530.896,  506.287,  470.638]])"
            ]
          },
          "metadata": {},
          "execution_count": 6
        }
      ]
    },
    {
      "cell_type": "code",
      "metadata": {
        "colab": {
          "base_uri": "https://localhost:8080/"
        },
        "id": "8it0ba5HU3tf",
        "outputId": "45cab94b-3ab3-40fd-b9c4-efd32014e048"
      },
      "source": [
        "val_values = val_mer.values[:,-1]\n",
        "\n",
        "X_val = []\n",
        "for i in range(len(val_values)-24):\n",
        "  X_val.append(val_values[i:i+24])\n",
        "\n",
        "X_val = np.array(X_val)\n",
        "X_val"
      ],
      "execution_count": null,
      "outputs": [
        {
          "output_type": "execute_result",
          "data": {
            "text/plain": [
              "array([[1765.008, 1679.186, 1610.885, ..., 2206.341, 2117.721, 1993.822],\n",
              "       [1679.186, 1610.885, 1604.123, ..., 2117.721, 1993.822, 1661.221],\n",
              "       [1610.885, 1604.123, 1711.506, ..., 1993.822, 1661.221, 1578.653],\n",
              "       ...,\n",
              "       [4354.915, 4204.484, 3982.757, ...,  678.975,  681.033,  669.961],\n",
              "       [4204.484, 3982.757,  530.446, ...,  681.033,  669.961,  657.941],\n",
              "       [3982.757,  530.446,  467.16 , ...,  669.961,  657.941,  610.953]])"
            ]
          },
          "metadata": {},
          "execution_count": 7
        }
      ]
    },
    {
      "cell_type": "code",
      "metadata": {
        "id": "8j9vzL2YSxqh"
      },
      "source": [
        "#train data 정규화\n",
        "from sklearn.preprocessing import MinMaxScaler\n",
        "\n",
        "scaler = MinMaxScaler(feature_range=(0, 1))\n",
        "scaled = scaler.fit_transform(X_data)"
      ],
      "execution_count": null,
      "outputs": []
    },
    {
      "cell_type": "code",
      "metadata": {
        "id": "CtdBsfl7qzlO"
      },
      "source": [
        "#x_train과 x_test를 독립적으로 스케일링 하지 마세요"
      ],
      "execution_count": null,
      "outputs": []
    },
    {
      "cell_type": "code",
      "metadata": {
        "id": "JljYjmluU3h_"
      },
      "source": [
        "# train data x,y 분할\n",
        "X_data = scaled[:,:-1]\n",
        "y_data = scaled[:, -1]\n",
        "\n",
        "X_train = X_data[:300000]\n",
        "y_train = y_data[:300000]\n",
        "X_valid = X_data[300000:]\n",
        "y_valid = y_data[300000:]"
      ],
      "execution_count": null,
      "outputs": []
    },
    {
      "cell_type": "code",
      "metadata": {
        "id": "BIIAxs7NeTq2"
      },
      "source": [
        "#train data, x_test data reshape\n",
        "X_train = X_train.reshape(X_train.shape[0],1,X_train.shape[1])\n",
        "X_valid = X_valid.reshape(X_valid.shape[0],1, X_valid.shape[1])"
      ],
      "execution_count": null,
      "outputs": []
    },
    {
      "cell_type": "code",
      "metadata": {
        "colab": {
          "base_uri": "https://localhost:8080/"
        },
        "id": "L_L9JxuWU3ky",
        "outputId": "08806b8a-cb41-487f-a94b-8a66c2a8c68e"
      },
      "source": [
        "print('X_train.shape : ', X_train.shape)\n",
        "print('y_train.shape : ', y_train.shape)\n",
        "print('X_valid.shape : ', X_valid.shape)\n",
        "print('y_valid.shape : ', y_valid.shape)"
      ],
      "execution_count": null,
      "outputs": [
        {
          "output_type": "stream",
          "name": "stdout",
          "text": [
            "X_train.shape :  (300000, 1, 23)\n",
            "y_train.shape :  (300000,)\n",
            "X_valid.shape :  (6744, 1, 23)\n",
            "y_valid.shape :  (6744,)\n"
          ]
        }
      ]
    },
    {
      "cell_type": "code",
      "source": [
        "#다변량 RNN\n",
        "\n",
        "import tensorflow as tf\n",
        "from tensorflow import keras\n",
        "\n",
        "model = keras.models.Sequential([\n",
        "    keras.layers.SimpleRNN(1, input_shape=(X_train.shape[1], X_train.shape[2]))\n",
        "])\n",
        "\n",
        "model.compile(loss=\"mse\", optimizer='SGD')\n",
        "history = model.fit(X_train, y_train, epochs=20,validation_data=(X_valid, y_valid))\n",
        "\n",
        "model.summary()"
      ],
      "metadata": {
        "id": "va3pf2xlRfrT"
      },
      "execution_count": null,
      "outputs": []
    },
    {
      "cell_type": "code",
      "metadata": {
        "colab": {
          "base_uri": "https://localhost:8080/",
          "height": 283
        },
        "outputId": "b821f641-8216-4d9d-a005-787ac5306639",
        "id": "O8t4GhljRii9"
      },
      "source": [
        "plt.plot(history.history['loss'], label='train')\n",
        "plt.plot(history.history['val_loss'], label='valid')\n",
        "plt.legend()\n",
        "plt.show()"
      ],
      "execution_count": null,
      "outputs": [
        {
          "output_type": "stream",
          "name": "stderr",
          "text": [
            "findfont: Font family ['NanumBarunGothic'] not found. Falling back to DejaVu Sans.\n"
          ]
        },
        {
          "output_type": "display_data",
          "data": {
            "image/png": "[encoded data removed]",
            "text/plain": [
              "<Figure size 432x288 with 1 Axes>"
            ]
          },
          "metadata": {
            "needs_background": "light"
          }
        }
      ]
    },
    {
      "cell_type": "code",
      "metadata": {
        "colab": {
          "base_uri": "https://localhost:8080/"
        },
        "outputId": "c3664620-09d0-4289-d2c0-0ca7f5952769",
        "id": "MF-JIaO6Rii-"
      },
      "source": [
        "model.evaluate(X_valid, y_valid)"
      ],
      "execution_count": null,
      "outputs": [
        {
          "output_type": "stream",
          "name": "stdout",
          "text": [
            "211/211 [==============================] - 0s 1ms/step - loss: 0.0012\n"
          ]
        },
        {
          "output_type": "execute_result",
          "data": {
            "text/plain": [
              "0.0012251534499228"
            ]
          },
          "metadata": {},
          "execution_count": 16
        }
      ]
    },
    {
      "cell_type": "code",
      "metadata": {
        "id": "h2pfvEQ4RijA"
      },
      "source": [
        "y_pred = model.predict(X_valid)"
      ],
      "execution_count": null,
      "outputs": []
    },
    {
      "cell_type": "markdown",
      "metadata": {
        "id": "9i5YBytkxg7w"
      },
      "source": [
        "## RNN 모델링 : 단순 RNN"
      ]
    },
    {
      "cell_type": "code",
      "metadata": {
        "id": "TLC2umzMU31v"
      },
      "source": [
        "import tensorflow as tf\n",
        "from tensorflow import keras\n",
        "\n",
        "model = keras.models.Sequential([\n",
        "    keras.layers.SimpleRNN(24, return_sequences=True, input_shape=(X_train.shape[1], X_train.shape[2])),\n",
        "    keras.layers.SimpleRNN(24),\n",
        "    keras.layers.Dense(1)\n",
        "])\n",
        "\n",
        "model.compile(loss=\"mse\", optimizer=\"adam\")\n",
        "history = model.fit(X_train, y_train, epochs=20,validation_data=(X_valid, y_valid))\n",
        "\n",
        "model.summary()"
      ],
      "execution_count": null,
      "outputs": []
    },
    {
      "cell_type": "code",
      "metadata": {
        "id": "4UayGJsImcrG"
      },
      "source": [
        "plt.plot(history.history['loss'], label='train')\n",
        "plt.plot(history.history['val_loss'], label='valid')\n",
        "plt.legend()\n",
        "plt.show()"
      ],
      "execution_count": null,
      "outputs": []
    },
    {
      "cell_type": "code",
      "metadata": {
        "id": "23U8xMh7mct0"
      },
      "source": [
        "y_pred = model.predict(X_valid)\n",
        "y_pred"
      ],
      "execution_count": null,
      "outputs": []
    },
    {
      "cell_type": "code",
      "metadata": {
        "id": "-_xsiI8aK5dk"
      },
      "source": [
        "model.evaluate(X_valid, y_valid)"
      ],
      "execution_count": null,
      "outputs": []
    },
    {
      "cell_type": "code",
      "metadata": {
        "id": "vNX3vf3vNU29"
      },
      "source": [
        "from sklearn.metrics import mean_squared_error\n",
        "rmse = np.sqrt(mean_squared_error(y_valid, y_pred))\n",
        "print('예측성능 비교지표 RMSE: %.3f' % rmse)"
      ],
      "execution_count": null,
      "outputs": []
    },
    {
      "cell_type": "code",
      "metadata": {
        "id": "s9SfNf_PmczV"
      },
      "source": [
        "plt.plot(y_pred)"
      ],
      "execution_count": null,
      "outputs": []
    },
    {
      "cell_type": "markdown",
      "metadata": {
        "id": "Fu87y6RAxvL-"
      },
      "source": [
        "## RNN 모델링 : 층 더 쌓아봄"
      ]
    },
    {
      "cell_type": "code",
      "metadata": {
        "id": "hQbmOVbtxuHc"
      },
      "source": [
        "import tensorflow as tf\n",
        "from tensorflow import keras\n",
        "\n",
        "model = keras.models.Sequential([\n",
        "    keras.layers.SimpleRNN(24, return_sequences=True, input_shape=(X_train.shape[1], X_train.shape[2])),\n",
        "    keras.layers.SimpleRNN(24, return_sequences=True),\n",
        "    keras.layers.SimpleRNN(24),\n",
        "    keras.layers.Dense(1)\n",
        "])\n",
        "\n",
        "model.compile(loss=\"mse\", optimizer=\"SGD\")\n",
        "history = model.fit(X_train, y_train, epochs=20,validation_data=(X_valid, y_valid))\n",
        "\n",
        "model.summary()"
      ],
      "execution_count": null,
      "outputs": []
    },
    {
      "cell_type": "code",
      "metadata": {
        "id": "LIH-GqxIzPWq"
      },
      "source": [
        "plt.plot(history.history['loss'], label='train')\n",
        "plt.plot(history.history['val_loss'], label='valid')\n",
        "plt.legend()\n",
        "plt.show()"
      ],
      "execution_count": null,
      "outputs": []
    },
    {
      "cell_type": "code",
      "metadata": {
        "id": "0UsqwcOpK-m9"
      },
      "source": [
        "y_pred = model.predict(X_valid)\n",
        "y_pred"
      ],
      "execution_count": null,
      "outputs": []
    },
    {
      "cell_type": "code",
      "metadata": {
        "id": "NOIZjptCzPZ5"
      },
      "source": [
        "model.evaluate(X_valid, y_valid)"
      ],
      "execution_count": null,
      "outputs": []
    },
    {
      "cell_type": "code",
      "metadata": {
        "id": "EEjwVKhHPx5E"
      },
      "source": [
        "from sklearn.metrics import mean_squared_error\n",
        "rmse = np.sqrt(mean_squared_error(y_valid, y_pred))\n",
        "print('예측성능 비교지표 RMSE: %.3f' % rmse)"
      ],
      "execution_count": null,
      "outputs": []
    },
    {
      "cell_type": "markdown",
      "metadata": {
        "id": "mzL939uWtjS2"
      },
      "source": [
        "## 다변량 RNN"
      ]
    },
    {
      "cell_type": "code",
      "source": [
        "train_values = train_mer.values[:,:]\n",
        "train_values "
      ],
      "metadata": {
        "colab": {
          "base_uri": "https://localhost:8080/"
        },
        "id": "ri2VuoeBPmXH",
        "outputId": "2d438e79-c161-4d78-e9a6-7ddf10ab6567"
      },
      "execution_count": null,
      "outputs": [
        {
          "output_type": "execute_result",
          "data": {
            "text/plain": [
              "array([[ 1.000000e+00,  0.000000e+00,  2.013000e+03, ..., -3.200000e+00,\n",
              "         1.071300e+03,  2.497129e+03],\n",
              "       [ 2.000000e+00,  0.000000e+00,  2.013000e+03, ..., -3.200000e+00,\n",
              "         1.071300e+03,  2.363265e+03],\n",
              "       [ 3.000000e+00,  0.000000e+00,  2.013000e+03, ..., -3.200000e+00,\n",
              "         1.071300e+03,  2.258505e+03],\n",
              "       ...,\n",
              "       [ 2.200000e+01,  6.000000e+00,  2.017000e+03, ...,  2.100000e+00,\n",
              "         1.076000e+03,  5.062870e+02],\n",
              "       [ 2.300000e+01,  6.000000e+00,  2.017000e+03, ...,  2.100000e+00,\n",
              "         1.076000e+03,  4.706380e+02],\n",
              "       [ 2.400000e+01,  6.000000e+00,  2.017000e+03, ...,  2.100000e+00,\n",
              "         1.076000e+03,  4.446180e+02]])"
            ]
          },
          "metadata": {},
          "execution_count": 32
        }
      ]
    },
    {
      "cell_type": "code",
      "metadata": {
        "id": "4N9dz00ewQoy"
      },
      "source": [
        "#train = pd.concat([train_mer,val_mer],axis=0)\n",
        "#train.shape\n",
        "#train.reshape(train.shape[0],1,train,shape[1])"
      ],
      "execution_count": null,
      "outputs": []
    },
    {
      "cell_type": "code",
      "metadata": {
        "id": "liVYhJ_ptqQJ"
      },
      "source": [
        "#train data 정규화\n",
        "from sklearn.preprocessing import LabelEncoder\n",
        "encoder = LabelEncoder()\n",
        "\n",
        "from sklearn.preprocessing import MinMaxScaler\n",
        "scaler = MinMaxScaler(feature_range=(0, 1))\n",
        "scaled = scaler.fit_transform(train_values)"
      ],
      "execution_count": null,
      "outputs": []
    },
    {
      "cell_type": "code",
      "metadata": {
        "id": "dWglCyKm1SN4"
      },
      "source": [
        "# train data x,y 분할\n",
        "X_data = scaled[:,:-1]\n",
        "y_data = scaled[:, -1]\n",
        "\n",
        "X_train = X_data[:300000]\n",
        "y_train = y_data[:300000]\n",
        "X_valid = X_data[300000:]\n",
        "y_valid = y_data[300000:]"
      ],
      "execution_count": null,
      "outputs": []
    },
    {
      "cell_type": "code",
      "metadata": {
        "id": "FjjHUmCI1SOJ"
      },
      "source": [
        "#train data, x_test data reshape\n",
        "X_train = X_train.reshape(X_train.shape[0],1,X_train.shape[1])\n",
        "X_valid = X_valid.reshape(X_valid.shape[0],1, X_valid.shape[1])"
      ],
      "execution_count": null,
      "outputs": []
    },
    {
      "cell_type": "code",
      "metadata": {
        "id": "Rnd4wnyH1SOK",
        "colab": {
          "base_uri": "https://localhost:8080/"
        },
        "outputId": "0513e342-d49d-4333-be67-3c2b198b9fd9"
      },
      "source": [
        "print('X_train.shape : ', X_train.shape)\n",
        "print('y_train.shape : ', y_train.shape)\n",
        "print('X_valid.shape : ', X_valid.shape)\n",
        "print('y_valid.shape : ', y_valid.shape)"
      ],
      "execution_count": null,
      "outputs": [
        {
          "output_type": "stream",
          "name": "stdout",
          "text": [
            "X_train.shape :  (300000, 1, 10)\n",
            "y_train.shape :  (300000,)\n",
            "X_valid.shape :  (6768, 1, 10)\n",
            "y_valid.shape :  (6768,)\n"
          ]
        }
      ]
    },
    {
      "cell_type": "code",
      "metadata": {
        "id": "0zI0zkkuxjoC",
        "colab": {
          "base_uri": "https://localhost:8080/"
        },
        "outputId": "675908b9-b69e-444b-8f7e-faa557af8124"
      },
      "source": [
        "#다변량 RNN\n",
        "\n",
        "import tensorflow as tf\n",
        "from tensorflow import keras\n",
        "\n",
        "model = keras.models.Sequential([\n",
        "    keras.layers.SimpleRNN(1, input_shape=(X_train.shape[1], X_train.shape[2]))\n",
        "])\n",
        "\n",
        "model.compile(loss=\"mse\", optimizer='SGD')\n",
        "history = model.fit(X_train, y_train, epochs=20,validation_data=(X_valid, y_valid))\n",
        "\n",
        "model.summary()"
      ],
      "execution_count": null,
      "outputs": [
        {
          "output_type": "stream",
          "name": "stdout",
          "text": [
            "Epoch 1/20\n",
            "9375/9375 [==============================] - 14s 1ms/step - loss: 0.0071 - val_loss: 0.0111\n",
            "Epoch 2/20\n",
            "9375/9375 [==============================] - 13s 1ms/step - loss: 0.0039 - val_loss: 0.0110\n",
            "Epoch 3/20\n",
            "9375/9375 [==============================] - 13s 1ms/step - loss: 0.0039 - val_loss: 0.0111\n",
            "Epoch 4/20\n",
            "9375/9375 [==============================] - 13s 1ms/step - loss: 0.0039 - val_loss: 0.0111\n",
            "Epoch 5/20\n",
            "9375/9375 [==============================] - 13s 1ms/step - loss: 0.0039 - val_loss: 0.0111\n",
            "Epoch 6/20\n",
            "9375/9375 [==============================] - 13s 1ms/step - loss: 0.0039 - val_loss: 0.0111\n",
            "Epoch 7/20\n",
            "9375/9375 [==============================] - 13s 1ms/step - loss: 0.0039 - val_loss: 0.0111\n",
            "Epoch 8/20\n",
            "9375/9375 [==============================] - 13s 1ms/step - loss: 0.0039 - val_loss: 0.0111\n",
            "Epoch 9/20\n",
            "9375/9375 [==============================] - 13s 1ms/step - loss: 0.0039 - val_loss: 0.0111\n",
            "Epoch 10/20\n",
            "9375/9375 [==============================] - 13s 1ms/step - loss: 0.0039 - val_loss: 0.0111\n",
            "Epoch 11/20\n",
            "9375/9375 [==============================] - 13s 1ms/step - loss: 0.0039 - val_loss: 0.0111\n",
            "Epoch 12/20\n",
            "9375/9375 [==============================] - 13s 1ms/step - loss: 0.0039 - val_loss: 0.0111\n",
            "Epoch 13/20\n",
            "9375/9375 [==============================] - 13s 1ms/step - loss: 0.0039 - val_loss: 0.0111\n",
            "Epoch 14/20\n",
            "9375/9375 [==============================] - 13s 1ms/step - loss: 0.0039 - val_loss: 0.0111\n",
            "Epoch 15/20\n",
            "9375/9375 [==============================] - 13s 1ms/step - loss: 0.0039 - val_loss: 0.0111\n",
            "Epoch 16/20\n",
            "9375/9375 [==============================] - 13s 1ms/step - loss: 0.0039 - val_loss: 0.0111\n",
            "Epoch 17/20\n",
            "9375/9375 [==============================] - 13s 1ms/step - loss: 0.0039 - val_loss: 0.0111\n",
            "Epoch 18/20\n",
            "9375/9375 [==============================] - 13s 1ms/step - loss: 0.0039 - val_loss: 0.0111\n",
            "Epoch 19/20\n",
            "9375/9375 [==============================] - 13s 1ms/step - loss: 0.0039 - val_loss: 0.0111\n",
            "Epoch 20/20\n",
            "9375/9375 [==============================] - 13s 1ms/step - loss: 0.0039 - val_loss: 0.0111\n",
            "Model: \"sequential_1\"\n",
            "_________________________________________________________________\n",
            " Layer (type)                Output Shape              Param #   \n",
            "=================================================================\n",
            " simple_rnn_1 (SimpleRNN)    (None, 1)                 12        \n",
            "                                                                 \n",
            "=================================================================\n",
            "Total params: 12\n",
            "Trainable params: 12\n",
            "Non-trainable params: 0\n",
            "_________________________________________________________________\n"
          ]
        }
      ]
    },
    {
      "cell_type": "code",
      "metadata": {
        "colab": {
          "base_uri": "https://localhost:8080/",
          "height": 265
        },
        "id": "tZguzR1OU3zK",
        "outputId": "011e57a6-319c-4181-805c-f50e55761bc3"
      },
      "source": [
        "plt.plot(history.history['loss'], label='train')\n",
        "plt.plot(history.history['val_loss'], label='valid')\n",
        "plt.legend()\n",
        "plt.show()"
      ],
      "execution_count": null,
      "outputs": [
        {
          "output_type": "display_data",
          "data": {
            "image/png": "[encoded data removed]",
            "text/plain": [
              "<Figure size 432x288 with 1 Axes>"
            ]
          },
          "metadata": {
            "needs_background": "light"
          }
        }
      ]
    },
    {
      "cell_type": "code",
      "metadata": {
        "colab": {
          "base_uri": "https://localhost:8080/"
        },
        "id": "SVeepvsGKYfp",
        "outputId": "7ecdd89a-c92f-43ec-ed32-646c4e9468fe"
      },
      "source": [
        "model.evaluate(X_valid, y_valid)"
      ],
      "execution_count": null,
      "outputs": [
        {
          "output_type": "stream",
          "name": "stdout",
          "text": [
            "212/212 [==============================] - 0s 1ms/step - loss: 0.0111\n"
          ]
        },
        {
          "output_type": "execute_result",
          "data": {
            "text/plain": [
              "0.011070776730775833"
            ]
          },
          "metadata": {},
          "execution_count": 40
        }
      ]
    },
    {
      "cell_type": "code",
      "metadata": {
        "id": "KwaqcqHosKiC"
      },
      "source": [
        "y_pred = model.predict(X_valid)"
      ],
      "execution_count": null,
      "outputs": []
    },
    {
      "cell_type": "code",
      "source": [
        "x_train = X_train.reshape(X_train.shape[0],X_train.shape[2])\n",
        "x_valid = X_valid.reshape(X_valid.shape[0],X_valid.shape[2])\n",
        "print(x_train.shape, y_train.shape)"
      ],
      "metadata": {
        "id": "RD6Rpr85btTC",
        "colab": {
          "base_uri": "https://localhost:8080/"
        },
        "outputId": "451284f8-9367-4a8f-93e8-555b3b6a1a6c"
      },
      "execution_count": null,
      "outputs": [
        {
          "output_type": "stream",
          "name": "stdout",
          "text": [
            "(300000, 10) (300000,)\n"
          ]
        }
      ]
    },
    {
      "cell_type": "code",
      "source": [
        "original_train = np.concatenate([x_train,y_train.reshape(-1,1)],axis=1)\n",
        "print(original_train.shape)\n",
        "original_valid = np.concatenate([x_valid, y_valid.reshape(-1,1)],axis=1)\n",
        "print(original_valid.shape)\n",
        "\n",
        "original = np.concatenate([original_train,original_valid],axis=0)\n",
        "print(original.shape)\n",
        "\n",
        "y_ori = scaler.inverse_transform(original)[:,-1]\n",
        "y_ori\n",
        "#y_ori_train = y_ori[:300000]\n",
        "#y_ori_valid = y_ori[300000:]"
      ],
      "metadata": {
        "colab": {
          "base_uri": "https://localhost:8080/"
        },
        "id": "nmRFcB6jXSOd",
        "outputId": "2c465814-922a-43b7-e9d1-65288014edef"
      },
      "execution_count": null,
      "outputs": [
        {
          "output_type": "stream",
          "name": "stdout",
          "text": [
            "(300000, 11)\n",
            "(6768, 11)\n",
            "(306768, 11)\n"
          ]
        },
        {
          "output_type": "execute_result",
          "data": {
            "text/plain": [
              "array([2497.129, 2363.265, 2258.505, ...,  506.287,  470.638,  444.618])"
            ]
          },
          "metadata": {},
          "execution_count": 18
        }
      ]
    },
    {
      "cell_type": "code",
      "source": [
        "predict_valid = np.concatenate([x_valid, y_pred.reshape(-1,1)],axis=1)\n",
        "print(predict_valid.shape)\n",
        "\n",
        "predict_y = np.concatenate([original_train, predict_valid],axis=0)\n",
        "print(predict_y.shape)\n",
        "\n",
        "y_pre = scaler.inverse_transform(predict_y)[:,-1]\n",
        "y_pre"
      ],
      "metadata": {
        "id": "nmbPNACubktK",
        "colab": {
          "base_uri": "https://localhost:8080/"
        },
        "outputId": "3669c866-3137-40c7-b268-65ce420438bb"
      },
      "execution_count": null,
      "outputs": [
        {
          "output_type": "stream",
          "name": "stdout",
          "text": [
            "(6768, 11)\n",
            "(306768, 11)\n"
          ]
        },
        {
          "output_type": "execute_result",
          "data": {
            "text/plain": [
              "array([2497.129     , 2363.265     , 2258.505     , ..., 1952.95108382,\n",
              "       1966.22736734, 1979.49846872])"
            ]
          },
          "metadata": {},
          "execution_count": 19
        }
      ]
    },
    {
      "cell_type": "code",
      "source": [
        "print(y_ori[-20:])\n",
        "print(y_pre[-20:])"
      ],
      "metadata": {
        "colab": {
          "base_uri": "https://localhost:8080/"
        },
        "id": "B23DJH63bF-d",
        "outputId": "b17beeb0-80cf-4d37-88cb-7025272fefa1"
      },
      "execution_count": null,
      "outputs": [
        {
          "output_type": "stream",
          "name": "stdout",
          "text": [
            "[375.626 367.902 393.266 463.577 535.922 555.973 526.637 461.172 429.132\n",
            " 417.549 404.711 396.05  419.335 475.64  520.804 517.264 530.896 506.287\n",
            " 470.638 444.618]\n",
            "[1726.47642559 1739.83735064 1753.19378451 1766.5457272  1779.89248775\n",
            " 1793.23475711 1806.57218982 1819.90444039 1833.23185431 1846.55391335\n",
            " 1859.87182668 1873.18386693 1886.49141599 1899.79378292 1913.09079498\n",
            " 1926.38279764 1939.66944543 1952.95108382 1966.22736734 1979.49846872]\n"
          ]
        }
      ]
    },
    {
      "cell_type": "code",
      "source": [
        "nmae(y_ori[-20:], y_pre[-20:])"
      ],
      "metadata": {
        "id": "wvsDEOQJl0Ln",
        "colab": {
          "base_uri": "https://localhost:8080/"
        },
        "outputId": "9075e7cb-a6e9-4a9e-b7c2-a95e68e879a9"
      },
      "execution_count": null,
      "outputs": [
        {
          "output_type": "execute_result",
          "data": {
            "text/plain": [
              "3.0784102085572576"
            ]
          },
          "metadata": {},
          "execution_count": 21
        }
      ]
    },
    {
      "cell_type": "code",
      "metadata": {
        "colab": {
          "base_uri": "https://localhost:8080/",
          "height": 283
        },
        "id": "SYnEtqdwsaxt",
        "outputId": "82e3d307-5da6-47a4-939e-a0af70dc5257"
      },
      "source": [
        "plt.plot(y_ori[-20:], label='original')\n",
        "plt.plot(y_pre[-20:], label='predict')\n",
        "plt.legend()"
      ],
      "execution_count": null,
      "outputs": [
        {
          "output_type": "execute_result",
          "data": {
            "text/plain": [
              "<matplotlib.legend.Legend at 0x7fbc6e4e3b10>"
            ]
          },
          "metadata": {},
          "execution_count": 22
        },
        {
          "output_type": "display_data",
          "data": {
            "image/png": "[encoded data removed]",
            "text/plain": [
              "<Figure size 432x288 with 1 Axes>"
            ]
          },
          "metadata": {
            "needs_background": "light"
          }
        }
      ]
    },
    {
      "cell_type": "code",
      "source": [
        "plt.plot(y_pre[-20:], label='predict')\n",
        "plt.legend()"
      ],
      "metadata": {
        "colab": {
          "base_uri": "https://localhost:8080/",
          "height": 283
        },
        "id": "qPU7WgRdSgiJ",
        "outputId": "5d47cb80-4a66-498e-c8aa-6077fa00f45a"
      },
      "execution_count": null,
      "outputs": [
        {
          "output_type": "execute_result",
          "data": {
            "text/plain": [
              "<matplotlib.legend.Legend at 0x7fbc6e54b450>"
            ]
          },
          "metadata": {},
          "execution_count": 23
        },
        {
          "output_type": "display_data",
          "data": {
            "image/png": "[encoded data removed]",
            "text/plain": [
              "<Figure size 432x288 with 1 Axes>"
            ]
          },
          "metadata": {
            "needs_background": "light"
          }
        }
      ]
    },
    {
      "cell_type": "code",
      "source": [
        "test_values = test.values\n",
        "#scaler = MinMaxScaler(feature_range=(0, 1))\n",
        "#test_values_sc = scaler.fit_transform(test_values)\n",
        "#test_values = test_values_sc.reshape(test_values_sc.shape[0],1,test_values_sc.shape[1])\n",
        "print(test_values.shape)"
      ],
      "metadata": {
        "colab": {
          "base_uri": "https://localhost:8080/"
        },
        "id": "F3sj7S2SS3aX",
        "outputId": "cfad45a7-7e61-4356-f19f-b52b6fb880c5"
      },
      "execution_count": null,
      "outputs": [
        {
          "output_type": "stream",
          "name": "stdout",
          "text": [
            "(15120, 10)\n"
          ]
        }
      ]
    },
    {
      "cell_type": "code",
      "source": [
        "\n",
        "t_reshape= test_values.reshape(test_values.shape[0],1,test_values.shape[1])\n",
        "t_reshape[:test_values.shape[0]].shape"
      ],
      "metadata": {
        "colab": {
          "base_uri": "https://localhost:8080/"
        },
        "id": "WuA_V7-PbmYX",
        "outputId": "58dbb044-fbd2-415f-bbcf-159ecf41ac28"
      },
      "execution_count": null,
      "outputs": [
        {
          "output_type": "execute_result",
          "data": {
            "text/plain": [
              "(321888, 1, 11)"
            ]
          },
          "metadata": {},
          "execution_count": 70
        }
      ]
    },
    {
      "cell_type": "code",
      "source": [
        "from sklearn.preprocessing import MinMaxScaler\n",
        "\n",
        "scaler = MinMaxScaler(feature_range=(0, 1))\n",
        "scaled = scaler.fit_transform(test_values)"
      ],
      "metadata": {
        "id": "M3a9ESmagznL"
      },
      "execution_count": null,
      "outputs": []
    },
    {
      "cell_type": "code",
      "source": [
        "train = scaled[:test_values.shape[0]]\n",
        "test = scaled[test_values.shape[0]:]\n",
        "\n",
        "train.shape"
      ],
      "metadata": {
        "colab": {
          "base_uri": "https://localhost:8080/"
        },
        "id": "G7Eohz9cgz56",
        "outputId": "5702c894-6daa-4499-8356-a1836d9c740c"
      },
      "execution_count": null,
      "outputs": [
        {
          "output_type": "execute_result",
          "data": {
            "text/plain": [
              "(321888, 11)"
            ]
          },
          "metadata": {},
          "execution_count": 74
        }
      ]
    },
    {
      "cell_type": "code",
      "source": [
        "test.shape"
      ],
      "metadata": {
        "colab": {
          "base_uri": "https://localhost:8080/"
        },
        "id": "IeNXLmfXgz8d",
        "outputId": "00028216-6484-42d8-fa53-b6a4e3e190c8"
      },
      "execution_count": null,
      "outputs": [
        {
          "output_type": "execute_result",
          "data": {
            "text/plain": [
              "(0, 11)"
            ]
          },
          "metadata": {},
          "execution_count": 75
        }
      ]
    },
    {
      "cell_type": "code",
      "source": [
        "test_values.shape[0]"
      ],
      "metadata": {
        "colab": {
          "base_uri": "https://localhost:8080/"
        },
        "id": "exfck_Ndf_RC",
        "outputId": "960463f0-75bc-4cbb-dfb6-5c758d111703"
      },
      "execution_count": null,
      "outputs": [
        {
          "output_type": "execute_result",
          "data": {
            "text/plain": [
              "321888"
            ]
          },
          "metadata": {},
          "execution_count": 76
        }
      ]
    },
    {
      "cell_type": "code",
      "source": [
        "\n",
        "\n",
        "\n",
        "\n",
        "y_pred_test = model.predict(t_reshape)\n",
        "print(y_pred_test.shape)\n",
        "y_pred_test"
      ],
      "metadata": {
        "id": "eM0QB0hURSh2",
        "colab": {
          "base_uri": "https://localhost:8080/"
        },
        "outputId": "85285523-320a-4ca2-d389-e1abfbcaf09f"
      },
      "execution_count": null,
      "outputs": [
        {
          "output_type": "stream",
          "name": "stdout",
          "text": [
            "(15120, 1)\n"
          ]
        },
        {
          "output_type": "execute_result",
          "data": {
            "text/plain": [
              "array([[-1.],\n",
              "       [-1.],\n",
              "       [-1.],\n",
              "       ...,\n",
              "       [-1.],\n",
              "       [-1.],\n",
              "       [-1.]], dtype=float32)"
            ]
          },
          "metadata": {},
          "execution_count": 24
        }
      ]
    },
    {
      "cell_type": "code",
      "source": [
        ""
      ],
      "metadata": {
        "id": "Szao8GV1fDcg"
      },
      "execution_count": null,
      "outputs": []
    },
    {
      "cell_type": "code",
      "source": [
        "yhat = model.predict(test_values)\n",
        "yhat"
      ],
      "metadata": {
        "id": "IkEweUHaaL1R"
      },
      "execution_count": null,
      "outputs": []
    },
    {
      "cell_type": "code",
      "source": [
        "# make a prediction\n",
        "\n",
        "yhat = model.predict(test_X)\n",
        "test_X = test_X.reshape((test_X.shape[0], test_X.shape[2]))\n",
        "# invert scaling for forecast\n",
        "inv_yhat = concatenate((yhat, test_X[:, 1:]), axis=1)\n",
        "inv_yhat = scaler.inverse_transform(inv_yhat)\n",
        "inv_yhat = inv_yhat[:,0]\n",
        "# invert scaling for actual\n",
        "test_y = test_y.reshape((len(test_y), 1))\n",
        "inv_y = concatenate((test_y, test_X[:, 1:]), axis=1)\n",
        "inv_y = scaler.inverse_transform(inv_y)\n",
        "inv_y = inv_y[:,0]"
      ],
      "metadata": {
        "id": "s6hpqgT4aI3l"
      },
      "execution_count": null,
      "outputs": []
    },
    {
      "cell_type": "code",
      "source": [
        "plt.plot(y_pred_test)"
      ],
      "metadata": {
        "colab": {
          "base_uri": "https://localhost:8080/",
          "height": 283
        },
        "id": "hjlVDO5BdUxJ",
        "outputId": "0ecdabb6-7742-4426-81b6-26105781c2ed"
      },
      "execution_count": null,
      "outputs": [
        {
          "output_type": "execute_result",
          "data": {
            "text/plain": [
              "[<matplotlib.lines.Line2D at 0x7f0acd5d2fd0>]"
            ]
          },
          "metadata": {},
          "execution_count": 183
        },
        {
          "output_type": "display_data",
          "data": {
            "image/png": "[encoded data removed]",
            "text/plain": [
              "<Figure size 432x288 with 1 Axes>"
            ]
          },
          "metadata": {
            "needs_background": "light"
          }
        }
      ]
    },
    {
      "cell_type": "code",
      "source": [
        ""
      ],
      "metadata": {
        "colab": {
          "base_uri": "https://localhost:8080/"
        },
        "id": "Rl4nhb-ofHhg",
        "outputId": "09f8e32b-4331-4070-8b85-a106b8d95576"
      },
      "execution_count": null,
      "outputs": [
        {
          "output_type": "execute_result",
          "data": {
            "text/plain": [
              "(15120, 10)"
            ]
          },
          "metadata": {},
          "execution_count": 163
        }
      ]
    },
    {
      "cell_type": "code",
      "source": [
        "test_values.reshape(test_values.shape[0],test_values.shape[2])"
      ],
      "metadata": {
        "colab": {
          "base_uri": "https://localhost:8080/"
        },
        "id": "Jtxy9l-rfvaP",
        "outputId": "7e561e1d-9a9b-4fea-f4e1-b9f2f29b4621"
      },
      "execution_count": null,
      "outputs": [
        {
          "output_type": "execute_result",
          "data": {
            "text/plain": [
              "array([[0.        , 0.        , 0.        , ..., 0.26832353, 0.        ,\n",
              "        0.        ],\n",
              "       [0.04347826, 0.        , 0.        , ..., 0.26832353, 0.        ,\n",
              "        0.        ],\n",
              "       [0.08695652, 0.        , 0.        , ..., 0.26832353, 0.        ,\n",
              "        0.        ],\n",
              "       ...,\n",
              "       [0.91304348, 1.        , 0.        , ..., 0.95312533, 0.25828825,\n",
              "        0.        ],\n",
              "       [0.95652174, 1.        , 0.        , ..., 0.95312533, 0.25828825,\n",
              "        0.        ],\n",
              "       [1.        , 1.        , 0.        , ..., 0.95312533, 0.25828825,\n",
              "        0.        ]])"
            ]
          },
          "metadata": {},
          "execution_count": 170
        }
      ]
    },
    {
      "cell_type": "markdown",
      "source": [
        "## 다변량 LSTM"
      ],
      "metadata": {
        "id": "Tj1lO8wzQj1c"
      }
    },
    {
      "cell_type": "code",
      "metadata": {
        "id": "6CeXC_XXwQtg"
      },
      "source": [
        "import tensorflow as tf\n",
        "from tensorflow import keras\n",
        "from keras.models import Sequential\n",
        "from keras.layers import Dense, SimpleRNN, GRU, LSTM\n",
        "\n",
        "model = Sequential()\n",
        "model.add(LSTM(10, input_shape=(X_train.shape[0], X_train.shape[2])))\n",
        "model.add(Dense(1))\n",
        "\n",
        "model.compile(loss=\"mse\", optimizer=\"SGD\")\n",
        "history = model.fit(X_train, y_train, epochs=20)#,validation_data=(X_valid, y_valid))\n",
        "\n",
        "model.summary()"
      ],
      "execution_count": null,
      "outputs": []
    },
    {
      "cell_type": "code",
      "metadata": {
        "id": "_KcXny7Mx3P3"
      },
      "source": [
        "plt.plot(history.history['loss'], label='train')\n",
        "plt.plot(history.history['val_loss'], label='valid')\n",
        "plt.legend()\n",
        "plt.show()"
      ],
      "execution_count": null,
      "outputs": []
    },
    {
      "cell_type": "code",
      "metadata": {
        "id": "dXvqZBQKx3P4"
      },
      "source": [
        "y_pred = model.predict(X_valid)\n",
        "y_pred"
      ],
      "execution_count": null,
      "outputs": []
    },
    {
      "cell_type": "code",
      "metadata": {
        "id": "KL-vnYLwx3P4"
      },
      "source": [
        "model.evaluate(X_valid, y_valid)"
      ],
      "execution_count": null,
      "outputs": []
    },
    {
      "cell_type": "code",
      "metadata": {
        "id": "J4c4Zc_px3P5"
      },
      "source": [
        ""
      ],
      "execution_count": null,
      "outputs": []
    },
    {
      "cell_type": "code",
      "source": [
        ""
      ],
      "metadata": {
        "id": "A-Wb1ZADMghQ",
        "colab": {
          "base_uri": "https://localhost:8080/"
        },
        "outputId": "582fcbe7-e597-4e91-cf00-c9d38069151b"
      },
      "execution_count": null,
      "outputs": [
        {
          "output_type": "execute_result",
          "data": {
            "text/plain": [
              "(15120, 1, 10)"
            ]
          },
          "metadata": {},
          "execution_count": 38
        }
      ]
    },
    {
      "cell_type": "code",
      "source": [
        ""
      ],
      "metadata": {
        "colab": {
          "base_uri": "https://localhost:8080/"
        },
        "id": "099t4YhbM0sq",
        "outputId": "d13c65e7-7aa2-418e-ce94-62bf8756dbeb"
      },
      "execution_count": null,
      "outputs": [
        {
          "output_type": "execute_result",
          "data": {
            "text/plain": [
              "(15120, 1, 10)"
            ]
          },
          "metadata": {},
          "execution_count": 37
        }
      ]
    },
    {
      "cell_type": "code",
      "source": [
        "y_pred = model.predict(test_values)"
      ],
      "metadata": {
        "id": "oDwAWPM4shK_"
      },
      "execution_count": null,
      "outputs": []
    },
    {
      "cell_type": "markdown",
      "metadata": {
        "id": "Or3FK7xNv_L-"
      },
      "source": [
        "## 기타 "
      ]
    },
    {
      "cell_type": "code",
      "metadata": {
        "id": "VEMnL98FzyDD"
      },
      "source": [
        "import pandas as pd\n",
        "import numpy as np\n",
        "\n",
        "\n",
        "def nmae(true_df, pred_df):\n",
        "    target_idx = true_df.iloc[:,0]\n",
        "    pred_df = pred_df[pred_df.iloc[:,0].isin(target_idx)]\n",
        "    pred_df = pred_df.sort_values(by=[pred_df.columns[0]], ascending=[True])\n",
        "    true_df = true_df.sort_values(by=[true_df.columns[0]], ascending=[True])\n",
        "    \n",
        "    true = true_df.iloc[:,1].to_numpy()\n",
        "    pred = pred_df.iloc[:,1].to_numpy()\n",
        "    \n",
        "    score = np.mean((np.abs(true-pred))/true)\n",
        "    \n",
        "    return score"
      ],
      "execution_count": null,
      "outputs": []
    }
  ]
}
