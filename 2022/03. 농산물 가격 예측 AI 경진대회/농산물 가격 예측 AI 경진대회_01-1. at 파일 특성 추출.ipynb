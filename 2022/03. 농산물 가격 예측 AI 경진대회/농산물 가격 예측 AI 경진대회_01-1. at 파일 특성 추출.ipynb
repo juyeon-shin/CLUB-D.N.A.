{
 "cells": [
  {
   "cell_type": "markdown",
   "id": "365e542e",
   "metadata": {},
   "source": [
    "## 농산물 가격 예측 AI 경진대회 at 파일 추출\n",
    "### 0. 패키지 & 데이터 불러오기"
   ]
  },
  {
   "cell_type": "code",
   "execution_count": 4,
   "id": "5236fdf4",
   "metadata": {},
   "outputs": [],
   "source": [
    "import pandas as pd\n",
    "import numpy as np\n",
    "import datetime as dt\n",
    "import glob\n",
    "\n",
    "import seaborn as sns\n",
    "import matplotlib.pyplot as plt"
   ]
  },
  {
   "cell_type": "code",
   "execution_count": 5,
   "id": "6f11b3de",
   "metadata": {},
   "outputs": [],
   "source": [
    "# 한글 폰트 사용을 위해서 세팅\n",
    "from matplotlib import font_manager, rc\n",
    "font_path = \"C:/Windows/Fonts/NGULIM.TTF\"\n",
    "font = font_manager.FontProperties(fname=font_path).get_name()\n",
    "rc('font', family=font)"
   ]
  },
  {
   "cell_type": "code",
   "execution_count": 6,
   "id": "985c520c",
   "metadata": {
    "scrolled": true
   },
   "outputs": [
    {
     "data": {
      "text/plain": [
       "['C:/Users/juyeo/Desktop/03. 농산물 가격예측 AI 경진대회/public_data/train_AT_TSALET_ALL\\\\AT_TSALET_ALL_201601.csv',\n",
       " 'C:/Users/juyeo/Desktop/03. 농산물 가격예측 AI 경진대회/public_data/train_AT_TSALET_ALL\\\\AT_TSALET_ALL_201602.csv',\n",
       " 'C:/Users/juyeo/Desktop/03. 농산물 가격예측 AI 경진대회/public_data/train_AT_TSALET_ALL\\\\AT_TSALET_ALL_201603.csv',\n",
       " 'C:/Users/juyeo/Desktop/03. 농산물 가격예측 AI 경진대회/public_data/train_AT_TSALET_ALL\\\\AT_TSALET_ALL_201604.csv',\n",
       " 'C:/Users/juyeo/Desktop/03. 농산물 가격예측 AI 경진대회/public_data/train_AT_TSALET_ALL\\\\AT_TSALET_ALL_201605.csv',\n",
       " 'C:/Users/juyeo/Desktop/03. 농산물 가격예측 AI 경진대회/public_data/train_AT_TSALET_ALL\\\\AT_TSALET_ALL_201606.csv',\n",
       " 'C:/Users/juyeo/Desktop/03. 농산물 가격예측 AI 경진대회/public_data/train_AT_TSALET_ALL\\\\AT_TSALET_ALL_201607.csv',\n",
       " 'C:/Users/juyeo/Desktop/03. 농산물 가격예측 AI 경진대회/public_data/train_AT_TSALET_ALL\\\\AT_TSALET_ALL_201608.csv',\n",
       " 'C:/Users/juyeo/Desktop/03. 농산물 가격예측 AI 경진대회/public_data/train_AT_TSALET_ALL\\\\AT_TSALET_ALL_201609.csv',\n",
       " 'C:/Users/juyeo/Desktop/03. 농산물 가격예측 AI 경진대회/public_data/train_AT_TSALET_ALL\\\\AT_TSALET_ALL_201610.csv',\n",
       " 'C:/Users/juyeo/Desktop/03. 농산물 가격예측 AI 경진대회/public_data/train_AT_TSALET_ALL\\\\AT_TSALET_ALL_201611.csv',\n",
       " 'C:/Users/juyeo/Desktop/03. 농산물 가격예측 AI 경진대회/public_data/train_AT_TSALET_ALL\\\\AT_TSALET_ALL_201612.csv',\n",
       " 'C:/Users/juyeo/Desktop/03. 농산물 가격예측 AI 경진대회/public_data/train_AT_TSALET_ALL\\\\AT_TSALET_ALL_201701.csv',\n",
       " 'C:/Users/juyeo/Desktop/03. 농산물 가격예측 AI 경진대회/public_data/train_AT_TSALET_ALL\\\\AT_TSALET_ALL_201702.csv',\n",
       " 'C:/Users/juyeo/Desktop/03. 농산물 가격예측 AI 경진대회/public_data/train_AT_TSALET_ALL\\\\AT_TSALET_ALL_201703.csv',\n",
       " 'C:/Users/juyeo/Desktop/03. 농산물 가격예측 AI 경진대회/public_data/train_AT_TSALET_ALL\\\\AT_TSALET_ALL_201704.csv',\n",
       " 'C:/Users/juyeo/Desktop/03. 농산물 가격예측 AI 경진대회/public_data/train_AT_TSALET_ALL\\\\AT_TSALET_ALL_201705.csv',\n",
       " 'C:/Users/juyeo/Desktop/03. 농산물 가격예측 AI 경진대회/public_data/train_AT_TSALET_ALL\\\\AT_TSALET_ALL_201706.csv',\n",
       " 'C:/Users/juyeo/Desktop/03. 농산물 가격예측 AI 경진대회/public_data/train_AT_TSALET_ALL\\\\AT_TSALET_ALL_201707.csv',\n",
       " 'C:/Users/juyeo/Desktop/03. 농산물 가격예측 AI 경진대회/public_data/train_AT_TSALET_ALL\\\\AT_TSALET_ALL_201708.csv',\n",
       " 'C:/Users/juyeo/Desktop/03. 농산물 가격예측 AI 경진대회/public_data/train_AT_TSALET_ALL\\\\AT_TSALET_ALL_201709.csv',\n",
       " 'C:/Users/juyeo/Desktop/03. 농산물 가격예측 AI 경진대회/public_data/train_AT_TSALET_ALL\\\\AT_TSALET_ALL_201710.csv',\n",
       " 'C:/Users/juyeo/Desktop/03. 농산물 가격예측 AI 경진대회/public_data/train_AT_TSALET_ALL\\\\AT_TSALET_ALL_201711.csv',\n",
       " 'C:/Users/juyeo/Desktop/03. 농산물 가격예측 AI 경진대회/public_data/train_AT_TSALET_ALL\\\\AT_TSALET_ALL_201712.csv',\n",
       " 'C:/Users/juyeo/Desktop/03. 농산물 가격예측 AI 경진대회/public_data/train_AT_TSALET_ALL\\\\AT_TSALET_ALL_201801.csv',\n",
       " 'C:/Users/juyeo/Desktop/03. 농산물 가격예측 AI 경진대회/public_data/train_AT_TSALET_ALL\\\\AT_TSALET_ALL_201802.csv',\n",
       " 'C:/Users/juyeo/Desktop/03. 농산물 가격예측 AI 경진대회/public_data/train_AT_TSALET_ALL\\\\AT_TSALET_ALL_201803.csv',\n",
       " 'C:/Users/juyeo/Desktop/03. 농산물 가격예측 AI 경진대회/public_data/train_AT_TSALET_ALL\\\\AT_TSALET_ALL_201804.csv',\n",
       " 'C:/Users/juyeo/Desktop/03. 농산물 가격예측 AI 경진대회/public_data/train_AT_TSALET_ALL\\\\AT_TSALET_ALL_201805.csv',\n",
       " 'C:/Users/juyeo/Desktop/03. 농산물 가격예측 AI 경진대회/public_data/train_AT_TSALET_ALL\\\\AT_TSALET_ALL_201806.csv',\n",
       " 'C:/Users/juyeo/Desktop/03. 농산물 가격예측 AI 경진대회/public_data/train_AT_TSALET_ALL\\\\AT_TSALET_ALL_201807.csv',\n",
       " 'C:/Users/juyeo/Desktop/03. 농산물 가격예측 AI 경진대회/public_data/train_AT_TSALET_ALL\\\\AT_TSALET_ALL_201808.csv',\n",
       " 'C:/Users/juyeo/Desktop/03. 농산물 가격예측 AI 경진대회/public_data/train_AT_TSALET_ALL\\\\AT_TSALET_ALL_201809.csv',\n",
       " 'C:/Users/juyeo/Desktop/03. 농산물 가격예측 AI 경진대회/public_data/train_AT_TSALET_ALL\\\\AT_TSALET_ALL_201810.csv',\n",
       " 'C:/Users/juyeo/Desktop/03. 농산물 가격예측 AI 경진대회/public_data/train_AT_TSALET_ALL\\\\AT_TSALET_ALL_201811.csv',\n",
       " 'C:/Users/juyeo/Desktop/03. 농산물 가격예측 AI 경진대회/public_data/train_AT_TSALET_ALL\\\\AT_TSALET_ALL_201812.csv',\n",
       " 'C:/Users/juyeo/Desktop/03. 농산물 가격예측 AI 경진대회/public_data/train_AT_TSALET_ALL\\\\AT_TSALET_ALL_201901.csv',\n",
       " 'C:/Users/juyeo/Desktop/03. 농산물 가격예측 AI 경진대회/public_data/train_AT_TSALET_ALL\\\\AT_TSALET_ALL_201902.csv',\n",
       " 'C:/Users/juyeo/Desktop/03. 농산물 가격예측 AI 경진대회/public_data/train_AT_TSALET_ALL\\\\AT_TSALET_ALL_201903.csv',\n",
       " 'C:/Users/juyeo/Desktop/03. 농산물 가격예측 AI 경진대회/public_data/train_AT_TSALET_ALL\\\\AT_TSALET_ALL_201904.csv',\n",
       " 'C:/Users/juyeo/Desktop/03. 농산물 가격예측 AI 경진대회/public_data/train_AT_TSALET_ALL\\\\AT_TSALET_ALL_201905.csv',\n",
       " 'C:/Users/juyeo/Desktop/03. 농산물 가격예측 AI 경진대회/public_data/train_AT_TSALET_ALL\\\\AT_TSALET_ALL_201906.csv',\n",
       " 'C:/Users/juyeo/Desktop/03. 농산물 가격예측 AI 경진대회/public_data/train_AT_TSALET_ALL\\\\AT_TSALET_ALL_201907.csv',\n",
       " 'C:/Users/juyeo/Desktop/03. 농산물 가격예측 AI 경진대회/public_data/train_AT_TSALET_ALL\\\\AT_TSALET_ALL_201908.csv',\n",
       " 'C:/Users/juyeo/Desktop/03. 농산물 가격예측 AI 경진대회/public_data/train_AT_TSALET_ALL\\\\AT_TSALET_ALL_201909.csv',\n",
       " 'C:/Users/juyeo/Desktop/03. 농산물 가격예측 AI 경진대회/public_data/train_AT_TSALET_ALL\\\\AT_TSALET_ALL_201910.csv',\n",
       " 'C:/Users/juyeo/Desktop/03. 농산물 가격예측 AI 경진대회/public_data/train_AT_TSALET_ALL\\\\AT_TSALET_ALL_201911.csv',\n",
       " 'C:/Users/juyeo/Desktop/03. 농산물 가격예측 AI 경진대회/public_data/train_AT_TSALET_ALL\\\\AT_TSALET_ALL_201912.csv',\n",
       " 'C:/Users/juyeo/Desktop/03. 농산물 가격예측 AI 경진대회/public_data/train_AT_TSALET_ALL\\\\AT_TSALET_ALL_202001.csv',\n",
       " 'C:/Users/juyeo/Desktop/03. 농산물 가격예측 AI 경진대회/public_data/train_AT_TSALET_ALL\\\\AT_TSALET_ALL_202002.csv',\n",
       " 'C:/Users/juyeo/Desktop/03. 농산물 가격예측 AI 경진대회/public_data/train_AT_TSALET_ALL\\\\AT_TSALET_ALL_202003.csv',\n",
       " 'C:/Users/juyeo/Desktop/03. 농산물 가격예측 AI 경진대회/public_data/train_AT_TSALET_ALL\\\\AT_TSALET_ALL_202004.csv',\n",
       " 'C:/Users/juyeo/Desktop/03. 농산물 가격예측 AI 경진대회/public_data/train_AT_TSALET_ALL\\\\AT_TSALET_ALL_202005.csv',\n",
       " 'C:/Users/juyeo/Desktop/03. 농산물 가격예측 AI 경진대회/public_data/train_AT_TSALET_ALL\\\\AT_TSALET_ALL_202006.csv',\n",
       " 'C:/Users/juyeo/Desktop/03. 농산물 가격예측 AI 경진대회/public_data/train_AT_TSALET_ALL\\\\AT_TSALET_ALL_202007.csv',\n",
       " 'C:/Users/juyeo/Desktop/03. 농산물 가격예측 AI 경진대회/public_data/train_AT_TSALET_ALL\\\\AT_TSALET_ALL_202008.csv',\n",
       " 'C:/Users/juyeo/Desktop/03. 농산물 가격예측 AI 경진대회/public_data/train_AT_TSALET_ALL\\\\AT_TSALET_ALL_202009.csv']"
      ]
     },
     "execution_count": 6,
     "metadata": {},
     "output_type": "execute_result"
    }
   ],
   "source": [
    "train_list= glob.glob('C:/Users/juyeo/Desktop/03. 농산물 가격예측 AI 경진대회/public_data/train_AT_TSALET_ALL/*.csv')\n",
    "train_list"
   ]
  },
  {
   "cell_type": "markdown",
   "id": "06cbcc50",
   "metadata": {},
   "source": [
    "### 1. 분석할 농산물 행만 추출"
   ]
  },
  {
   "cell_type": "code",
   "execution_count": 7,
   "id": "5b28e0e1",
   "metadata": {},
   "outputs": [
    {
     "ename": "KeyboardInterrupt",
     "evalue": "",
     "output_type": "error",
     "traceback": [
      "\u001b[1;31m---------------------------------------------------------------------------\u001b[0m",
      "\u001b[1;31mKeyboardInterrupt\u001b[0m                         Traceback (most recent call last)",
      "\u001b[1;32m~\\AppData\\Local\\Temp/ipykernel_8988/1185772500.py\u001b[0m in \u001b[0;36m<module>\u001b[1;34m\u001b[0m\n\u001b[0;32m      2\u001b[0m \u001b[1;33m\u001b[0m\u001b[0m\n\u001b[0;32m      3\u001b[0m \u001b[1;32mfor\u001b[0m \u001b[0mtrain\u001b[0m \u001b[1;32min\u001b[0m \u001b[0mtrain_list\u001b[0m\u001b[1;33m:\u001b[0m\u001b[1;33m\u001b[0m\u001b[1;33m\u001b[0m\u001b[0m\n\u001b[1;32m----> 4\u001b[1;33m     \u001b[0mcurrent_data\u001b[0m \u001b[1;33m=\u001b[0m \u001b[0mpd\u001b[0m\u001b[1;33m.\u001b[0m\u001b[0mread_csv\u001b[0m\u001b[1;33m(\u001b[0m\u001b[0mtrain\u001b[0m\u001b[1;33m)\u001b[0m\u001b[1;33m\u001b[0m\u001b[1;33m\u001b[0m\u001b[0m\n\u001b[0m\u001b[0;32m      5\u001b[0m     \u001b[0mcurrent_data\u001b[0m\u001b[1;33m.\u001b[0m\u001b[0mhead\u001b[0m\u001b[1;33m(\u001b[0m\u001b[1;33m)\u001b[0m\u001b[1;33m\u001b[0m\u001b[1;33m\u001b[0m\u001b[0m\n",
      "\u001b[1;32m~\\anaconda3\\lib\\site-packages\\pandas\\util\\_decorators.py\u001b[0m in \u001b[0;36mwrapper\u001b[1;34m(*args, **kwargs)\u001b[0m\n\u001b[0;32m    309\u001b[0m                     \u001b[0mstacklevel\u001b[0m\u001b[1;33m=\u001b[0m\u001b[0mstacklevel\u001b[0m\u001b[1;33m,\u001b[0m\u001b[1;33m\u001b[0m\u001b[1;33m\u001b[0m\u001b[0m\n\u001b[0;32m    310\u001b[0m                 )\n\u001b[1;32m--> 311\u001b[1;33m             \u001b[1;32mreturn\u001b[0m \u001b[0mfunc\u001b[0m\u001b[1;33m(\u001b[0m\u001b[1;33m*\u001b[0m\u001b[0margs\u001b[0m\u001b[1;33m,\u001b[0m \u001b[1;33m**\u001b[0m\u001b[0mkwargs\u001b[0m\u001b[1;33m)\u001b[0m\u001b[1;33m\u001b[0m\u001b[1;33m\u001b[0m\u001b[0m\n\u001b[0m\u001b[0;32m    312\u001b[0m \u001b[1;33m\u001b[0m\u001b[0m\n\u001b[0;32m    313\u001b[0m         \u001b[1;32mreturn\u001b[0m \u001b[0mwrapper\u001b[0m\u001b[1;33m\u001b[0m\u001b[1;33m\u001b[0m\u001b[0m\n",
      "\u001b[1;32m~\\anaconda3\\lib\\site-packages\\pandas\\io\\parsers\\readers.py\u001b[0m in \u001b[0;36mread_csv\u001b[1;34m(filepath_or_buffer, sep, delimiter, header, names, index_col, usecols, squeeze, prefix, mangle_dupe_cols, dtype, engine, converters, true_values, false_values, skipinitialspace, skiprows, skipfooter, nrows, na_values, keep_default_na, na_filter, verbose, skip_blank_lines, parse_dates, infer_datetime_format, keep_date_col, date_parser, dayfirst, cache_dates, iterator, chunksize, compression, thousands, decimal, lineterminator, quotechar, quoting, doublequote, escapechar, comment, encoding, encoding_errors, dialect, error_bad_lines, warn_bad_lines, on_bad_lines, delim_whitespace, low_memory, memory_map, float_precision, storage_options)\u001b[0m\n\u001b[0;32m    584\u001b[0m     \u001b[0mkwds\u001b[0m\u001b[1;33m.\u001b[0m\u001b[0mupdate\u001b[0m\u001b[1;33m(\u001b[0m\u001b[0mkwds_defaults\u001b[0m\u001b[1;33m)\u001b[0m\u001b[1;33m\u001b[0m\u001b[1;33m\u001b[0m\u001b[0m\n\u001b[0;32m    585\u001b[0m \u001b[1;33m\u001b[0m\u001b[0m\n\u001b[1;32m--> 586\u001b[1;33m     \u001b[1;32mreturn\u001b[0m \u001b[0m_read\u001b[0m\u001b[1;33m(\u001b[0m\u001b[0mfilepath_or_buffer\u001b[0m\u001b[1;33m,\u001b[0m \u001b[0mkwds\u001b[0m\u001b[1;33m)\u001b[0m\u001b[1;33m\u001b[0m\u001b[1;33m\u001b[0m\u001b[0m\n\u001b[0m\u001b[0;32m    587\u001b[0m \u001b[1;33m\u001b[0m\u001b[0m\n\u001b[0;32m    588\u001b[0m \u001b[1;33m\u001b[0m\u001b[0m\n",
      "\u001b[1;32m~\\anaconda3\\lib\\site-packages\\pandas\\io\\parsers\\readers.py\u001b[0m in \u001b[0;36m_read\u001b[1;34m(filepath_or_buffer, kwds)\u001b[0m\n\u001b[0;32m    486\u001b[0m \u001b[1;33m\u001b[0m\u001b[0m\n\u001b[0;32m    487\u001b[0m     \u001b[1;32mwith\u001b[0m \u001b[0mparser\u001b[0m\u001b[1;33m:\u001b[0m\u001b[1;33m\u001b[0m\u001b[1;33m\u001b[0m\u001b[0m\n\u001b[1;32m--> 488\u001b[1;33m         \u001b[1;32mreturn\u001b[0m \u001b[0mparser\u001b[0m\u001b[1;33m.\u001b[0m\u001b[0mread\u001b[0m\u001b[1;33m(\u001b[0m\u001b[0mnrows\u001b[0m\u001b[1;33m)\u001b[0m\u001b[1;33m\u001b[0m\u001b[1;33m\u001b[0m\u001b[0m\n\u001b[0m\u001b[0;32m    489\u001b[0m \u001b[1;33m\u001b[0m\u001b[0m\n\u001b[0;32m    490\u001b[0m \u001b[1;33m\u001b[0m\u001b[0m\n",
      "\u001b[1;32m~\\anaconda3\\lib\\site-packages\\pandas\\io\\parsers\\readers.py\u001b[0m in \u001b[0;36mread\u001b[1;34m(self, nrows)\u001b[0m\n\u001b[0;32m   1045\u001b[0m     \u001b[1;32mdef\u001b[0m \u001b[0mread\u001b[0m\u001b[1;33m(\u001b[0m\u001b[0mself\u001b[0m\u001b[1;33m,\u001b[0m \u001b[0mnrows\u001b[0m\u001b[1;33m=\u001b[0m\u001b[1;32mNone\u001b[0m\u001b[1;33m)\u001b[0m\u001b[1;33m:\u001b[0m\u001b[1;33m\u001b[0m\u001b[1;33m\u001b[0m\u001b[0m\n\u001b[0;32m   1046\u001b[0m         \u001b[0mnrows\u001b[0m \u001b[1;33m=\u001b[0m \u001b[0mvalidate_integer\u001b[0m\u001b[1;33m(\u001b[0m\u001b[1;34m\"nrows\"\u001b[0m\u001b[1;33m,\u001b[0m \u001b[0mnrows\u001b[0m\u001b[1;33m)\u001b[0m\u001b[1;33m\u001b[0m\u001b[1;33m\u001b[0m\u001b[0m\n\u001b[1;32m-> 1047\u001b[1;33m         \u001b[0mindex\u001b[0m\u001b[1;33m,\u001b[0m \u001b[0mcolumns\u001b[0m\u001b[1;33m,\u001b[0m \u001b[0mcol_dict\u001b[0m \u001b[1;33m=\u001b[0m \u001b[0mself\u001b[0m\u001b[1;33m.\u001b[0m\u001b[0m_engine\u001b[0m\u001b[1;33m.\u001b[0m\u001b[0mread\u001b[0m\u001b[1;33m(\u001b[0m\u001b[0mnrows\u001b[0m\u001b[1;33m)\u001b[0m\u001b[1;33m\u001b[0m\u001b[1;33m\u001b[0m\u001b[0m\n\u001b[0m\u001b[0;32m   1048\u001b[0m \u001b[1;33m\u001b[0m\u001b[0m\n\u001b[0;32m   1049\u001b[0m         \u001b[1;32mif\u001b[0m \u001b[0mindex\u001b[0m \u001b[1;32mis\u001b[0m \u001b[1;32mNone\u001b[0m\u001b[1;33m:\u001b[0m\u001b[1;33m\u001b[0m\u001b[1;33m\u001b[0m\u001b[0m\n",
      "\u001b[1;32m~\\anaconda3\\lib\\site-packages\\pandas\\io\\parsers\\c_parser_wrapper.py\u001b[0m in \u001b[0;36mread\u001b[1;34m(self, nrows)\u001b[0m\n\u001b[0;32m    222\u001b[0m         \u001b[1;32mtry\u001b[0m\u001b[1;33m:\u001b[0m\u001b[1;33m\u001b[0m\u001b[1;33m\u001b[0m\u001b[0m\n\u001b[0;32m    223\u001b[0m             \u001b[1;32mif\u001b[0m \u001b[0mself\u001b[0m\u001b[1;33m.\u001b[0m\u001b[0mlow_memory\u001b[0m\u001b[1;33m:\u001b[0m\u001b[1;33m\u001b[0m\u001b[1;33m\u001b[0m\u001b[0m\n\u001b[1;32m--> 224\u001b[1;33m                 \u001b[0mchunks\u001b[0m \u001b[1;33m=\u001b[0m \u001b[0mself\u001b[0m\u001b[1;33m.\u001b[0m\u001b[0m_reader\u001b[0m\u001b[1;33m.\u001b[0m\u001b[0mread_low_memory\u001b[0m\u001b[1;33m(\u001b[0m\u001b[0mnrows\u001b[0m\u001b[1;33m)\u001b[0m\u001b[1;33m\u001b[0m\u001b[1;33m\u001b[0m\u001b[0m\n\u001b[0m\u001b[0;32m    225\u001b[0m                 \u001b[1;31m# destructive to chunks\u001b[0m\u001b[1;33m\u001b[0m\u001b[1;33m\u001b[0m\u001b[1;33m\u001b[0m\u001b[0m\n\u001b[0;32m    226\u001b[0m                 \u001b[0mdata\u001b[0m \u001b[1;33m=\u001b[0m \u001b[0m_concatenate_chunks\u001b[0m\u001b[1;33m(\u001b[0m\u001b[0mchunks\u001b[0m\u001b[1;33m)\u001b[0m\u001b[1;33m\u001b[0m\u001b[1;33m\u001b[0m\u001b[0m\n",
      "\u001b[1;32m~\\anaconda3\\lib\\site-packages\\pandas\\_libs\\parsers.pyx\u001b[0m in \u001b[0;36mpandas._libs.parsers.TextReader.read_low_memory\u001b[1;34m()\u001b[0m\n",
      "\u001b[1;32m~\\anaconda3\\lib\\site-packages\\pandas\\_libs\\parsers.pyx\u001b[0m in \u001b[0;36mpandas._libs.parsers.TextReader._read_rows\u001b[1;34m()\u001b[0m\n",
      "\u001b[1;32m~\\anaconda3\\lib\\site-packages\\pandas\\_libs\\parsers.pyx\u001b[0m in \u001b[0;36mpandas._libs.parsers.TextReader._convert_column_data\u001b[1;34m()\u001b[0m\n",
      "\u001b[1;32m~\\anaconda3\\lib\\site-packages\\pandas\\core\\dtypes\\common.py\u001b[0m in \u001b[0;36mis_extension_array_dtype\u001b[1;34m(arr_or_dtype)\u001b[0m\n\u001b[0;32m   1418\u001b[0m \u001b[1;33m\u001b[0m\u001b[0m\n\u001b[0;32m   1419\u001b[0m \u001b[1;33m\u001b[0m\u001b[0m\n\u001b[1;32m-> 1420\u001b[1;33m \u001b[1;32mdef\u001b[0m \u001b[0mis_extension_array_dtype\u001b[0m\u001b[1;33m(\u001b[0m\u001b[0marr_or_dtype\u001b[0m\u001b[1;33m)\u001b[0m \u001b[1;33m->\u001b[0m \u001b[0mbool\u001b[0m\u001b[1;33m:\u001b[0m\u001b[1;33m\u001b[0m\u001b[1;33m\u001b[0m\u001b[0m\n\u001b[0m\u001b[0;32m   1421\u001b[0m     \"\"\"\n\u001b[0;32m   1422\u001b[0m     \u001b[0mCheck\u001b[0m \u001b[1;32mif\u001b[0m \u001b[0man\u001b[0m \u001b[0mobject\u001b[0m \u001b[1;32mis\u001b[0m \u001b[0ma\u001b[0m \u001b[0mpandas\u001b[0m \u001b[0mextension\u001b[0m \u001b[0marray\u001b[0m \u001b[0mtype\u001b[0m\u001b[1;33m.\u001b[0m\u001b[1;33m\u001b[0m\u001b[1;33m\u001b[0m\u001b[0m\n",
      "\u001b[1;31mKeyboardInterrupt\u001b[0m: "
     ]
    }
   ],
   "source": [
    "train_at_feature = pd.DataFrame()\n",
    "\n",
    "for train in train_list:\n",
    "    current_data = pd.read_csv(train)\n",
    "    current_data.head()"
   ]
  },
  {
   "cell_type": "code",
   "execution_count": null,
   "id": "31fcae79",
   "metadata": {},
   "outputs": [],
   "source": [
    "    for i in train\n",
    "    train_at = pd.concat([train_at,current_data])\n",
    "    print(current_data)"
   ]
  },
  {
   "cell_type": "code",
   "execution_count": null,
   "id": "95c55d3f",
   "metadata": {},
   "outputs": [],
   "source": [
    "product = ['배추','무','양파','건고추','마늘','대파','얼갈이배추','양배추','깻잎','시금치','미나리','당근','파프리카','새송이','팽이버섯','토마토','청상추','백다다기','애호박','캠벨얼리','샤인머스캇']]"
   ]
  },
  {
   "cell_type": "code",
   "execution_count": null,
   "id": "a7ce277d",
   "metadata": {},
   "outputs": [],
   "source": []
  }
 ],
 "metadata": {
  "kernelspec": {
   "display_name": "Python 3 (ipykernel)",
   "language": "python",
   "name": "python3"
  },
  "language_info": {
   "codemirror_mode": {
    "name": "ipython",
    "version": 3
   },
   "file_extension": ".py",
   "mimetype": "text/x-python",
   "name": "python",
   "nbconvert_exporter": "python",
   "pygments_lexer": "ipython3",
   "version": "3.8.8"
  }
 },
 "nbformat": 4,
 "nbformat_minor": 5
}
