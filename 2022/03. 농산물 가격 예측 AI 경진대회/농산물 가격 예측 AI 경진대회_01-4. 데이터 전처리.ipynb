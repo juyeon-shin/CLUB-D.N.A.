{
 "cells": [
  {
   "cell_type": "code",
   "execution_count": 18,
   "id": "426fecdd",
   "metadata": {},
   "outputs": [],
   "source": [
    "import pandas as pd\n",
    "import numpy as np\n",
    "import glob"
   ]
  },
  {
   "cell_type": "code",
   "execution_count": 19,
   "id": "df8f8798",
   "metadata": {},
   "outputs": [],
   "source": [
    "# 한글 폰트 사용을 위해서 세팅\n",
    "from matplotlib import font_manager, rc\n",
    "font_path = \"C:/Windows/Fonts/NGULIM.TTF\"\n",
    "font = font_manager.FontProperties(fname=font_path).get_name()\n",
    "rc('font', family=font)"
   ]
  },
  {
   "cell_type": "markdown",
   "id": "85df7192",
   "metadata": {},
   "source": [
    "### 강원 기온 전처리"
   ]
  },
  {
   "cell_type": "markdown",
   "id": "c9ac9f8e",
   "metadata": {},
   "source": [
    "#강원 기온\n",
    "east = pd.read_csv('temp_rain/강원영동_기온.csv',skiprows=7, encoding='cp949')\n",
    "west = pd.read_csv('temp_rain/강원영서_기온.csv',skiprows=7, encoding='cp949')\n",
    "\n",
    "new = pd.DataFrame()\n",
    "\n",
    "new['날짜'] = east['날짜']\n",
    "new['지점'] = '강원'\n",
    "new['평균기온(℃)'] = (east['평균기온(℃)']+west['평균기온(℃)'])/2\n",
    "new['최저기온(℃)'] = (east['최저기온(℃)']+west['최저기온(℃)'])/2\n",
    "new['최고기온(℃)'] = (east['최고기온(℃)']+west['최고기온(℃)'])/2\n",
    "new\n",
    "\n",
    "new.to_csv('강원_기온.csv',index=False,encoding='cp949')"
   ]
  },
  {
   "cell_type": "markdown",
   "id": "f70b8af7",
   "metadata": {},
   "source": [
    "#강원 강수\n",
    "\n",
    "east = pd.read_csv('temp_rain/강원영동_강수.csv',skiprows=7, encoding='cp949')\n",
    "west = pd.read_csv('temp_rain/강원영서_강수.csv',skiprows=7, encoding='cp949')\n",
    "\n",
    "new = pd.DataFrame()\n",
    "\n",
    "new['날짜'] = east['날짜']\n",
    "new['지점'] = '강원'\n",
    "new['강수량(mm)'] = (east['강수량(mm)']+west['강수량(mm)'])/2\n",
    "new\n",
    "\n",
    "new.to_csv('강원_강수.csv',index=False,encoding='cp949')"
   ]
  },
  {
   "cell_type": "markdown",
   "id": "30e2b830",
   "metadata": {},
   "source": [
    "### 데이터 병합"
   ]
  },
  {
   "cell_type": "code",
   "execution_count": 20,
   "id": "ae85f87e",
   "metadata": {},
   "outputs": [],
   "source": [
    "train_temp= glob.glob('C:/Users/juyeo/Desktop/03. 농산물 가격예측 AI 경진대회/temp_rain/*_기온.csv')\n",
    "train_rain= glob.glob('C:/Users/juyeo/Desktop/03. 농산물 가격예측 AI 경진대회/temp_rain/*_강수.csv')\n",
    "\n",
    "onion = pd.read_csv('data_onion.csv')\n",
    "cabbage = pd.read_csv('data_cabbage.csv')"
   ]
  },
  {
   "cell_type": "code",
   "execution_count": 21,
   "id": "81efb7fd",
   "metadata": {},
   "outputs": [],
   "source": [
    "def merge_train(argi,weather):\n",
    "    new = pd.DataFrame()\n",
    "\n",
    "    for i in argi['지점'].unique():\n",
    "        for train in weather:\n",
    "            if i == train[-9:-7] or i == train[-11:-7]:\n",
    "                unit = pd.read_csv(train,skiprows=7, encoding='cp949')\n",
    "                con = pd.merge(argi[argi['지점']==i],unit,on=['날짜','지점'])\n",
    "                new = pd.concat([new,con],axis=0)\n",
    "\n",
    "    return new"
   ]
  },
  {
   "cell_type": "code",
   "execution_count": 22,
   "id": "caeb3bc8",
   "metadata": {},
   "outputs": [],
   "source": [
    "def make_argi(argi):\n",
    "    temp = merge_train(argi,train_temp)\n",
    "    rain = merge_train(argi,train_rain)\n",
    "    temp['강수량(mm)'] = rain['강수량(mm)']\n",
    "    data = temp.groupby(['날짜']).mean()\n",
    "    return data"
   ]
  },
  {
   "cell_type": "code",
   "execution_count": 25,
   "id": "57d15f68",
   "metadata": {},
   "outputs": [],
   "source": [
    "onion = make_argi(onion)\n",
    "cabbage = make_argi(cabbage)"
   ]
  },
  {
   "cell_type": "code",
   "execution_count": 28,
   "id": "4aafb48c",
   "metadata": {},
   "outputs": [],
   "source": [
    "onion.to_csv('onion.csv',index=True)\n",
    "cabbage.to_csv('cabbage.csv',index=True)"
   ]
  }
 ],
 "metadata": {
  "kernelspec": {
   "display_name": "Python 3 (ipykernel)",
   "language": "python",
   "name": "python3"
  },
  "language_info": {
   "codemirror_mode": {
    "name": "ipython",
    "version": 3
   },
   "file_extension": ".py",
   "mimetype": "text/x-python",
   "name": "python",
   "nbconvert_exporter": "python",
   "pygments_lexer": "ipython3",
   "version": "3.8.8"
  }
 },
 "nbformat": 4,
 "nbformat_minor": 5
}
