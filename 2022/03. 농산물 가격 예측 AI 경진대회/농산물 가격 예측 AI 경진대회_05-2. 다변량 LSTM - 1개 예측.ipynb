{
 "cells": [
  {
   "cell_type": "markdown",
   "id": "4a5f8760",
   "metadata": {},
   "source": [
    "## 농산물 가격 예측 AI 경진대회_05-2. 다변량 LSTM 1일 예측\n",
    "\n",
    "### 00. 모듈 & 데이터 불러오기"
   ]
  },
  {
   "cell_type": "code",
   "execution_count": 1,
   "id": "f3e40513",
   "metadata": {},
   "outputs": [],
   "source": [
    "import pandas as pd\n",
    "import numpy as np\n",
    "import glob\n",
    "import matplotlib.pyplot as plt\n",
    "import seaborn as sns\n",
    "\n",
    "# 한글 폰트 사용을 위해서 세팅\n",
    "from matplotlib import font_manager, rc\n",
    "font_path = \"C:/Windows/Fonts/NGULIM.TTF\"\n",
    "font = font_manager.FontProperties(fname=font_path).get_name()\n",
    "rc('font', family=font)\n",
    "\n",
    "from sklearn.preprocessing import LabelEncoder\n",
    "from sklearn.preprocessing import StandardScaler\n",
    "from sklearn.model_selection import train_test_split\n",
    "from sklearn.metrics import mean_squared_error\n",
    "\n",
    "from tensorflow import keras"
   ]
  },
  {
   "cell_type": "code",
   "execution_count": 2,
   "id": "543405c7",
   "metadata": {},
   "outputs": [
    {
     "data": {
      "text/plain": [
       "['final_cabbage.csv',\n",
       " 'final_onion.csv',\n",
       " 'final_oyster.csv',\n",
       " 'final_redpepper.csv']"
      ]
     },
     "execution_count": 2,
     "metadata": {},
     "output_type": "execute_result"
    }
   ],
   "source": [
    "final_list = glob.glob('final_*.csv')\n",
    "final_list"
   ]
  },
  {
   "cell_type": "code",
   "execution_count": 3,
   "id": "44132e93",
   "metadata": {},
   "outputs": [],
   "source": [
    "def load_data(algi, glob_list):\n",
    "    for _ in glob_list:\n",
    "        if algi in _:\n",
    "            data = pd.read_csv(_)\n",
    "            data.set_index('date',drop=True,inplace=True)\n",
    "        \n",
    "    data = data[data[data.columns[2]]!=0.0]\n",
    "    data = data.fillna(0)\n",
    "    \n",
    "    return data"
   ]
  },
  {
   "cell_type": "markdown",
   "id": "e40287c3",
   "metadata": {},
   "source": [
    "### 01. 데이터 전처리 함수"
   ]
  },
  {
   "cell_type": "code",
   "execution_count": 4,
   "id": "12e4f62a",
   "metadata": {},
   "outputs": [],
   "source": [
    "def make_dataset(data,window_size,target_size):\n",
    "    #Encoding\n",
    "    encoder = LabelEncoder()\n",
    "\n",
    "    data['요일'] = encoder.fit_transform(data['요일'])\n",
    "    data['계절'] = encoder.fit_transform(data['계절'])\n",
    "\n",
    "    #Scaling\n",
    "    Scaler = StandardScaler()\n",
    "    Scaled = Scaler.fit_transform(data)\n",
    "\n",
    "    #타겟 분리\n",
    "    train = Scaled\n",
    "    target = Scaled[:,2]\n",
    "\n",
    "    #다변량 시계열 데이터셋 구성\n",
    "    make = []\n",
    "    make_t = []\n",
    "    for i in range(len(train)-window_size-target_size):\n",
    "        make.append(train[i:i+window_size])\n",
    "        make_t.append(target[i+window_size:i+window_size+target_size])\n",
    "\n",
    "    #타겟 분리\n",
    "    train = np.array(make)\n",
    "    target = np.array(make_t)\n",
    "    print(train.shape, target.shape)\n",
    "    return train, target,data"
   ]
  },
  {
   "cell_type": "markdown",
   "id": "5fb6222b",
   "metadata": {},
   "source": [
    "### 02. modeling 함수"
   ]
  },
  {
   "cell_type": "code",
   "execution_count": 5,
   "id": "9dec1ec2",
   "metadata": {},
   "outputs": [],
   "source": [
    "def model_LSTM(argi):\n",
    "    model = keras.models.Sequential([\n",
    "        keras.layers.LSTM(30,return_sequences=True,input_shape=(x_train.shape[1],x_train.shape[2])),\n",
    "        keras.layers.LSTM(30,return_sequences=True),\n",
    "        keras.layers.LSTM(30,return_sequences=True),\n",
    "        keras.layers.LSTM(30),\n",
    "        keras.layers.Dense(30)\n",
    "    ])\n",
    "\n",
    "    model.compile(loss=\"mse\", optimizer=\"adam\")\n",
    "    history = model.fit(x_train, y_train, epochs=20,validation_data=(x_test, y_test))\n",
    "    model.summary()\n",
    "    print(model.evaluate(x_test, y_test))\n",
    "    \n",
    "    # plot history\n",
    "    plt.plot(history.history['loss'], label='train')\n",
    "    plt.plot(history.history['val_loss'], label='test')\n",
    "    plt.legend()\n",
    "    plt.title('%s LSTM residual'%argi)\n",
    "    plt.show()\n",
    "    \n",
    "    y_pred = model.predict(x_test)\n",
    "\n",
    "    return y_pred"
   ]
  },
  {
   "cell_type": "markdown",
   "id": "97ff23cd",
   "metadata": {},
   "source": [
    "### 03. 그래프 비교 함수"
   ]
  },
  {
   "cell_type": "markdown",
   "id": "b081c1e0",
   "metadata": {},
   "source": [
    "    yt = []\n",
    "    yp = []\n",
    "\n",
    "    for i in range(0,len(y_test),30):\n",
    "        yt.append(y_pred[i,:])\n",
    "\n",
    "    for i in range(0,len(y_pred),30):\n",
    "        yp.append(y_pred[i,:])\n",
    "\n",
    "    yt = np.array(yt).reshape(-1)\n",
    "    yp = np.array(yp).reshape(-1)"
   ]
  },
  {
   "cell_type": "code",
   "execution_count": 6,
   "id": "f289e622",
   "metadata": {},
   "outputs": [],
   "source": [
    "def comapare_plot(y_test,y_pred):\n",
    "    y_test = y_test*np.mean(np.std(make_dataset(data,90,1)[2],axis=0))+np.mean(np.mean(make_dataset(data,90,1)[2]))\n",
    "    y_pred = y_pred*np.mean(np.std(make_dataset(data,90,1)[2],axis=0))+np.mean(np.mean(make_dataset(data,90,1)[2]))\n",
    "\n",
    "    plt.plot(y_test[:,-1],label='origin')\n",
    "    plt.plot(y_pred[:,-1],label='predict')\n",
    "    plt.title('compare %s precidtion'%argi)\n",
    "    plt.legend()\n",
    "    plt.show()\n",
    "    \n",
    "    rmse = mean_squared_error(y_test,y_pred)\n",
    "    print('RMSE : ',rmse)"
   ]
  },
  {
   "cell_type": "markdown",
   "id": "6a736879",
   "metadata": {},
   "source": [
    "def comapare_plot(y_test,y_RNN_pred,y_LSTM_pred):\n",
    "    y_test = y_test*np.mean(np.std(make_dataset(data,algi,90,1)[2],axis=0))+np.mean(np.mean(make_dataset(data,algi,90,1)[2]))\n",
    "    y_RNN_pred = y_RNN_pred*np.mean(np.std(make_dataset(data,algi,90,1)[2],axis=0))+np.mean(np.mean(make_dataset(data,algi,90,1)[2]))\n",
    "    y_LSTM_pred = y_LSTM_pred*np.mean(np.std(make_dataset(data,algi,90,1)[2],axis=0))+np.mean(np.mean(make_dataset(data,algi,90,1)[2]))\n",
    "    plt.plot(y_test,label='original')\n",
    "    plt.plot(y_RNN_pred,label='RNN_predict')\n",
    "    plt.plot(y_LSTM_pred,label='LSTM_predict')\n",
    "    plt.title('compare %s precidtion'%algi)\n",
    "    plt.legend()\n",
    "    plt.show()"
   ]
  },
  {
   "cell_type": "markdown",
   "id": "3ea4db47",
   "metadata": {},
   "source": [
    "### 04. 결과 비교\n",
    "#### 04-1. 배추 가격"
   ]
  },
  {
   "cell_type": "code",
   "execution_count": 7,
   "id": "ddc4cb78",
   "metadata": {},
   "outputs": [
    {
     "data": {
      "text/html": [
       "<div>\n",
       "<style scoped>\n",
       "    .dataframe tbody tr th:only-of-type {\n",
       "        vertical-align: middle;\n",
       "    }\n",
       "\n",
       "    .dataframe tbody tr th {\n",
       "        vertical-align: top;\n",
       "    }\n",
       "\n",
       "    .dataframe thead th {\n",
       "        text-align: right;\n",
       "    }\n",
       "</style>\n",
       "<table border=\"1\" class=\"dataframe\">\n",
       "  <thead>\n",
       "    <tr style=\"text-align: right;\">\n",
       "      <th></th>\n",
       "      <th>요일</th>\n",
       "      <th>배추_거래량(kg)_x</th>\n",
       "      <th>배추_가격(원/kg)</th>\n",
       "      <th>oil_price</th>\n",
       "      <th>배추_물가상승률</th>\n",
       "      <th>배추_잔차_1</th>\n",
       "      <th>배추_잔차_2</th>\n",
       "      <th>배추_잔차_5</th>\n",
       "      <th>배추_잔차_10</th>\n",
       "      <th>배추_잔차_15</th>\n",
       "      <th>...</th>\n",
       "      <th>배추_거래량_편차</th>\n",
       "      <th>배추_price_편차</th>\n",
       "      <th>계절</th>\n",
       "      <th>trand</th>\n",
       "      <th>seasonal</th>\n",
       "      <th>resid</th>\n",
       "      <th>평균기온(℃)</th>\n",
       "      <th>최저기온(℃)</th>\n",
       "      <th>최고기온(℃)</th>\n",
       "      <th>강수량(mm)</th>\n",
       "    </tr>\n",
       "    <tr>\n",
       "      <th>date</th>\n",
       "      <th></th>\n",
       "      <th></th>\n",
       "      <th></th>\n",
       "      <th></th>\n",
       "      <th></th>\n",
       "      <th></th>\n",
       "      <th></th>\n",
       "      <th></th>\n",
       "      <th></th>\n",
       "      <th></th>\n",
       "      <th></th>\n",
       "      <th></th>\n",
       "      <th></th>\n",
       "      <th></th>\n",
       "      <th></th>\n",
       "      <th></th>\n",
       "      <th></th>\n",
       "      <th></th>\n",
       "      <th></th>\n",
       "      <th></th>\n",
       "      <th></th>\n",
       "    </tr>\n",
       "  </thead>\n",
       "  <tbody>\n",
       "    <tr>\n",
       "      <th>2016-01-02</th>\n",
       "      <td>토요일</td>\n",
       "      <td>80860.0</td>\n",
       "      <td>329</td>\n",
       "      <td>36.76</td>\n",
       "      <td>26.695083</td>\n",
       "      <td>329.0</td>\n",
       "      <td>0.0</td>\n",
       "      <td>0.0</td>\n",
       "      <td>0.0</td>\n",
       "      <td>0.0</td>\n",
       "      <td>...</td>\n",
       "      <td>-573897.3935</td>\n",
       "      <td>-116.903226</td>\n",
       "      <td>겨울</td>\n",
       "      <td>0.000000</td>\n",
       "      <td>103.406228</td>\n",
       "      <td>0.000000</td>\n",
       "      <td>5.122887</td>\n",
       "      <td>0.245070</td>\n",
       "      <td>11.655634</td>\n",
       "      <td>0.000000</td>\n",
       "    </tr>\n",
       "    <tr>\n",
       "      <th>2016-01-04</th>\n",
       "      <td>월요일</td>\n",
       "      <td>1422742.5</td>\n",
       "      <td>478</td>\n",
       "      <td>36.76</td>\n",
       "      <td>26.695083</td>\n",
       "      <td>478.0</td>\n",
       "      <td>149.0</td>\n",
       "      <td>0.0</td>\n",
       "      <td>0.0</td>\n",
       "      <td>0.0</td>\n",
       "      <td>...</td>\n",
       "      <td>767985.1065</td>\n",
       "      <td>32.096774</td>\n",
       "      <td>겨울</td>\n",
       "      <td>305.571429</td>\n",
       "      <td>85.311361</td>\n",
       "      <td>87.117210</td>\n",
       "      <td>5.416868</td>\n",
       "      <td>0.332782</td>\n",
       "      <td>10.153596</td>\n",
       "      <td>0.000000</td>\n",
       "    </tr>\n",
       "    <tr>\n",
       "      <th>2016-01-05</th>\n",
       "      <td>화요일</td>\n",
       "      <td>1167241.0</td>\n",
       "      <td>442</td>\n",
       "      <td>35.97</td>\n",
       "      <td>26.695083</td>\n",
       "      <td>-36.0</td>\n",
       "      <td>442.0</td>\n",
       "      <td>0.0</td>\n",
       "      <td>0.0</td>\n",
       "      <td>0.0</td>\n",
       "      <td>...</td>\n",
       "      <td>512483.6065</td>\n",
       "      <td>-3.903226</td>\n",
       "      <td>겨울</td>\n",
       "      <td>365.571429</td>\n",
       "      <td>78.228076</td>\n",
       "      <td>-1.799504</td>\n",
       "      <td>0.780713</td>\n",
       "      <td>-2.034934</td>\n",
       "      <td>4.213610</td>\n",
       "      <td>0.879112</td>\n",
       "    </tr>\n",
       "    <tr>\n",
       "      <th>2016-01-06</th>\n",
       "      <td>수요일</td>\n",
       "      <td>1045507.5</td>\n",
       "      <td>442</td>\n",
       "      <td>33.97</td>\n",
       "      <td>26.695083</td>\n",
       "      <td>0.0</td>\n",
       "      <td>-36.0</td>\n",
       "      <td>442.0</td>\n",
       "      <td>0.0</td>\n",
       "      <td>0.0</td>\n",
       "      <td>...</td>\n",
       "      <td>390750.1065</td>\n",
       "      <td>-3.903226</td>\n",
       "      <td>겨울</td>\n",
       "      <td>374.142857</td>\n",
       "      <td>91.469256</td>\n",
       "      <td>-23.612113</td>\n",
       "      <td>1.236381</td>\n",
       "      <td>-3.272112</td>\n",
       "      <td>5.575440</td>\n",
       "      <td>0.000000</td>\n",
       "    </tr>\n",
       "    <tr>\n",
       "      <th>2016-01-07</th>\n",
       "      <td>목요일</td>\n",
       "      <td>1039925.0</td>\n",
       "      <td>448</td>\n",
       "      <td>33.27</td>\n",
       "      <td>26.695083</td>\n",
       "      <td>6.0</td>\n",
       "      <td>6.0</td>\n",
       "      <td>119.0</td>\n",
       "      <td>0.0</td>\n",
       "      <td>0.0</td>\n",
       "      <td>...</td>\n",
       "      <td>385167.6065</td>\n",
       "      <td>2.096774</td>\n",
       "      <td>겨울</td>\n",
       "      <td>374.142857</td>\n",
       "      <td>74.270875</td>\n",
       "      <td>-0.413732</td>\n",
       "      <td>0.650924</td>\n",
       "      <td>-2.093016</td>\n",
       "      <td>4.373577</td>\n",
       "      <td>0.000000</td>\n",
       "    </tr>\n",
       "  </tbody>\n",
       "</table>\n",
       "<p>5 rows × 23 columns</p>\n",
       "</div>"
      ],
      "text/plain": [
       "             요일  배추_거래량(kg)_x  배추_가격(원/kg)  oil_price   배추_물가상승률  배추_잔차_1  \\\n",
       "date                                                                        \n",
       "2016-01-02  토요일       80860.0          329      36.76  26.695083    329.0   \n",
       "2016-01-04  월요일     1422742.5          478      36.76  26.695083    478.0   \n",
       "2016-01-05  화요일     1167241.0          442      35.97  26.695083    -36.0   \n",
       "2016-01-06  수요일     1045507.5          442      33.97  26.695083      0.0   \n",
       "2016-01-07  목요일     1039925.0          448      33.27  26.695083      6.0   \n",
       "\n",
       "            배추_잔차_2  배추_잔차_5  배추_잔차_10  배추_잔차_15  ...    배추_거래량_편차  \\\n",
       "date                                              ...                \n",
       "2016-01-02      0.0      0.0       0.0       0.0  ... -573897.3935   \n",
       "2016-01-04    149.0      0.0       0.0       0.0  ...  767985.1065   \n",
       "2016-01-05    442.0      0.0       0.0       0.0  ...  512483.6065   \n",
       "2016-01-06    -36.0    442.0       0.0       0.0  ...  390750.1065   \n",
       "2016-01-07      6.0    119.0       0.0       0.0  ...  385167.6065   \n",
       "\n",
       "            배추_price_편차  계절       trand    seasonal      resid   평균기온(℃)  \\\n",
       "date                                                                       \n",
       "2016-01-02  -116.903226  겨울    0.000000  103.406228   0.000000  5.122887   \n",
       "2016-01-04    32.096774  겨울  305.571429   85.311361  87.117210  5.416868   \n",
       "2016-01-05    -3.903226  겨울  365.571429   78.228076  -1.799504  0.780713   \n",
       "2016-01-06    -3.903226  겨울  374.142857   91.469256 -23.612113  1.236381   \n",
       "2016-01-07     2.096774  겨울  374.142857   74.270875  -0.413732  0.650924   \n",
       "\n",
       "             최저기온(℃)    최고기온(℃)   강수량(mm)  \n",
       "date                                       \n",
       "2016-01-02  0.245070  11.655634  0.000000  \n",
       "2016-01-04  0.332782  10.153596  0.000000  \n",
       "2016-01-05 -2.034934   4.213610  0.879112  \n",
       "2016-01-06 -3.272112   5.575440  0.000000  \n",
       "2016-01-07 -2.093016   4.373577  0.000000  \n",
       "\n",
       "[5 rows x 23 columns]"
      ]
     },
     "execution_count": 7,
     "metadata": {},
     "output_type": "execute_result"
    }
   ],
   "source": [
    "argi='cabbage'\n",
    "data = load_data(argi,final_list)\n",
    "data.head()"
   ]
  },
  {
   "cell_type": "code",
   "execution_count": 8,
   "id": "d70139c4",
   "metadata": {},
   "outputs": [
    {
     "name": "stdout",
     "output_type": "stream",
     "text": [
      "(1389, 90, 23) (1389, 1)\n",
      "(1389, 90, 23) (1389, 1)\n"
     ]
    }
   ],
   "source": [
    "train = make_dataset(data,90,1)[0]\n",
    "target = make_dataset(data,90,1)[1]"
   ]
  },
  {
   "cell_type": "code",
   "execution_count": 9,
   "id": "ddbcec5c",
   "metadata": {},
   "outputs": [
    {
     "name": "stdout",
     "output_type": "stream",
     "text": [
      "x_train.shape: (1111, 90, 23) x_train.shape: (1111, 1)\n",
      "x_test.shape: (278, 90, 23) y_test.shape: (278, 1)\n"
     ]
    }
   ],
   "source": [
    "#train test 분리\n",
    "x_train, x_test, y_train, y_test = train_test_split(train, target, test_size=0.2, shuffle=False, random_state=120)\n",
    "print('x_train.shape:',x_train.shape, 'x_train.shape:',y_train.shape)\n",
    "print('x_test.shape:', x_test.shape, 'y_test.shape:',y_test.shape)"
   ]
  },
  {
   "cell_type": "code",
   "execution_count": 10,
   "id": "c98a753a",
   "metadata": {},
   "outputs": [
    {
     "name": "stdout",
     "output_type": "stream",
     "text": [
      "Epoch 1/20\n",
      "35/35 [==============================] - 12s 186ms/step - loss: 0.6068 - val_loss: 0.9448\n",
      "Epoch 2/20\n",
      "35/35 [==============================] - 7s 190ms/step - loss: 0.2667 - val_loss: 0.6407\n",
      "Epoch 3/20\n",
      "35/35 [==============================] - 6s 169ms/step - loss: 0.1795 - val_loss: 0.5046\n",
      "Epoch 4/20\n",
      "35/35 [==============================] - 5s 138ms/step - loss: 0.1499 - val_loss: 0.4946\n",
      "Epoch 5/20\n",
      "35/35 [==============================] - 6s 164ms/step - loss: 0.1286 - val_loss: 0.5227\n",
      "Epoch 6/20\n",
      "35/35 [==============================] - 6s 166ms/step - loss: 0.1220 - val_loss: 0.4040\n",
      "Epoch 7/20\n",
      "35/35 [==============================] - 5s 150ms/step - loss: 0.1084 - val_loss: 0.3637\n",
      "Epoch 8/20\n",
      "35/35 [==============================] - 7s 206ms/step - loss: 0.1041 - val_loss: 0.3318\n",
      "Epoch 9/20\n",
      "35/35 [==============================] - 7s 210ms/step - loss: 0.1050 - val_loss: 0.4134\n",
      "Epoch 10/20\n",
      "35/35 [==============================] - 7s 210ms/step - loss: 0.0967 - val_loss: 0.3933\n",
      "Epoch 11/20\n",
      "35/35 [==============================] - 6s 164ms/step - loss: 0.0925 - val_loss: 0.3763\n",
      "Epoch 12/20\n",
      "35/35 [==============================] - 7s 192ms/step - loss: 0.0918 - val_loss: 0.3908\n",
      "Epoch 13/20\n",
      "35/35 [==============================] - 8s 219ms/step - loss: 0.0851 - val_loss: 0.3616\n",
      "Epoch 14/20\n",
      "35/35 [==============================] - 8s 235ms/step - loss: 0.0836 - val_loss: 0.3656\n",
      "Epoch 15/20\n",
      "35/35 [==============================] - 9s 246ms/step - loss: 0.0828 - val_loss: 0.3558\n",
      "Epoch 16/20\n",
      "35/35 [==============================] - 8s 222ms/step - loss: 0.0851 - val_loss: 0.3538\n",
      "Epoch 17/20\n",
      "35/35 [==============================] - 5s 152ms/step - loss: 0.0768 - val_loss: 0.3840\n",
      "Epoch 18/20\n",
      "35/35 [==============================] - 4s 104ms/step - loss: 0.0783 - val_loss: 0.3353\n",
      "Epoch 19/20\n",
      "35/35 [==============================] - 4s 116ms/step - loss: 0.0744 - val_loss: 0.3224\n",
      "Epoch 20/20\n",
      "35/35 [==============================] - 4s 117ms/step - loss: 0.0769 - val_loss: 0.4135\n",
      "Model: \"sequential\"\n",
      "_________________________________________________________________\n",
      "Layer (type)                 Output Shape              Param #   \n",
      "=================================================================\n",
      "lstm (LSTM)                  (None, 90, 30)            6480      \n",
      "_________________________________________________________________\n",
      "lstm_1 (LSTM)                (None, 90, 30)            7320      \n",
      "_________________________________________________________________\n",
      "lstm_2 (LSTM)                (None, 90, 30)            7320      \n",
      "_________________________________________________________________\n",
      "lstm_3 (LSTM)                (None, 30)                7320      \n",
      "_________________________________________________________________\n",
      "dense (Dense)                (None, 30)                930       \n",
      "=================================================================\n",
      "Total params: 29,370\n",
      "Trainable params: 29,370\n",
      "Non-trainable params: 0\n",
      "_________________________________________________________________\n",
      "9/9 [==============================] - 0s 29ms/step - loss: 0.4135\n",
      "0.4135148823261261\n"
     ]
    },
    {
     "data": {
      "image/png": "[encoded data removed]",
      "text/plain": [
       "<Figure size 432x288 with 1 Axes>"
      ]
     },
     "metadata": {
      "needs_background": "light"
     },
     "output_type": "display_data"
    }
   ],
   "source": [
    "y_pred = model_LSTM(argi)"
   ]
  },
  {
   "cell_type": "code",
   "execution_count": 11,
   "id": "82aa43b7",
   "metadata": {},
   "outputs": [
    {
     "name": "stdout",
     "output_type": "stream",
     "text": [
      "(1389, 90, 23) (1389, 1)\n",
      "(1389, 90, 23) (1389, 1)\n",
      "(1389, 90, 23) (1389, 1)\n",
      "(1389, 90, 23) (1389, 1)\n"
     ]
    },
    {
     "data": {
      "image/png": "[encoded data removed]",
      "text/plain": [
       "<Figure size 432x288 with 1 Axes>"
      ]
     },
     "metadata": {
      "needs_background": "light"
     },
     "output_type": "display_data"
    },
    {
     "ename": "ValueError",
     "evalue": "y_true and y_pred have different number of output (1!=30)",
     "output_type": "error",
     "traceback": [
      "\u001b[1;31m---------------------------------------------------------------------------\u001b[0m",
      "\u001b[1;31mValueError\u001b[0m                                Traceback (most recent call last)",
      "\u001b[1;32m~\\AppData\\Local\\Temp/ipykernel_11620/1416845830.py\u001b[0m in \u001b[0;36m<module>\u001b[1;34m\u001b[0m\n\u001b[1;32m----> 1\u001b[1;33m \u001b[0mcomapare_plot\u001b[0m\u001b[1;33m(\u001b[0m\u001b[0my_test\u001b[0m\u001b[1;33m,\u001b[0m\u001b[0my_pred\u001b[0m\u001b[1;33m)\u001b[0m\u001b[1;33m\u001b[0m\u001b[1;33m\u001b[0m\u001b[0m\n\u001b[0m",
      "\u001b[1;32m~\\AppData\\Local\\Temp/ipykernel_11620/1080362779.py\u001b[0m in \u001b[0;36mcomapare_plot\u001b[1;34m(y_test, y_pred)\u001b[0m\n\u001b[0;32m      9\u001b[0m     \u001b[0mplt\u001b[0m\u001b[1;33m.\u001b[0m\u001b[0mshow\u001b[0m\u001b[1;33m(\u001b[0m\u001b[1;33m)\u001b[0m\u001b[1;33m\u001b[0m\u001b[1;33m\u001b[0m\u001b[0m\n\u001b[0;32m     10\u001b[0m \u001b[1;33m\u001b[0m\u001b[0m\n\u001b[1;32m---> 11\u001b[1;33m     \u001b[0mrmse\u001b[0m \u001b[1;33m=\u001b[0m \u001b[0mmean_squared_error\u001b[0m\u001b[1;33m(\u001b[0m\u001b[0my_test\u001b[0m\u001b[1;33m,\u001b[0m\u001b[0my_pred\u001b[0m\u001b[1;33m)\u001b[0m\u001b[1;33m\u001b[0m\u001b[1;33m\u001b[0m\u001b[0m\n\u001b[0m\u001b[0;32m     12\u001b[0m     \u001b[0mprint\u001b[0m\u001b[1;33m(\u001b[0m\u001b[1;34m'RMSE : '\u001b[0m\u001b[1;33m,\u001b[0m\u001b[0mrmse\u001b[0m\u001b[1;33m)\u001b[0m\u001b[1;33m\u001b[0m\u001b[1;33m\u001b[0m\u001b[0m\n",
      "\u001b[1;32m~\\anaconda3\\lib\\site-packages\\sklearn\\metrics\\_regression.py\u001b[0m in \u001b[0;36mmean_squared_error\u001b[1;34m(y_true, y_pred, sample_weight, multioutput, squared)\u001b[0m\n\u001b[0;32m    421\u001b[0m     \u001b[1;36m0.825\u001b[0m\u001b[1;33m...\u001b[0m\u001b[1;33m\u001b[0m\u001b[1;33m\u001b[0m\u001b[0m\n\u001b[0;32m    422\u001b[0m     \"\"\"\n\u001b[1;32m--> 423\u001b[1;33m     y_type, y_true, y_pred, multioutput = _check_reg_targets(\n\u001b[0m\u001b[0;32m    424\u001b[0m         \u001b[0my_true\u001b[0m\u001b[1;33m,\u001b[0m \u001b[0my_pred\u001b[0m\u001b[1;33m,\u001b[0m \u001b[0mmultioutput\u001b[0m\u001b[1;33m\u001b[0m\u001b[1;33m\u001b[0m\u001b[0m\n\u001b[0;32m    425\u001b[0m     )\n",
      "\u001b[1;32m~\\anaconda3\\lib\\site-packages\\sklearn\\metrics\\_regression.py\u001b[0m in \u001b[0;36m_check_reg_targets\u001b[1;34m(y_true, y_pred, multioutput, dtype)\u001b[0m\n\u001b[0;32m     98\u001b[0m \u001b[1;33m\u001b[0m\u001b[0m\n\u001b[0;32m     99\u001b[0m     \u001b[1;32mif\u001b[0m \u001b[0my_true\u001b[0m\u001b[1;33m.\u001b[0m\u001b[0mshape\u001b[0m\u001b[1;33m[\u001b[0m\u001b[1;36m1\u001b[0m\u001b[1;33m]\u001b[0m \u001b[1;33m!=\u001b[0m \u001b[0my_pred\u001b[0m\u001b[1;33m.\u001b[0m\u001b[0mshape\u001b[0m\u001b[1;33m[\u001b[0m\u001b[1;36m1\u001b[0m\u001b[1;33m]\u001b[0m\u001b[1;33m:\u001b[0m\u001b[1;33m\u001b[0m\u001b[1;33m\u001b[0m\u001b[0m\n\u001b[1;32m--> 100\u001b[1;33m         raise ValueError(\n\u001b[0m\u001b[0;32m    101\u001b[0m             \"y_true and y_pred have different number of output ({0}!={1})\".format(\n\u001b[0;32m    102\u001b[0m                 \u001b[0my_true\u001b[0m\u001b[1;33m.\u001b[0m\u001b[0mshape\u001b[0m\u001b[1;33m[\u001b[0m\u001b[1;36m1\u001b[0m\u001b[1;33m]\u001b[0m\u001b[1;33m,\u001b[0m \u001b[0my_pred\u001b[0m\u001b[1;33m.\u001b[0m\u001b[0mshape\u001b[0m\u001b[1;33m[\u001b[0m\u001b[1;36m1\u001b[0m\u001b[1;33m]\u001b[0m\u001b[1;33m\u001b[0m\u001b[1;33m\u001b[0m\u001b[0m\n",
      "\u001b[1;31mValueError\u001b[0m: y_true and y_pred have different number of output (1!=30)"
     ]
    }
   ],
   "source": [
    "comapare_plot(y_test,y_pred)"
   ]
  },
  {
   "cell_type": "code",
   "execution_count": null,
   "id": "a0c34028",
   "metadata": {},
   "outputs": [],
   "source": [
    "y_pred.shape"
   ]
  },
  {
   "cell_type": "markdown",
   "id": "572a0d72",
   "metadata": {},
   "source": [
    "#### 04-2. 양파 가격"
   ]
  },
  {
   "cell_type": "code",
   "execution_count": null,
   "id": "44646e68",
   "metadata": {},
   "outputs": [],
   "source": [
    "argi='onion'\n",
    "data = load_data(argi,final_list)\n",
    "data.head()"
   ]
  },
  {
   "cell_type": "code",
   "execution_count": null,
   "id": "f0799504",
   "metadata": {},
   "outputs": [],
   "source": [
    "train = make_dataset(data,90,1)[0]\n",
    "target = make_dataset(data,90,1)[1]"
   ]
  },
  {
   "cell_type": "code",
   "execution_count": null,
   "id": "8284bc68",
   "metadata": {},
   "outputs": [],
   "source": [
    "#train test 분리\n",
    "x_train, x_test, y_train, y_test = train_test_split(train, target, test_size=0.2, shuffle=False, random_state=120)\n",
    "print('x_train.shape:',x_train.shape, 'x_train.shape:',y_train.shape)\n",
    "print('x_test.shape:', x_test.shape, 'y_test.shape:',y_test.shape)"
   ]
  },
  {
   "cell_type": "code",
   "execution_count": null,
   "id": "00d045f5",
   "metadata": {},
   "outputs": [],
   "source": [
    "y_pred = model_LSTM(argi)"
   ]
  },
  {
   "cell_type": "code",
   "execution_count": null,
   "id": "b83a5815",
   "metadata": {},
   "outputs": [],
   "source": [
    "comapare_plot(y_test,y_pred)"
   ]
  },
  {
   "cell_type": "markdown",
   "id": "57875a8f",
   "metadata": {},
   "source": [
    "#### 04-3. 새송이 가격"
   ]
  },
  {
   "cell_type": "code",
   "execution_count": null,
   "id": "4bc93aec",
   "metadata": {},
   "outputs": [],
   "source": [
    "argi='oyster'\n",
    "data = load_data(argi,final_list)\n",
    "data.head()"
   ]
  },
  {
   "cell_type": "code",
   "execution_count": null,
   "id": "f8eb548f",
   "metadata": {},
   "outputs": [],
   "source": [
    "train = make_dataset(data,90,1)[0]\n",
    "target = make_dataset(data,90,1)[1]"
   ]
  },
  {
   "cell_type": "code",
   "execution_count": null,
   "id": "141bb170",
   "metadata": {},
   "outputs": [],
   "source": [
    "#train test 분리\n",
    "x_train, x_test, y_train, y_test = train_test_split(train, target, test_size=0.2, shuffle=False, random_state=120)\n",
    "print('x_train.shape:',x_train.shape, 'x_train.shape:',y_train.shape)\n",
    "print('x_test.shape:', x_test.shape, 'y_test.shape:',y_test.shape)"
   ]
  },
  {
   "cell_type": "code",
   "execution_count": null,
   "id": "5e356fa3",
   "metadata": {},
   "outputs": [],
   "source": [
    "y_pred = model_LSTM(argi)"
   ]
  },
  {
   "cell_type": "code",
   "execution_count": null,
   "id": "5ca88e3a",
   "metadata": {},
   "outputs": [],
   "source": [
    "comapare_plot(y_test,y_pred)"
   ]
  },
  {
   "cell_type": "markdown",
   "id": "70145e83",
   "metadata": {},
   "source": [
    "#### 04-4. 건고추 가격"
   ]
  },
  {
   "cell_type": "code",
   "execution_count": null,
   "id": "23ae37ca",
   "metadata": {},
   "outputs": [],
   "source": [
    "argi='redpepper'\n",
    "data = load_data(argi,final_list)\n",
    "data.head()"
   ]
  },
  {
   "cell_type": "code",
   "execution_count": null,
   "id": "77a6a0fd",
   "metadata": {},
   "outputs": [],
   "source": [
    "train = make_dataset(data,90,1)[0]\n",
    "target = make_dataset(data,90,1)[1]"
   ]
  },
  {
   "cell_type": "code",
   "execution_count": null,
   "id": "341db33f",
   "metadata": {},
   "outputs": [],
   "source": [
    "#train test 분리\n",
    "x_train, x_test, y_train, y_test = train_test_split(train, target, test_size=0.2, shuffle=False, random_state=120)\n",
    "print('x_train.shape:',x_train.shape, 'x_train.shape:',y_train.shape)\n",
    "print('x_test.shape:', x_test.shape, 'y_test.shape:',y_test.shape)"
   ]
  },
  {
   "cell_type": "code",
   "execution_count": null,
   "id": "411d1fc3",
   "metadata": {},
   "outputs": [],
   "source": [
    "y_pred = model_LSTM(argi)"
   ]
  },
  {
   "cell_type": "code",
   "execution_count": null,
   "id": "5a98e78b",
   "metadata": {},
   "outputs": [],
   "source": [
    "comapare_plot(y_test,y_pred)"
   ]
  },
  {
   "cell_type": "code",
   "execution_count": null,
   "id": "022e7001",
   "metadata": {},
   "outputs": [],
   "source": []
  }
 ],
 "metadata": {
  "kernelspec": {
   "display_name": "Python 3 (ipykernel)",
   "language": "python",
   "name": "python3"
  },
  "language_info": {
   "codemirror_mode": {
    "name": "ipython",
    "version": 3
   },
   "file_extension": ".py",
   "mimetype": "text/x-python",
   "name": "python",
   "nbconvert_exporter": "python",
   "pygments_lexer": "ipython3",
   "version": "3.8.8"
  }
 },
 "nbformat": 4,
 "nbformat_minor": 5
}
