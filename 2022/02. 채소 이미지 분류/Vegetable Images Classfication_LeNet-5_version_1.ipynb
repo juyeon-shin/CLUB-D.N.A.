{
 "cells": [
  {
   "cell_type": "markdown",
   "id": "2d41108e",
   "metadata": {},
   "source": [
    "### Vegetable Images Classfication_LeNet-5_version_1\n"
   ]
  },
  {
   "cell_type": "markdown",
   "id": "777a365e",
   "metadata": {},
   "source": [
    "### 0. 패키지 및 데이터 불러오기\n",
    "\n",
    "+ 이미지를 /225로 정규화    \n",
    "+ LeNet-5의 input 사이즈에 맞춰 이미지를 32 * 32로 조정"
   ]
  },
  {
   "cell_type": "code",
   "execution_count": 1,
   "id": "5d4920b2",
   "metadata": {},
   "outputs": [
    {
     "name": "stdout",
     "output_type": "stream",
     "text": [
      "Requirement already satisfied: keras in c:\\users\\juyeo\\anaconda3\\lib\\site-packages (2.4.3)\n",
      "Requirement already satisfied: scipy>=0.14 in c:\\users\\juyeo\\anaconda3\\lib\\site-packages (from keras) (1.7.3)\n",
      "Requirement already satisfied: pyyaml in c:\\users\\juyeo\\anaconda3\\lib\\site-packages (from keras) (6.0)\n",
      "Requirement already satisfied: numpy>=1.9.1 in c:\\users\\juyeo\\anaconda3\\lib\\site-packages (from keras) (1.19.5)\n",
      "Requirement already satisfied: h5py in c:\\users\\juyeo\\anaconda3\\lib\\site-packages (from keras) (3.1.0)\n",
      "Requirement already satisfied: tensorflow in c:\\users\\juyeo\\anaconda3\\lib\\site-packages (2.5.0)\n",
      "Requirement already satisfied: grpcio~=1.34.0 in c:\\users\\juyeo\\anaconda3\\lib\\site-packages (from tensorflow) (1.34.1)\n",
      "Requirement already satisfied: gast==0.4.0 in c:\\users\\juyeo\\anaconda3\\lib\\site-packages (from tensorflow) (0.4.0)\n",
      "Requirement already satisfied: flatbuffers~=1.12.0 in c:\\users\\juyeo\\anaconda3\\lib\\site-packages (from tensorflow) (1.12)\n",
      "Requirement already satisfied: absl-py~=0.10 in c:\\users\\juyeo\\anaconda3\\lib\\site-packages (from tensorflow) (0.13.0)\n",
      "Requirement already satisfied: typing-extensions~=3.7.4 in c:\\users\\juyeo\\anaconda3\\lib\\site-packages (from tensorflow) (3.7.4.3)\n",
      "Requirement already satisfied: termcolor~=1.1.0 in c:\\users\\juyeo\\anaconda3\\lib\\site-packages (from tensorflow) (1.1.0)\n",
      "Requirement already satisfied: numpy~=1.19.2 in c:\\users\\juyeo\\anaconda3\\lib\\site-packages (from tensorflow) (1.19.5)\n",
      "Requirement already satisfied: astunparse~=1.6.3 in c:\\users\\juyeo\\anaconda3\\lib\\site-packages (from tensorflow) (1.6.3)\n",
      "Requirement already satisfied: opt-einsum~=3.3.0 in c:\\users\\juyeo\\anaconda3\\lib\\site-packages (from tensorflow) (3.3.0)\n",
      "Requirement already satisfied: tensorflow-estimator<2.6.0,>=2.5.0rc0 in c:\\users\\juyeo\\anaconda3\\lib\\site-packages (from tensorflow) (2.5.0)\n",
      "Requirement already satisfied: keras-preprocessing~=1.1.2 in c:\\users\\juyeo\\anaconda3\\lib\\site-packages (from tensorflow) (1.1.2)\n",
      "Requirement already satisfied: google-pasta~=0.2 in c:\\users\\juyeo\\anaconda3\\lib\\site-packages (from tensorflow) (0.2.0)\n",
      "Requirement already satisfied: keras-nightly~=2.5.0.dev in c:\\users\\juyeo\\anaconda3\\lib\\site-packages (from tensorflow) (2.5.0.dev2021032900)\n",
      "Requirement already satisfied: tensorboard~=2.5 in c:\\users\\juyeo\\anaconda3\\lib\\site-packages (from tensorflow) (2.5.0)\n",
      "Requirement already satisfied: protobuf>=3.9.2 in c:\\users\\juyeo\\anaconda3\\lib\\site-packages (from tensorflow) (3.17.3)\n",
      "Requirement already satisfied: h5py~=3.1.0 in c:\\users\\juyeo\\anaconda3\\lib\\site-packages (from tensorflow) (3.1.0)\n",
      "Requirement already satisfied: wheel~=0.35 in c:\\users\\juyeo\\anaconda3\\lib\\site-packages (from tensorflow) (0.37.0)\n",
      "Requirement already satisfied: six~=1.15.0 in c:\\users\\juyeo\\anaconda3\\lib\\site-packages (from tensorflow) (1.15.0)\n",
      "Requirement already satisfied: wrapt~=1.12.1 in c:\\users\\juyeo\\anaconda3\\lib\\site-packages (from tensorflow) (1.12.1)\n",
      "Requirement already satisfied: werkzeug>=0.11.15 in c:\\users\\juyeo\\anaconda3\\lib\\site-packages (from tensorboard~=2.5->tensorflow) (2.0.3)\n",
      "Requirement already satisfied: requests<3,>=2.21.0 in c:\\users\\juyeo\\anaconda3\\lib\\site-packages (from tensorboard~=2.5->tensorflow) (2.26.0)\n",
      "Requirement already satisfied: tensorboard-data-server<0.7.0,>=0.6.0 in c:\\users\\juyeo\\anaconda3\\lib\\site-packages (from tensorboard~=2.5->tensorflow) (0.6.1)\n",
      "Requirement already satisfied: markdown>=2.6.8 in c:\\users\\juyeo\\anaconda3\\lib\\site-packages (from tensorboard~=2.5->tensorflow) (3.3.4)\n",
      "Requirement already satisfied: google-auth-oauthlib<0.5,>=0.4.1 in c:\\users\\juyeo\\anaconda3\\lib\\site-packages (from tensorboard~=2.5->tensorflow) (0.4.4)\n",
      "Requirement already satisfied: setuptools>=41.0.0 in c:\\users\\juyeo\\anaconda3\\lib\\site-packages (from tensorboard~=2.5->tensorflow) (59.2.0)\n",
      "Requirement already satisfied: tensorboard-plugin-wit>=1.6.0 in c:\\users\\juyeo\\anaconda3\\lib\\site-packages (from tensorboard~=2.5->tensorflow) (1.8.0)\n",
      "Requirement already satisfied: google-auth<2,>=1.6.3 in c:\\users\\juyeo\\anaconda3\\lib\\site-packages (from tensorboard~=2.5->tensorflow) (1.32.1)\n",
      "Requirement already satisfied: rsa<5,>=3.1.4 in c:\\users\\juyeo\\anaconda3\\lib\\site-packages (from google-auth<2,>=1.6.3->tensorboard~=2.5->tensorflow) (4.7.2)\n",
      "Requirement already satisfied: cachetools<5.0,>=2.0.0 in c:\\users\\juyeo\\anaconda3\\lib\\site-packages (from google-auth<2,>=1.6.3->tensorboard~=2.5->tensorflow) (4.2.2)\n",
      "Requirement already satisfied: pyasn1-modules>=0.2.1 in c:\\users\\juyeo\\anaconda3\\lib\\site-packages (from google-auth<2,>=1.6.3->tensorboard~=2.5->tensorflow) (0.2.8)\n",
      "Requirement already satisfied: requests-oauthlib>=0.7.0 in c:\\users\\juyeo\\anaconda3\\lib\\site-packages (from google-auth-oauthlib<0.5,>=0.4.1->tensorboard~=2.5->tensorflow) (1.3.0)\n",
      "Requirement already satisfied: certifi>=2017.4.17 in c:\\users\\juyeo\\anaconda3\\lib\\site-packages (from requests<3,>=2.21.0->tensorboard~=2.5->tensorflow) (2021.10.8)\n",
      "Requirement already satisfied: urllib3<1.27,>=1.21.1 in c:\\users\\juyeo\\anaconda3\\lib\\site-packages (from requests<3,>=2.21.0->tensorboard~=2.5->tensorflow) (1.26.7)\n",
      "Requirement already satisfied: idna<4,>=2.5 in c:\\users\\juyeo\\anaconda3\\lib\\site-packages (from requests<3,>=2.21.0->tensorboard~=2.5->tensorflow) (3.1)\n",
      "Requirement already satisfied: charset-normalizer~=2.0.0 in c:\\users\\juyeo\\anaconda3\\lib\\site-packages (from requests<3,>=2.21.0->tensorboard~=2.5->tensorflow) (2.0.8)\n",
      "Requirement already satisfied: pyasn1<0.5.0,>=0.4.6 in c:\\users\\juyeo\\anaconda3\\lib\\site-packages (from pyasn1-modules>=0.2.1->google-auth<2,>=1.6.3->tensorboard~=2.5->tensorflow) (0.4.8)\n",
      "Requirement already satisfied: oauthlib>=3.0.0 in c:\\users\\juyeo\\anaconda3\\lib\\site-packages (from requests-oauthlib>=0.7.0->google-auth-oauthlib<0.5,>=0.4.1->tensorboard~=2.5->tensorflow) (3.1.1)\n",
      "Requirement already satisfied: seaborn in c:\\users\\juyeo\\anaconda3\\lib\\site-packages (0.11.2)\n",
      "Requirement already satisfied: scipy>=1.0 in c:\\users\\juyeo\\anaconda3\\lib\\site-packages (from seaborn) (1.7.3)\n",
      "Requirement already satisfied: pandas>=0.23 in c:\\users\\juyeo\\anaconda3\\lib\\site-packages (from seaborn) (1.3.5)\n",
      "Requirement already satisfied: matplotlib>=2.2 in c:\\users\\juyeo\\anaconda3\\lib\\site-packages (from seaborn) (3.5.1)\n",
      "Requirement already satisfied: numpy>=1.15 in c:\\users\\juyeo\\anaconda3\\lib\\site-packages (from seaborn) (1.19.5)\n",
      "Requirement already satisfied: fonttools>=4.22.0 in c:\\users\\juyeo\\anaconda3\\lib\\site-packages (from matplotlib>=2.2->seaborn) (4.28.5)\n",
      "Requirement already satisfied: python-dateutil>=2.7 in c:\\users\\juyeo\\anaconda3\\lib\\site-packages (from matplotlib>=2.2->seaborn) (2.8.2)\n",
      "Requirement already satisfied: pyparsing>=2.2.1 in c:\\users\\juyeo\\anaconda3\\lib\\site-packages (from matplotlib>=2.2->seaborn) (3.0.6)\n",
      "Requirement already satisfied: cycler>=0.10 in c:\\users\\juyeo\\anaconda3\\lib\\site-packages (from matplotlib>=2.2->seaborn) (0.11.0)\n",
      "Requirement already satisfied: kiwisolver>=1.0.1 in c:\\users\\juyeo\\anaconda3\\lib\\site-packages (from matplotlib>=2.2->seaborn) (1.3.2)\n",
      "Requirement already satisfied: pillow>=6.2.0 in c:\\users\\juyeo\\anaconda3\\lib\\site-packages (from matplotlib>=2.2->seaborn) (8.4.0)\n",
      "Requirement already satisfied: packaging>=20.0 in c:\\users\\juyeo\\anaconda3\\lib\\site-packages (from matplotlib>=2.2->seaborn) (21.3)\n",
      "Requirement already satisfied: pytz>=2017.3 in c:\\users\\juyeo\\anaconda3\\lib\\site-packages (from pandas>=0.23->seaborn) (2021.3)\n",
      "Requirement already satisfied: six>=1.5 in c:\\users\\juyeo\\anaconda3\\lib\\site-packages (from python-dateutil>=2.7->matplotlib>=2.2->seaborn) (1.15.0)\n"
     ]
    }
   ],
   "source": [
    "!pip install keras\n",
    "!pip install tensorflow\n",
    "!pip install seaborn"
   ]
  },
  {
   "cell_type": "code",
   "execution_count": 2,
   "id": "b5920c32",
   "metadata": {},
   "outputs": [],
   "source": [
    "import numpy as np\n",
    "import pandas as pd\n",
    "\n",
    "from tensorflow import keras\n",
    "from tensorflow.keras import layers\n",
    "from tensorflow.keras.layers import Dense, Conv2D, MaxPooling2D, Flatten, GlobalMaxPooling2D\n",
    "from tensorflow.keras.models import Sequential\n",
    "from tensorflow.keras.preprocessing.image import ImageDataGenerator\n",
    "from tensorflow.keras.utils import to_categorical\n",
    "\n",
    "from matplotlib import pyplot as plt\n",
    "import seaborn as sns"
   ]
  },
  {
   "cell_type": "code",
   "execution_count": 3,
   "id": "56c3e609",
   "metadata": {},
   "outputs": [],
   "source": [
    "BASE_DIR ='Vegetable Images/'"
   ]
  },
  {
   "cell_type": "code",
   "execution_count": 4,
   "id": "aec2751b",
   "metadata": {},
   "outputs": [
    {
     "name": "stdout",
     "output_type": "stream",
     "text": [
      "Found 15000 images belonging to 15 classes.\n"
     ]
    }
   ],
   "source": [
    "#/225로 정규화 처리 후 이미지 불러오기\n",
    "train_datagen = ImageDataGenerator(rescale=1./255) \n",
    "\n",
    "#LeNet-5 이미지 사이즈에 맞춰 32*32로 이미지 불러오기\n",
    "train_datagen_flow = train_datagen.flow_from_directory(BASE_DIR + 'train', target_size=(32,32), seed=42, class_mode='categorical') "
   ]
  },
  {
   "cell_type": "code",
   "execution_count": 5,
   "id": "1816af1f",
   "metadata": {},
   "outputs": [
    {
     "name": "stdout",
     "output_type": "stream",
     "text": [
      "(32, 32, 3)\n"
     ]
    },
    {
     "data": {
      "image/png": "[encoded data removed]",
      "text/plain": [
       "<Figure size 432x288 with 1 Axes>"
      ]
     },
     "metadata": {
      "needs_background": "light"
     },
     "output_type": "display_data"
    }
   ],
   "source": [
    "x_train, y_train = train_datagen_flow.next()\n",
    "\n",
    "print(x_train[0].shape)\n",
    "plt.imshow(x_train[0])\n",
    "plt.show()"
   ]
  },
  {
   "cell_type": "code",
   "execution_count": 6,
   "id": "087bbbb6",
   "metadata": {},
   "outputs": [
    {
     "name": "stdout",
     "output_type": "stream",
     "text": [
      "Found 3000 images belonging to 15 classes.\n"
     ]
    }
   ],
   "source": [
    "valid_datagen = ImageDataGenerator(rescale=1./255)\n",
    "valid_datagen_flow = valid_datagen.flow_from_directory(BASE_DIR + 'validation', target_size=(32,32),seed=42, class_mode='categorical')"
   ]
  },
  {
   "cell_type": "code",
   "execution_count": 7,
   "id": "77fa3f58",
   "metadata": {},
   "outputs": [
    {
     "name": "stdout",
     "output_type": "stream",
     "text": [
      "(32, 32, 3)\n"
     ]
    },
    {
     "data": {
      "image/png": "[encoded data removed]",
      "text/plain": [
       "<Figure size 432x288 with 1 Axes>"
      ]
     },
     "metadata": {
      "needs_background": "light"
     },
     "output_type": "display_data"
    }
   ],
   "source": [
    "x_valid,y_valid = valid_datagen_flow.next()\n",
    "\n",
    "print(x_valid[0].shape)\n",
    "plt.imshow(x_valid[0])\n",
    "plt.show()"
   ]
  },
  {
   "cell_type": "code",
   "execution_count": 8,
   "id": "f1f0ada5",
   "metadata": {},
   "outputs": [
    {
     "name": "stdout",
     "output_type": "stream",
     "text": [
      "Found 3000 images belonging to 15 classes.\n"
     ]
    }
   ],
   "source": [
    "test_datagen = ImageDataGenerator(rescale=1./255)\n",
    "test_datagen_flow = test_datagen.flow_from_directory(BASE_DIR + 'test', target_size=(32,32),seed=42, class_mode='categorical')"
   ]
  },
  {
   "cell_type": "code",
   "execution_count": 9,
   "id": "6f2a318f",
   "metadata": {},
   "outputs": [
    {
     "name": "stdout",
     "output_type": "stream",
     "text": [
      "(32, 32, 3)\n"
     ]
    },
    {
     "data": {
      "image/png": "[encoded data removed]",
      "text/plain": [
       "<Figure size 432x288 with 1 Axes>"
      ]
     },
     "metadata": {
      "needs_background": "light"
     },
     "output_type": "display_data"
    }
   ],
   "source": [
    "x_test,y_test = test_datagen_flow.next()\n",
    "\n",
    "print(x_test[0].shape)\n",
    "plt.imshow(x_test[0])\n",
    "plt.show()"
   ]
  },
  {
   "cell_type": "markdown",
   "id": "6b38ff96",
   "metadata": {},
   "source": [
    "### 2. LeNet-5 모델링\n",
    "\n",
    "+ train, test 의 사이즈 확인\n",
    "+ LeNet-5 모델링"
   ]
  },
  {
   "cell_type": "code",
   "execution_count": 10,
   "id": "839d7411",
   "metadata": {},
   "outputs": [
    {
     "name": "stdout",
     "output_type": "stream",
     "text": [
      "x_train shape: (32, 32, 32, 3)\n",
      "32 train samples\n",
      "32 test samples\n",
      "(32, 32, 3) image shape\n"
     ]
    }
   ],
   "source": [
    "print('x_train shape:', x_train.shape)\n",
    "print(x_train.shape[0], 'train samples')\n",
    "print(x_test.shape[0], 'test samples')\n",
    "print(x_train[0].shape, 'image shape')"
   ]
  },
  {
   "cell_type": "code",
   "execution_count": 11,
   "id": "caa5997b",
   "metadata": {},
   "outputs": [],
   "source": [
    "x_train = x_train.astype('float32')\n",
    "x_test = x_test.astype('float32')\n",
    "x_train /= 255\n",
    "x_test /= 255"
   ]
  },
  {
   "cell_type": "code",
   "execution_count": 12,
   "id": "18ae0268",
   "metadata": {},
   "outputs": [],
   "source": [
    "input_shape = x_train[0].shape"
   ]
  },
  {
   "cell_type": "code",
   "execution_count": 13,
   "id": "e6cbd234",
   "metadata": {},
   "outputs": [],
   "source": [
    "#LeNet-5 modeling\n",
    "\n",
    "model = keras.models.Sequential([\n",
    "  keras.layers.Conv2D(6, kernel_size=(5, 5), strides=(1, 1), activation='tanh', input_shape=input_shape, padding=\"same\"),\n",
    "  keras.layers.AveragePooling2D(pool_size=(2, 2), strides=(2, 2), padding='valid'),\n",
    "  keras.layers.Conv2D(16, kernel_size=(5, 5), strides=(1, 1), activation='tanh', padding='valid'),\n",
    "  keras.layers.AveragePooling2D(pool_size=(2, 2), strides=(2, 2), padding='valid'),\n",
    "  keras.layers.Conv2D(120,kernel_size=(5, 5), strides = (1,1), activation = 'tanh', padding='valid'),\n",
    "  keras.layers.Flatten(),\n",
    "  keras.layers.Dense(120, activation='tanh'),\n",
    "  keras.layers.Dense(84, activation='tanh'),\n",
    "  keras.layers.Dense(15, activation='softmax')\n",
    "])"
   ]
  },
  {
   "cell_type": "code",
   "execution_count": 14,
   "id": "a19ff7c2",
   "metadata": {},
   "outputs": [
    {
     "name": "stdout",
     "output_type": "stream",
     "text": [
      "Model: \"sequential\"\n",
      "_________________________________________________________________\n",
      "Layer (type)                 Output Shape              Param #   \n",
      "=================================================================\n",
      "conv2d (Conv2D)              (None, 32, 32, 6)         456       \n",
      "_________________________________________________________________\n",
      "average_pooling2d (AveragePo (None, 16, 16, 6)         0         \n",
      "_________________________________________________________________\n",
      "conv2d_1 (Conv2D)            (None, 12, 12, 16)        2416      \n",
      "_________________________________________________________________\n",
      "average_pooling2d_1 (Average (None, 6, 6, 16)          0         \n",
      "_________________________________________________________________\n",
      "conv2d_2 (Conv2D)            (None, 2, 2, 120)         48120     \n",
      "_________________________________________________________________\n",
      "flatten (Flatten)            (None, 480)               0         \n",
      "_________________________________________________________________\n",
      "dense (Dense)                (None, 120)               57720     \n",
      "_________________________________________________________________\n",
      "dense_1 (Dense)              (None, 84)                10164     \n",
      "_________________________________________________________________\n",
      "dense_2 (Dense)              (None, 15)                1275      \n",
      "=================================================================\n",
      "Total params: 120,151\n",
      "Trainable params: 120,151\n",
      "Non-trainable params: 0\n",
      "_________________________________________________________________\n"
     ]
    }
   ],
   "source": [
    "model.summary()"
   ]
  },
  {
   "cell_type": "code",
   "execution_count": 15,
   "id": "aa9b2984",
   "metadata": {},
   "outputs": [],
   "source": [
    "model.compile(optimizer='sgd', loss='mse', metrics=['accuracy'])"
   ]
  },
  {
   "cell_type": "markdown",
   "id": "7eb19475",
   "metadata": {},
   "source": [
    "### 3. 모델 적용 및 결과\n",
    "\n",
    "+ 모델 적용\n",
    "+ history 그래프 시각화\n",
    "+ test 적용 평가"
   ]
  },
  {
   "cell_type": "code",
   "execution_count": 16,
   "id": "33e3c276",
   "metadata": {
    "scrolled": false
   },
   "outputs": [
    {
     "name": "stdout",
     "output_type": "stream",
     "text": [
      "Epoch 1/50\n",
      "1/1 [==============================] - 1s 511ms/step - loss: 0.0622 - accuracy: 0.0312 - val_loss: 0.0622 - val_accuracy: 0.0938\n",
      "Epoch 2/50\n",
      "1/1 [==============================] - 0s 42ms/step - loss: 0.0622 - accuracy: 0.0312 - val_loss: 0.0622 - val_accuracy: 0.0938\n",
      "Epoch 3/50\n",
      "1/1 [==============================] - 0s 37ms/step - loss: 0.0622 - accuracy: 0.0312 - val_loss: 0.0622 - val_accuracy: 0.0938\n",
      "Epoch 4/50\n",
      "1/1 [==============================] - 0s 35ms/step - loss: 0.0622 - accuracy: 0.0312 - val_loss: 0.0622 - val_accuracy: 0.0938\n",
      "Epoch 5/50\n",
      "1/1 [==============================] - 0s 37ms/step - loss: 0.0622 - accuracy: 0.0312 - val_loss: 0.0622 - val_accuracy: 0.0938\n",
      "Epoch 6/50\n",
      "1/1 [==============================] - 0s 39ms/step - loss: 0.0622 - accuracy: 0.0312 - val_loss: 0.0622 - val_accuracy: 0.0938\n",
      "Epoch 7/50\n",
      "1/1 [==============================] - 0s 39ms/step - loss: 0.0622 - accuracy: 0.0625 - val_loss: 0.0622 - val_accuracy: 0.0938\n",
      "Epoch 8/50\n",
      "1/1 [==============================] - 0s 37ms/step - loss: 0.0622 - accuracy: 0.0625 - val_loss: 0.0622 - val_accuracy: 0.0938\n",
      "Epoch 9/50\n",
      "1/1 [==============================] - 0s 37ms/step - loss: 0.0622 - accuracy: 0.0625 - val_loss: 0.0622 - val_accuracy: 0.0938\n",
      "Epoch 10/50\n",
      "1/1 [==============================] - 0s 38ms/step - loss: 0.0622 - accuracy: 0.0625 - val_loss: 0.0622 - val_accuracy: 0.0938\n",
      "Epoch 11/50\n",
      "1/1 [==============================] - 0s 40ms/step - loss: 0.0622 - accuracy: 0.0938 - val_loss: 0.0622 - val_accuracy: 0.0938\n",
      "Epoch 12/50\n",
      "1/1 [==============================] - 0s 38ms/step - loss: 0.0622 - accuracy: 0.0938 - val_loss: 0.0622 - val_accuracy: 0.0938\n",
      "Epoch 13/50\n",
      "1/1 [==============================] - 0s 38ms/step - loss: 0.0622 - accuracy: 0.0938 - val_loss: 0.0622 - val_accuracy: 0.0938\n",
      "Epoch 14/50\n",
      "1/1 [==============================] - 0s 43ms/step - loss: 0.0622 - accuracy: 0.0938 - val_loss: 0.0622 - val_accuracy: 0.0938\n",
      "Epoch 15/50\n",
      "1/1 [==============================] - 0s 41ms/step - loss: 0.0622 - accuracy: 0.0938 - val_loss: 0.0622 - val_accuracy: 0.0938\n",
      "Epoch 16/50\n",
      "1/1 [==============================] - 0s 37ms/step - loss: 0.0622 - accuracy: 0.0938 - val_loss: 0.0622 - val_accuracy: 0.0938\n",
      "Epoch 17/50\n",
      "1/1 [==============================] - 0s 43ms/step - loss: 0.0622 - accuracy: 0.0938 - val_loss: 0.0622 - val_accuracy: 0.0938\n",
      "Epoch 18/50\n",
      "1/1 [==============================] - 0s 35ms/step - loss: 0.0622 - accuracy: 0.0938 - val_loss: 0.0622 - val_accuracy: 0.0938\n",
      "Epoch 19/50\n",
      "1/1 [==============================] - 0s 37ms/step - loss: 0.0622 - accuracy: 0.0938 - val_loss: 0.0622 - val_accuracy: 0.0938\n",
      "Epoch 20/50\n",
      "1/1 [==============================] - 0s 45ms/step - loss: 0.0622 - accuracy: 0.0938 - val_loss: 0.0622 - val_accuracy: 0.0938\n",
      "Epoch 21/50\n",
      "1/1 [==============================] - 0s 37ms/step - loss: 0.0622 - accuracy: 0.0938 - val_loss: 0.0622 - val_accuracy: 0.0938\n",
      "Epoch 22/50\n",
      "1/1 [==============================] - 0s 36ms/step - loss: 0.0622 - accuracy: 0.0938 - val_loss: 0.0622 - val_accuracy: 0.0938\n",
      "Epoch 23/50\n",
      "1/1 [==============================] - 0s 39ms/step - loss: 0.0622 - accuracy: 0.1250 - val_loss: 0.0622 - val_accuracy: 0.0938\n",
      "Epoch 24/50\n",
      "1/1 [==============================] - 0s 38ms/step - loss: 0.0622 - accuracy: 0.1562 - val_loss: 0.0622 - val_accuracy: 0.0938\n",
      "Epoch 25/50\n",
      "1/1 [==============================] - 0s 37ms/step - loss: 0.0622 - accuracy: 0.1562 - val_loss: 0.0622 - val_accuracy: 0.0938\n",
      "Epoch 26/50\n",
      "1/1 [==============================] - 0s 37ms/step - loss: 0.0622 - accuracy: 0.1875 - val_loss: 0.0622 - val_accuracy: 0.0938\n",
      "Epoch 27/50\n",
      "1/1 [==============================] - 0s 34ms/step - loss: 0.0622 - accuracy: 0.1875 - val_loss: 0.0622 - val_accuracy: 0.0938\n",
      "Epoch 28/50\n",
      "1/1 [==============================] - 0s 39ms/step - loss: 0.0622 - accuracy: 0.1875 - val_loss: 0.0622 - val_accuracy: 0.0938\n",
      "Epoch 29/50\n",
      "1/1 [==============================] - 0s 37ms/step - loss: 0.0622 - accuracy: 0.1875 - val_loss: 0.0622 - val_accuracy: 0.0938\n",
      "Epoch 30/50\n",
      "1/1 [==============================] - 0s 39ms/step - loss: 0.0622 - accuracy: 0.1875 - val_loss: 0.0622 - val_accuracy: 0.0938\n",
      "Epoch 31/50\n",
      "1/1 [==============================] - 0s 38ms/step - loss: 0.0622 - accuracy: 0.1875 - val_loss: 0.0622 - val_accuracy: 0.0938\n",
      "Epoch 32/50\n",
      "1/1 [==============================] - 0s 37ms/step - loss: 0.0622 - accuracy: 0.1875 - val_loss: 0.0622 - val_accuracy: 0.0938\n",
      "Epoch 33/50\n",
      "1/1 [==============================] - 0s 35ms/step - loss: 0.0622 - accuracy: 0.1875 - val_loss: 0.0622 - val_accuracy: 0.0938\n",
      "Epoch 34/50\n",
      "1/1 [==============================] - 0s 36ms/step - loss: 0.0622 - accuracy: 0.1875 - val_loss: 0.0622 - val_accuracy: 0.0938\n",
      "Epoch 35/50\n",
      "1/1 [==============================] - 0s 42ms/step - loss: 0.0622 - accuracy: 0.1875 - val_loss: 0.0622 - val_accuracy: 0.0938\n",
      "Epoch 36/50\n",
      "1/1 [==============================] - 0s 36ms/step - loss: 0.0622 - accuracy: 0.1875 - val_loss: 0.0622 - val_accuracy: 0.0938\n",
      "Epoch 37/50\n",
      "1/1 [==============================] - 0s 37ms/step - loss: 0.0622 - accuracy: 0.1875 - val_loss: 0.0622 - val_accuracy: 0.0938\n",
      "Epoch 38/50\n",
      "1/1 [==============================] - 0s 39ms/step - loss: 0.0622 - accuracy: 0.1875 - val_loss: 0.0622 - val_accuracy: 0.0938\n",
      "Epoch 39/50\n",
      "1/1 [==============================] - 0s 37ms/step - loss: 0.0622 - accuracy: 0.1875 - val_loss: 0.0622 - val_accuracy: 0.0938\n",
      "Epoch 40/50\n",
      "1/1 [==============================] - 0s 38ms/step - loss: 0.0622 - accuracy: 0.1875 - val_loss: 0.0622 - val_accuracy: 0.0938\n",
      "Epoch 41/50\n",
      "1/1 [==============================] - 0s 36ms/step - loss: 0.0622 - accuracy: 0.1875 - val_loss: 0.0622 - val_accuracy: 0.0938\n",
      "Epoch 42/50\n",
      "1/1 [==============================] - 0s 39ms/step - loss: 0.0622 - accuracy: 0.1875 - val_loss: 0.0622 - val_accuracy: 0.0938\n",
      "Epoch 43/50\n",
      "1/1 [==============================] - 0s 38ms/step - loss: 0.0622 - accuracy: 0.1875 - val_loss: 0.0622 - val_accuracy: 0.0938\n",
      "Epoch 44/50\n",
      "1/1 [==============================] - 0s 39ms/step - loss: 0.0622 - accuracy: 0.1875 - val_loss: 0.0622 - val_accuracy: 0.0938\n",
      "Epoch 45/50\n",
      "1/1 [==============================] - 0s 34ms/step - loss: 0.0622 - accuracy: 0.1875 - val_loss: 0.0622 - val_accuracy: 0.0938\n",
      "Epoch 46/50\n",
      "1/1 [==============================] - 0s 37ms/step - loss: 0.0622 - accuracy: 0.1875 - val_loss: 0.0622 - val_accuracy: 0.0938\n",
      "Epoch 47/50\n",
      "1/1 [==============================] - 0s 37ms/step - loss: 0.0622 - accuracy: 0.1875 - val_loss: 0.0622 - val_accuracy: 0.0938\n",
      "Epoch 48/50\n",
      "1/1 [==============================] - 0s 38ms/step - loss: 0.0622 - accuracy: 0.1875 - val_loss: 0.0622 - val_accuracy: 0.0938\n",
      "Epoch 49/50\n",
      "1/1 [==============================] - 0s 40ms/step - loss: 0.0622 - accuracy: 0.1875 - val_loss: 0.0622 - val_accuracy: 0.0938\n",
      "Epoch 50/50\n",
      "1/1 [==============================] - 0s 36ms/step - loss: 0.0622 - accuracy: 0.1875 - val_loss: 0.0622 - val_accuracy: 0.0938\n"
     ]
    }
   ],
   "source": [
    "history = model.fit(x_train, y=y_train, \n",
    "          epochs=50, \n",
    "          batch_size = 32,\n",
    "          validation_data=(x_valid, y_valid), \n",
    "          verbose=1)"
   ]
  },
  {
   "cell_type": "code",
   "execution_count": 17,
   "id": "1d7d3868",
   "metadata": {
    "scrolled": true
   },
   "outputs": [],
   "source": [
    "acc = history.history['accuracy']\n",
    "loss = history.history['loss']\n",
    "val_acc = history.history['val_accuracy']\n",
    "val_loss = history.history['val_loss']"
   ]
  },
  {
   "cell_type": "code",
   "execution_count": 18,
   "id": "38a519aa",
   "metadata": {
    "scrolled": true
   },
   "outputs": [
    {
     "data": {
      "image/png": "[encoded data removed]",
      "text/plain": [
       "<Figure size 576x576 with 2 Axes>"
      ]
     },
     "metadata": {
      "needs_background": "light"
     },
     "output_type": "display_data"
    }
   ],
   "source": [
    "plt.figure(figsize=(8,8))\n",
    "plt.subplot(1, 2, 1)\n",
    "plt.plot(acc, label='Training Accuracy')\n",
    "plt.plot(val_acc, label='Valid Accuracy')\n",
    "plt.legend(loc='lower right')\n",
    "plt.title('Training Accuracy')\n",
    "\n",
    "plt.subplot(1, 2, 2)\n",
    "plt.plot(loss, label='Training Loss')\n",
    "plt.plot(val_loss, label='Valid loss')\n",
    "plt.legend(loc='upper right')\n",
    "plt.title('Training Loss')\n",
    "plt.show()"
   ]
  },
  {
   "cell_type": "code",
   "execution_count": 19,
   "id": "b1daae02",
   "metadata": {},
   "outputs": [
    {
     "name": "stdout",
     "output_type": "stream",
     "text": [
      "1/1 [==============================] - 0s 16ms/step - loss: 0.0622 - accuracy: 0.0938\n"
     ]
    }
   ],
   "source": [
    "test_score = model.evaluate(x_test,y_test)"
   ]
  },
  {
   "cell_type": "code",
   "execution_count": 20,
   "id": "4c9119ef",
   "metadata": {},
   "outputs": [
    {
     "name": "stdout",
     "output_type": "stream",
     "text": [
      "Test loss 0.0622, accuracy 9.38%\n"
     ]
    }
   ],
   "source": [
    "print('Test loss {:.4f}, accuracy {:.2f}%'.format(test_score[0], test_score[1] * 100))"
   ]
  },
  {
   "cell_type": "markdown",
   "id": "64d5c7ac",
   "metadata": {},
   "source": [
    "## 결론\n",
    "\n",
    "+ LeNet-5를 이용한 채소 이미지 분류는 정확도 9.38%로 굉장히 낮은 결과를 보인다\n",
    "+ 32 * 32의 낮은 픽셀을 사용한 영향이 큰 것으로 추정된다."
   ]
  }
 ],
 "metadata": {
  "kernelspec": {
   "display_name": "Python [conda env:root] *",
   "language": "python",
   "name": "conda-root-py"
  },
  "language_info": {
   "codemirror_mode": {
    "name": "ipython",
    "version": 3
   },
   "file_extension": ".py",
   "mimetype": "text/x-python",
   "name": "python",
   "nbconvert_exporter": "python",
   "pygments_lexer": "ipython3",
   "version": "3.8.8"
  }
 },
 "nbformat": 4,
 "nbformat_minor": 5
}
