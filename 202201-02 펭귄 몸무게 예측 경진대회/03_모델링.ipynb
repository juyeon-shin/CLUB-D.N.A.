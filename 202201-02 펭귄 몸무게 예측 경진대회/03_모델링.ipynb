{
  "nbformat": 4,
  "nbformat_minor": 0,
  "metadata": {
    "colab": {
      "name": "03. 모델링.ipynb",
      "provenance": [],
      "collapsed_sections": [
        "7WJoi0KX8b5C",
        "6s1ughUFCoKz",
        "Ny-Xd6yk9uQm",
        "ibkL_TPu903Q",
        "j-P8_hHe2jWS",
        "NN4FI_4mDn9q",
        "cByRxNKR89XZ",
        "nxfzaN3_Eb_V",
        "9Sw8Op5aFtyF",
        "LiSXrMGxF_oe",
        "YtuOtuDgGw2I"
      ],
      "authorship_tag": "ABX9TyP4LHfdiV3ane6NwcASwCdO",
      "include_colab_link": true
    },
    "kernelspec": {
      "name": "python3",
      "display_name": "Python 3"
    },
    "language_info": {
      "name": "python"
    }
  },
  "cells": [
    {
      "cell_type": "markdown",
      "metadata": {
        "id": "view-in-github",
        "colab_type": "text"
      },
      "source": [
        "<a href=\"https://colab.research.google.com/github/juyeon-shin/CLUB-D.N.A./blob/main/2022/01.%20%ED%8E%AD%EA%B7%84%20%EB%AA%B8%EB%AC%B4%EA%B2%8C%20%EC%98%88%EC%B8%A1%20%EA%B2%BD%EC%A7%84%EB%8C%80%ED%9A%8C/03_%EB%AA%A8%EB%8D%B8%EB%A7%81.ipynb\" target=\"_parent\"><img src=\"https://colab.research.google.com/assets/colab-badge.svg\" alt=\"Open In Colab\"/></a>"
      ]
    },
    {
      "cell_type": "code",
      "execution_count": 1,
      "metadata": {
        "colab": {
          "base_uri": "https://localhost:8080/"
        },
        "id": "36qtm3GA4b0B",
        "outputId": "d6394d5b-7c58-4b70-81f3-57a765d5fc7d"
      },
      "outputs": [
        {
          "output_type": "stream",
          "name": "stdout",
          "text": [
            "Mounted at /content/drive\n"
          ]
        }
      ],
      "source": [
        "from google.colab import drive\n",
        "drive.mount('/content/drive')"
      ]
    },
    {
      "cell_type": "code",
      "source": [
        "import pandas as pd\n",
        "import numpy as np"
      ],
      "metadata": {
        "id": "bHNYbQGQ4yET"
      },
      "execution_count": 2,
      "outputs": []
    },
    {
      "cell_type": "code",
      "source": [
        "train = pd.read_csv('/content/drive/MyDrive/2022/202201 펭귄 몸무게 예측 경진대회/데이터/pret_train.csv')\n",
        "train"
      ],
      "metadata": {
        "colab": {
          "base_uri": "https://localhost:8080/",
          "height": 423
        },
        "id": "cBLddbFZ4rZn",
        "outputId": "fd0894f0-77b4-4b09-8f2c-ca8a0334d390"
      },
      "execution_count": 3,
      "outputs": [
        {
          "output_type": "execute_result",
          "data": {
            "text/html": [
              "\n",
              "  <div id=\"df-6c7cba40-9c47-49bf-b747-70ab7cdf3e2c\">\n",
              "    <div class=\"colab-df-container\">\n",
              "      <div>\n",
              "<style scoped>\n",
              "    .dataframe tbody tr th:only-of-type {\n",
              "        vertical-align: middle;\n",
              "    }\n",
              "\n",
              "    .dataframe tbody tr th {\n",
              "        vertical-align: top;\n",
              "    }\n",
              "\n",
              "    .dataframe thead th {\n",
              "        text-align: right;\n",
              "    }\n",
              "</style>\n",
              "<table border=\"1\" class=\"dataframe\">\n",
              "  <thead>\n",
              "    <tr style=\"text-align: right;\">\n",
              "      <th></th>\n",
              "      <th>id</th>\n",
              "      <th>Species</th>\n",
              "      <th>Island</th>\n",
              "      <th>Clutch Completion</th>\n",
              "      <th>Culmen Length (mm)</th>\n",
              "      <th>Culmen Depth (mm)</th>\n",
              "      <th>Flipper Length (mm)</th>\n",
              "      <th>Sex</th>\n",
              "      <th>Delta 15 N (o/oo)</th>\n",
              "      <th>Delta 13 C (o/oo)</th>\n",
              "      <th>Body Mass (g)</th>\n",
              "    </tr>\n",
              "  </thead>\n",
              "  <tbody>\n",
              "    <tr>\n",
              "      <th>0</th>\n",
              "      <td>0</td>\n",
              "      <td>Gentoo penguin (Pygoscelis papua)</td>\n",
              "      <td>Biscoe</td>\n",
              "      <td>Yes</td>\n",
              "      <td>50.0</td>\n",
              "      <td>15.3</td>\n",
              "      <td>220</td>\n",
              "      <td>MALE</td>\n",
              "      <td>8.305150</td>\n",
              "      <td>-25.190170</td>\n",
              "      <td>5550</td>\n",
              "    </tr>\n",
              "    <tr>\n",
              "      <th>1</th>\n",
              "      <td>1</td>\n",
              "      <td>Chinstrap penguin (Pygoscelis antarctica)</td>\n",
              "      <td>Dream</td>\n",
              "      <td>No</td>\n",
              "      <td>49.5</td>\n",
              "      <td>19.0</td>\n",
              "      <td>200</td>\n",
              "      <td>MALE</td>\n",
              "      <td>9.630740</td>\n",
              "      <td>-24.346840</td>\n",
              "      <td>3800</td>\n",
              "    </tr>\n",
              "    <tr>\n",
              "      <th>2</th>\n",
              "      <td>2</td>\n",
              "      <td>Gentoo penguin (Pygoscelis papua)</td>\n",
              "      <td>Biscoe</td>\n",
              "      <td>Yes</td>\n",
              "      <td>45.1</td>\n",
              "      <td>14.4</td>\n",
              "      <td>210</td>\n",
              "      <td>FEMALE</td>\n",
              "      <td>8.519510</td>\n",
              "      <td>-27.018540</td>\n",
              "      <td>4400</td>\n",
              "    </tr>\n",
              "    <tr>\n",
              "      <th>3</th>\n",
              "      <td>3</td>\n",
              "      <td>Gentoo penguin (Pygoscelis papua)</td>\n",
              "      <td>Biscoe</td>\n",
              "      <td>Yes</td>\n",
              "      <td>44.5</td>\n",
              "      <td>14.7</td>\n",
              "      <td>214</td>\n",
              "      <td>FEMALE</td>\n",
              "      <td>8.201060</td>\n",
              "      <td>-26.165240</td>\n",
              "      <td>4850</td>\n",
              "    </tr>\n",
              "    <tr>\n",
              "      <th>4</th>\n",
              "      <td>4</td>\n",
              "      <td>Gentoo penguin (Pygoscelis papua)</td>\n",
              "      <td>Biscoe</td>\n",
              "      <td>No</td>\n",
              "      <td>49.6</td>\n",
              "      <td>16.0</td>\n",
              "      <td>225</td>\n",
              "      <td>MALE</td>\n",
              "      <td>8.383240</td>\n",
              "      <td>-26.842720</td>\n",
              "      <td>5700</td>\n",
              "    </tr>\n",
              "    <tr>\n",
              "      <th>...</th>\n",
              "      <td>...</td>\n",
              "      <td>...</td>\n",
              "      <td>...</td>\n",
              "      <td>...</td>\n",
              "      <td>...</td>\n",
              "      <td>...</td>\n",
              "      <td>...</td>\n",
              "      <td>...</td>\n",
              "      <td>...</td>\n",
              "      <td>...</td>\n",
              "      <td>...</td>\n",
              "    </tr>\n",
              "    <tr>\n",
              "      <th>106</th>\n",
              "      <td>109</td>\n",
              "      <td>Adelie Penguin (Pygoscelis adeliae)</td>\n",
              "      <td>Torgersen</td>\n",
              "      <td>Yes</td>\n",
              "      <td>36.6</td>\n",
              "      <td>17.8</td>\n",
              "      <td>185</td>\n",
              "      <td>FEMALE</td>\n",
              "      <td>8.738543</td>\n",
              "      <td>-25.718804</td>\n",
              "      <td>3700</td>\n",
              "    </tr>\n",
              "    <tr>\n",
              "      <th>107</th>\n",
              "      <td>110</td>\n",
              "      <td>Adelie Penguin (Pygoscelis adeliae)</td>\n",
              "      <td>Dream</td>\n",
              "      <td>Yes</td>\n",
              "      <td>39.2</td>\n",
              "      <td>18.6</td>\n",
              "      <td>190</td>\n",
              "      <td>MALE</td>\n",
              "      <td>9.110060</td>\n",
              "      <td>-25.795490</td>\n",
              "      <td>4250</td>\n",
              "    </tr>\n",
              "    <tr>\n",
              "      <th>108</th>\n",
              "      <td>111</td>\n",
              "      <td>Adelie Penguin (Pygoscelis adeliae)</td>\n",
              "      <td>Dream</td>\n",
              "      <td>Yes</td>\n",
              "      <td>43.2</td>\n",
              "      <td>18.5</td>\n",
              "      <td>192</td>\n",
              "      <td>MALE</td>\n",
              "      <td>8.970250</td>\n",
              "      <td>-26.036790</td>\n",
              "      <td>4100</td>\n",
              "    </tr>\n",
              "    <tr>\n",
              "      <th>109</th>\n",
              "      <td>112</td>\n",
              "      <td>Chinstrap penguin (Pygoscelis antarctica)</td>\n",
              "      <td>Dream</td>\n",
              "      <td>No</td>\n",
              "      <td>46.9</td>\n",
              "      <td>16.6</td>\n",
              "      <td>192</td>\n",
              "      <td>FEMALE</td>\n",
              "      <td>9.805890</td>\n",
              "      <td>-24.737350</td>\n",
              "      <td>2700</td>\n",
              "    </tr>\n",
              "    <tr>\n",
              "      <th>110</th>\n",
              "      <td>113</td>\n",
              "      <td>Gentoo penguin (Pygoscelis papua)</td>\n",
              "      <td>Biscoe</td>\n",
              "      <td>Yes</td>\n",
              "      <td>50.8</td>\n",
              "      <td>17.3</td>\n",
              "      <td>228</td>\n",
              "      <td>MALE</td>\n",
              "      <td>8.274280</td>\n",
              "      <td>-26.300190</td>\n",
              "      <td>5600</td>\n",
              "    </tr>\n",
              "  </tbody>\n",
              "</table>\n",
              "<p>111 rows × 11 columns</p>\n",
              "</div>\n",
              "      <button class=\"colab-df-convert\" onclick=\"convertToInteractive('df-6c7cba40-9c47-49bf-b747-70ab7cdf3e2c')\"\n",
              "              title=\"Convert this dataframe to an interactive table.\"\n",
              "              style=\"display:none;\">\n",
              "        \n",
              "  <svg xmlns=\"http://www.w3.org/2000/svg\" height=\"24px\"viewBox=\"0 0 24 24\"\n",
              "       width=\"24px\">\n",
              "    <path d=\"M0 0h24v24H0V0z\" fill=\"none\"/>\n",
              "    <path d=\"M18.56 5.44l.94 2.06.94-2.06 2.06-.94-2.06-.94-.94-2.06-.94 2.06-2.06.94zm-11 1L8.5 8.5l.94-2.06 2.06-.94-2.06-.94L8.5 2.5l-.94 2.06-2.06.94zm10 10l.94 2.06.94-2.06 2.06-.94-2.06-.94-.94-2.06-.94 2.06-2.06.94z\"/><path d=\"M17.41 7.96l-1.37-1.37c-.4-.4-.92-.59-1.43-.59-.52 0-1.04.2-1.43.59L10.3 9.45l-7.72 7.72c-.78.78-.78 2.05 0 2.83L4 21.41c.39.39.9.59 1.41.59.51 0 1.02-.2 1.41-.59l7.78-7.78 2.81-2.81c.8-.78.8-2.07 0-2.86zM5.41 20L4 18.59l7.72-7.72 1.47 1.35L5.41 20z\"/>\n",
              "  </svg>\n",
              "      </button>\n",
              "      \n",
              "  <style>\n",
              "    .colab-df-container {\n",
              "      display:flex;\n",
              "      flex-wrap:wrap;\n",
              "      gap: 12px;\n",
              "    }\n",
              "\n",
              "    .colab-df-convert {\n",
              "      background-color: #E8F0FE;\n",
              "      border: none;\n",
              "      border-radius: 50%;\n",
              "      cursor: pointer;\n",
              "      display: none;\n",
              "      fill: #1967D2;\n",
              "      height: 32px;\n",
              "      padding: 0 0 0 0;\n",
              "      width: 32px;\n",
              "    }\n",
              "\n",
              "    .colab-df-convert:hover {\n",
              "      background-color: #E2EBFA;\n",
              "      box-shadow: 0px 1px 2px rgba(60, 64, 67, 0.3), 0px 1px 3px 1px rgba(60, 64, 67, 0.15);\n",
              "      fill: #174EA6;\n",
              "    }\n",
              "\n",
              "    [theme=dark] .colab-df-convert {\n",
              "      background-color: #3B4455;\n",
              "      fill: #D2E3FC;\n",
              "    }\n",
              "\n",
              "    [theme=dark] .colab-df-convert:hover {\n",
              "      background-color: #434B5C;\n",
              "      box-shadow: 0px 1px 3px 1px rgba(0, 0, 0, 0.15);\n",
              "      filter: drop-shadow(0px 1px 2px rgba(0, 0, 0, 0.3));\n",
              "      fill: #FFFFFF;\n",
              "    }\n",
              "  </style>\n",
              "\n",
              "      <script>\n",
              "        const buttonEl =\n",
              "          document.querySelector('#df-6c7cba40-9c47-49bf-b747-70ab7cdf3e2c button.colab-df-convert');\n",
              "        buttonEl.style.display =\n",
              "          google.colab.kernel.accessAllowed ? 'block' : 'none';\n",
              "\n",
              "        async function convertToInteractive(key) {\n",
              "          const element = document.querySelector('#df-6c7cba40-9c47-49bf-b747-70ab7cdf3e2c');\n",
              "          const dataTable =\n",
              "            await google.colab.kernel.invokeFunction('convertToInteractive',\n",
              "                                                     [key], {});\n",
              "          if (!dataTable) return;\n",
              "\n",
              "          const docLinkHtml = 'Like what you see? Visit the ' +\n",
              "            '<a target=\"_blank\" href=https://colab.research.google.com/notebooks/data_table.ipynb>data table notebook</a>'\n",
              "            + ' to learn more about interactive tables.';\n",
              "          element.innerHTML = '';\n",
              "          dataTable['output_type'] = 'display_data';\n",
              "          await google.colab.output.renderOutput(dataTable, element);\n",
              "          const docLink = document.createElement('div');\n",
              "          docLink.innerHTML = docLinkHtml;\n",
              "          element.appendChild(docLink);\n",
              "        }\n",
              "      </script>\n",
              "    </div>\n",
              "  </div>\n",
              "  "
            ],
            "text/plain": [
              "      id  ... Body Mass (g)\n",
              "0      0  ...          5550\n",
              "1      1  ...          3800\n",
              "2      2  ...          4400\n",
              "3      3  ...          4850\n",
              "4      4  ...          5700\n",
              "..   ...  ...           ...\n",
              "106  109  ...          3700\n",
              "107  110  ...          4250\n",
              "108  111  ...          4100\n",
              "109  112  ...          2700\n",
              "110  113  ...          5600\n",
              "\n",
              "[111 rows x 11 columns]"
            ]
          },
          "metadata": {},
          "execution_count": 3
        }
      ]
    },
    {
      "cell_type": "markdown",
      "source": [
        "### 데이터 전처리\n",
        "+ 범주형 변수 인코딩\n",
        "------------------\n",
        "train_test 분리\n",
        "------------------\n",
        "+ 정규화 (StandardScaler)\n",
        "+ PCA"
      ],
      "metadata": {
        "id": "xjLCWDbzNUew"
      }
    },
    {
      "cell_type": "code",
      "source": [
        "#범주형 변수 인코딩 -\n",
        "#라벨인코딩은 회귀에는 적절하지 않음\n",
        "from sklearn.preprocessing import OneHotEncoder\n",
        "encoder = OneHotEncoder()\n",
        "\n",
        "#pandas\n",
        "train = pd.get_dummies(train)\n",
        "train"
      ],
      "metadata": {
        "id": "trcY4yGYQYCV",
        "colab": {
          "base_uri": "https://localhost:8080/",
          "height": 540
        },
        "outputId": "ccf382f9-948f-4977-d617-165080b9e832"
      },
      "execution_count": 4,
      "outputs": [
        {
          "output_type": "execute_result",
          "data": {
            "text/html": [
              "\n",
              "  <div id=\"df-e0e6fa66-4c5b-4e77-88a6-39b573de2dd7\">\n",
              "    <div class=\"colab-df-container\">\n",
              "      <div>\n",
              "<style scoped>\n",
              "    .dataframe tbody tr th:only-of-type {\n",
              "        vertical-align: middle;\n",
              "    }\n",
              "\n",
              "    .dataframe tbody tr th {\n",
              "        vertical-align: top;\n",
              "    }\n",
              "\n",
              "    .dataframe thead th {\n",
              "        text-align: right;\n",
              "    }\n",
              "</style>\n",
              "<table border=\"1\" class=\"dataframe\">\n",
              "  <thead>\n",
              "    <tr style=\"text-align: right;\">\n",
              "      <th></th>\n",
              "      <th>id</th>\n",
              "      <th>Culmen Length (mm)</th>\n",
              "      <th>Culmen Depth (mm)</th>\n",
              "      <th>Flipper Length (mm)</th>\n",
              "      <th>Delta 15 N (o/oo)</th>\n",
              "      <th>Delta 13 C (o/oo)</th>\n",
              "      <th>Body Mass (g)</th>\n",
              "      <th>Species_Adelie Penguin (Pygoscelis adeliae)</th>\n",
              "      <th>Species_Chinstrap penguin (Pygoscelis antarctica)</th>\n",
              "      <th>Species_Gentoo penguin (Pygoscelis papua)</th>\n",
              "      <th>Island_Biscoe</th>\n",
              "      <th>Island_Dream</th>\n",
              "      <th>Island_Torgersen</th>\n",
              "      <th>Clutch Completion_No</th>\n",
              "      <th>Clutch Completion_Yes</th>\n",
              "      <th>Sex_FEMALE</th>\n",
              "      <th>Sex_MALE</th>\n",
              "    </tr>\n",
              "  </thead>\n",
              "  <tbody>\n",
              "    <tr>\n",
              "      <th>0</th>\n",
              "      <td>0</td>\n",
              "      <td>50.0</td>\n",
              "      <td>15.3</td>\n",
              "      <td>220</td>\n",
              "      <td>8.305150</td>\n",
              "      <td>-25.190170</td>\n",
              "      <td>5550</td>\n",
              "      <td>0</td>\n",
              "      <td>0</td>\n",
              "      <td>1</td>\n",
              "      <td>1</td>\n",
              "      <td>0</td>\n",
              "      <td>0</td>\n",
              "      <td>0</td>\n",
              "      <td>1</td>\n",
              "      <td>0</td>\n",
              "      <td>1</td>\n",
              "    </tr>\n",
              "    <tr>\n",
              "      <th>1</th>\n",
              "      <td>1</td>\n",
              "      <td>49.5</td>\n",
              "      <td>19.0</td>\n",
              "      <td>200</td>\n",
              "      <td>9.630740</td>\n",
              "      <td>-24.346840</td>\n",
              "      <td>3800</td>\n",
              "      <td>0</td>\n",
              "      <td>1</td>\n",
              "      <td>0</td>\n",
              "      <td>0</td>\n",
              "      <td>1</td>\n",
              "      <td>0</td>\n",
              "      <td>1</td>\n",
              "      <td>0</td>\n",
              "      <td>0</td>\n",
              "      <td>1</td>\n",
              "    </tr>\n",
              "    <tr>\n",
              "      <th>2</th>\n",
              "      <td>2</td>\n",
              "      <td>45.1</td>\n",
              "      <td>14.4</td>\n",
              "      <td>210</td>\n",
              "      <td>8.519510</td>\n",
              "      <td>-27.018540</td>\n",
              "      <td>4400</td>\n",
              "      <td>0</td>\n",
              "      <td>0</td>\n",
              "      <td>1</td>\n",
              "      <td>1</td>\n",
              "      <td>0</td>\n",
              "      <td>0</td>\n",
              "      <td>0</td>\n",
              "      <td>1</td>\n",
              "      <td>1</td>\n",
              "      <td>0</td>\n",
              "    </tr>\n",
              "    <tr>\n",
              "      <th>3</th>\n",
              "      <td>3</td>\n",
              "      <td>44.5</td>\n",
              "      <td>14.7</td>\n",
              "      <td>214</td>\n",
              "      <td>8.201060</td>\n",
              "      <td>-26.165240</td>\n",
              "      <td>4850</td>\n",
              "      <td>0</td>\n",
              "      <td>0</td>\n",
              "      <td>1</td>\n",
              "      <td>1</td>\n",
              "      <td>0</td>\n",
              "      <td>0</td>\n",
              "      <td>0</td>\n",
              "      <td>1</td>\n",
              "      <td>1</td>\n",
              "      <td>0</td>\n",
              "    </tr>\n",
              "    <tr>\n",
              "      <th>4</th>\n",
              "      <td>4</td>\n",
              "      <td>49.6</td>\n",
              "      <td>16.0</td>\n",
              "      <td>225</td>\n",
              "      <td>8.383240</td>\n",
              "      <td>-26.842720</td>\n",
              "      <td>5700</td>\n",
              "      <td>0</td>\n",
              "      <td>0</td>\n",
              "      <td>1</td>\n",
              "      <td>1</td>\n",
              "      <td>0</td>\n",
              "      <td>0</td>\n",
              "      <td>1</td>\n",
              "      <td>0</td>\n",
              "      <td>0</td>\n",
              "      <td>1</td>\n",
              "    </tr>\n",
              "    <tr>\n",
              "      <th>...</th>\n",
              "      <td>...</td>\n",
              "      <td>...</td>\n",
              "      <td>...</td>\n",
              "      <td>...</td>\n",
              "      <td>...</td>\n",
              "      <td>...</td>\n",
              "      <td>...</td>\n",
              "      <td>...</td>\n",
              "      <td>...</td>\n",
              "      <td>...</td>\n",
              "      <td>...</td>\n",
              "      <td>...</td>\n",
              "      <td>...</td>\n",
              "      <td>...</td>\n",
              "      <td>...</td>\n",
              "      <td>...</td>\n",
              "      <td>...</td>\n",
              "    </tr>\n",
              "    <tr>\n",
              "      <th>106</th>\n",
              "      <td>109</td>\n",
              "      <td>36.6</td>\n",
              "      <td>17.8</td>\n",
              "      <td>185</td>\n",
              "      <td>8.738543</td>\n",
              "      <td>-25.718804</td>\n",
              "      <td>3700</td>\n",
              "      <td>1</td>\n",
              "      <td>0</td>\n",
              "      <td>0</td>\n",
              "      <td>0</td>\n",
              "      <td>0</td>\n",
              "      <td>1</td>\n",
              "      <td>0</td>\n",
              "      <td>1</td>\n",
              "      <td>1</td>\n",
              "      <td>0</td>\n",
              "    </tr>\n",
              "    <tr>\n",
              "      <th>107</th>\n",
              "      <td>110</td>\n",
              "      <td>39.2</td>\n",
              "      <td>18.6</td>\n",
              "      <td>190</td>\n",
              "      <td>9.110060</td>\n",
              "      <td>-25.795490</td>\n",
              "      <td>4250</td>\n",
              "      <td>1</td>\n",
              "      <td>0</td>\n",
              "      <td>0</td>\n",
              "      <td>0</td>\n",
              "      <td>1</td>\n",
              "      <td>0</td>\n",
              "      <td>0</td>\n",
              "      <td>1</td>\n",
              "      <td>0</td>\n",
              "      <td>1</td>\n",
              "    </tr>\n",
              "    <tr>\n",
              "      <th>108</th>\n",
              "      <td>111</td>\n",
              "      <td>43.2</td>\n",
              "      <td>18.5</td>\n",
              "      <td>192</td>\n",
              "      <td>8.970250</td>\n",
              "      <td>-26.036790</td>\n",
              "      <td>4100</td>\n",
              "      <td>1</td>\n",
              "      <td>0</td>\n",
              "      <td>0</td>\n",
              "      <td>0</td>\n",
              "      <td>1</td>\n",
              "      <td>0</td>\n",
              "      <td>0</td>\n",
              "      <td>1</td>\n",
              "      <td>0</td>\n",
              "      <td>1</td>\n",
              "    </tr>\n",
              "    <tr>\n",
              "      <th>109</th>\n",
              "      <td>112</td>\n",
              "      <td>46.9</td>\n",
              "      <td>16.6</td>\n",
              "      <td>192</td>\n",
              "      <td>9.805890</td>\n",
              "      <td>-24.737350</td>\n",
              "      <td>2700</td>\n",
              "      <td>0</td>\n",
              "      <td>1</td>\n",
              "      <td>0</td>\n",
              "      <td>0</td>\n",
              "      <td>1</td>\n",
              "      <td>0</td>\n",
              "      <td>1</td>\n",
              "      <td>0</td>\n",
              "      <td>1</td>\n",
              "      <td>0</td>\n",
              "    </tr>\n",
              "    <tr>\n",
              "      <th>110</th>\n",
              "      <td>113</td>\n",
              "      <td>50.8</td>\n",
              "      <td>17.3</td>\n",
              "      <td>228</td>\n",
              "      <td>8.274280</td>\n",
              "      <td>-26.300190</td>\n",
              "      <td>5600</td>\n",
              "      <td>0</td>\n",
              "      <td>0</td>\n",
              "      <td>1</td>\n",
              "      <td>1</td>\n",
              "      <td>0</td>\n",
              "      <td>0</td>\n",
              "      <td>0</td>\n",
              "      <td>1</td>\n",
              "      <td>0</td>\n",
              "      <td>1</td>\n",
              "    </tr>\n",
              "  </tbody>\n",
              "</table>\n",
              "<p>111 rows × 17 columns</p>\n",
              "</div>\n",
              "      <button class=\"colab-df-convert\" onclick=\"convertToInteractive('df-e0e6fa66-4c5b-4e77-88a6-39b573de2dd7')\"\n",
              "              title=\"Convert this dataframe to an interactive table.\"\n",
              "              style=\"display:none;\">\n",
              "        \n",
              "  <svg xmlns=\"http://www.w3.org/2000/svg\" height=\"24px\"viewBox=\"0 0 24 24\"\n",
              "       width=\"24px\">\n",
              "    <path d=\"M0 0h24v24H0V0z\" fill=\"none\"/>\n",
              "    <path d=\"M18.56 5.44l.94 2.06.94-2.06 2.06-.94-2.06-.94-.94-2.06-.94 2.06-2.06.94zm-11 1L8.5 8.5l.94-2.06 2.06-.94-2.06-.94L8.5 2.5l-.94 2.06-2.06.94zm10 10l.94 2.06.94-2.06 2.06-.94-2.06-.94-.94-2.06-.94 2.06-2.06.94z\"/><path d=\"M17.41 7.96l-1.37-1.37c-.4-.4-.92-.59-1.43-.59-.52 0-1.04.2-1.43.59L10.3 9.45l-7.72 7.72c-.78.78-.78 2.05 0 2.83L4 21.41c.39.39.9.59 1.41.59.51 0 1.02-.2 1.41-.59l7.78-7.78 2.81-2.81c.8-.78.8-2.07 0-2.86zM5.41 20L4 18.59l7.72-7.72 1.47 1.35L5.41 20z\"/>\n",
              "  </svg>\n",
              "      </button>\n",
              "      \n",
              "  <style>\n",
              "    .colab-df-container {\n",
              "      display:flex;\n",
              "      flex-wrap:wrap;\n",
              "      gap: 12px;\n",
              "    }\n",
              "\n",
              "    .colab-df-convert {\n",
              "      background-color: #E8F0FE;\n",
              "      border: none;\n",
              "      border-radius: 50%;\n",
              "      cursor: pointer;\n",
              "      display: none;\n",
              "      fill: #1967D2;\n",
              "      height: 32px;\n",
              "      padding: 0 0 0 0;\n",
              "      width: 32px;\n",
              "    }\n",
              "\n",
              "    .colab-df-convert:hover {\n",
              "      background-color: #E2EBFA;\n",
              "      box-shadow: 0px 1px 2px rgba(60, 64, 67, 0.3), 0px 1px 3px 1px rgba(60, 64, 67, 0.15);\n",
              "      fill: #174EA6;\n",
              "    }\n",
              "\n",
              "    [theme=dark] .colab-df-convert {\n",
              "      background-color: #3B4455;\n",
              "      fill: #D2E3FC;\n",
              "    }\n",
              "\n",
              "    [theme=dark] .colab-df-convert:hover {\n",
              "      background-color: #434B5C;\n",
              "      box-shadow: 0px 1px 3px 1px rgba(0, 0, 0, 0.15);\n",
              "      filter: drop-shadow(0px 1px 2px rgba(0, 0, 0, 0.3));\n",
              "      fill: #FFFFFF;\n",
              "    }\n",
              "  </style>\n",
              "\n",
              "      <script>\n",
              "        const buttonEl =\n",
              "          document.querySelector('#df-e0e6fa66-4c5b-4e77-88a6-39b573de2dd7 button.colab-df-convert');\n",
              "        buttonEl.style.display =\n",
              "          google.colab.kernel.accessAllowed ? 'block' : 'none';\n",
              "\n",
              "        async function convertToInteractive(key) {\n",
              "          const element = document.querySelector('#df-e0e6fa66-4c5b-4e77-88a6-39b573de2dd7');\n",
              "          const dataTable =\n",
              "            await google.colab.kernel.invokeFunction('convertToInteractive',\n",
              "                                                     [key], {});\n",
              "          if (!dataTable) return;\n",
              "\n",
              "          const docLinkHtml = 'Like what you see? Visit the ' +\n",
              "            '<a target=\"_blank\" href=https://colab.research.google.com/notebooks/data_table.ipynb>data table notebook</a>'\n",
              "            + ' to learn more about interactive tables.';\n",
              "          element.innerHTML = '';\n",
              "          dataTable['output_type'] = 'display_data';\n",
              "          await google.colab.output.renderOutput(dataTable, element);\n",
              "          const docLink = document.createElement('div');\n",
              "          docLink.innerHTML = docLinkHtml;\n",
              "          element.appendChild(docLink);\n",
              "        }\n",
              "      </script>\n",
              "    </div>\n",
              "  </div>\n",
              "  "
            ],
            "text/plain": [
              "      id  Culmen Length (mm)  ...  Sex_FEMALE  Sex_MALE\n",
              "0      0                50.0  ...           0         1\n",
              "1      1                49.5  ...           0         1\n",
              "2      2                45.1  ...           1         0\n",
              "3      3                44.5  ...           1         0\n",
              "4      4                49.6  ...           0         1\n",
              "..   ...                 ...  ...         ...       ...\n",
              "106  109                36.6  ...           1         0\n",
              "107  110                39.2  ...           0         1\n",
              "108  111                43.2  ...           0         1\n",
              "109  112                46.9  ...           1         0\n",
              "110  113                50.8  ...           0         1\n",
              "\n",
              "[111 rows x 17 columns]"
            ]
          },
          "metadata": {},
          "execution_count": 4
        }
      ]
    },
    {
      "cell_type": "code",
      "source": [
        "#독립변수, 타겟 데이터 지정\n",
        "\n",
        "data = train.drop(['Body Mass (g)','id'],axis=1)\n",
        "data = data.values\n",
        "target = train['Body Mass (g)']"
      ],
      "metadata": {
        "id": "IF_5MhkhQYOW"
      },
      "execution_count": 5,
      "outputs": []
    },
    {
      "cell_type": "code",
      "source": [
        "#훈련, 검증 데이터 분할\n",
        "\n",
        "from sklearn.model_selection import train_test_split\n",
        "X_train, X_test, y_train, y_test = train_test_split(data,target,test_size=0.1)"
      ],
      "metadata": {
        "id": "d9I-_PKpNXkC"
      },
      "execution_count": 6,
      "outputs": []
    },
    {
      "cell_type": "code",
      "source": [
        "y_train_log = np.log(y_train)\n",
        "y_test_log = np.log(y_test)"
      ],
      "metadata": {
        "id": "YdeMBaXyCPZd"
      },
      "execution_count": 62,
      "outputs": []
    },
    {
      "cell_type": "markdown",
      "source": [
        "## 회귀"
      ],
      "metadata": {
        "id": "zrkdk2W4_zMT"
      }
    },
    {
      "cell_type": "markdown",
      "source": [
        "### 표준화 변환 - 일반선형회귀"
      ],
      "metadata": {
        "id": "7WJoi0KX8b5C"
      }
    },
    {
      "cell_type": "code",
      "source": [
        "#표준화 - PCA에 적합한 스케일링\n",
        "#타겟을 제외한 모든 값을 표준 정규분포를 가지는 값으로 변환\n",
        "#속성값의 영향력 없애기\n",
        "\n",
        "from sklearn.preprocessing import StandardScaler\n",
        "Scaler = StandardScaler()\n",
        "Scaler.fit(X_train)\n",
        "X_train_scaled = Scaler.transform(X_train)"
      ],
      "metadata": {
        "id": "HLAEVa8G8pvi"
      },
      "execution_count": 42,
      "outputs": []
    },
    {
      "cell_type": "code",
      "source": [
        "# 일반선형회귀 모델 생성 & 학습\n",
        "from sklearn.linear_model import LinearRegression\n",
        "lin_reg = LinearRegression()\n",
        "lin_reg.fit(X_train_scaled,y_train)\n",
        "print('절편 : ',lin_reg.intercept_)\n",
        "print('회귀계수: ',lin_reg.coef_)"
      ],
      "metadata": {
        "colab": {
          "base_uri": "https://localhost:8080/"
        },
        "outputId": "c02572bc-059d-4693-eb99-90c8aed3244f",
        "id": "GLX5953c8pvq"
      },
      "execution_count": 43,
      "outputs": [
        {
          "output_type": "stream",
          "name": "stdout",
          "text": [
            "절편 :  4310.353535353535\n",
            "회귀계수:  [ 117.05142935   81.27653086  185.29597809 -100.28057583   31.13850538\n",
            " -102.99311405 -181.11627727  253.71866573   26.93228602  -20.83360783\n",
            "  -10.75950847    2.86075287   -2.86075287 -106.94704273  106.94704273]\n"
          ]
        }
      ]
    },
    {
      "cell_type": "code",
      "source": [
        "# 일반선형회귀 모델 적용\n",
        "X_test_scaled = Scaler.transform(X_test)\n",
        "\n",
        "y_test_predict = lin_reg.predict(X_test_scaled)"
      ],
      "metadata": {
        "id": "XHPbRYwe8pvr"
      },
      "execution_count": 44,
      "outputs": []
    },
    {
      "cell_type": "code",
      "source": [
        "# 오차 계산 RMSE\n",
        "from sklearn.metrics import mean_squared_error\n",
        "lin_mse = mean_squared_error(y_test,y_test_predict)\n",
        "lin_rmse = np.sqrt(lin_mse)\n",
        "print('RMSE ; ',lin_rmse)"
      ],
      "metadata": {
        "colab": {
          "base_uri": "https://localhost:8080/"
        },
        "outputId": "5e49c573-42a5-4815-c1b3-7fccfbb88ba7",
        "id": "3smkhzxh8pvr"
      },
      "execution_count": 45,
      "outputs": [
        {
          "output_type": "stream",
          "name": "stdout",
          "text": [
            "RMSE ;  256.1276398944051\n"
          ]
        }
      ]
    },
    {
      "cell_type": "markdown",
      "source": [
        "### 표준화 변환 - 일반선형회귀 - 타깃값 log 변환"
      ],
      "metadata": {
        "id": "6s1ughUFCoKz"
      }
    },
    {
      "cell_type": "code",
      "source": [
        "#표준화 - PCA에 적합한 스케일링\n",
        "#타겟을 제외한 모든 값을 표준 정규분포를 가지는 값으로 변환\n",
        "#속성값의 영향력 없애기\n",
        "\n",
        "from sklearn.preprocessing import StandardScaler\n",
        "Scaler = StandardScaler()\n",
        "Scaler.fit(X_train)\n",
        "X_train_scaled = Scaler.transform(X_train)"
      ],
      "metadata": {
        "id": "o894JilUCoK8"
      },
      "execution_count": 63,
      "outputs": []
    },
    {
      "cell_type": "code",
      "source": [
        "# 일반선형회귀 모델 생성 & 학습\n",
        "from sklearn.linear_model import LinearRegression\n",
        "lin_reg = LinearRegression()\n",
        "lin_reg.fit(X_train_scaled,y_train_log)\n",
        "print('절편 : ',lin_reg.intercept_)\n",
        "print('회귀계수: ',lin_reg.coef_)"
      ],
      "metadata": {
        "colab": {
          "base_uri": "https://localhost:8080/"
        },
        "outputId": "30847121-ecc3-47fe-8ca0-c0420d40d46d",
        "id": "iaMQfqhuCoK8"
      },
      "execution_count": 64,
      "outputs": [
        {
          "output_type": "stream",
          "name": "stdout",
          "text": [
            "절편 :  8.35237550883329\n",
            "회귀계수:  [ 0.01995629  0.02239068  0.03956037 -0.02831923  0.00561068 -0.02986619\n",
            " -0.03785635  0.06104351  0.00541816 -0.00388786 -0.00265859 -0.00037678\n",
            "  0.00037678 -0.02607546  0.02607546]\n"
          ]
        }
      ]
    },
    {
      "cell_type": "code",
      "source": [
        "# 일반선형회귀 모델 적용\n",
        "X_test_scaled = Scaler.transform(X_test)\n",
        "\n",
        "y_test_predict = lin_reg.predict(X_test_scaled)"
      ],
      "metadata": {
        "id": "6tcCSVRqCoK8"
      },
      "execution_count": 65,
      "outputs": []
    },
    {
      "cell_type": "code",
      "source": [
        "# 오차 계산 RMSE\n",
        "from sklearn.metrics import mean_squared_error\n",
        "lin_mse = mean_squared_error(y_test_log,y_test_predict)\n",
        "lin_rmse = np.sqrt(lin_mse)\n",
        "print('RMSE ; ',lin_rmse)"
      ],
      "metadata": {
        "colab": {
          "base_uri": "https://localhost:8080/"
        },
        "outputId": "ba18adc2-5ed7-42dd-c20c-fbb81c7215ee",
        "id": "TVUGvLvpCoK9"
      },
      "execution_count": 66,
      "outputs": [
        {
          "output_type": "stream",
          "name": "stdout",
          "text": [
            "RMSE ;  0.06471404455120211\n"
          ]
        }
      ]
    },
    {
      "cell_type": "markdown",
      "source": [
        "### 표준화 변환 - 릿지회귀"
      ],
      "metadata": {
        "id": "Ny-Xd6yk9uQm"
      }
    },
    {
      "cell_type": "code",
      "source": [
        "#표준화 - PCA에 적합한 스케일링\n",
        "#타겟을 제외한 모든 값을 표준 정규분포를 가지는 값으로 변환\n",
        "#속성값의 영향력 없애기\n",
        "\n",
        "from sklearn.preprocessing import StandardScaler\n",
        "Scaler = StandardScaler()\n",
        "Scaler.fit(X_train)\n",
        "X_train_scaled = Scaler.transform(X_train)"
      ],
      "metadata": {
        "id": "sDIKRD2G-BRB"
      },
      "execution_count": 50,
      "outputs": []
    },
    {
      "cell_type": "code",
      "source": [
        "# 릿지회귀 모델 생성 & 학습\n",
        "from sklearn.linear_model import Ridge\n",
        "rid_reg = Ridge()\n",
        "rid_reg.fit(X_train_scaled,y_train)\n",
        "print('절편 : ',rid_reg.intercept_)\n",
        "print('회귀계수: ',rid_reg.coef_)"
      ],
      "metadata": {
        "colab": {
          "base_uri": "https://localhost:8080/"
        },
        "outputId": "539b1de5-9de7-4b1c-d42e-b6cc58f9443b",
        "id": "XlQ8hghU-BRI"
      },
      "execution_count": 51,
      "outputs": [
        {
          "output_type": "stream",
          "name": "stdout",
          "text": [
            "절편 :  4310.353535353535\n",
            "회귀계수:  [ 115.47053589   68.83726081  188.24871804 -103.35681671   26.30942584\n",
            "  -97.03643598 -168.43341292  237.15805325   31.41662178  -24.14914612\n",
            "  -12.80071368    3.09731194   -3.09731194 -108.92482755  108.92482755]\n"
          ]
        }
      ]
    },
    {
      "cell_type": "code",
      "source": [
        "# 릿지회귀 모델 적용\n",
        "X_test_scaled = Scaler.transform(X_test)\n",
        "\n",
        "y_test_predict = rid_reg.predict(X_test_scaled)"
      ],
      "metadata": {
        "id": "og4xiY3h-BRJ"
      },
      "execution_count": 52,
      "outputs": []
    },
    {
      "cell_type": "code",
      "source": [
        "# 오차 계산 RMSE\n",
        "from sklearn.metrics import mean_squared_error\n",
        "rid_mse = mean_squared_error(y_test,y_test_predict)\n",
        "rid_rmse = np.sqrt(rid_mse)\n",
        "print('RMSE ; ',rid_rmse)"
      ],
      "metadata": {
        "colab": {
          "base_uri": "https://localhost:8080/"
        },
        "outputId": "4af866cb-e6f7-4f45-b509-a8651ad543cd",
        "id": "Op3nVo_p-BRJ"
      },
      "execution_count": 53,
      "outputs": [
        {
          "output_type": "stream",
          "name": "stdout",
          "text": [
            "RMSE ;  257.6278182509209\n"
          ]
        }
      ]
    },
    {
      "cell_type": "markdown",
      "source": [
        "### 표준화 변환 - 라쏘회귀"
      ],
      "metadata": {
        "id": "ibkL_TPu903Q"
      }
    },
    {
      "cell_type": "code",
      "source": [
        "#표준화 - PCA에 적합한 스케일링\n",
        "#타겟을 제외한 모든 값을 표준 정규분포를 가지는 값으로 변환\n",
        "#속성값의 영향력 없애기\n",
        "\n",
        "from sklearn.preprocessing import StandardScaler\n",
        "Scaler = StandardScaler()\n",
        "Scaler.fit(X_train)\n",
        "X_train_scaled = Scaler.transform(X_train)"
      ],
      "metadata": {
        "id": "6URkNzyM_GVE"
      },
      "execution_count": 54,
      "outputs": []
    },
    {
      "cell_type": "code",
      "source": [
        "# 라쏘회귀 모델 생성 & 학습\n",
        "from sklearn.linear_model import Lasso\n",
        "las_reg = Lasso()\n",
        "las_reg.fit(X_train_scaled,y_train)\n",
        "print('절편 : ',las_reg.intercept_)\n",
        "print('회귀계수: ',las_reg.coef_)"
      ],
      "metadata": {
        "colab": {
          "base_uri": "https://localhost:8080/"
        },
        "outputId": "a395ce19-df26-4821-ebd4-367143253aea",
        "id": "A9fB7tGC_GVM"
      },
      "execution_count": 56,
      "outputs": [
        {
          "output_type": "stream",
          "name": "stdout",
          "text": [
            "절편 :  4310.353535353535\n",
            "회귀계수:  [ 1.13239588e+02  7.33329036e+01  1.86853340e+02 -9.97009950e+01\n",
            "  2.62319601e+01 -0.00000000e+00 -8.33381259e+01  3.55293585e+02\n",
            "  4.45477383e+01 -1.83348104e+00 -0.00000000e+00  4.73652487e+00\n",
            " -8.89972720e-15 -2.16357878e+02  0.00000000e+00]\n"
          ]
        }
      ]
    },
    {
      "cell_type": "code",
      "source": [
        "# 라쏘회귀 모델 적용\n",
        "X_test_scaled = Scaler.transform(X_test)\n",
        "\n",
        "y_test_predict = las_reg.predict(X_test_scaled)"
      ],
      "metadata": {
        "id": "CcnqlsuF_GVN"
      },
      "execution_count": 57,
      "outputs": []
    },
    {
      "cell_type": "code",
      "source": [
        "# 오차 계산 RMSE\n",
        "from sklearn.metrics import mean_squared_error\n",
        "rid_mse = mean_squared_error(y_test,y_test_predict)\n",
        "rid_rmse = np.sqrt(rid_mse)\n",
        "print('RMSE ; ',rid_rmse)"
      ],
      "metadata": {
        "colab": {
          "base_uri": "https://localhost:8080/"
        },
        "outputId": "f086c939-2ee3-4fa0-da53-0da589956a9c",
        "id": "xkxezWZI_GVN"
      },
      "execution_count": 58,
      "outputs": [
        {
          "output_type": "stream",
          "name": "stdout",
          "text": [
            "RMSE ;  257.4015120659024\n"
          ]
        }
      ]
    },
    {
      "cell_type": "markdown",
      "source": [
        "### 표준화 변환 - PCA - 일반선형회귀"
      ],
      "metadata": {
        "id": "j-P8_hHe2jWS"
      }
    },
    {
      "cell_type": "code",
      "source": [
        "#표준화 - PCA에 적합한 스케일링\n",
        "#타겟을 제외한 모든 값을 표준 정규분포를 가지는 값으로 변환\n",
        "#속성값의 영향력 없애기\n",
        "\n",
        "from sklearn.preprocessing import StandardScaler\n",
        "Scaler = StandardScaler()\n",
        "Scaler.fit(X_train)\n",
        "X_train_scaled = Scaler.transform(X_train)"
      ],
      "metadata": {
        "id": "fAOqPHL-QYLl"
      },
      "execution_count": 37,
      "outputs": []
    },
    {
      "cell_type": "code",
      "source": [
        "from sklearn.decomposition import PCA\n",
        "pca = PCA(n_components = 0.95)\n",
        "pca.fit(X_train_scaled)\n",
        "X_reduced = pca.transform(X_train_scaled)\n",
        "print(X_reduced.shape)\n",
        "print(pca.explained_variance_ratio_)"
      ],
      "metadata": {
        "id": "NlG3e3QR4rcY",
        "colab": {
          "base_uri": "https://localhost:8080/"
        },
        "outputId": "b834f661-e56c-4bb6-ea92-88e560a82c27"
      },
      "execution_count": 38,
      "outputs": [
        {
          "output_type": "stream",
          "name": "stdout",
          "text": [
            "(99, 7)\n",
            "[0.40066908 0.21924647 0.14908837 0.0989411  0.05565607 0.023117\n",
            " 0.02040174]\n"
          ]
        }
      ]
    },
    {
      "cell_type": "code",
      "source": [
        "# 일반선형회귀 모델 생성 & 학습\n",
        "from sklearn.linear_model import LinearRegression\n",
        "lin_reg = LinearRegression()\n",
        "lin_reg.fit(X_reduced,y_train)\n",
        "print('절편 : ',lin_reg.intercept_)\n",
        "print('회귀계수: ',lin_reg.coef_)"
      ],
      "metadata": {
        "id": "ZmnomJNHWsIb",
        "colab": {
          "base_uri": "https://localhost:8080/"
        },
        "outputId": "9f6b0c94-b965-4174-a066-8170c0106f40"
      },
      "execution_count": 39,
      "outputs": [
        {
          "output_type": "stream",
          "name": "stdout",
          "text": [
            "절편 :  4310.353535353535\n",
            "회귀계수:  [-242.99221716 -170.91665838  172.9768835    27.53064057   14.01165944\n",
            "  -47.34145666  121.35365692]\n"
          ]
        }
      ]
    },
    {
      "cell_type": "code",
      "source": [
        "# 일반선형회귀 모델 적용\n",
        "X_test_scaled = Scaler.transform(X_test)\n",
        "X_test_reduced = pca.transform(X_test_scaled)\n",
        "\n",
        "y_test_predict = lin_reg.predict(X_test_reduced)"
      ],
      "metadata": {
        "id": "fvU8aKeN5PV8"
      },
      "execution_count": 40,
      "outputs": []
    },
    {
      "cell_type": "code",
      "source": [
        "# 오차 계산 RMSE\n",
        "from sklearn.metrics import mean_squared_error\n",
        "lin_mse = mean_squared_error(y_test,y_test_predict)\n",
        "lin_rmse = np.sqrt(lin_mse)\n",
        "print('RMSE ; ',lin_rmse)"
      ],
      "metadata": {
        "colab": {
          "base_uri": "https://localhost:8080/"
        },
        "id": "WdDUK0jm5l9W",
        "outputId": "e43921dc-5cff-453c-dd3a-34755cb4ecb1"
      },
      "execution_count": 41,
      "outputs": [
        {
          "output_type": "stream",
          "name": "stdout",
          "text": [
            "RMSE ;  300.8644455474633\n"
          ]
        }
      ]
    },
    {
      "cell_type": "markdown",
      "source": [
        "### 표준화 변환 - PCA - 일반선형회귀 - 타깃값 log 변환"
      ],
      "metadata": {
        "id": "NN4FI_4mDn9q"
      }
    },
    {
      "cell_type": "code",
      "source": [
        "#표준화 - PCA에 적합한 스케일링\n",
        "#타겟을 제외한 모든 값을 표준 정규분포를 가지는 값으로 변환\n",
        "#속성값의 영향력 없애기\n",
        "\n",
        "from sklearn.preprocessing import StandardScaler\n",
        "Scaler = StandardScaler()\n",
        "Scaler.fit(X_train)\n",
        "X_train_scaled = Scaler.transform(X_train)"
      ],
      "metadata": {
        "id": "pSOIKpgHDn90"
      },
      "execution_count": 68,
      "outputs": []
    },
    {
      "cell_type": "code",
      "source": [
        "from sklearn.decomposition import PCA\n",
        "pca = PCA(n_components = 0.95)\n",
        "pca.fit(X_train_scaled)\n",
        "X_reduced = pca.transform(X_train_scaled)\n",
        "print(X_reduced.shape)\n",
        "print(pca.explained_variance_ratio_)"
      ],
      "metadata": {
        "colab": {
          "base_uri": "https://localhost:8080/"
        },
        "outputId": "50d466cc-b77e-47b0-e372-0f7f070b0a34",
        "id": "B_vaKVl9Dn90"
      },
      "execution_count": 69,
      "outputs": [
        {
          "output_type": "stream",
          "name": "stdout",
          "text": [
            "(99, 7)\n",
            "[0.40066908 0.21924647 0.14908837 0.0989411  0.05565607 0.023117\n",
            " 0.02040174]\n"
          ]
        }
      ]
    },
    {
      "cell_type": "code",
      "source": [
        "# 일반선형회귀 모델 생성 & 학습\n",
        "from sklearn.linear_model import LinearRegression\n",
        "lin_reg = LinearRegression()\n",
        "lin_reg.fit(X_reduced,y_train_log)\n",
        "print('절편 : ',lin_reg.intercept_)\n",
        "print('회귀계수: ',lin_reg.coef_)"
      ],
      "metadata": {
        "colab": {
          "base_uri": "https://localhost:8080/"
        },
        "outputId": "ca749b98-0667-4b3a-d3ae-c94ef76dc749",
        "id": "ymXtRiXXDn91"
      },
      "execution_count": 70,
      "outputs": [
        {
          "output_type": "stream",
          "name": "stdout",
          "text": [
            "절편 :  8.35237550883329\n",
            "회귀계수:  [-0.05587813 -0.03861519  0.04012594  0.00518015  0.00381518 -0.0133948\n",
            "  0.03131451]\n"
          ]
        }
      ]
    },
    {
      "cell_type": "code",
      "source": [
        "# 일반선형회귀 모델 적용\n",
        "X_test_scaled = Scaler.transform(X_test)\n",
        "X_test_reduced = pca.transform(X_test_scaled)\n",
        "\n",
        "y_test_predict = lin_reg.predict(X_test_reduced)"
      ],
      "metadata": {
        "id": "779zUykMDn92"
      },
      "execution_count": 71,
      "outputs": []
    },
    {
      "cell_type": "code",
      "source": [
        "# 오차 계산 RMSE\n",
        "from sklearn.metrics import mean_squared_error\n",
        "lin_mse = mean_squared_error(y_test_log,y_test_predict)\n",
        "lin_rmse = np.sqrt(lin_mse)\n",
        "print('RMSE ; ',lin_rmse)"
      ],
      "metadata": {
        "colab": {
          "base_uri": "https://localhost:8080/"
        },
        "outputId": "91cf0243-07af-4a55-8ee6-d8e9cb04fbb6",
        "id": "PefzlrE4Dn92"
      },
      "execution_count": 72,
      "outputs": [
        {
          "output_type": "stream",
          "name": "stdout",
          "text": [
            "RMSE ;  0.07282617420639564\n"
          ]
        }
      ]
    },
    {
      "cell_type": "markdown",
      "source": [
        "### 정규화 변환 - 일반선형회귀"
      ],
      "metadata": {
        "id": "cByRxNKR89XZ"
      }
    },
    {
      "cell_type": "code",
      "source": [
        "# 정규화 변환\n",
        "from sklearn.preprocessing import MinMaxScaler\n",
        "Scaler = MinMaxScaler()\n",
        "Scaler.fit(X_train)\n",
        "X_train_scaled = Scaler.transform(X_train)"
      ],
      "metadata": {
        "id": "jG21tax69EAj"
      },
      "execution_count": 46,
      "outputs": []
    },
    {
      "cell_type": "code",
      "source": [
        "# 일반선형회귀 모델 생성 & 학습\n",
        "from sklearn.linear_model import LinearRegression\n",
        "lin_reg = LinearRegression()\n",
        "lin_reg.fit(X_train_scaled,y_train)\n",
        "print('절편 : ',lin_reg.intercept_)\n",
        "print('회귀계수: ',lin_reg.coef_)"
      ],
      "metadata": {
        "colab": {
          "base_uri": "https://localhost:8080/"
        },
        "id": "Bn66155Y9EDi",
        "outputId": "ea52c748-4159-452a-8467-591f0a36d7d5"
      },
      "execution_count": 47,
      "outputs": [
        {
          "output_type": "stream",
          "name": "stdout",
          "text": [
            "절편 :  3591.95582692081\n",
            "회귀계수:  [ 481.72727669  330.48790963  730.62071707 -423.2806083   104.20138\n",
            " -172.76184048 -384.73432763  557.49616811   61.9654617   -34.35830846\n",
            "  -27.60715324    9.1028599    -9.1028599  -213.90499814  213.90499814]\n"
          ]
        }
      ]
    },
    {
      "cell_type": "code",
      "source": [
        "# 일반선형회귀 모델 적용\n",
        "X_test_scaled = Scaler.transform(X_test)\n",
        "\n",
        "y_test_predict = lin_reg.predict(X_test_scaled)"
      ],
      "metadata": {
        "id": "zsa2WtLA9EGX"
      },
      "execution_count": 48,
      "outputs": []
    },
    {
      "cell_type": "code",
      "source": [
        "# 오차 계산 RMSE\n",
        "from sklearn.metrics import mean_squared_error\n",
        "lin_mse = mean_squared_error(y_test,y_test_predict)\n",
        "lin_rmse = np.sqrt(lin_mse)\n",
        "print('RMSE ; ',lin_rmse)"
      ],
      "metadata": {
        "colab": {
          "base_uri": "https://localhost:8080/"
        },
        "id": "WecDvwKf9ge-",
        "outputId": "1b1dfbbe-6c25-41f5-beb7-c1aedc9119bb"
      },
      "execution_count": 49,
      "outputs": [
        {
          "output_type": "stream",
          "name": "stdout",
          "text": [
            "RMSE ;  256.1276398944053\n"
          ]
        }
      ]
    },
    {
      "cell_type": "markdown",
      "source": [
        "## 결정트리"
      ],
      "metadata": {
        "id": "EEh834if2oaE"
      }
    },
    {
      "cell_type": "markdown",
      "source": [
        "### 스케일링x - 결정트리회귀"
      ],
      "metadata": {
        "id": "nxfzaN3_Eb_V"
      }
    },
    {
      "cell_type": "code",
      "source": [
        "from sklearn.tree import DecisionTreeRegressor\n",
        "dt_reg = DecisionTreeRegressor(max_depth = 5)\n",
        "dt_reg.fit(X_train,y_train)\n",
        "y_test_predict = dt_reg.predict(X_test)"
      ],
      "metadata": {
        "id": "21XFJwZD2pdy",
        "colab": {
          "base_uri": "https://localhost:8080/"
        },
        "outputId": "07e6bd43-0692-4afa-cc53-1ceb60a9e718"
      },
      "execution_count": 74,
      "outputs": [
        {
          "output_type": "execute_result",
          "data": {
            "text/plain": [
              "array([4118.05555556, 4118.05555556, 5683.33333333, 5683.33333333,\n",
              "       4118.05555556, 4118.05555556, 3775.        , 4891.66666667,\n",
              "       4641.66666667, 3347.5       , 3552.5       , 5683.33333333])"
            ]
          },
          "metadata": {},
          "execution_count": 74
        }
      ]
    },
    {
      "cell_type": "code",
      "source": [
        "# 오차 계산 RMSE\n",
        "from sklearn.metrics import mean_squared_error\n",
        "dt_mse = mean_squared_error(y_test,y_test_predict)\n",
        "dt_rmse = np.sqrt(dt_mse)\n",
        "print('RMSE ; ',dt_rmse)"
      ],
      "metadata": {
        "colab": {
          "base_uri": "https://localhost:8080/"
        },
        "id": "8smFLKoeFaR7",
        "outputId": "861bbc3e-cae1-414f-e170-8641eef2d88e"
      },
      "execution_count": 75,
      "outputs": [
        {
          "output_type": "stream",
          "name": "stdout",
          "text": [
            "RMSE ;  4577.4338180062305\n"
          ]
        }
      ]
    },
    {
      "cell_type": "markdown",
      "source": [
        "### 스케일링x - 결정트리회귀 - 타겟 log 변환"
      ],
      "metadata": {
        "id": "9Sw8Op5aFtyF"
      }
    },
    {
      "cell_type": "code",
      "source": [
        "from sklearn.tree import DecisionTreeRegressor\n",
        "dt_reg = DecisionTreeRegressor(max_depth = 5)\n",
        "dt_reg.fit(X_train,y_train_log)\n",
        "y_test_predict = dt_reg.predict(X_test)"
      ],
      "metadata": {
        "id": "94gZZTLpF0Xz"
      },
      "execution_count": 76,
      "outputs": []
    },
    {
      "cell_type": "code",
      "source": [
        "# 오차 계산 RMSE\n",
        "from sklearn.metrics import mean_squared_error\n",
        "dt_mse = mean_squared_error(y_test_log,y_test_predict)\n",
        "dt_rmse = np.sqrt(dt_mse)\n",
        "print('RMSE ; ',dt_rmse)"
      ],
      "metadata": {
        "colab": {
          "base_uri": "https://localhost:8080/"
        },
        "outputId": "96aca15c-a751-4c1f-bbcb-30d00c326a67",
        "id": "re2V4IVSF0Xz"
      },
      "execution_count": 77,
      "outputs": [
        {
          "output_type": "stream",
          "name": "stdout",
          "text": [
            "RMSE ;  0.08996911445409893\n"
          ]
        }
      ]
    },
    {
      "cell_type": "markdown",
      "source": [
        "### 표준화 - 결정트리회귀"
      ],
      "metadata": {
        "id": "LiSXrMGxF_oe"
      }
    },
    {
      "cell_type": "code",
      "source": [
        "# 표준화\n",
        "from sklearn.preprocessing import StandardScaler\n",
        "Scaler = StandardScaler()\n",
        "X_train_scaled = Scaler.fit_transform(X_train)"
      ],
      "metadata": {
        "id": "KbQ-OjZpFrmD"
      },
      "execution_count": 78,
      "outputs": []
    },
    {
      "cell_type": "code",
      "source": [
        "from sklearn.tree import DecisionTreeRegressor\n",
        "dt_reg = DecisionTreeRegressor(max_depth = 5)\n",
        "dt_reg.fit(X_train_scaled,y_train)\n",
        "\n",
        "X_test_scaled = Scaler.transform(X_test)\n",
        "y_test_predict = dt_reg.predict(X_test_scaled)"
      ],
      "metadata": {
        "id": "AVSrXEo1GXvd"
      },
      "execution_count": 79,
      "outputs": []
    },
    {
      "cell_type": "code",
      "source": [
        "# 오차 계산 RMSE\n",
        "from sklearn.metrics import mean_squared_error\n",
        "dt_mse = mean_squared_error(y_test,y_test_predict)\n",
        "dt_rmse = np.sqrt(dt_mse)\n",
        "print('RMSE ; ',dt_rmse)"
      ],
      "metadata": {
        "colab": {
          "base_uri": "https://localhost:8080/"
        },
        "id": "25HBfIo0GmPd",
        "outputId": "833cfc0e-5729-4062-8a92-1e4f4f859765"
      },
      "execution_count": 80,
      "outputs": [
        {
          "output_type": "stream",
          "name": "stdout",
          "text": [
            "RMSE ;  250.1267939782613\n"
          ]
        }
      ]
    },
    {
      "cell_type": "markdown",
      "source": [
        "### 표준화 - 결정트리회귀 - 타겟 log 변환"
      ],
      "metadata": {
        "id": "YtuOtuDgGw2I"
      }
    },
    {
      "cell_type": "code",
      "source": [
        "# 표준화\n",
        "from sklearn.preprocessing import StandardScaler\n",
        "Scaler = StandardScaler()\n",
        "X_train_scaled = Scaler.fit_transform(X_train)"
      ],
      "metadata": {
        "id": "fyLgVN9JGw2I"
      },
      "execution_count": 81,
      "outputs": []
    },
    {
      "cell_type": "code",
      "source": [
        "from sklearn.tree import DecisionTreeRegressor\n",
        "dt_reg = DecisionTreeRegressor(max_depth = 5)\n",
        "dt_reg.fit(X_train_scaled,y_train_log)\n",
        "\n",
        "X_test_scaled = Scaler.transform(X_test)\n",
        "y_test_predict = dt_reg.predict(X_test_scaled)"
      ],
      "metadata": {
        "id": "U7v5HitJGw2J"
      },
      "execution_count": 82,
      "outputs": []
    },
    {
      "cell_type": "code",
      "source": [
        "# 오차 계산 RMSE\n",
        "from sklearn.metrics import mean_squared_error\n",
        "dt_mse = mean_squared_error(y_test_log,y_test_predict)\n",
        "dt_rmse = np.sqrt(dt_mse)\n",
        "print('RMSE ; ',dt_rmse)"
      ],
      "metadata": {
        "colab": {
          "base_uri": "https://localhost:8080/"
        },
        "outputId": "1a96ca30-21ae-4d0b-b8eb-7f454d024e58",
        "id": "aG65FpLeGw2K"
      },
      "execution_count": 83,
      "outputs": [
        {
          "output_type": "stream",
          "name": "stdout",
          "text": [
            "RMSE ;  0.08996911445409893\n"
          ]
        }
      ]
    },
    {
      "cell_type": "code",
      "source": [
        ""
      ],
      "metadata": {
        "id": "PpoCLxCPGrfi"
      },
      "execution_count": null,
      "outputs": []
    }
  ]
}
