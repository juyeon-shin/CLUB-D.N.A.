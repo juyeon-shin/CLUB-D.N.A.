{
  "nbformat": 4,
  "nbformat_minor": 0,
  "metadata": {
    "colab": {
      "name": "다변량 RNN.ipynb",
      "provenance": [],
      "collapsed_sections": [],
      "authorship_tag": "ABX9TyNbhRBalbAVJJbia2+hQjMo",
      "include_colab_link": true
    },
    "kernelspec": {
      "name": "python3",
      "display_name": "Python 3"
    },
    "language_info": {
      "name": "python"
    }
  },
  "cells": [
    {
      "cell_type": "markdown",
      "metadata": {
        "id": "view-in-github",
        "colab_type": "text"
      },
      "source": [
        "<a href=\"https://colab.research.google.com/github/juyeon-shin/CLUB-D.N.A./blob/main/04.%20%EB%8B%A4%EB%B3%80%EB%9F%89_RNN%20%EC%B6%94%EA%B0%80.ipynb\" target=\"_parent\"><img src=\"https://colab.research.google.com/assets/colab-badge.svg\" alt=\"Open In Colab\"/></a>"
      ]
    },
    {
      "cell_type": "markdown",
      "metadata": {
        "id": "jtf3skKzzcn9"
      },
      "source": [
        "## 기본 설정"
      ]
    },
    {
      "cell_type": "code",
      "metadata": {
        "colab": {
          "base_uri": "https://localhost:8080/"
        },
        "id": "S2_Ba2KWxh5o",
        "outputId": "425b5634-4ee7-43e3-b6d2-7a062c46303d"
      },
      "source": [
        "from google.colab import drive\n",
        "drive.mount('/content/drive')"
      ],
      "execution_count": null,
      "outputs": [
        {
          "output_type": "stream",
          "name": "stdout",
          "text": [
            "Mounted at /content/drive\n"
          ]
        }
      ]
    },
    {
      "cell_type": "code",
      "metadata": {
        "id": "RA-MDBPGxjjS"
      },
      "source": [
        "import pandas as pd\n",
        "import numpy as np\n",
        "import datetime as dt\n",
        "import matplotlib.pyplot as plt\n",
        "plt.rc('font', family='NanumBarunGothic') \n",
        "import warnings\n",
        "warnings.filterwarnings('ignore')"
      ],
      "execution_count": null,
      "outputs": []
    },
    {
      "cell_type": "code",
      "source": [
        "def nmae(true, pred):\n",
        "  score = np.mean((np.abs(true-pred))/true)\n",
        "  return score"
      ],
      "metadata": {
        "id": "6ohicAMLnW0b"
      },
      "execution_count": null,
      "outputs": []
    },
    {
      "cell_type": "markdown",
      "metadata": {
        "id": "MhdgSRiKzlB0"
      },
      "source": [
        "## 1. 데이터 셋 전처리"
      ]
    },
    {
      "cell_type": "code",
      "metadata": {
        "colab": {
          "base_uri": "https://localhost:8080/",
          "height": 454
        },
        "id": "eRnf93hjxjly",
        "outputId": "e3599138-e3ec-4941-e8c5-173193972e04"
      },
      "source": [
        "train_mer = pd.read_csv('/content/drive/MyDrive/202110 데이콘_가스공급량 수요예측 모델개발/데이터/train_mer.csv')\n",
        "\n",
        "train_mer['연월일'] = pd.to_datetime(train_mer['연월일'], format='%Y-%m-%d', errors='raise')\n",
        "train_mer.index = train_mer['연월일']\n",
        "train_mer = train_mer.drop(['연월일'],axis=1)\n",
        "train_mer = train_mer.drop(['최저기온(℃)','최고기온(℃)'], axis=1)\n",
        "train_mer.dtypes\n",
        "train_mer"
      ],
      "execution_count": null,
      "outputs": [
        {
          "output_type": "execute_result",
          "data": {
            "text/html": [
              "<div>\n",
              "<style scoped>\n",
              "    .dataframe tbody tr th:only-of-type {\n",
              "        vertical-align: middle;\n",
              "    }\n",
              "\n",
              "    .dataframe tbody tr th {\n",
              "        vertical-align: top;\n",
              "    }\n",
              "\n",
              "    .dataframe thead th {\n",
              "        text-align: right;\n",
              "    }\n",
              "</style>\n",
              "<table border=\"1\" class=\"dataframe\">\n",
              "  <thead>\n",
              "    <tr style=\"text-align: right;\">\n",
              "      <th></th>\n",
              "      <th>시간</th>\n",
              "      <th>구분</th>\n",
              "      <th>year</th>\n",
              "      <th>month</th>\n",
              "      <th>day</th>\n",
              "      <th>weekday</th>\n",
              "      <th>수입금액지수</th>\n",
              "      <th>가스소비량</th>\n",
              "      <th>평균기온(℃)</th>\n",
              "      <th>환율</th>\n",
              "      <th>공급량</th>\n",
              "    </tr>\n",
              "    <tr>\n",
              "      <th>연월일</th>\n",
              "      <th></th>\n",
              "      <th></th>\n",
              "      <th></th>\n",
              "      <th></th>\n",
              "      <th></th>\n",
              "      <th></th>\n",
              "      <th></th>\n",
              "      <th></th>\n",
              "      <th></th>\n",
              "      <th></th>\n",
              "      <th></th>\n",
              "    </tr>\n",
              "  </thead>\n",
              "  <tbody>\n",
              "    <tr>\n",
              "      <th>2013-01-01</th>\n",
              "      <td>1</td>\n",
              "      <td>0</td>\n",
              "      <td>2013</td>\n",
              "      <td>1</td>\n",
              "      <td>1</td>\n",
              "      <td>1</td>\n",
              "      <td>193.49</td>\n",
              "      <td>6487</td>\n",
              "      <td>-3.2</td>\n",
              "      <td>1071.3</td>\n",
              "      <td>2497.129</td>\n",
              "    </tr>\n",
              "    <tr>\n",
              "      <th>2013-01-01</th>\n",
              "      <td>2</td>\n",
              "      <td>0</td>\n",
              "      <td>2013</td>\n",
              "      <td>1</td>\n",
              "      <td>1</td>\n",
              "      <td>1</td>\n",
              "      <td>193.49</td>\n",
              "      <td>6487</td>\n",
              "      <td>-3.2</td>\n",
              "      <td>1071.3</td>\n",
              "      <td>2363.265</td>\n",
              "    </tr>\n",
              "    <tr>\n",
              "      <th>2013-01-01</th>\n",
              "      <td>3</td>\n",
              "      <td>0</td>\n",
              "      <td>2013</td>\n",
              "      <td>1</td>\n",
              "      <td>1</td>\n",
              "      <td>1</td>\n",
              "      <td>193.49</td>\n",
              "      <td>6487</td>\n",
              "      <td>-3.2</td>\n",
              "      <td>1071.3</td>\n",
              "      <td>2258.505</td>\n",
              "    </tr>\n",
              "    <tr>\n",
              "      <th>2013-01-01</th>\n",
              "      <td>4</td>\n",
              "      <td>0</td>\n",
              "      <td>2013</td>\n",
              "      <td>1</td>\n",
              "      <td>1</td>\n",
              "      <td>1</td>\n",
              "      <td>193.49</td>\n",
              "      <td>6487</td>\n",
              "      <td>-3.2</td>\n",
              "      <td>1071.3</td>\n",
              "      <td>2243.969</td>\n",
              "    </tr>\n",
              "    <tr>\n",
              "      <th>2013-01-01</th>\n",
              "      <td>5</td>\n",
              "      <td>0</td>\n",
              "      <td>2013</td>\n",
              "      <td>1</td>\n",
              "      <td>1</td>\n",
              "      <td>1</td>\n",
              "      <td>193.49</td>\n",
              "      <td>6487</td>\n",
              "      <td>-3.2</td>\n",
              "      <td>1071.3</td>\n",
              "      <td>2344.105</td>\n",
              "    </tr>\n",
              "    <tr>\n",
              "      <th>...</th>\n",
              "      <td>...</td>\n",
              "      <td>...</td>\n",
              "      <td>...</td>\n",
              "      <td>...</td>\n",
              "      <td>...</td>\n",
              "      <td>...</td>\n",
              "      <td>...</td>\n",
              "      <td>...</td>\n",
              "      <td>...</td>\n",
              "      <td>...</td>\n",
              "      <td>...</td>\n",
              "    </tr>\n",
              "    <tr>\n",
              "      <th>2017-12-31</th>\n",
              "      <td>20</td>\n",
              "      <td>6</td>\n",
              "      <td>2017</td>\n",
              "      <td>12</td>\n",
              "      <td>31</td>\n",
              "      <td>6</td>\n",
              "      <td>114.29</td>\n",
              "      <td>6569</td>\n",
              "      <td>2.1</td>\n",
              "      <td>1076.0</td>\n",
              "      <td>517.264</td>\n",
              "    </tr>\n",
              "    <tr>\n",
              "      <th>2017-12-31</th>\n",
              "      <td>21</td>\n",
              "      <td>6</td>\n",
              "      <td>2017</td>\n",
              "      <td>12</td>\n",
              "      <td>31</td>\n",
              "      <td>6</td>\n",
              "      <td>114.29</td>\n",
              "      <td>6569</td>\n",
              "      <td>2.1</td>\n",
              "      <td>1076.0</td>\n",
              "      <td>530.896</td>\n",
              "    </tr>\n",
              "    <tr>\n",
              "      <th>2017-12-31</th>\n",
              "      <td>22</td>\n",
              "      <td>6</td>\n",
              "      <td>2017</td>\n",
              "      <td>12</td>\n",
              "      <td>31</td>\n",
              "      <td>6</td>\n",
              "      <td>114.29</td>\n",
              "      <td>6569</td>\n",
              "      <td>2.1</td>\n",
              "      <td>1076.0</td>\n",
              "      <td>506.287</td>\n",
              "    </tr>\n",
              "    <tr>\n",
              "      <th>2017-12-31</th>\n",
              "      <td>23</td>\n",
              "      <td>6</td>\n",
              "      <td>2017</td>\n",
              "      <td>12</td>\n",
              "      <td>31</td>\n",
              "      <td>6</td>\n",
              "      <td>114.29</td>\n",
              "      <td>6569</td>\n",
              "      <td>2.1</td>\n",
              "      <td>1076.0</td>\n",
              "      <td>470.638</td>\n",
              "    </tr>\n",
              "    <tr>\n",
              "      <th>2017-12-31</th>\n",
              "      <td>24</td>\n",
              "      <td>6</td>\n",
              "      <td>2017</td>\n",
              "      <td>12</td>\n",
              "      <td>31</td>\n",
              "      <td>6</td>\n",
              "      <td>114.29</td>\n",
              "      <td>6569</td>\n",
              "      <td>2.1</td>\n",
              "      <td>1076.0</td>\n",
              "      <td>444.618</td>\n",
              "    </tr>\n",
              "  </tbody>\n",
              "</table>\n",
              "<p>306768 rows × 11 columns</p>\n",
              "</div>"
            ],
            "text/plain": [
              "            시간  구분  year  month  day  ...  수입금액지수  가스소비량  평균기온(℃)      환율       공급량\n",
              "연월일                                   ...                                          \n",
              "2013-01-01   1   0  2013      1    1  ...  193.49   6487     -3.2  1071.3  2497.129\n",
              "2013-01-01   2   0  2013      1    1  ...  193.49   6487     -3.2  1071.3  2363.265\n",
              "2013-01-01   3   0  2013      1    1  ...  193.49   6487     -3.2  1071.3  2258.505\n",
              "2013-01-01   4   0  2013      1    1  ...  193.49   6487     -3.2  1071.3  2243.969\n",
              "2013-01-01   5   0  2013      1    1  ...  193.49   6487     -3.2  1071.3  2344.105\n",
              "...         ..  ..   ...    ...  ...  ...     ...    ...      ...     ...       ...\n",
              "2017-12-31  20   6  2017     12   31  ...  114.29   6569      2.1  1076.0   517.264\n",
              "2017-12-31  21   6  2017     12   31  ...  114.29   6569      2.1  1076.0   530.896\n",
              "2017-12-31  22   6  2017     12   31  ...  114.29   6569      2.1  1076.0   506.287\n",
              "2017-12-31  23   6  2017     12   31  ...  114.29   6569      2.1  1076.0   470.638\n",
              "2017-12-31  24   6  2017     12   31  ...  114.29   6569      2.1  1076.0   444.618\n",
              "\n",
              "[306768 rows x 11 columns]"
            ]
          },
          "metadata": {},
          "execution_count": 105
        }
      ]
    },
    {
      "cell_type": "code",
      "metadata": {
        "colab": {
          "base_uri": "https://localhost:8080/",
          "height": 454
        },
        "id": "4Qo8HwoYTY_Q",
        "outputId": "e3545b07-c6a5-4249-823d-7a3d22ba13e5"
      },
      "source": [
        "val_mer = pd.read_csv('/content/drive/MyDrive/202110 데이콘_가스공급량 수요예측 모델개발/데이터/val_mer.csv')\n",
        "\n",
        "val_mer['연월일'] = pd.to_datetime(val_mer['연월일'], format='%Y-%m-%d', errors='raise')\n",
        "val_mer.index = val_mer['연월일']\n",
        "val_mer = val_mer.drop(['연월일'],axis=1)\n",
        "val_mer = val_mer.drop(['최저기온(℃)','최고기온(℃)'], axis=1)\n",
        "val_mer.dtypes\n",
        "val_mer"
      ],
      "execution_count": null,
      "outputs": [
        {
          "output_type": "execute_result",
          "data": {
            "text/html": [
              "<div>\n",
              "<style scoped>\n",
              "    .dataframe tbody tr th:only-of-type {\n",
              "        vertical-align: middle;\n",
              "    }\n",
              "\n",
              "    .dataframe tbody tr th {\n",
              "        vertical-align: top;\n",
              "    }\n",
              "\n",
              "    .dataframe thead th {\n",
              "        text-align: right;\n",
              "    }\n",
              "</style>\n",
              "<table border=\"1\" class=\"dataframe\">\n",
              "  <thead>\n",
              "    <tr style=\"text-align: right;\">\n",
              "      <th></th>\n",
              "      <th>시간</th>\n",
              "      <th>구분</th>\n",
              "      <th>year</th>\n",
              "      <th>month</th>\n",
              "      <th>day</th>\n",
              "      <th>weekday</th>\n",
              "      <th>수입금액지수</th>\n",
              "      <th>가스소비량</th>\n",
              "      <th>평균기온(℃)</th>\n",
              "      <th>환율</th>\n",
              "      <th>공급량</th>\n",
              "    </tr>\n",
              "    <tr>\n",
              "      <th>연월일</th>\n",
              "      <th></th>\n",
              "      <th></th>\n",
              "      <th></th>\n",
              "      <th></th>\n",
              "      <th></th>\n",
              "      <th></th>\n",
              "      <th></th>\n",
              "      <th></th>\n",
              "      <th></th>\n",
              "      <th></th>\n",
              "      <th></th>\n",
              "    </tr>\n",
              "  </thead>\n",
              "  <tbody>\n",
              "    <tr>\n",
              "      <th>2018-01-01</th>\n",
              "      <td>1</td>\n",
              "      <td>0</td>\n",
              "      <td>2018</td>\n",
              "      <td>1</td>\n",
              "      <td>1</td>\n",
              "      <td>0</td>\n",
              "      <td>119.47</td>\n",
              "      <td>7013</td>\n",
              "      <td>-0.4</td>\n",
              "      <td>1076.0</td>\n",
              "      <td>1765.008</td>\n",
              "    </tr>\n",
              "    <tr>\n",
              "      <th>2018-01-01</th>\n",
              "      <td>2</td>\n",
              "      <td>0</td>\n",
              "      <td>2018</td>\n",
              "      <td>1</td>\n",
              "      <td>1</td>\n",
              "      <td>0</td>\n",
              "      <td>119.47</td>\n",
              "      <td>7013</td>\n",
              "      <td>-0.4</td>\n",
              "      <td>1076.0</td>\n",
              "      <td>1679.186</td>\n",
              "    </tr>\n",
              "    <tr>\n",
              "      <th>2018-01-01</th>\n",
              "      <td>3</td>\n",
              "      <td>0</td>\n",
              "      <td>2018</td>\n",
              "      <td>1</td>\n",
              "      <td>1</td>\n",
              "      <td>0</td>\n",
              "      <td>119.47</td>\n",
              "      <td>7013</td>\n",
              "      <td>-0.4</td>\n",
              "      <td>1076.0</td>\n",
              "      <td>1610.885</td>\n",
              "    </tr>\n",
              "    <tr>\n",
              "      <th>2018-01-01</th>\n",
              "      <td>4</td>\n",
              "      <td>0</td>\n",
              "      <td>2018</td>\n",
              "      <td>1</td>\n",
              "      <td>1</td>\n",
              "      <td>0</td>\n",
              "      <td>119.47</td>\n",
              "      <td>7013</td>\n",
              "      <td>-0.4</td>\n",
              "      <td>1076.0</td>\n",
              "      <td>1604.123</td>\n",
              "    </tr>\n",
              "    <tr>\n",
              "      <th>2018-01-01</th>\n",
              "      <td>5</td>\n",
              "      <td>0</td>\n",
              "      <td>2018</td>\n",
              "      <td>1</td>\n",
              "      <td>1</td>\n",
              "      <td>0</td>\n",
              "      <td>119.47</td>\n",
              "      <td>7013</td>\n",
              "      <td>-0.4</td>\n",
              "      <td>1076.0</td>\n",
              "      <td>1711.506</td>\n",
              "    </tr>\n",
              "    <tr>\n",
              "      <th>...</th>\n",
              "      <td>...</td>\n",
              "      <td>...</td>\n",
              "      <td>...</td>\n",
              "      <td>...</td>\n",
              "      <td>...</td>\n",
              "      <td>...</td>\n",
              "      <td>...</td>\n",
              "      <td>...</td>\n",
              "      <td>...</td>\n",
              "      <td>...</td>\n",
              "      <td>...</td>\n",
              "    </tr>\n",
              "    <tr>\n",
              "      <th>2018-12-31</th>\n",
              "      <td>20</td>\n",
              "      <td>6</td>\n",
              "      <td>2018</td>\n",
              "      <td>12</td>\n",
              "      <td>31</td>\n",
              "      <td>0</td>\n",
              "      <td>172.60</td>\n",
              "      <td>6381</td>\n",
              "      <td>-3.2</td>\n",
              "      <td>1120.0</td>\n",
              "      <td>681.033</td>\n",
              "    </tr>\n",
              "    <tr>\n",
              "      <th>2018-12-31</th>\n",
              "      <td>21</td>\n",
              "      <td>6</td>\n",
              "      <td>2018</td>\n",
              "      <td>12</td>\n",
              "      <td>31</td>\n",
              "      <td>0</td>\n",
              "      <td>172.60</td>\n",
              "      <td>6381</td>\n",
              "      <td>-3.2</td>\n",
              "      <td>1120.0</td>\n",
              "      <td>669.961</td>\n",
              "    </tr>\n",
              "    <tr>\n",
              "      <th>2018-12-31</th>\n",
              "      <td>22</td>\n",
              "      <td>6</td>\n",
              "      <td>2018</td>\n",
              "      <td>12</td>\n",
              "      <td>31</td>\n",
              "      <td>0</td>\n",
              "      <td>172.60</td>\n",
              "      <td>6381</td>\n",
              "      <td>-3.2</td>\n",
              "      <td>1120.0</td>\n",
              "      <td>657.941</td>\n",
              "    </tr>\n",
              "    <tr>\n",
              "      <th>2018-12-31</th>\n",
              "      <td>23</td>\n",
              "      <td>6</td>\n",
              "      <td>2018</td>\n",
              "      <td>12</td>\n",
              "      <td>31</td>\n",
              "      <td>0</td>\n",
              "      <td>172.60</td>\n",
              "      <td>6381</td>\n",
              "      <td>-3.2</td>\n",
              "      <td>1120.0</td>\n",
              "      <td>610.953</td>\n",
              "    </tr>\n",
              "    <tr>\n",
              "      <th>2018-12-31</th>\n",
              "      <td>24</td>\n",
              "      <td>6</td>\n",
              "      <td>2018</td>\n",
              "      <td>12</td>\n",
              "      <td>31</td>\n",
              "      <td>0</td>\n",
              "      <td>172.60</td>\n",
              "      <td>6381</td>\n",
              "      <td>-3.2</td>\n",
              "      <td>1120.0</td>\n",
              "      <td>560.896</td>\n",
              "    </tr>\n",
              "  </tbody>\n",
              "</table>\n",
              "<p>61320 rows × 11 columns</p>\n",
              "</div>"
            ],
            "text/plain": [
              "            시간  구분  year  month  day  ...  수입금액지수  가스소비량  평균기온(℃)      환율       공급량\n",
              "연월일                                   ...                                          \n",
              "2018-01-01   1   0  2018      1    1  ...  119.47   7013     -0.4  1076.0  1765.008\n",
              "2018-01-01   2   0  2018      1    1  ...  119.47   7013     -0.4  1076.0  1679.186\n",
              "2018-01-01   3   0  2018      1    1  ...  119.47   7013     -0.4  1076.0  1610.885\n",
              "2018-01-01   4   0  2018      1    1  ...  119.47   7013     -0.4  1076.0  1604.123\n",
              "2018-01-01   5   0  2018      1    1  ...  119.47   7013     -0.4  1076.0  1711.506\n",
              "...         ..  ..   ...    ...  ...  ...     ...    ...      ...     ...       ...\n",
              "2018-12-31  20   6  2018     12   31  ...  172.60   6381     -3.2  1120.0   681.033\n",
              "2018-12-31  21   6  2018     12   31  ...  172.60   6381     -3.2  1120.0   669.961\n",
              "2018-12-31  22   6  2018     12   31  ...  172.60   6381     -3.2  1120.0   657.941\n",
              "2018-12-31  23   6  2018     12   31  ...  172.60   6381     -3.2  1120.0   610.953\n",
              "2018-12-31  24   6  2018     12   31  ...  172.60   6381     -3.2  1120.0   560.896\n",
              "\n",
              "[61320 rows x 11 columns]"
            ]
          },
          "metadata": {},
          "execution_count": 106
        }
      ]
    },
    {
      "cell_type": "code",
      "metadata": {
        "colab": {
          "base_uri": "https://localhost:8080/",
          "height": 454
        },
        "id": "BFFmsD97ROb4",
        "outputId": "04e13d1c-c57e-49f0-f87c-4102ce897c2d"
      },
      "source": [
        "test = pd.read_csv('/content/drive/MyDrive/깍두기와 겉절이들/가스공급량 수요 예측/데이터/same_test.csv')\n",
        "test['일자'] = pd.to_datetime(test['일자'], format='%Y-%m-%d', errors='raise')\n",
        "test.index= test['일자']\n",
        "test = test.drop(['Unnamed: 0','일자','연월일'],axis=1)#, , '시간', '구분', '연월일', 'year', 'month', 'day','weekday', 'pred_y', 'pred_x.1', 'pred_y.1'], axis=1)\n",
        "d_map = {}\n",
        "for i, d in enumerate(test['구분'].unique()):\n",
        "    d_map[d] = i\n",
        "test['구분'] = test['구분'].map(d_map)\n",
        "\n",
        "test"
      ],
      "execution_count": null,
      "outputs": [
        {
          "output_type": "execute_result",
          "data": {
            "text/html": [
              "<div>\n",
              "<style scoped>\n",
              "    .dataframe tbody tr th:only-of-type {\n",
              "        vertical-align: middle;\n",
              "    }\n",
              "\n",
              "    .dataframe tbody tr th {\n",
              "        vertical-align: top;\n",
              "    }\n",
              "\n",
              "    .dataframe thead th {\n",
              "        text-align: right;\n",
              "    }\n",
              "</style>\n",
              "<table border=\"1\" class=\"dataframe\">\n",
              "  <thead>\n",
              "    <tr style=\"text-align: right;\">\n",
              "      <th></th>\n",
              "      <th>시간</th>\n",
              "      <th>구분</th>\n",
              "      <th>year</th>\n",
              "      <th>month</th>\n",
              "      <th>day</th>\n",
              "      <th>weekday</th>\n",
              "      <th>소비량</th>\n",
              "      <th>평균기온</th>\n",
              "      <th>수입금액지수</th>\n",
              "      <th>달러환율</th>\n",
              "    </tr>\n",
              "    <tr>\n",
              "      <th>일자</th>\n",
              "      <th></th>\n",
              "      <th></th>\n",
              "      <th></th>\n",
              "      <th></th>\n",
              "      <th></th>\n",
              "      <th></th>\n",
              "      <th></th>\n",
              "      <th></th>\n",
              "      <th></th>\n",
              "      <th></th>\n",
              "    </tr>\n",
              "  </thead>\n",
              "  <tbody>\n",
              "    <tr>\n",
              "      <th>2019-01-01</th>\n",
              "      <td>1</td>\n",
              "      <td>0</td>\n",
              "      <td>2019</td>\n",
              "      <td>1</td>\n",
              "      <td>1</td>\n",
              "      <td>1</td>\n",
              "      <td>7094.169809</td>\n",
              "      <td>-3.531051</td>\n",
              "      <td>185.074997</td>\n",
              "      <td>1120</td>\n",
              "    </tr>\n",
              "    <tr>\n",
              "      <th>2019-01-01</th>\n",
              "      <td>2</td>\n",
              "      <td>0</td>\n",
              "      <td>2019</td>\n",
              "      <td>1</td>\n",
              "      <td>1</td>\n",
              "      <td>1</td>\n",
              "      <td>7094.169809</td>\n",
              "      <td>-3.531051</td>\n",
              "      <td>185.074997</td>\n",
              "      <td>1120</td>\n",
              "    </tr>\n",
              "    <tr>\n",
              "      <th>2019-01-01</th>\n",
              "      <td>3</td>\n",
              "      <td>0</td>\n",
              "      <td>2019</td>\n",
              "      <td>1</td>\n",
              "      <td>1</td>\n",
              "      <td>1</td>\n",
              "      <td>7094.169809</td>\n",
              "      <td>-3.531051</td>\n",
              "      <td>185.074997</td>\n",
              "      <td>1120</td>\n",
              "    </tr>\n",
              "    <tr>\n",
              "      <th>2019-01-01</th>\n",
              "      <td>4</td>\n",
              "      <td>0</td>\n",
              "      <td>2019</td>\n",
              "      <td>1</td>\n",
              "      <td>1</td>\n",
              "      <td>1</td>\n",
              "      <td>7094.169809</td>\n",
              "      <td>-3.531051</td>\n",
              "      <td>185.074997</td>\n",
              "      <td>1120</td>\n",
              "    </tr>\n",
              "    <tr>\n",
              "      <th>2019-01-01</th>\n",
              "      <td>5</td>\n",
              "      <td>0</td>\n",
              "      <td>2019</td>\n",
              "      <td>1</td>\n",
              "      <td>1</td>\n",
              "      <td>1</td>\n",
              "      <td>7094.169809</td>\n",
              "      <td>-3.531051</td>\n",
              "      <td>185.074997</td>\n",
              "      <td>1120</td>\n",
              "    </tr>\n",
              "    <tr>\n",
              "      <th>...</th>\n",
              "      <td>...</td>\n",
              "      <td>...</td>\n",
              "      <td>...</td>\n",
              "      <td>...</td>\n",
              "      <td>...</td>\n",
              "      <td>...</td>\n",
              "      <td>...</td>\n",
              "      <td>...</td>\n",
              "      <td>...</td>\n",
              "      <td>...</td>\n",
              "    </tr>\n",
              "    <tr>\n",
              "      <th>2019-03-31</th>\n",
              "      <td>20</td>\n",
              "      <td>6</td>\n",
              "      <td>2019</td>\n",
              "      <td>3</td>\n",
              "      <td>31</td>\n",
              "      <td>6</td>\n",
              "      <td>5482.130419</td>\n",
              "      <td>14.000000</td>\n",
              "      <td>192.097301</td>\n",
              "      <td>1120</td>\n",
              "    </tr>\n",
              "    <tr>\n",
              "      <th>2019-03-31</th>\n",
              "      <td>21</td>\n",
              "      <td>6</td>\n",
              "      <td>2019</td>\n",
              "      <td>3</td>\n",
              "      <td>31</td>\n",
              "      <td>6</td>\n",
              "      <td>5482.130419</td>\n",
              "      <td>14.000000</td>\n",
              "      <td>192.097301</td>\n",
              "      <td>1120</td>\n",
              "    </tr>\n",
              "    <tr>\n",
              "      <th>2019-03-31</th>\n",
              "      <td>22</td>\n",
              "      <td>6</td>\n",
              "      <td>2019</td>\n",
              "      <td>3</td>\n",
              "      <td>31</td>\n",
              "      <td>6</td>\n",
              "      <td>5482.130419</td>\n",
              "      <td>14.000000</td>\n",
              "      <td>192.097301</td>\n",
              "      <td>1120</td>\n",
              "    </tr>\n",
              "    <tr>\n",
              "      <th>2019-03-31</th>\n",
              "      <td>23</td>\n",
              "      <td>6</td>\n",
              "      <td>2019</td>\n",
              "      <td>3</td>\n",
              "      <td>31</td>\n",
              "      <td>6</td>\n",
              "      <td>5482.130419</td>\n",
              "      <td>14.000000</td>\n",
              "      <td>192.097301</td>\n",
              "      <td>1120</td>\n",
              "    </tr>\n",
              "    <tr>\n",
              "      <th>2019-03-31</th>\n",
              "      <td>24</td>\n",
              "      <td>6</td>\n",
              "      <td>2019</td>\n",
              "      <td>3</td>\n",
              "      <td>31</td>\n",
              "      <td>6</td>\n",
              "      <td>5482.130419</td>\n",
              "      <td>14.000000</td>\n",
              "      <td>192.097301</td>\n",
              "      <td>1120</td>\n",
              "    </tr>\n",
              "  </tbody>\n",
              "</table>\n",
              "<p>15120 rows × 10 columns</p>\n",
              "</div>"
            ],
            "text/plain": [
              "            시간  구분  year  month  ...          소비량       평균기온      수입금액지수  달러환율\n",
              "일자                               ...                                          \n",
              "2019-01-01   1   0  2019      1  ...  7094.169809  -3.531051  185.074997  1120\n",
              "2019-01-01   2   0  2019      1  ...  7094.169809  -3.531051  185.074997  1120\n",
              "2019-01-01   3   0  2019      1  ...  7094.169809  -3.531051  185.074997  1120\n",
              "2019-01-01   4   0  2019      1  ...  7094.169809  -3.531051  185.074997  1120\n",
              "2019-01-01   5   0  2019      1  ...  7094.169809  -3.531051  185.074997  1120\n",
              "...         ..  ..   ...    ...  ...          ...        ...         ...   ...\n",
              "2019-03-31  20   6  2019      3  ...  5482.130419  14.000000  192.097301  1120\n",
              "2019-03-31  21   6  2019      3  ...  5482.130419  14.000000  192.097301  1120\n",
              "2019-03-31  22   6  2019      3  ...  5482.130419  14.000000  192.097301  1120\n",
              "2019-03-31  23   6  2019      3  ...  5482.130419  14.000000  192.097301  1120\n",
              "2019-03-31  24   6  2019      3  ...  5482.130419  14.000000  192.097301  1120\n",
              "\n",
              "[15120 rows x 10 columns]"
            ]
          },
          "metadata": {},
          "execution_count": 107
        }
      ]
    },
    {
      "cell_type": "markdown",
      "source": [
        "## 다변량 RNN"
      ],
      "metadata": {
        "id": "IK6UklmLhoHD"
      }
    },
    {
      "cell_type": "code",
      "source": [
        "y = np.array([0]*test_mer.shape[0])\n",
        "y = y.reshape(y.shape[0],1)\n",
        "test_X = np.concatenate([test_mer, y], axis=1)\n",
        "print(test_X.shape)"
      ],
      "metadata": {
        "colab": {
          "base_uri": "https://localhost:8080/"
        },
        "id": "g6tTaQeOjVdl",
        "outputId": "3fa3470e-7ca6-47ae-c896-fbb35d08bf89"
      },
      "execution_count": null,
      "outputs": [
        {
          "output_type": "stream",
          "name": "stdout",
          "text": [
            "(15120, 14)\n"
          ]
        }
      ]
    },
    {
      "cell_type": "code",
      "source": [
        "train_mer = train_mer.values\n",
        "var_mer = val_mer.values\n",
        "test_mer = test_X\n",
        "\n",
        "print(train_mer.shape, val_mer.shape, test_mer.shape)"
      ],
      "metadata": {
        "colab": {
          "base_uri": "https://localhost:8080/"
        },
        "id": "LJeiYKuOh73j",
        "outputId": "faabf716-5df8-4f44-c975-7e6740b4acb5"
      },
      "execution_count": null,
      "outputs": [
        {
          "output_type": "stream",
          "name": "stdout",
          "text": [
            "(306768, 11) (61320, 11) (15120, 13)\n"
          ]
        }
      ]
    },
    {
      "cell_type": "code",
      "source": [
        "data = np.concatenate([train_mer, val_mer],axis=0)"
      ],
      "metadata": {
        "id": "fizc1iryiBBN"
      },
      "execution_count": null,
      "outputs": []
    },
    {
      "cell_type": "code",
      "source": [
        "from sklearn.preprocessing import MinMaxScaler\n",
        "\n",
        "scaler = MinMaxScaler(feature_range=(0, 1))\n",
        "scaled = scaler.fit_transform(data)"
      ],
      "metadata": {
        "id": "vLEjJq-jiHyG"
      },
      "execution_count": null,
      "outputs": []
    },
    {
      "cell_type": "code",
      "metadata": {
        "id": "dWglCyKm1SN4"
      },
      "source": [
        "# train data x,y 분할\n",
        "X_data = scaled[:,:-1]\n",
        "y_data = scaled[:, -1]\n",
        "\n",
        "X_train = X_data[:306768]\n",
        "y_train = y_data[:306768]\n",
        "X_valid = X_data[306768:-15120]\n",
        "y_valid = y_data[306768:-15120]\n",
        "\n",
        "X_valid = X_data[306768:]\n",
        "y_valid = y_data[306768:]\n",
        "\n",
        "X_test = X_data[-15120:]\n",
        "y_test = y_data[-15120:]"
      ],
      "execution_count": null,
      "outputs": []
    },
    {
      "cell_type": "code",
      "metadata": {
        "id": "FjjHUmCI1SOJ"
      },
      "source": [
        "#train data, x_test data reshape\n",
        "X_train = X_train.reshape(X_train.shape[0],1,X_train.shape[1])\n",
        "X_valid = X_valid.reshape(X_valid.shape[0],1,X_valid.shape[1])\n",
        "X_test = X_test.reshape(X_test.shape[0],1, X_test.shape[1])\n",
        "\n",
        "#X_test = test_X.reshape(test_X.shape[0],1, test_X.shape[1])"
      ],
      "execution_count": null,
      "outputs": []
    },
    {
      "cell_type": "code",
      "metadata": {
        "id": "Rnd4wnyH1SOK",
        "colab": {
          "base_uri": "https://localhost:8080/"
        },
        "outputId": "c23b8451-80c0-40b3-a14a-32ea4528b19b"
      },
      "source": [
        "print('X_train.shape : ', X_train.shape)\n",
        "print('y_train.shape : ', y_train.shape)\n",
        "print('X_valid.shape : ', X_valid.shape)\n",
        "print('y_valid.shape : ', y_valid.shape)\n",
        "print('X_test.shape : ', X_test.shape)\n",
        "print('y_test.shape : ', y_test.shape)\n",
        "\n",
        "#print('X_test.shape : ', test_X.shape)\n",
        "#print('y_test.shape : ', test_y.shape)"
      ],
      "execution_count": null,
      "outputs": [
        {
          "output_type": "stream",
          "name": "stdout",
          "text": [
            "X_train.shape :  (306768, 1, 10)\n",
            "y_train.shape :  (306768,)\n",
            "X_valid.shape :  (61320, 1, 10)\n",
            "y_valid.shape :  (61320,)\n",
            "X_test.shape :  (15120, 1, 10)\n",
            "y_test.shape :  (15120,)\n"
          ]
        }
      ]
    },
    {
      "cell_type": "code",
      "source": [
        "#다변량 RNN\n",
        "\n",
        "import tensorflow as tf\n",
        "from tensorflow import keras\n",
        "\n",
        "model = keras.models.Sequential([\n",
        "    keras.layers.SimpleRNN(1, input_shape=(X_train.shape[1], X_train.shape[2]))\n",
        "])\n",
        "\n",
        "model.compile(loss=\"mse\", optimizer='SGD')\n",
        "history = model.fit(X_train, y_train, epochs=20,validation_data=(X_valid, y_valid))\n",
        "\n",
        "model.summary()"
      ],
      "metadata": {
        "colab": {
          "base_uri": "https://localhost:8080/"
        },
        "id": "5zVWbRP8kOzW",
        "outputId": "1681f79c-e370-415e-ffae-5dddc1119d1c"
      },
      "execution_count": null,
      "outputs": [
        {
          "output_type": "stream",
          "name": "stdout",
          "text": [
            "Epoch 1/20\n",
            "9587/9587 [==============================] - 19s 2ms/step - loss: 0.0089 - val_loss: 0.0065\n",
            "Epoch 2/20\n",
            "9587/9587 [==============================] - 17s 2ms/step - loss: 0.0043 - val_loss: 0.0052\n",
            "Epoch 3/20\n",
            "9587/9587 [==============================] - 17s 2ms/step - loss: 0.0041 - val_loss: 0.0051\n",
            "Epoch 4/20\n",
            "9587/9587 [==============================] - 17s 2ms/step - loss: 0.0041 - val_loss: 0.0051\n",
            "Epoch 5/20\n",
            "9587/9587 [==============================] - 17s 2ms/step - loss: 0.0041 - val_loss: 0.0051\n",
            "Epoch 6/20\n",
            "9587/9587 [==============================] - 18s 2ms/step - loss: 0.0041 - val_loss: 0.0051\n",
            "Epoch 7/20\n",
            "9587/9587 [==============================] - 17s 2ms/step - loss: 0.0041 - val_loss: 0.0051\n",
            "Epoch 8/20\n",
            "9587/9587 [==============================] - 17s 2ms/step - loss: 0.0041 - val_loss: 0.0051\n",
            "Epoch 9/20\n",
            "9587/9587 [==============================] - 17s 2ms/step - loss: 0.0041 - val_loss: 0.0051\n",
            "Epoch 10/20\n",
            "9587/9587 [==============================] - 17s 2ms/step - loss: 0.0041 - val_loss: 0.0051\n",
            "Epoch 11/20\n",
            "9587/9587 [==============================] - 17s 2ms/step - loss: 0.0041 - val_loss: 0.0051\n",
            "Epoch 12/20\n",
            "9587/9587 [==============================] - 18s 2ms/step - loss: 0.0041 - val_loss: 0.0051\n",
            "Epoch 13/20\n",
            "9587/9587 [==============================] - 18s 2ms/step - loss: 0.0041 - val_loss: 0.0051\n",
            "Epoch 14/20\n",
            "9587/9587 [==============================] - 18s 2ms/step - loss: 0.0041 - val_loss: 0.0051\n",
            "Epoch 15/20\n",
            "9587/9587 [==============================] - 17s 2ms/step - loss: 0.0041 - val_loss: 0.0051\n",
            "Epoch 16/20\n",
            "9587/9587 [==============================] - 18s 2ms/step - loss: 0.0041 - val_loss: 0.0051\n",
            "Epoch 17/20\n",
            "9587/9587 [==============================] - 17s 2ms/step - loss: 0.0041 - val_loss: 0.0051\n",
            "Epoch 18/20\n",
            "9587/9587 [==============================] - 18s 2ms/step - loss: 0.0041 - val_loss: 0.0052\n",
            "Epoch 19/20\n",
            "9587/9587 [==============================] - 17s 2ms/step - loss: 0.0041 - val_loss: 0.0051\n",
            "Epoch 20/20\n",
            "9587/9587 [==============================] - 18s 2ms/step - loss: 0.0041 - val_loss: 0.0051\n",
            "Model: \"sequential_2\"\n",
            "_________________________________________________________________\n",
            " Layer (type)                Output Shape              Param #   \n",
            "=================================================================\n",
            " simple_rnn_2 (SimpleRNN)    (None, 1)                 12        \n",
            "                                                                 \n",
            "=================================================================\n",
            "Total params: 12\n",
            "Trainable params: 12\n",
            "Non-trainable params: 0\n",
            "_________________________________________________________________\n"
          ]
        }
      ]
    },
    {
      "cell_type": "code",
      "metadata": {
        "colab": {
          "base_uri": "https://localhost:8080/",
          "height": 265
        },
        "id": "tZguzR1OU3zK",
        "outputId": "3064b5dc-9aca-4186-c6bf-61e115ace78b"
      },
      "source": [
        "plt.plot(history.history['loss'], label='train')\n",
        "plt.plot(history.history['val_loss'], label='valid')\n",
        "plt.legend()\n",
        "plt.show()"
      ],
      "execution_count": null,
      "outputs": [
        {
          "output_type": "display_data",
          "data": {
            "image/png": "[encoded data removed]",
            "text/plain": [
              "<Figure size 432x288 with 1 Axes>"
            ]
          },
          "metadata": {
            "needs_background": "light"
          }
        }
      ]
    },
    {
      "cell_type": "code",
      "metadata": {
        "colab": {
          "base_uri": "https://localhost:8080/"
        },
        "id": "SVeepvsGKYfp",
        "outputId": "af95996f-d4c5-4697-e105-017363447853"
      },
      "source": [
        "model.evaluate(X_valid, y_valid)"
      ],
      "execution_count": null,
      "outputs": [
        {
          "output_type": "stream",
          "name": "stdout",
          "text": [
            "1917/1917 [==============================] - 2s 1ms/step - loss: 0.0051\n"
          ]
        },
        {
          "output_type": "execute_result",
          "data": {
            "text/plain": [
              "0.005139731802046299"
            ]
          },
          "metadata": {},
          "execution_count": 115
        }
      ]
    },
    {
      "cell_type": "code",
      "metadata": {
        "id": "KwaqcqHosKiC"
      },
      "source": [
        "y_pred = model.predict(X_test)"
      ],
      "execution_count": null,
      "outputs": []
    },
    {
      "cell_type": "code",
      "source": [
        "x_train = X_train.reshape(X_train.shape[0],X_train.shape[2])\n",
        "x_valid = X_valid.reshape(X_valid.shape[0],X_valid.shape[2])\n",
        "x_test = X_test.reshape(X_test.shape[0], X_test.shape[2])"
      ],
      "metadata": {
        "id": "dW9cptv2p4YO"
      },
      "execution_count": null,
      "outputs": []
    },
    {
      "cell_type": "code",
      "source": [
        "original_train = np.concatenate([x_train,y_train.reshape(-1,1)],axis=1)\n",
        "print(original_train.shape)\n",
        "original_valid = np.concatenate([x_valid, y_valid.reshape(-1,1)],axis=1)\n",
        "print(original_valid.shape)\n",
        "original_test = np.concatenate([x_test, y_test.reshape(-1,1)],axis=1)\n",
        "print(original_test.shape)\n",
        "\n",
        "original = np.concatenate([original_train,original_valid,original_test],axis=0)\n",
        "print(original.shape)\n",
        "\n",
        "y_ori = scaler.inverse_transform(original)[:,-1]\n",
        "y_ori"
      ],
      "metadata": {
        "colab": {
          "base_uri": "https://localhost:8080/"
        },
        "id": "VbKqmC2VlsSB",
        "outputId": "893c92f8-5b08-4987-f415-a62975f4d18a"
      },
      "execution_count": null,
      "outputs": [
        {
          "output_type": "stream",
          "name": "stdout",
          "text": [
            "(306768, 11)\n",
            "(61320, 11)\n",
            "(15120, 11)\n",
            "(383208, 11)\n"
          ]
        },
        {
          "output_type": "execute_result",
          "data": {
            "text/plain": [
              "array([2497.129, 2363.265, 2258.505, ...,  657.941,  610.953,  560.896])"
            ]
          },
          "metadata": {},
          "execution_count": 118
        }
      ]
    },
    {
      "cell_type": "code",
      "source": [
        "predict_test = np.concatenate([x_test, y_pred.reshape(-1,1)],axis=1)\n",
        "print(predict_test.shape)\n",
        "\n",
        "predict = np.concatenate([original_train,original_valid, predict_test],axis=0)\n",
        "print(predict.shape)\n",
        "\n",
        "y_pre = scaler.inverse_transform(predict)[:,-1]\n",
        "y_pre"
      ],
      "metadata": {
        "colab": {
          "base_uri": "https://localhost:8080/"
        },
        "id": "PtXOflyBoJsg",
        "outputId": "3e7758a3-4667-4a35-86d7-f0ffb7ca2ad8"
      },
      "execution_count": null,
      "outputs": [
        {
          "output_type": "stream",
          "name": "stdout",
          "text": [
            "(15120, 11)\n",
            "(383208, 11)\n"
          ]
        },
        {
          "output_type": "execute_result",
          "data": {
            "text/plain": [
              "array([2497.129     , 2363.265     , 2258.505     , ..., 2226.29590443,\n",
              "       2239.47200001, 2252.64239525])"
            ]
          },
          "metadata": {},
          "execution_count": 119
        }
      ]
    },
    {
      "cell_type": "code",
      "source": [
        "nmae(y_ori[-20:], y_pre[-20:])"
      ],
      "metadata": {
        "colab": {
          "base_uri": "https://localhost:8080/"
        },
        "id": "aaA0wbORqMkB",
        "outputId": "23d28cb8-68a3-4d12-b04a-463d92da2167"
      },
      "execution_count": null,
      "outputs": [
        {
          "output_type": "execute_result",
          "data": {
            "text/plain": [
              "2.510716595651124"
            ]
          },
          "metadata": {},
          "execution_count": 120
        }
      ]
    },
    {
      "cell_type": "code",
      "source": [
        "plt.plot(y_ori[-20:], label='original')\n",
        "plt.plot(y_pre[-20:], label='predict')\n",
        "plt.legend()"
      ],
      "metadata": {
        "colab": {
          "base_uri": "https://localhost:8080/",
          "height": 283
        },
        "id": "FHEyq2_9qrhi",
        "outputId": "b54c067f-8bc4-4299-f020-103acd6b2be3"
      },
      "execution_count": null,
      "outputs": [
        {
          "output_type": "execute_result",
          "data": {
            "text/plain": [
              "<matplotlib.legend.Legend at 0x7f78e3525d10>"
            ]
          },
          "metadata": {},
          "execution_count": 121
        },
        {
          "output_type": "display_data",
          "data": {
            "image/png": "[encoded data removed]",
            "text/plain": [
              "<Figure size 432x288 with 1 Axes>"
            ]
          },
          "metadata": {
            "needs_background": "light"
          }
        }
      ]
    }
  ]
}