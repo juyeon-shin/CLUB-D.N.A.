{
 "cells": [
  {
   "cell_type": "markdown",
   "id": "e961b696",
   "metadata": {},
   "source": [
    "# 2022 D.N.A. 코딩 테스트"
   ]
  },
  {
   "cell_type": "code",
   "execution_count": 1,
   "id": "3149a60c",
   "metadata": {},
   "outputs": [
    {
     "name": "stdout",
     "output_type": "stream",
     "text": [
      "Requirement already satisfied: pandas in c:\\users\\juyeo\\anaconda3\\lib\\site-packages (1.3.5)\n",
      "Requirement already satisfied: python-dateutil>=2.7.3 in c:\\users\\juyeo\\anaconda3\\lib\\site-packages (from pandas) (2.8.2)\n",
      "Requirement already satisfied: pytz>=2017.3 in c:\\users\\juyeo\\anaconda3\\lib\\site-packages (from pandas) (2021.3)\n",
      "Requirement already satisfied: numpy>=1.17.3 in c:\\users\\juyeo\\anaconda3\\lib\\site-packages (from pandas) (1.21.4)\n",
      "Requirement already satisfied: six>=1.5 in c:\\users\\juyeo\\anaconda3\\lib\\site-packages (from python-dateutil>=2.7.3->pandas) (1.16.0)\n",
      "Requirement already satisfied: numpy in c:\\users\\juyeo\\anaconda3\\lib\\site-packages (1.21.4)\n"
     ]
    }
   ],
   "source": [
    "!pip install pandas\n",
    "!pip install numpy\n",
    "\n",
    "import pandas as pd\n",
    "import numpy as np"
   ]
  },
  {
   "cell_type": "markdown",
   "id": "a8486e63",
   "metadata": {},
   "source": [
    "|내용|설명|\n",
    "|--|--|\n",
    "|id|선수 고유의 아이디|\n",
    "|name|이름|\n",
    "|age|나이|\n",
    "|continent|선수들의 국적이 포함되어 있는 대륙|\n",
    "|contract_until|선수의 계약기간|\n",
    "|position|선수가 선호하는 포지션|\n",
    "|prefer_foot|선수가 선호하는 발 ex) 오른발|\n",
    "|reputation|선수가 유명한 정도 ex) 높은 수치일 수록 유명한 선수|\n",
    "|stat_overall|선수의 현재 능력치|\n",
    "|stat_potential|선수가 경험 및 노력을 통해 발전할 수 있는 정도|\n",
    "|stat_skill_moves|선수의 개인기 능력치|\n",
    "|value|FIFA가 선정한 선수의 이적 시장 가격 (단위 : 유로)|"
   ]
  },
  {
   "cell_type": "code",
   "execution_count": 2,
   "id": "fe365309",
   "metadata": {},
   "outputs": [
    {
     "data": {
      "text/html": [
       "<div>\n",
       "<style scoped>\n",
       "    .dataframe tbody tr th:only-of-type {\n",
       "        vertical-align: middle;\n",
       "    }\n",
       "\n",
       "    .dataframe tbody tr th {\n",
       "        vertical-align: top;\n",
       "    }\n",
       "\n",
       "    .dataframe thead th {\n",
       "        text-align: right;\n",
       "    }\n",
       "</style>\n",
       "<table border=\"1\" class=\"dataframe\">\n",
       "  <thead>\n",
       "    <tr style=\"text-align: right;\">\n",
       "      <th></th>\n",
       "      <th>id</th>\n",
       "      <th>name</th>\n",
       "      <th>age</th>\n",
       "      <th>continent</th>\n",
       "      <th>contract_until</th>\n",
       "      <th>position</th>\n",
       "      <th>prefer_foot</th>\n",
       "      <th>reputation</th>\n",
       "      <th>stat_overall</th>\n",
       "      <th>stat_potential</th>\n",
       "      <th>stat_skill_moves</th>\n",
       "      <th>value</th>\n",
       "    </tr>\n",
       "  </thead>\n",
       "  <tbody>\n",
       "    <tr>\n",
       "      <th>0</th>\n",
       "      <td>0</td>\n",
       "      <td>L. Messi</td>\n",
       "      <td>31</td>\n",
       "      <td>south america</td>\n",
       "      <td>2021</td>\n",
       "      <td>ST</td>\n",
       "      <td>left</td>\n",
       "      <td>5.0</td>\n",
       "      <td>94</td>\n",
       "      <td>94</td>\n",
       "      <td>4.0</td>\n",
       "      <td>110500000.0</td>\n",
       "    </tr>\n",
       "    <tr>\n",
       "      <th>1</th>\n",
       "      <td>3</td>\n",
       "      <td>De Gea</td>\n",
       "      <td>27</td>\n",
       "      <td>europe</td>\n",
       "      <td>2020</td>\n",
       "      <td>GK</td>\n",
       "      <td>right</td>\n",
       "      <td>4.0</td>\n",
       "      <td>91</td>\n",
       "      <td>93</td>\n",
       "      <td>1.0</td>\n",
       "      <td>72000000.0</td>\n",
       "    </tr>\n",
       "    <tr>\n",
       "      <th>2</th>\n",
       "      <td>7</td>\n",
       "      <td>L. Suárez</td>\n",
       "      <td>31</td>\n",
       "      <td>south america</td>\n",
       "      <td>2021</td>\n",
       "      <td>ST</td>\n",
       "      <td>right</td>\n",
       "      <td>5.0</td>\n",
       "      <td>91</td>\n",
       "      <td>91</td>\n",
       "      <td>3.0</td>\n",
       "      <td>80000000.0</td>\n",
       "    </tr>\n",
       "    <tr>\n",
       "      <th>3</th>\n",
       "      <td>8</td>\n",
       "      <td>Sergio Ramos</td>\n",
       "      <td>32</td>\n",
       "      <td>europe</td>\n",
       "      <td>2020</td>\n",
       "      <td>DF</td>\n",
       "      <td>right</td>\n",
       "      <td>4.0</td>\n",
       "      <td>91</td>\n",
       "      <td>91</td>\n",
       "      <td>3.0</td>\n",
       "      <td>51000000.0</td>\n",
       "    </tr>\n",
       "    <tr>\n",
       "      <th>4</th>\n",
       "      <td>9</td>\n",
       "      <td>J. Oblak</td>\n",
       "      <td>25</td>\n",
       "      <td>europe</td>\n",
       "      <td>2021</td>\n",
       "      <td>GK</td>\n",
       "      <td>right</td>\n",
       "      <td>3.0</td>\n",
       "      <td>90</td>\n",
       "      <td>93</td>\n",
       "      <td>1.0</td>\n",
       "      <td>68000000.0</td>\n",
       "    </tr>\n",
       "    <tr>\n",
       "      <th>...</th>\n",
       "      <td>...</td>\n",
       "      <td>...</td>\n",
       "      <td>...</td>\n",
       "      <td>...</td>\n",
       "      <td>...</td>\n",
       "      <td>...</td>\n",
       "      <td>...</td>\n",
       "      <td>...</td>\n",
       "      <td>...</td>\n",
       "      <td>...</td>\n",
       "      <td>...</td>\n",
       "      <td>...</td>\n",
       "    </tr>\n",
       "    <tr>\n",
       "      <th>8927</th>\n",
       "      <td>16925</td>\n",
       "      <td>S. Adewusi</td>\n",
       "      <td>18</td>\n",
       "      <td>africa</td>\n",
       "      <td>2019</td>\n",
       "      <td>MF</td>\n",
       "      <td>right</td>\n",
       "      <td>1.0</td>\n",
       "      <td>48</td>\n",
       "      <td>63</td>\n",
       "      <td>3.0</td>\n",
       "      <td>60000.0</td>\n",
       "    </tr>\n",
       "    <tr>\n",
       "      <th>8928</th>\n",
       "      <td>16936</td>\n",
       "      <td>C. Ehlich</td>\n",
       "      <td>19</td>\n",
       "      <td>europe</td>\n",
       "      <td>2020</td>\n",
       "      <td>DF</td>\n",
       "      <td>right</td>\n",
       "      <td>1.0</td>\n",
       "      <td>47</td>\n",
       "      <td>59</td>\n",
       "      <td>2.0</td>\n",
       "      <td>40000.0</td>\n",
       "    </tr>\n",
       "    <tr>\n",
       "      <th>8929</th>\n",
       "      <td>16941</td>\n",
       "      <td>N. Fuentes</td>\n",
       "      <td>18</td>\n",
       "      <td>south america</td>\n",
       "      <td>2021</td>\n",
       "      <td>DF</td>\n",
       "      <td>right</td>\n",
       "      <td>1.0</td>\n",
       "      <td>47</td>\n",
       "      <td>64</td>\n",
       "      <td>2.0</td>\n",
       "      <td>50000.0</td>\n",
       "    </tr>\n",
       "    <tr>\n",
       "      <th>8930</th>\n",
       "      <td>16942</td>\n",
       "      <td>J. Milli</td>\n",
       "      <td>18</td>\n",
       "      <td>europe</td>\n",
       "      <td>2021</td>\n",
       "      <td>GK</td>\n",
       "      <td>right</td>\n",
       "      <td>1.0</td>\n",
       "      <td>47</td>\n",
       "      <td>65</td>\n",
       "      <td>1.0</td>\n",
       "      <td>50000.0</td>\n",
       "    </tr>\n",
       "    <tr>\n",
       "      <th>8931</th>\n",
       "      <td>16948</td>\n",
       "      <td>N. Christoffersson</td>\n",
       "      <td>19</td>\n",
       "      <td>europe</td>\n",
       "      <td>2020</td>\n",
       "      <td>ST</td>\n",
       "      <td>right</td>\n",
       "      <td>1.0</td>\n",
       "      <td>47</td>\n",
       "      <td>63</td>\n",
       "      <td>2.0</td>\n",
       "      <td>60000.0</td>\n",
       "    </tr>\n",
       "  </tbody>\n",
       "</table>\n",
       "<p>8932 rows × 12 columns</p>\n",
       "</div>"
      ],
      "text/plain": [
       "         id                name  age      continent contract_until position  \\\n",
       "0         0            L. Messi   31  south america           2021       ST   \n",
       "1         3              De Gea   27         europe           2020       GK   \n",
       "2         7           L. Suárez   31  south america           2021       ST   \n",
       "3         8        Sergio Ramos   32         europe           2020       DF   \n",
       "4         9            J. Oblak   25         europe           2021       GK   \n",
       "...     ...                 ...  ...            ...            ...      ...   \n",
       "8927  16925          S. Adewusi   18         africa           2019       MF   \n",
       "8928  16936           C. Ehlich   19         europe           2020       DF   \n",
       "8929  16941          N. Fuentes   18  south america           2021       DF   \n",
       "8930  16942            J. Milli   18         europe           2021       GK   \n",
       "8931  16948  N. Christoffersson   19         europe           2020       ST   \n",
       "\n",
       "     prefer_foot  reputation  stat_overall  stat_potential  stat_skill_moves  \\\n",
       "0           left         5.0            94              94               4.0   \n",
       "1          right         4.0            91              93               1.0   \n",
       "2          right         5.0            91              91               3.0   \n",
       "3          right         4.0            91              91               3.0   \n",
       "4          right         3.0            90              93               1.0   \n",
       "...          ...         ...           ...             ...               ...   \n",
       "8927       right         1.0            48              63               3.0   \n",
       "8928       right         1.0            47              59               2.0   \n",
       "8929       right         1.0            47              64               2.0   \n",
       "8930       right         1.0            47              65               1.0   \n",
       "8931       right         1.0            47              63               2.0   \n",
       "\n",
       "            value  \n",
       "0     110500000.0  \n",
       "1      72000000.0  \n",
       "2      80000000.0  \n",
       "3      51000000.0  \n",
       "4      68000000.0  \n",
       "...           ...  \n",
       "8927      60000.0  \n",
       "8928      40000.0  \n",
       "8929      50000.0  \n",
       "8930      50000.0  \n",
       "8931      60000.0  \n",
       "\n",
       "[8932 rows x 12 columns]"
      ]
     },
     "execution_count": 2,
     "metadata": {},
     "output_type": "execute_result"
    }
   ],
   "source": [
    "data = pd.read_csv('FIFA_train.csv')\n",
    "data"
   ]
  },
  {
   "cell_type": "code",
   "execution_count": 3,
   "id": "85236529",
   "metadata": {
    "scrolled": true
   },
   "outputs": [
    {
     "data": {
      "text/html": [
       "<div>\n",
       "<style scoped>\n",
       "    .dataframe tbody tr th:only-of-type {\n",
       "        vertical-align: middle;\n",
       "    }\n",
       "\n",
       "    .dataframe tbody tr th {\n",
       "        vertical-align: top;\n",
       "    }\n",
       "\n",
       "    .dataframe thead th {\n",
       "        text-align: right;\n",
       "    }\n",
       "</style>\n",
       "<table border=\"1\" class=\"dataframe\">\n",
       "  <thead>\n",
       "    <tr style=\"text-align: right;\">\n",
       "      <th></th>\n",
       "      <th>id</th>\n",
       "      <th>name</th>\n",
       "      <th>age</th>\n",
       "      <th>continent</th>\n",
       "      <th>contract_until</th>\n",
       "      <th>position</th>\n",
       "      <th>prefer_foot</th>\n",
       "      <th>reputation</th>\n",
       "      <th>stat_overall</th>\n",
       "      <th>stat_potential</th>\n",
       "      <th>stat_skill_moves</th>\n",
       "    </tr>\n",
       "  </thead>\n",
       "  <tbody>\n",
       "    <tr>\n",
       "      <th>0</th>\n",
       "      <td>1</td>\n",
       "      <td>Cristiano Ronaldo</td>\n",
       "      <td>33</td>\n",
       "      <td>europe</td>\n",
       "      <td>2022</td>\n",
       "      <td>ST</td>\n",
       "      <td>right</td>\n",
       "      <td>5.0</td>\n",
       "      <td>94</td>\n",
       "      <td>94</td>\n",
       "      <td>5.0</td>\n",
       "    </tr>\n",
       "    <tr>\n",
       "      <th>1</th>\n",
       "      <td>2</td>\n",
       "      <td>Neymar Jr</td>\n",
       "      <td>26</td>\n",
       "      <td>south america</td>\n",
       "      <td>2022</td>\n",
       "      <td>ST</td>\n",
       "      <td>right</td>\n",
       "      <td>5.0</td>\n",
       "      <td>92</td>\n",
       "      <td>93</td>\n",
       "      <td>5.0</td>\n",
       "    </tr>\n",
       "    <tr>\n",
       "      <th>2</th>\n",
       "      <td>4</td>\n",
       "      <td>K. De Bruyne</td>\n",
       "      <td>27</td>\n",
       "      <td>europe</td>\n",
       "      <td>2023</td>\n",
       "      <td>MF</td>\n",
       "      <td>right</td>\n",
       "      <td>4.0</td>\n",
       "      <td>91</td>\n",
       "      <td>92</td>\n",
       "      <td>4.0</td>\n",
       "    </tr>\n",
       "    <tr>\n",
       "      <th>3</th>\n",
       "      <td>5</td>\n",
       "      <td>E. Hazard</td>\n",
       "      <td>27</td>\n",
       "      <td>europe</td>\n",
       "      <td>2020</td>\n",
       "      <td>ST</td>\n",
       "      <td>right</td>\n",
       "      <td>4.0</td>\n",
       "      <td>91</td>\n",
       "      <td>91</td>\n",
       "      <td>4.0</td>\n",
       "    </tr>\n",
       "    <tr>\n",
       "      <th>4</th>\n",
       "      <td>6</td>\n",
       "      <td>L. Modrić</td>\n",
       "      <td>32</td>\n",
       "      <td>europe</td>\n",
       "      <td>2020</td>\n",
       "      <td>MF</td>\n",
       "      <td>right</td>\n",
       "      <td>4.0</td>\n",
       "      <td>91</td>\n",
       "      <td>91</td>\n",
       "      <td>4.0</td>\n",
       "    </tr>\n",
       "    <tr>\n",
       "      <th>...</th>\n",
       "      <td>...</td>\n",
       "      <td>...</td>\n",
       "      <td>...</td>\n",
       "      <td>...</td>\n",
       "      <td>...</td>\n",
       "      <td>...</td>\n",
       "      <td>...</td>\n",
       "      <td>...</td>\n",
       "      <td>...</td>\n",
       "      <td>...</td>\n",
       "      <td>...</td>\n",
       "    </tr>\n",
       "    <tr>\n",
       "      <th>3823</th>\n",
       "      <td>16924</td>\n",
       "      <td>R. Takae</td>\n",
       "      <td>20</td>\n",
       "      <td>asia</td>\n",
       "      <td>2021</td>\n",
       "      <td>MF</td>\n",
       "      <td>right</td>\n",
       "      <td>1.0</td>\n",
       "      <td>48</td>\n",
       "      <td>63</td>\n",
       "      <td>2.0</td>\n",
       "    </tr>\n",
       "    <tr>\n",
       "      <th>3824</th>\n",
       "      <td>16929</td>\n",
       "      <td>L. Wahlstedt</td>\n",
       "      <td>18</td>\n",
       "      <td>europe</td>\n",
       "      <td>2018</td>\n",
       "      <td>GK</td>\n",
       "      <td>right</td>\n",
       "      <td>1.0</td>\n",
       "      <td>48</td>\n",
       "      <td>65</td>\n",
       "      <td>1.0</td>\n",
       "    </tr>\n",
       "    <tr>\n",
       "      <th>3825</th>\n",
       "      <td>16932</td>\n",
       "      <td>Y. Góez</td>\n",
       "      <td>18</td>\n",
       "      <td>south america</td>\n",
       "      <td>2021</td>\n",
       "      <td>MF</td>\n",
       "      <td>right</td>\n",
       "      <td>1.0</td>\n",
       "      <td>48</td>\n",
       "      <td>65</td>\n",
       "      <td>2.0</td>\n",
       "    </tr>\n",
       "    <tr>\n",
       "      <th>3826</th>\n",
       "      <td>16937</td>\n",
       "      <td>A. Kaltner</td>\n",
       "      <td>18</td>\n",
       "      <td>europe</td>\n",
       "      <td>2020</td>\n",
       "      <td>ST</td>\n",
       "      <td>right</td>\n",
       "      <td>1.0</td>\n",
       "      <td>47</td>\n",
       "      <td>61</td>\n",
       "      <td>2.0</td>\n",
       "    </tr>\n",
       "    <tr>\n",
       "      <th>3827</th>\n",
       "      <td>16943</td>\n",
       "      <td>K. Fujikawa</td>\n",
       "      <td>19</td>\n",
       "      <td>asia</td>\n",
       "      <td>2021</td>\n",
       "      <td>MF</td>\n",
       "      <td>right</td>\n",
       "      <td>1.0</td>\n",
       "      <td>47</td>\n",
       "      <td>61</td>\n",
       "      <td>2.0</td>\n",
       "    </tr>\n",
       "  </tbody>\n",
       "</table>\n",
       "<p>3828 rows × 11 columns</p>\n",
       "</div>"
      ],
      "text/plain": [
       "         id               name  age      continent contract_until position  \\\n",
       "0         1  Cristiano Ronaldo   33         europe           2022       ST   \n",
       "1         2          Neymar Jr   26  south america           2022       ST   \n",
       "2         4       K. De Bruyne   27         europe           2023       MF   \n",
       "3         5          E. Hazard   27         europe           2020       ST   \n",
       "4         6          L. Modrić   32         europe           2020       MF   \n",
       "...     ...                ...  ...            ...            ...      ...   \n",
       "3823  16924           R. Takae   20           asia           2021       MF   \n",
       "3824  16929       L. Wahlstedt   18         europe           2018       GK   \n",
       "3825  16932            Y. Góez   18  south america           2021       MF   \n",
       "3826  16937         A. Kaltner   18         europe           2020       ST   \n",
       "3827  16943        K. Fujikawa   19           asia           2021       MF   \n",
       "\n",
       "     prefer_foot  reputation  stat_overall  stat_potential  stat_skill_moves  \n",
       "0          right         5.0            94              94               5.0  \n",
       "1          right         5.0            92              93               5.0  \n",
       "2          right         4.0            91              92               4.0  \n",
       "3          right         4.0            91              91               4.0  \n",
       "4          right         4.0            91              91               4.0  \n",
       "...          ...         ...           ...             ...               ...  \n",
       "3823       right         1.0            48              63               2.0  \n",
       "3824       right         1.0            48              65               1.0  \n",
       "3825       right         1.0            48              65               2.0  \n",
       "3826       right         1.0            47              61               2.0  \n",
       "3827       right         1.0            47              61               2.0  \n",
       "\n",
       "[3828 rows x 11 columns]"
      ]
     },
     "execution_count": 3,
     "metadata": {},
     "output_type": "execute_result"
    }
   ],
   "source": [
    "test = pd.read_csv('FIFA_test.csv')\n",
    "test"
   ]
  },
  {
   "cell_type": "markdown",
   "id": "a4a6f006",
   "metadata": {},
   "source": [
    "## 데이터 전처리\n",
    "+ 데이터 타입 확인\n",
    "+ 결측값 확인\n",
    "+ 데이터 변환"
   ]
  },
  {
   "cell_type": "markdown",
   "id": "9b0975eb",
   "metadata": {},
   "source": [
    "### train 데이터 전처리"
   ]
  },
  {
   "cell_type": "code",
   "execution_count": 4,
   "id": "db60001f",
   "metadata": {},
   "outputs": [
    {
     "data": {
      "text/plain": [
       "id                    int64\n",
       "name                 object\n",
       "age                   int64\n",
       "continent            object\n",
       "contract_until       object\n",
       "position             object\n",
       "prefer_foot          object\n",
       "reputation          float64\n",
       "stat_overall          int64\n",
       "stat_potential        int64\n",
       "stat_skill_moves    float64\n",
       "value               float64\n",
       "dtype: object"
      ]
     },
     "execution_count": 4,
     "metadata": {},
     "output_type": "execute_result"
    }
   ],
   "source": [
    "#데이터 타입 확인\n",
    "data.dtypes"
   ]
  },
  {
   "cell_type": "code",
   "execution_count": 5,
   "id": "91ad55fc",
   "metadata": {},
   "outputs": [
    {
     "data": {
      "text/plain": [
       "id                  0\n",
       "name                0\n",
       "age                 0\n",
       "continent           0\n",
       "contract_until      0\n",
       "position            0\n",
       "prefer_foot         0\n",
       "reputation          0\n",
       "stat_overall        0\n",
       "stat_potential      0\n",
       "stat_skill_moves    0\n",
       "value               0\n",
       "dtype: int64"
      ]
     },
     "execution_count": 5,
     "metadata": {},
     "output_type": "execute_result"
    }
   ],
   "source": [
    "#데이터 결측값 확인\n",
    "data.isnull().sum()"
   ]
  },
  {
   "cell_type": "code",
   "execution_count": 6,
   "id": "917293ad",
   "metadata": {
    "scrolled": true
   },
   "outputs": [
    {
     "name": "stdout",
     "output_type": "stream",
     "text": [
      "[    0     3     7 ... 16941 16942 16948]\n",
      "['L. Messi' 'De Gea' 'L. Suárez' ... 'N. Fuentes' 'J. Milli'\n",
      " 'N. Christoffersson']\n",
      "[31 27 32 25 26 29 33 30 40 24 28 34 23 22 35 36 21 18 19 37 20 39 17 38\n",
      " 16]\n",
      "['south america' 'europe' 'africa' 'asia' 'oceania']\n",
      "['2021' '2020' '2019' '2023' '2022' '2024' 'Jun 30, 2019' '2026'\n",
      " 'Dec 31, 2018' '2018' '2025' 'Jun 30, 2020' 'May 31, 2020' 'May 31, 2019'\n",
      " 'Jan 31, 2019' 'Jan 1, 2019' 'Jan 12, 2019']\n",
      "['ST' 'GK' 'DF' 'MF']\n",
      "['left' 'right']\n",
      "[5. 4. 3. 1. 2.]\n",
      "[94 91 90 89 88 87 86 85 84 83 82 81 80 79 78 77 76 75 74 73 72 71 70 69\n",
      " 68 67 66 65 64 63 62 61 60 59 58 57 56 55 54 53 52 51 50 49 48 47]\n",
      "[94 93 91 90 92 89 88 87 86 85 84 83 82 81 80 79 78 77 76 75 74 73 72 71\n",
      " 70 69 68 67 66 65 64 63 62 61 60 59 58 57 56 55 54 53 52 50 48]\n",
      "[4. 1. 3. 2. 5.]\n",
      "[1.105e+08 7.200e+07 8.000e+07 5.100e+07 6.800e+07 4.400e+07 6.000e+07\n",
      " 6.300e+07 5.800e+07 5.350e+07 5.150e+07 3.800e+07 2.700e+07 6.950e+07\n",
      " 5.950e+07 6.200e+07 7.350e+07 5.900e+07 4.600e+07 3.600e+07 5.700e+07\n",
      " 4.000e+06 6.400e+07 6.250e+07 4.500e+07 4.650e+07 3.400e+07 5.200e+07\n",
      " 4.450e+07 5.500e+07 3.650e+07 4.550e+07 4.350e+07 3.000e+07 1.800e+07\n",
      " 2.150e+07 5.050e+07 5.400e+07 2.850e+07 3.200e+07 3.750e+07 3.900e+07\n",
      " 2.600e+07 3.300e+07 3.850e+07 9.000e+06 3.700e+07 2.200e+07 1.400e+07\n",
      " 4.050e+07 3.550e+07 3.150e+07 4.200e+07 2.500e+07 2.950e+07 2.400e+07\n",
      " 3.100e+07 2.750e+07 3.050e+07 2.900e+07 1.650e+07 1.900e+07 1.550e+07\n",
      " 4.000e+07 4.100e+07 2.800e+07 3.450e+07 3.250e+07 2.000e+07 3.500e+07\n",
      " 2.450e+07 2.650e+07 2.100e+07 2.550e+07 1.750e+07 1.300e+07 8.000e+06\n",
      " 6.000e+06 1.950e+07 2.250e+07 1.850e+07 2.350e+07 1.700e+07 1.250e+07\n",
      " 2.300e+07 1.500e+07 1.350e+07 4.800e+06 3.000e+06 1.600e+07 1.100e+07\n",
      " 7.000e+06 1.000e+07 5.500e+06 2.050e+07 1.050e+07 4.500e+06 1.200e+07\n",
      " 1.450e+07 1.150e+07 8.500e+06 1.700e+06 1.000e+06 9.500e+06 7.500e+06\n",
      " 6.500e+06 5.000e+06 2.400e+06 2.900e+06 4.100e+06 2.100e+06 3.600e+06\n",
      " 2.700e+06 2.500e+06 3.200e+06 4.700e+06 3.400e+06 4.900e+06 4.300e+06\n",
      " 2.300e+06 3.100e+06 3.900e+06 2.200e+06 4.400e+06 9.000e+05 3.700e+06\n",
      " 1.600e+06 3.800e+06 1.900e+06 4.500e+05 2.000e+06 4.200e+06 7.750e+05\n",
      " 6.500e+05 7.500e+05 2.800e+06 1.300e+06 1.200e+06 4.600e+06 3.500e+06\n",
      " 3.300e+06 2.600e+06 2.700e+05 5.500e+05 9.500e+05 1.100e+06 1.800e+06\n",
      " 9.750e+05 1.400e+06 7.250e+05 4.250e+05 2.100e+05 8.750e+05 1.500e+06\n",
      " 3.250e+05 8.000e+05 8.500e+05 1.600e+05 6.750e+05 1.200e+05 6.250e+05\n",
      " 2.400e+05 8.250e+05 9.250e+05 5.000e+05 6.000e+05 5.750e+05 2.500e+05\n",
      " 7.000e+05 3.500e+05 3.000e+05 3.750e+05 7.000e+04 4.750e+05 5.250e+05\n",
      " 1.400e+05 2.300e+05 4.000e+05 6.000e+04 5.000e+04 1.000e+05 1.800e+05\n",
      " 9.000e+04 2.900e+05 2.000e+05 1.500e+05 4.000e+04 2.600e+05 2.200e+05\n",
      " 2.800e+05 1.300e+05 1.700e+05 3.000e+04 1.100e+05 1.900e+05 2.000e+04\n",
      " 8.000e+04 1.000e+04]\n"
     ]
    }
   ],
   "source": [
    "#칼럼별 고유값 확인\n",
    "columns = data.columns\n",
    "for i in columns:\n",
    "    print(data[i].unique())"
   ]
  },
  {
   "cell_type": "markdown",
   "id": "bd719988",
   "metadata": {},
   "source": [
    "+ 각 열의 고유값 파악\n",
    "    + contract_until (계약기간) 변수 전처리 필요\n",
    "        + 년도만 나타난 값을 12월 31일로 설정 ex) Dec 31, 2019\n",
    "        + 이후에 데이트타임으로 변경"
   ]
  },
  {
   "cell_type": "code",
   "execution_count": 7,
   "id": "7b7c3661",
   "metadata": {},
   "outputs": [
    {
     "data": {
      "text/plain": [
       "2019            2366\n",
       "2021            2308\n",
       "2020            2041\n",
       "2022             761\n",
       "2023             506\n",
       "Jun 30, 2019     501\n",
       "2018             327\n",
       "Dec 31, 2018      64\n",
       "May 31, 2019      19\n",
       "2024              12\n",
       "Jan 31, 2019      10\n",
       "Jun 30, 2020       9\n",
       "2025               3\n",
       "Jan 1, 2019        2\n",
       "2026               1\n",
       "May 31, 2020       1\n",
       "Jan 12, 2019       1\n",
       "Name: contract_until, dtype: int64"
      ]
     },
     "execution_count": 7,
     "metadata": {},
     "output_type": "execute_result"
    }
   ],
   "source": [
    "#data['contract_until']의 고유값 확인\n",
    "data['contract_until'].value_counts()"
   ]
  },
  {
   "cell_type": "code",
   "execution_count": 8,
   "id": "b4a74fc6",
   "metadata": {
    "scrolled": true
   },
   "outputs": [
    {
     "data": {
      "text/plain": [
       "0       Dec 31, 2021\n",
       "1       Dec 31, 2020\n",
       "2       Dec 31, 2021\n",
       "3       Dec 31, 2020\n",
       "4       Dec 31, 2021\n",
       "            ...     \n",
       "8927    Dec 31, 2019\n",
       "8928    Dec 31, 2020\n",
       "8929    Dec 31, 2021\n",
       "8930    Dec 31, 2021\n",
       "8931    Dec 31, 2020\n",
       "Name: contract_until, Length: 8932, dtype: object"
      ]
     },
     "execution_count": 8,
     "metadata": {},
     "output_type": "execute_result"
    }
   ],
   "source": [
    "#연도만 나타난 값 처리\n",
    "\n",
    "years = []\n",
    "for i in data['contract_until']:\n",
    "    if len(i) == 4 :\n",
    "        years.append('Dec 31, '+i)\n",
    "    else :\n",
    "        years.append(i)\n",
    "\n",
    "data['contract_until'] = years\n",
    "data['contract_until']"
   ]
  },
  {
   "cell_type": "code",
   "execution_count": 9,
   "id": "c1979310",
   "metadata": {},
   "outputs": [
    {
     "data": {
      "text/plain": [
       "array(['Dec 31, 2021', 'Dec 31, 2020', 'Dec 31, 2019', 'Dec 31, 2023',\n",
       "       'Dec 31, 2022', 'Dec 31, 2024', 'Jun 30, 2019', 'Dec 31, 2026',\n",
       "       'Dec 31, 2018', 'Dec 31, 2025', 'Jun 30, 2020', 'May 31, 2020',\n",
       "       'May 31, 2019', 'Jan 31, 2019', 'Jan 1, 2019', 'Jan 12, 2019'],\n",
       "      dtype=object)"
      ]
     },
     "execution_count": 9,
     "metadata": {},
     "output_type": "execute_result"
    }
   ],
   "source": [
    "#계약 날짜 수정 확인\n",
    "data['contract_until'].unique()"
   ]
  },
  {
   "cell_type": "code",
   "execution_count": 10,
   "id": "faa8febd",
   "metadata": {},
   "outputs": [
    {
     "name": "stdout",
     "output_type": "stream",
     "text": [
      "Requirement already satisfied: datetime in c:\\users\\juyeo\\anaconda3\\lib\\site-packages (4.3)\n",
      "Requirement already satisfied: pytz in c:\\users\\juyeo\\anaconda3\\lib\\site-packages (from datetime) (2021.3)\n",
      "Requirement already satisfied: zope.interface in c:\\users\\juyeo\\anaconda3\\lib\\site-packages (from datetime) (5.4.0)\n",
      "Requirement already satisfied: setuptools in c:\\users\\juyeo\\anaconda3\\lib\\site-packages (from zope.interface->datetime) (59.2.0)\n"
     ]
    },
    {
     "data": {
      "text/html": [
       "<div>\n",
       "<style scoped>\n",
       "    .dataframe tbody tr th:only-of-type {\n",
       "        vertical-align: middle;\n",
       "    }\n",
       "\n",
       "    .dataframe tbody tr th {\n",
       "        vertical-align: top;\n",
       "    }\n",
       "\n",
       "    .dataframe thead th {\n",
       "        text-align: right;\n",
       "    }\n",
       "</style>\n",
       "<table border=\"1\" class=\"dataframe\">\n",
       "  <thead>\n",
       "    <tr style=\"text-align: right;\">\n",
       "      <th></th>\n",
       "      <th>id</th>\n",
       "      <th>name</th>\n",
       "      <th>age</th>\n",
       "      <th>continent</th>\n",
       "      <th>contract_until</th>\n",
       "      <th>position</th>\n",
       "      <th>prefer_foot</th>\n",
       "      <th>reputation</th>\n",
       "      <th>stat_overall</th>\n",
       "      <th>stat_potential</th>\n",
       "      <th>stat_skill_moves</th>\n",
       "      <th>value</th>\n",
       "    </tr>\n",
       "  </thead>\n",
       "  <tbody>\n",
       "    <tr>\n",
       "      <th>0</th>\n",
       "      <td>0</td>\n",
       "      <td>L. Messi</td>\n",
       "      <td>31</td>\n",
       "      <td>south america</td>\n",
       "      <td>2021-12-31</td>\n",
       "      <td>ST</td>\n",
       "      <td>left</td>\n",
       "      <td>5.0</td>\n",
       "      <td>94</td>\n",
       "      <td>94</td>\n",
       "      <td>4.0</td>\n",
       "      <td>110500000.0</td>\n",
       "    </tr>\n",
       "    <tr>\n",
       "      <th>1</th>\n",
       "      <td>3</td>\n",
       "      <td>De Gea</td>\n",
       "      <td>27</td>\n",
       "      <td>europe</td>\n",
       "      <td>2020-12-31</td>\n",
       "      <td>GK</td>\n",
       "      <td>right</td>\n",
       "      <td>4.0</td>\n",
       "      <td>91</td>\n",
       "      <td>93</td>\n",
       "      <td>1.0</td>\n",
       "      <td>72000000.0</td>\n",
       "    </tr>\n",
       "    <tr>\n",
       "      <th>2</th>\n",
       "      <td>7</td>\n",
       "      <td>L. Suárez</td>\n",
       "      <td>31</td>\n",
       "      <td>south america</td>\n",
       "      <td>2021-12-31</td>\n",
       "      <td>ST</td>\n",
       "      <td>right</td>\n",
       "      <td>5.0</td>\n",
       "      <td>91</td>\n",
       "      <td>91</td>\n",
       "      <td>3.0</td>\n",
       "      <td>80000000.0</td>\n",
       "    </tr>\n",
       "    <tr>\n",
       "      <th>3</th>\n",
       "      <td>8</td>\n",
       "      <td>Sergio Ramos</td>\n",
       "      <td>32</td>\n",
       "      <td>europe</td>\n",
       "      <td>2020-12-31</td>\n",
       "      <td>DF</td>\n",
       "      <td>right</td>\n",
       "      <td>4.0</td>\n",
       "      <td>91</td>\n",
       "      <td>91</td>\n",
       "      <td>3.0</td>\n",
       "      <td>51000000.0</td>\n",
       "    </tr>\n",
       "    <tr>\n",
       "      <th>4</th>\n",
       "      <td>9</td>\n",
       "      <td>J. Oblak</td>\n",
       "      <td>25</td>\n",
       "      <td>europe</td>\n",
       "      <td>2021-12-31</td>\n",
       "      <td>GK</td>\n",
       "      <td>right</td>\n",
       "      <td>3.0</td>\n",
       "      <td>90</td>\n",
       "      <td>93</td>\n",
       "      <td>1.0</td>\n",
       "      <td>68000000.0</td>\n",
       "    </tr>\n",
       "    <tr>\n",
       "      <th>...</th>\n",
       "      <td>...</td>\n",
       "      <td>...</td>\n",
       "      <td>...</td>\n",
       "      <td>...</td>\n",
       "      <td>...</td>\n",
       "      <td>...</td>\n",
       "      <td>...</td>\n",
       "      <td>...</td>\n",
       "      <td>...</td>\n",
       "      <td>...</td>\n",
       "      <td>...</td>\n",
       "      <td>...</td>\n",
       "    </tr>\n",
       "    <tr>\n",
       "      <th>8927</th>\n",
       "      <td>16925</td>\n",
       "      <td>S. Adewusi</td>\n",
       "      <td>18</td>\n",
       "      <td>africa</td>\n",
       "      <td>2019-12-31</td>\n",
       "      <td>MF</td>\n",
       "      <td>right</td>\n",
       "      <td>1.0</td>\n",
       "      <td>48</td>\n",
       "      <td>63</td>\n",
       "      <td>3.0</td>\n",
       "      <td>60000.0</td>\n",
       "    </tr>\n",
       "    <tr>\n",
       "      <th>8928</th>\n",
       "      <td>16936</td>\n",
       "      <td>C. Ehlich</td>\n",
       "      <td>19</td>\n",
       "      <td>europe</td>\n",
       "      <td>2020-12-31</td>\n",
       "      <td>DF</td>\n",
       "      <td>right</td>\n",
       "      <td>1.0</td>\n",
       "      <td>47</td>\n",
       "      <td>59</td>\n",
       "      <td>2.0</td>\n",
       "      <td>40000.0</td>\n",
       "    </tr>\n",
       "    <tr>\n",
       "      <th>8929</th>\n",
       "      <td>16941</td>\n",
       "      <td>N. Fuentes</td>\n",
       "      <td>18</td>\n",
       "      <td>south america</td>\n",
       "      <td>2021-12-31</td>\n",
       "      <td>DF</td>\n",
       "      <td>right</td>\n",
       "      <td>1.0</td>\n",
       "      <td>47</td>\n",
       "      <td>64</td>\n",
       "      <td>2.0</td>\n",
       "      <td>50000.0</td>\n",
       "    </tr>\n",
       "    <tr>\n",
       "      <th>8930</th>\n",
       "      <td>16942</td>\n",
       "      <td>J. Milli</td>\n",
       "      <td>18</td>\n",
       "      <td>europe</td>\n",
       "      <td>2021-12-31</td>\n",
       "      <td>GK</td>\n",
       "      <td>right</td>\n",
       "      <td>1.0</td>\n",
       "      <td>47</td>\n",
       "      <td>65</td>\n",
       "      <td>1.0</td>\n",
       "      <td>50000.0</td>\n",
       "    </tr>\n",
       "    <tr>\n",
       "      <th>8931</th>\n",
       "      <td>16948</td>\n",
       "      <td>N. Christoffersson</td>\n",
       "      <td>19</td>\n",
       "      <td>europe</td>\n",
       "      <td>2020-12-31</td>\n",
       "      <td>ST</td>\n",
       "      <td>right</td>\n",
       "      <td>1.0</td>\n",
       "      <td>47</td>\n",
       "      <td>63</td>\n",
       "      <td>2.0</td>\n",
       "      <td>60000.0</td>\n",
       "    </tr>\n",
       "  </tbody>\n",
       "</table>\n",
       "<p>8932 rows × 12 columns</p>\n",
       "</div>"
      ],
      "text/plain": [
       "         id                name  age      continent contract_until position  \\\n",
       "0         0            L. Messi   31  south america     2021-12-31       ST   \n",
       "1         3              De Gea   27         europe     2020-12-31       GK   \n",
       "2         7           L. Suárez   31  south america     2021-12-31       ST   \n",
       "3         8        Sergio Ramos   32         europe     2020-12-31       DF   \n",
       "4         9            J. Oblak   25         europe     2021-12-31       GK   \n",
       "...     ...                 ...  ...            ...            ...      ...   \n",
       "8927  16925          S. Adewusi   18         africa     2019-12-31       MF   \n",
       "8928  16936           C. Ehlich   19         europe     2020-12-31       DF   \n",
       "8929  16941          N. Fuentes   18  south america     2021-12-31       DF   \n",
       "8930  16942            J. Milli   18         europe     2021-12-31       GK   \n",
       "8931  16948  N. Christoffersson   19         europe     2020-12-31       ST   \n",
       "\n",
       "     prefer_foot  reputation  stat_overall  stat_potential  stat_skill_moves  \\\n",
       "0           left         5.0            94              94               4.0   \n",
       "1          right         4.0            91              93               1.0   \n",
       "2          right         5.0            91              91               3.0   \n",
       "3          right         4.0            91              91               3.0   \n",
       "4          right         3.0            90              93               1.0   \n",
       "...          ...         ...           ...             ...               ...   \n",
       "8927       right         1.0            48              63               3.0   \n",
       "8928       right         1.0            47              59               2.0   \n",
       "8929       right         1.0            47              64               2.0   \n",
       "8930       right         1.0            47              65               1.0   \n",
       "8931       right         1.0            47              63               2.0   \n",
       "\n",
       "            value  \n",
       "0     110500000.0  \n",
       "1      72000000.0  \n",
       "2      80000000.0  \n",
       "3      51000000.0  \n",
       "4      68000000.0  \n",
       "...           ...  \n",
       "8927      60000.0  \n",
       "8928      40000.0  \n",
       "8929      50000.0  \n",
       "8930      50000.0  \n",
       "8931      60000.0  \n",
       "\n",
       "[8932 rows x 12 columns]"
      ]
     },
     "execution_count": 10,
     "metadata": {},
     "output_type": "execute_result"
    }
   ],
   "source": [
    "#데이트타임으로 변경 및 적용\n",
    "!pip install datetime\n",
    "import datetime as dt\n",
    "\n",
    "data['contract_until'] = pd.to_datetime(data['contract_until'])\n",
    "data"
   ]
  },
  {
   "cell_type": "code",
   "execution_count": 11,
   "id": "b893dd2f",
   "metadata": {
    "scrolled": true
   },
   "outputs": [
    {
     "name": "stdout",
     "output_type": "stream",
     "text": [
      "id                           int64\n",
      "name                        object\n",
      "age                          int64\n",
      "continent                   object\n",
      "contract_until      datetime64[ns]\n",
      "position                    object\n",
      "prefer_foot                 object\n",
      "reputation                 float64\n",
      "stat_overall                 int64\n",
      "stat_potential               int64\n",
      "stat_skill_moves           float64\n",
      "value                      float64\n",
      "dtype: object\n",
      "----------------\n",
      "[    0     3     7 ... 16941 16942 16948]\n",
      "['L. Messi' 'De Gea' 'L. Suárez' ... 'N. Fuentes' 'J. Milli'\n",
      " 'N. Christoffersson']\n",
      "[31 27 32 25 26 29 33 30 40 24 28 34 23 22 35 36 21 18 19 37 20 39 17 38\n",
      " 16]\n",
      "['south america' 'europe' 'africa' 'asia' 'oceania']\n",
      "['2021-12-31T00:00:00.000000000' '2020-12-31T00:00:00.000000000'\n",
      " '2019-12-31T00:00:00.000000000' '2023-12-31T00:00:00.000000000'\n",
      " '2022-12-31T00:00:00.000000000' '2024-12-31T00:00:00.000000000'\n",
      " '2019-06-30T00:00:00.000000000' '2026-12-31T00:00:00.000000000'\n",
      " '2018-12-31T00:00:00.000000000' '2025-12-31T00:00:00.000000000'\n",
      " '2020-06-30T00:00:00.000000000' '2020-05-31T00:00:00.000000000'\n",
      " '2019-05-31T00:00:00.000000000' '2019-01-31T00:00:00.000000000'\n",
      " '2019-01-01T00:00:00.000000000' '2019-01-12T00:00:00.000000000']\n",
      "['ST' 'GK' 'DF' 'MF']\n",
      "['left' 'right']\n",
      "[5. 4. 3. 1. 2.]\n",
      "[94 91 90 89 88 87 86 85 84 83 82 81 80 79 78 77 76 75 74 73 72 71 70 69\n",
      " 68 67 66 65 64 63 62 61 60 59 58 57 56 55 54 53 52 51 50 49 48 47]\n",
      "[94 93 91 90 92 89 88 87 86 85 84 83 82 81 80 79 78 77 76 75 74 73 72 71\n",
      " 70 69 68 67 66 65 64 63 62 61 60 59 58 57 56 55 54 53 52 50 48]\n",
      "[4. 1. 3. 2. 5.]\n",
      "[1.105e+08 7.200e+07 8.000e+07 5.100e+07 6.800e+07 4.400e+07 6.000e+07\n",
      " 6.300e+07 5.800e+07 5.350e+07 5.150e+07 3.800e+07 2.700e+07 6.950e+07\n",
      " 5.950e+07 6.200e+07 7.350e+07 5.900e+07 4.600e+07 3.600e+07 5.700e+07\n",
      " 4.000e+06 6.400e+07 6.250e+07 4.500e+07 4.650e+07 3.400e+07 5.200e+07\n",
      " 4.450e+07 5.500e+07 3.650e+07 4.550e+07 4.350e+07 3.000e+07 1.800e+07\n",
      " 2.150e+07 5.050e+07 5.400e+07 2.850e+07 3.200e+07 3.750e+07 3.900e+07\n",
      " 2.600e+07 3.300e+07 3.850e+07 9.000e+06 3.700e+07 2.200e+07 1.400e+07\n",
      " 4.050e+07 3.550e+07 3.150e+07 4.200e+07 2.500e+07 2.950e+07 2.400e+07\n",
      " 3.100e+07 2.750e+07 3.050e+07 2.900e+07 1.650e+07 1.900e+07 1.550e+07\n",
      " 4.000e+07 4.100e+07 2.800e+07 3.450e+07 3.250e+07 2.000e+07 3.500e+07\n",
      " 2.450e+07 2.650e+07 2.100e+07 2.550e+07 1.750e+07 1.300e+07 8.000e+06\n",
      " 6.000e+06 1.950e+07 2.250e+07 1.850e+07 2.350e+07 1.700e+07 1.250e+07\n",
      " 2.300e+07 1.500e+07 1.350e+07 4.800e+06 3.000e+06 1.600e+07 1.100e+07\n",
      " 7.000e+06 1.000e+07 5.500e+06 2.050e+07 1.050e+07 4.500e+06 1.200e+07\n",
      " 1.450e+07 1.150e+07 8.500e+06 1.700e+06 1.000e+06 9.500e+06 7.500e+06\n",
      " 6.500e+06 5.000e+06 2.400e+06 2.900e+06 4.100e+06 2.100e+06 3.600e+06\n",
      " 2.700e+06 2.500e+06 3.200e+06 4.700e+06 3.400e+06 4.900e+06 4.300e+06\n",
      " 2.300e+06 3.100e+06 3.900e+06 2.200e+06 4.400e+06 9.000e+05 3.700e+06\n",
      " 1.600e+06 3.800e+06 1.900e+06 4.500e+05 2.000e+06 4.200e+06 7.750e+05\n",
      " 6.500e+05 7.500e+05 2.800e+06 1.300e+06 1.200e+06 4.600e+06 3.500e+06\n",
      " 3.300e+06 2.600e+06 2.700e+05 5.500e+05 9.500e+05 1.100e+06 1.800e+06\n",
      " 9.750e+05 1.400e+06 7.250e+05 4.250e+05 2.100e+05 8.750e+05 1.500e+06\n",
      " 3.250e+05 8.000e+05 8.500e+05 1.600e+05 6.750e+05 1.200e+05 6.250e+05\n",
      " 2.400e+05 8.250e+05 9.250e+05 5.000e+05 6.000e+05 5.750e+05 2.500e+05\n",
      " 7.000e+05 3.500e+05 3.000e+05 3.750e+05 7.000e+04 4.750e+05 5.250e+05\n",
      " 1.400e+05 2.300e+05 4.000e+05 6.000e+04 5.000e+04 1.000e+05 1.800e+05\n",
      " 9.000e+04 2.900e+05 2.000e+05 1.500e+05 4.000e+04 2.600e+05 2.200e+05\n",
      " 2.800e+05 1.300e+05 1.700e+05 3.000e+04 1.100e+05 1.900e+05 2.000e+04\n",
      " 8.000e+04 1.000e+04]\n"
     ]
    }
   ],
   "source": [
    "#데이터 변경 확인\n",
    "print(data.dtypes)\n",
    "print('----------------')\n",
    "columns = data.columns\n",
    "for i in columns:\n",
    "    print(data[i].unique())"
   ]
  },
  {
   "cell_type": "markdown",
   "id": "cc7ff1f1",
   "metadata": {},
   "source": [
    "### test 데이터 전처리"
   ]
  },
  {
   "cell_type": "code",
   "execution_count": 12,
   "id": "051c9ff7",
   "metadata": {},
   "outputs": [
    {
     "data": {
      "text/plain": [
       "id                    int64\n",
       "name                 object\n",
       "age                   int64\n",
       "continent            object\n",
       "contract_until       object\n",
       "position             object\n",
       "prefer_foot          object\n",
       "reputation          float64\n",
       "stat_overall          int64\n",
       "stat_potential        int64\n",
       "stat_skill_moves    float64\n",
       "dtype: object"
      ]
     },
     "execution_count": 12,
     "metadata": {},
     "output_type": "execute_result"
    }
   ],
   "source": [
    "#데이터 타입 확인\n",
    "test.dtypes"
   ]
  },
  {
   "cell_type": "code",
   "execution_count": 13,
   "id": "e9b42e99",
   "metadata": {},
   "outputs": [
    {
     "data": {
      "text/plain": [
       "id                  0\n",
       "name                0\n",
       "age                 0\n",
       "continent           0\n",
       "contract_until      0\n",
       "position            0\n",
       "prefer_foot         0\n",
       "reputation          0\n",
       "stat_overall        0\n",
       "stat_potential      0\n",
       "stat_skill_moves    0\n",
       "dtype: int64"
      ]
     },
     "execution_count": 13,
     "metadata": {},
     "output_type": "execute_result"
    }
   ],
   "source": [
    "#데이터 결측값 확인\n",
    "test.isnull().sum()"
   ]
  },
  {
   "cell_type": "code",
   "execution_count": 14,
   "id": "044d9b35",
   "metadata": {},
   "outputs": [
    {
     "name": "stdout",
     "output_type": "stream",
     "text": [
      "[    1     2     4 ... 16932 16937 16943]\n",
      "['Cristiano Ronaldo' 'Neymar Jr' 'K. De Bruyne' ... 'Y. Góez' 'A. Kaltner'\n",
      " 'K. Fujikawa']\n",
      "[33 26 27 32 29 28 24 30 19 25 31 22 23 37 35 34 36 21 20 40 38 18 39 17\n",
      " 42 16]\n",
      "['europe' 'south america' 'africa' 'asia' 'oceania']\n",
      "['2022' '2023' '2020' '2021' 'Jun 30, 2019' '2019' '2025' '2024' '2018'\n",
      " 'May 31, 2020' 'Jun 30, 2020' 'May 31, 2019' 'Dec 31, 2019'\n",
      " 'Dec 31, 2018' 'Jun 1, 2019' 'Jan 1, 2019' 'Jan 31, 2019' '2026']\n",
      "['ST' 'MF' 'DF' 'GK']\n",
      "['right' 'left']\n",
      "[5. 4. 3. 2. 1.]\n",
      "[94 92 91 90 89 88 87 86 85 84 83 82 81 80 79 78 77 76 75 74 73 72 71 70\n",
      " 69 68 67 66 65 64 63 62 61 60 59 58 57 56 55 54 53 52 51 50 49 48 47]\n",
      "[94 93 92 91 90 89 95 88 87 86 85 84 83 82 81 80 79 78 77 76 75 74 73 72\n",
      " 71 70 69 68 67 66 65 64 63 62 61 60 59 58 57 56 55 54 52]\n",
      "[5. 4. 3. 2. 1.]\n"
     ]
    }
   ],
   "source": [
    "#칼럼별 고유값 확인\n",
    "columns = test.columns\n",
    "for i in columns:\n",
    "    print(test[i].unique())"
   ]
  },
  {
   "cell_type": "code",
   "execution_count": 15,
   "id": "765ffbf2",
   "metadata": {},
   "outputs": [
    {
     "data": {
      "text/plain": [
       "2021            985\n",
       "2019            943\n",
       "2020            882\n",
       "2022            338\n",
       "2023            251\n",
       "Jun 30, 2019    209\n",
       "2018            155\n",
       "Dec 31, 2018     34\n",
       "May 31, 2019     14\n",
       "2025              4\n",
       "Jun 30, 2020      4\n",
       "2024              2\n",
       "Jan 31, 2019      2\n",
       "Jan 1, 2019       1\n",
       "May 31, 2020      1\n",
       "Jun 1, 2019       1\n",
       "Dec 31, 2019      1\n",
       "2026              1\n",
       "Name: contract_until, dtype: int64"
      ]
     },
     "execution_count": 15,
     "metadata": {},
     "output_type": "execute_result"
    }
   ],
   "source": [
    "#test['contract_until']의 고유값 확인\n",
    "test['contract_until'].value_counts()"
   ]
  },
  {
   "cell_type": "code",
   "execution_count": 16,
   "id": "e3a63ba7",
   "metadata": {},
   "outputs": [
    {
     "data": {
      "text/plain": [
       "0       Dec 31, 2022\n",
       "1       Dec 31, 2022\n",
       "2       Dec 31, 2023\n",
       "3       Dec 31, 2020\n",
       "4       Dec 31, 2020\n",
       "            ...     \n",
       "3823    Dec 31, 2021\n",
       "3824    Dec 31, 2018\n",
       "3825    Dec 31, 2021\n",
       "3826    Dec 31, 2020\n",
       "3827    Dec 31, 2021\n",
       "Name: contract_until, Length: 3828, dtype: object"
      ]
     },
     "execution_count": 16,
     "metadata": {},
     "output_type": "execute_result"
    }
   ],
   "source": [
    "#연도만 나타난 값 처리\n",
    "\n",
    "years = []\n",
    "for i in test['contract_until']:\n",
    "    if len(i) == 4 :\n",
    "        years.append('Dec 31, '+i)\n",
    "    else :\n",
    "        years.append(i)\n",
    "\n",
    "test['contract_until'] = years\n",
    "test['contract_until']"
   ]
  },
  {
   "cell_type": "code",
   "execution_count": 17,
   "id": "456350a0",
   "metadata": {},
   "outputs": [
    {
     "data": {
      "text/plain": [
       "array(['Dec 31, 2022', 'Dec 31, 2023', 'Dec 31, 2020', 'Dec 31, 2021',\n",
       "       'Jun 30, 2019', 'Dec 31, 2019', 'Dec 31, 2025', 'Dec 31, 2024',\n",
       "       'Dec 31, 2018', 'May 31, 2020', 'Jun 30, 2020', 'May 31, 2019',\n",
       "       'Jun 1, 2019', 'Jan 1, 2019', 'Jan 31, 2019', 'Dec 31, 2026'],\n",
       "      dtype=object)"
      ]
     },
     "execution_count": 17,
     "metadata": {},
     "output_type": "execute_result"
    }
   ],
   "source": [
    "#계약 날짜 수정 확인\n",
    "test['contract_until'].unique()"
   ]
  },
  {
   "cell_type": "code",
   "execution_count": 18,
   "id": "79d4326d",
   "metadata": {},
   "outputs": [
    {
     "data": {
      "text/html": [
       "<div>\n",
       "<style scoped>\n",
       "    .dataframe tbody tr th:only-of-type {\n",
       "        vertical-align: middle;\n",
       "    }\n",
       "\n",
       "    .dataframe tbody tr th {\n",
       "        vertical-align: top;\n",
       "    }\n",
       "\n",
       "    .dataframe thead th {\n",
       "        text-align: right;\n",
       "    }\n",
       "</style>\n",
       "<table border=\"1\" class=\"dataframe\">\n",
       "  <thead>\n",
       "    <tr style=\"text-align: right;\">\n",
       "      <th></th>\n",
       "      <th>id</th>\n",
       "      <th>name</th>\n",
       "      <th>age</th>\n",
       "      <th>continent</th>\n",
       "      <th>contract_until</th>\n",
       "      <th>position</th>\n",
       "      <th>prefer_foot</th>\n",
       "      <th>reputation</th>\n",
       "      <th>stat_overall</th>\n",
       "      <th>stat_potential</th>\n",
       "      <th>stat_skill_moves</th>\n",
       "    </tr>\n",
       "  </thead>\n",
       "  <tbody>\n",
       "    <tr>\n",
       "      <th>0</th>\n",
       "      <td>1</td>\n",
       "      <td>Cristiano Ronaldo</td>\n",
       "      <td>33</td>\n",
       "      <td>europe</td>\n",
       "      <td>2022-12-31</td>\n",
       "      <td>ST</td>\n",
       "      <td>right</td>\n",
       "      <td>5.0</td>\n",
       "      <td>94</td>\n",
       "      <td>94</td>\n",
       "      <td>5.0</td>\n",
       "    </tr>\n",
       "    <tr>\n",
       "      <th>1</th>\n",
       "      <td>2</td>\n",
       "      <td>Neymar Jr</td>\n",
       "      <td>26</td>\n",
       "      <td>south america</td>\n",
       "      <td>2022-12-31</td>\n",
       "      <td>ST</td>\n",
       "      <td>right</td>\n",
       "      <td>5.0</td>\n",
       "      <td>92</td>\n",
       "      <td>93</td>\n",
       "      <td>5.0</td>\n",
       "    </tr>\n",
       "    <tr>\n",
       "      <th>2</th>\n",
       "      <td>4</td>\n",
       "      <td>K. De Bruyne</td>\n",
       "      <td>27</td>\n",
       "      <td>europe</td>\n",
       "      <td>2023-12-31</td>\n",
       "      <td>MF</td>\n",
       "      <td>right</td>\n",
       "      <td>4.0</td>\n",
       "      <td>91</td>\n",
       "      <td>92</td>\n",
       "      <td>4.0</td>\n",
       "    </tr>\n",
       "    <tr>\n",
       "      <th>3</th>\n",
       "      <td>5</td>\n",
       "      <td>E. Hazard</td>\n",
       "      <td>27</td>\n",
       "      <td>europe</td>\n",
       "      <td>2020-12-31</td>\n",
       "      <td>ST</td>\n",
       "      <td>right</td>\n",
       "      <td>4.0</td>\n",
       "      <td>91</td>\n",
       "      <td>91</td>\n",
       "      <td>4.0</td>\n",
       "    </tr>\n",
       "    <tr>\n",
       "      <th>4</th>\n",
       "      <td>6</td>\n",
       "      <td>L. Modrić</td>\n",
       "      <td>32</td>\n",
       "      <td>europe</td>\n",
       "      <td>2020-12-31</td>\n",
       "      <td>MF</td>\n",
       "      <td>right</td>\n",
       "      <td>4.0</td>\n",
       "      <td>91</td>\n",
       "      <td>91</td>\n",
       "      <td>4.0</td>\n",
       "    </tr>\n",
       "    <tr>\n",
       "      <th>...</th>\n",
       "      <td>...</td>\n",
       "      <td>...</td>\n",
       "      <td>...</td>\n",
       "      <td>...</td>\n",
       "      <td>...</td>\n",
       "      <td>...</td>\n",
       "      <td>...</td>\n",
       "      <td>...</td>\n",
       "      <td>...</td>\n",
       "      <td>...</td>\n",
       "      <td>...</td>\n",
       "    </tr>\n",
       "    <tr>\n",
       "      <th>3823</th>\n",
       "      <td>16924</td>\n",
       "      <td>R. Takae</td>\n",
       "      <td>20</td>\n",
       "      <td>asia</td>\n",
       "      <td>2021-12-31</td>\n",
       "      <td>MF</td>\n",
       "      <td>right</td>\n",
       "      <td>1.0</td>\n",
       "      <td>48</td>\n",
       "      <td>63</td>\n",
       "      <td>2.0</td>\n",
       "    </tr>\n",
       "    <tr>\n",
       "      <th>3824</th>\n",
       "      <td>16929</td>\n",
       "      <td>L. Wahlstedt</td>\n",
       "      <td>18</td>\n",
       "      <td>europe</td>\n",
       "      <td>2018-12-31</td>\n",
       "      <td>GK</td>\n",
       "      <td>right</td>\n",
       "      <td>1.0</td>\n",
       "      <td>48</td>\n",
       "      <td>65</td>\n",
       "      <td>1.0</td>\n",
       "    </tr>\n",
       "    <tr>\n",
       "      <th>3825</th>\n",
       "      <td>16932</td>\n",
       "      <td>Y. Góez</td>\n",
       "      <td>18</td>\n",
       "      <td>south america</td>\n",
       "      <td>2021-12-31</td>\n",
       "      <td>MF</td>\n",
       "      <td>right</td>\n",
       "      <td>1.0</td>\n",
       "      <td>48</td>\n",
       "      <td>65</td>\n",
       "      <td>2.0</td>\n",
       "    </tr>\n",
       "    <tr>\n",
       "      <th>3826</th>\n",
       "      <td>16937</td>\n",
       "      <td>A. Kaltner</td>\n",
       "      <td>18</td>\n",
       "      <td>europe</td>\n",
       "      <td>2020-12-31</td>\n",
       "      <td>ST</td>\n",
       "      <td>right</td>\n",
       "      <td>1.0</td>\n",
       "      <td>47</td>\n",
       "      <td>61</td>\n",
       "      <td>2.0</td>\n",
       "    </tr>\n",
       "    <tr>\n",
       "      <th>3827</th>\n",
       "      <td>16943</td>\n",
       "      <td>K. Fujikawa</td>\n",
       "      <td>19</td>\n",
       "      <td>asia</td>\n",
       "      <td>2021-12-31</td>\n",
       "      <td>MF</td>\n",
       "      <td>right</td>\n",
       "      <td>1.0</td>\n",
       "      <td>47</td>\n",
       "      <td>61</td>\n",
       "      <td>2.0</td>\n",
       "    </tr>\n",
       "  </tbody>\n",
       "</table>\n",
       "<p>3828 rows × 11 columns</p>\n",
       "</div>"
      ],
      "text/plain": [
       "         id               name  age      continent contract_until position  \\\n",
       "0         1  Cristiano Ronaldo   33         europe     2022-12-31       ST   \n",
       "1         2          Neymar Jr   26  south america     2022-12-31       ST   \n",
       "2         4       K. De Bruyne   27         europe     2023-12-31       MF   \n",
       "3         5          E. Hazard   27         europe     2020-12-31       ST   \n",
       "4         6          L. Modrić   32         europe     2020-12-31       MF   \n",
       "...     ...                ...  ...            ...            ...      ...   \n",
       "3823  16924           R. Takae   20           asia     2021-12-31       MF   \n",
       "3824  16929       L. Wahlstedt   18         europe     2018-12-31       GK   \n",
       "3825  16932            Y. Góez   18  south america     2021-12-31       MF   \n",
       "3826  16937         A. Kaltner   18         europe     2020-12-31       ST   \n",
       "3827  16943        K. Fujikawa   19           asia     2021-12-31       MF   \n",
       "\n",
       "     prefer_foot  reputation  stat_overall  stat_potential  stat_skill_moves  \n",
       "0          right         5.0            94              94               5.0  \n",
       "1          right         5.0            92              93               5.0  \n",
       "2          right         4.0            91              92               4.0  \n",
       "3          right         4.0            91              91               4.0  \n",
       "4          right         4.0            91              91               4.0  \n",
       "...          ...         ...           ...             ...               ...  \n",
       "3823       right         1.0            48              63               2.0  \n",
       "3824       right         1.0            48              65               1.0  \n",
       "3825       right         1.0            48              65               2.0  \n",
       "3826       right         1.0            47              61               2.0  \n",
       "3827       right         1.0            47              61               2.0  \n",
       "\n",
       "[3828 rows x 11 columns]"
      ]
     },
     "execution_count": 18,
     "metadata": {},
     "output_type": "execute_result"
    }
   ],
   "source": [
    "#데이트타임으로 변경 및 적용\n",
    "test['contract_until'] = pd.to_datetime(test['contract_until'])\n",
    "test"
   ]
  },
  {
   "cell_type": "markdown",
   "id": "63629256",
   "metadata": {},
   "source": [
    "## EDA\n",
    "+ id, name 을 제외하고 EDA\n",
    "+ bar : age, continent, contract_until, position, prefer_foot, reputation, stat_overall, stat_potential, stat_skill_moves"
   ]
  },
  {
   "cell_type": "code",
   "execution_count": 19,
   "id": "8ec8a1fa",
   "metadata": {
    "scrolled": true
   },
   "outputs": [
    {
     "name": "stdout",
     "output_type": "stream",
     "text": [
      "Requirement already satisfied: matplotlib in c:\\users\\juyeo\\anaconda3\\lib\\site-packages (3.5.1)\n",
      "Requirement already satisfied: fonttools>=4.22.0 in c:\\users\\juyeo\\anaconda3\\lib\\site-packages (from matplotlib) (4.28.5)\n",
      "Requirement already satisfied: python-dateutil>=2.7 in c:\\users\\juyeo\\anaconda3\\lib\\site-packages (from matplotlib) (2.8.2)\n",
      "Requirement already satisfied: pyparsing>=2.2.1 in c:\\users\\juyeo\\anaconda3\\lib\\site-packages (from matplotlib) (3.0.6)\n",
      "Requirement already satisfied: pillow>=6.2.0 in c:\\users\\juyeo\\anaconda3\\lib\\site-packages (from matplotlib) (8.4.0)\n",
      "Requirement already satisfied: numpy>=1.17 in c:\\users\\juyeo\\anaconda3\\lib\\site-packages (from matplotlib) (1.21.4)\n",
      "Requirement already satisfied: cycler>=0.10 in c:\\users\\juyeo\\anaconda3\\lib\\site-packages (from matplotlib) (0.11.0)\n",
      "Requirement already satisfied: packaging>=20.0 in c:\\users\\juyeo\\anaconda3\\lib\\site-packages (from matplotlib) (21.3)\n",
      "Requirement already satisfied: kiwisolver>=1.0.1 in c:\\users\\juyeo\\anaconda3\\lib\\site-packages (from matplotlib) (1.3.2)\n",
      "Requirement already satisfied: six>=1.5 in c:\\users\\juyeo\\anaconda3\\lib\\site-packages (from python-dateutil>=2.7->matplotlib) (1.16.0)\n"
     ]
    }
   ],
   "source": [
    "!pip install matplotlib\n",
    "import matplotlib.pyplot as plt"
   ]
  },
  {
   "cell_type": "code",
   "execution_count": 20,
   "id": "28adcd50",
   "metadata": {},
   "outputs": [
    {
     "data": {
      "text/html": [
       "<div>\n",
       "<style scoped>\n",
       "    .dataframe tbody tr th:only-of-type {\n",
       "        vertical-align: middle;\n",
       "    }\n",
       "\n",
       "    .dataframe tbody tr th {\n",
       "        vertical-align: top;\n",
       "    }\n",
       "\n",
       "    .dataframe thead th {\n",
       "        text-align: right;\n",
       "    }\n",
       "</style>\n",
       "<table border=\"1\" class=\"dataframe\">\n",
       "  <thead>\n",
       "    <tr style=\"text-align: right;\">\n",
       "      <th></th>\n",
       "      <th>id</th>\n",
       "      <th>name</th>\n",
       "      <th>age</th>\n",
       "      <th>continent</th>\n",
       "      <th>contract_until</th>\n",
       "      <th>position</th>\n",
       "      <th>prefer_foot</th>\n",
       "      <th>reputation</th>\n",
       "      <th>stat_overall</th>\n",
       "      <th>stat_potential</th>\n",
       "      <th>stat_skill_moves</th>\n",
       "      <th>value</th>\n",
       "    </tr>\n",
       "  </thead>\n",
       "  <tbody>\n",
       "    <tr>\n",
       "      <th>0</th>\n",
       "      <td>0</td>\n",
       "      <td>L. Messi</td>\n",
       "      <td>31</td>\n",
       "      <td>south america</td>\n",
       "      <td>2021-12-31</td>\n",
       "      <td>ST</td>\n",
       "      <td>left</td>\n",
       "      <td>5.0</td>\n",
       "      <td>94</td>\n",
       "      <td>94</td>\n",
       "      <td>4.0</td>\n",
       "      <td>110500000.0</td>\n",
       "    </tr>\n",
       "    <tr>\n",
       "      <th>1</th>\n",
       "      <td>3</td>\n",
       "      <td>De Gea</td>\n",
       "      <td>27</td>\n",
       "      <td>europe</td>\n",
       "      <td>2020-12-31</td>\n",
       "      <td>GK</td>\n",
       "      <td>right</td>\n",
       "      <td>4.0</td>\n",
       "      <td>91</td>\n",
       "      <td>93</td>\n",
       "      <td>1.0</td>\n",
       "      <td>72000000.0</td>\n",
       "    </tr>\n",
       "    <tr>\n",
       "      <th>2</th>\n",
       "      <td>7</td>\n",
       "      <td>L. Suárez</td>\n",
       "      <td>31</td>\n",
       "      <td>south america</td>\n",
       "      <td>2021-12-31</td>\n",
       "      <td>ST</td>\n",
       "      <td>right</td>\n",
       "      <td>5.0</td>\n",
       "      <td>91</td>\n",
       "      <td>91</td>\n",
       "      <td>3.0</td>\n",
       "      <td>80000000.0</td>\n",
       "    </tr>\n",
       "    <tr>\n",
       "      <th>3</th>\n",
       "      <td>8</td>\n",
       "      <td>Sergio Ramos</td>\n",
       "      <td>32</td>\n",
       "      <td>europe</td>\n",
       "      <td>2020-12-31</td>\n",
       "      <td>DF</td>\n",
       "      <td>right</td>\n",
       "      <td>4.0</td>\n",
       "      <td>91</td>\n",
       "      <td>91</td>\n",
       "      <td>3.0</td>\n",
       "      <td>51000000.0</td>\n",
       "    </tr>\n",
       "    <tr>\n",
       "      <th>4</th>\n",
       "      <td>9</td>\n",
       "      <td>J. Oblak</td>\n",
       "      <td>25</td>\n",
       "      <td>europe</td>\n",
       "      <td>2021-12-31</td>\n",
       "      <td>GK</td>\n",
       "      <td>right</td>\n",
       "      <td>3.0</td>\n",
       "      <td>90</td>\n",
       "      <td>93</td>\n",
       "      <td>1.0</td>\n",
       "      <td>68000000.0</td>\n",
       "    </tr>\n",
       "    <tr>\n",
       "      <th>...</th>\n",
       "      <td>...</td>\n",
       "      <td>...</td>\n",
       "      <td>...</td>\n",
       "      <td>...</td>\n",
       "      <td>...</td>\n",
       "      <td>...</td>\n",
       "      <td>...</td>\n",
       "      <td>...</td>\n",
       "      <td>...</td>\n",
       "      <td>...</td>\n",
       "      <td>...</td>\n",
       "      <td>...</td>\n",
       "    </tr>\n",
       "    <tr>\n",
       "      <th>8927</th>\n",
       "      <td>16925</td>\n",
       "      <td>S. Adewusi</td>\n",
       "      <td>18</td>\n",
       "      <td>africa</td>\n",
       "      <td>2019-12-31</td>\n",
       "      <td>MF</td>\n",
       "      <td>right</td>\n",
       "      <td>1.0</td>\n",
       "      <td>48</td>\n",
       "      <td>63</td>\n",
       "      <td>3.0</td>\n",
       "      <td>60000.0</td>\n",
       "    </tr>\n",
       "    <tr>\n",
       "      <th>8928</th>\n",
       "      <td>16936</td>\n",
       "      <td>C. Ehlich</td>\n",
       "      <td>19</td>\n",
       "      <td>europe</td>\n",
       "      <td>2020-12-31</td>\n",
       "      <td>DF</td>\n",
       "      <td>right</td>\n",
       "      <td>1.0</td>\n",
       "      <td>47</td>\n",
       "      <td>59</td>\n",
       "      <td>2.0</td>\n",
       "      <td>40000.0</td>\n",
       "    </tr>\n",
       "    <tr>\n",
       "      <th>8929</th>\n",
       "      <td>16941</td>\n",
       "      <td>N. Fuentes</td>\n",
       "      <td>18</td>\n",
       "      <td>south america</td>\n",
       "      <td>2021-12-31</td>\n",
       "      <td>DF</td>\n",
       "      <td>right</td>\n",
       "      <td>1.0</td>\n",
       "      <td>47</td>\n",
       "      <td>64</td>\n",
       "      <td>2.0</td>\n",
       "      <td>50000.0</td>\n",
       "    </tr>\n",
       "    <tr>\n",
       "      <th>8930</th>\n",
       "      <td>16942</td>\n",
       "      <td>J. Milli</td>\n",
       "      <td>18</td>\n",
       "      <td>europe</td>\n",
       "      <td>2021-12-31</td>\n",
       "      <td>GK</td>\n",
       "      <td>right</td>\n",
       "      <td>1.0</td>\n",
       "      <td>47</td>\n",
       "      <td>65</td>\n",
       "      <td>1.0</td>\n",
       "      <td>50000.0</td>\n",
       "    </tr>\n",
       "    <tr>\n",
       "      <th>8931</th>\n",
       "      <td>16948</td>\n",
       "      <td>N. Christoffersson</td>\n",
       "      <td>19</td>\n",
       "      <td>europe</td>\n",
       "      <td>2020-12-31</td>\n",
       "      <td>ST</td>\n",
       "      <td>right</td>\n",
       "      <td>1.0</td>\n",
       "      <td>47</td>\n",
       "      <td>63</td>\n",
       "      <td>2.0</td>\n",
       "      <td>60000.0</td>\n",
       "    </tr>\n",
       "  </tbody>\n",
       "</table>\n",
       "<p>8932 rows × 12 columns</p>\n",
       "</div>"
      ],
      "text/plain": [
       "         id                name  age      continent contract_until position  \\\n",
       "0         0            L. Messi   31  south america     2021-12-31       ST   \n",
       "1         3              De Gea   27         europe     2020-12-31       GK   \n",
       "2         7           L. Suárez   31  south america     2021-12-31       ST   \n",
       "3         8        Sergio Ramos   32         europe     2020-12-31       DF   \n",
       "4         9            J. Oblak   25         europe     2021-12-31       GK   \n",
       "...     ...                 ...  ...            ...            ...      ...   \n",
       "8927  16925          S. Adewusi   18         africa     2019-12-31       MF   \n",
       "8928  16936           C. Ehlich   19         europe     2020-12-31       DF   \n",
       "8929  16941          N. Fuentes   18  south america     2021-12-31       DF   \n",
       "8930  16942            J. Milli   18         europe     2021-12-31       GK   \n",
       "8931  16948  N. Christoffersson   19         europe     2020-12-31       ST   \n",
       "\n",
       "     prefer_foot  reputation  stat_overall  stat_potential  stat_skill_moves  \\\n",
       "0           left         5.0            94              94               4.0   \n",
       "1          right         4.0            91              93               1.0   \n",
       "2          right         5.0            91              91               3.0   \n",
       "3          right         4.0            91              91               3.0   \n",
       "4          right         3.0            90              93               1.0   \n",
       "...          ...         ...           ...             ...               ...   \n",
       "8927       right         1.0            48              63               3.0   \n",
       "8928       right         1.0            47              59               2.0   \n",
       "8929       right         1.0            47              64               2.0   \n",
       "8930       right         1.0            47              65               1.0   \n",
       "8931       right         1.0            47              63               2.0   \n",
       "\n",
       "            value  \n",
       "0     110500000.0  \n",
       "1      72000000.0  \n",
       "2      80000000.0  \n",
       "3      51000000.0  \n",
       "4      68000000.0  \n",
       "...           ...  \n",
       "8927      60000.0  \n",
       "8928      40000.0  \n",
       "8929      50000.0  \n",
       "8930      50000.0  \n",
       "8931      60000.0  \n",
       "\n",
       "[8932 rows x 12 columns]"
      ]
     },
     "execution_count": 20,
     "metadata": {},
     "output_type": "execute_result"
    }
   ],
   "source": [
    "data"
   ]
  },
  {
   "cell_type": "code",
   "execution_count": 21,
   "id": "0ff6a854",
   "metadata": {
    "scrolled": true
   },
   "outputs": [
    {
     "data": {
      "image/png": "[encoded data removed]",
      "text/plain": [
       "<Figure size 432x288 with 1 Axes>"
      ]
     },
     "metadata": {
      "needs_background": "light"
     },
     "output_type": "display_data"
    },
    {
     "data": {
      "image/png": "[encoded data removed]",
      "text/plain": [
       "<Figure size 432x288 with 1 Axes>"
      ]
     },
     "metadata": {
      "needs_background": "light"
     },
     "output_type": "display_data"
    },
    {
     "data": {
      "image/png": "[encoded data removed]",
      "text/plain": [
       "<Figure size 432x288 with 1 Axes>"
      ]
     },
     "metadata": {
      "needs_background": "light"
     },
     "output_type": "display_data"
    },
    {
     "data": {
      "image/png": "[encoded data removed]",
      "text/plain": [
       "<Figure size 432x288 with 1 Axes>"
      ]
     },
     "metadata": {
      "needs_background": "light"
     },
     "output_type": "display_data"
    },
    {
     "data": {
      "image/png": "[encoded data removed]",
      "text/plain": [
       "<Figure size 432x288 with 1 Axes>"
      ]
     },
     "metadata": {
      "needs_background": "light"
     },
     "output_type": "display_data"
    },
    {
     "data": {
      "image/png": "[encoded data removed]",
      "text/plain": [
       "<Figure size 432x288 with 1 Axes>"
      ]
     },
     "metadata": {
      "needs_background": "light"
     },
     "output_type": "display_data"
    },
    {
     "data": {
      "image/png": "[encoded data removed]",
      "text/plain": [
       "<Figure size 432x288 with 1 Axes>"
      ]
     },
     "metadata": {
      "needs_background": "light"
     },
     "output_type": "display_data"
    },
    {
     "data": {
      "image/png": "[encoded data removed]",
      "text/plain": [
       "<Figure size 432x288 with 1 Axes>"
      ]
     },
     "metadata": {
      "needs_background": "light"
     },
     "output_type": "display_data"
    },
    {
     "data": {
      "image/png": "[encoded data removed]",
      "text/plain": [
       "<Figure size 432x288 with 1 Axes>"
      ]
     },
     "metadata": {
      "needs_background": "light"
     },
     "output_type": "display_data"
    },
    {
     "data": {
      "image/png": "[encoded data removed]",
      "text/plain": [
       "<Figure size 432x288 with 1 Axes>"
      ]
     },
     "metadata": {
      "needs_background": "light"
     },
     "output_type": "display_data"
    }
   ],
   "source": [
    "#막대 그래프\n",
    "for i in range(2,len(data.columns)):\n",
    "    plt.bar(data.groupby([data.columns[i]]).count().index,data.groupby([data.columns[i]]).count()['id'])\n",
    "    plt.title(data.columns[i])\n",
    "    plt.show()"
   ]
  },
  {
   "cell_type": "code",
   "execution_count": 22,
   "id": "baeb865f",
   "metadata": {
    "scrolled": true
   },
   "outputs": [
    {
     "data": {
      "image/png": "[encoded data removed]",
      "text/plain": [
       "<Figure size 432x288 with 1 Axes>"
      ]
     },
     "metadata": {},
     "output_type": "display_data"
    }
   ],
   "source": [
    "plt.pie(data.groupby(['contract_until']).count()['id'], labels = data.groupby(['contract_until']).count().index, autopct='%.1f%%', startangle=0, counterclock=True)\n",
    "plt.title('contract_until')\n",
    "plt.show()"
   ]
  },
  {
   "cell_type": "code",
   "execution_count": 23,
   "id": "78e1cb56",
   "metadata": {},
   "outputs": [
    {
     "data": {
      "image/png": "[encoded data removed]",
      "text/plain": [
       "<Figure size 432x288 with 1 Axes>"
      ]
     },
     "metadata": {
      "needs_background": "light"
     },
     "output_type": "display_data"
    }
   ],
   "source": [
    "plt.plot(data['value'])\n",
    "plt.title('value')\n",
    "plt.show()"
   ]
  },
  {
   "cell_type": "code",
   "execution_count": 24,
   "id": "8d842a89",
   "metadata": {},
   "outputs": [
    {
     "name": "stdout",
     "output_type": "stream",
     "text": [
      "25.209135691894314\n",
      "1.1308777429467085\n",
      "67.0911330049261\n",
      "71.99720107478728\n",
      "2.4017017465293327\n",
      "2778673.3094491716\n"
     ]
    }
   ],
   "source": [
    "print(np.mean(data['age']))\n",
    "print(np.mean(data['reputation']))\n",
    "print(np.mean(data['stat_overall']))\n",
    "print(np.mean(data['stat_potential']))\n",
    "print(np.mean(data['stat_skill_moves']))\n",
    "print(np.mean(data['value']))"
   ]
  },
  {
   "cell_type": "markdown",
   "id": "c7f0368c",
   "metadata": {},
   "source": [
    "## 모델링\n",
    "+ 라벨인코딩\n",
    "+ 정규화\n",
    "+ 모델링 적용\n",
    "    + 결정 트리 \n",
    "    + 회귀\n",
    "    + \n",
    "+ test 적용"
   ]
  },
  {
   "cell_type": "code",
   "execution_count": 25,
   "id": "c1fb6b83",
   "metadata": {},
   "outputs": [
    {
     "data": {
      "text/html": [
       "<div>\n",
       "<style scoped>\n",
       "    .dataframe tbody tr th:only-of-type {\n",
       "        vertical-align: middle;\n",
       "    }\n",
       "\n",
       "    .dataframe tbody tr th {\n",
       "        vertical-align: top;\n",
       "    }\n",
       "\n",
       "    .dataframe thead th {\n",
       "        text-align: right;\n",
       "    }\n",
       "</style>\n",
       "<table border=\"1\" class=\"dataframe\">\n",
       "  <thead>\n",
       "    <tr style=\"text-align: right;\">\n",
       "      <th></th>\n",
       "      <th>id</th>\n",
       "      <th>name</th>\n",
       "      <th>age</th>\n",
       "      <th>continent</th>\n",
       "      <th>contract_until</th>\n",
       "      <th>position</th>\n",
       "      <th>prefer_foot</th>\n",
       "      <th>reputation</th>\n",
       "      <th>stat_overall</th>\n",
       "      <th>stat_potential</th>\n",
       "      <th>stat_skill_moves</th>\n",
       "      <th>value</th>\n",
       "    </tr>\n",
       "  </thead>\n",
       "  <tbody>\n",
       "    <tr>\n",
       "      <th>0</th>\n",
       "      <td>0</td>\n",
       "      <td>L. Messi</td>\n",
       "      <td>31</td>\n",
       "      <td>south america</td>\n",
       "      <td>2021-12-31</td>\n",
       "      <td>ST</td>\n",
       "      <td>left</td>\n",
       "      <td>5.0</td>\n",
       "      <td>94</td>\n",
       "      <td>94</td>\n",
       "      <td>4.0</td>\n",
       "      <td>110500000.0</td>\n",
       "    </tr>\n",
       "    <tr>\n",
       "      <th>1</th>\n",
       "      <td>3</td>\n",
       "      <td>De Gea</td>\n",
       "      <td>27</td>\n",
       "      <td>europe</td>\n",
       "      <td>2020-12-31</td>\n",
       "      <td>GK</td>\n",
       "      <td>right</td>\n",
       "      <td>4.0</td>\n",
       "      <td>91</td>\n",
       "      <td>93</td>\n",
       "      <td>1.0</td>\n",
       "      <td>72000000.0</td>\n",
       "    </tr>\n",
       "    <tr>\n",
       "      <th>2</th>\n",
       "      <td>7</td>\n",
       "      <td>L. Suárez</td>\n",
       "      <td>31</td>\n",
       "      <td>south america</td>\n",
       "      <td>2021-12-31</td>\n",
       "      <td>ST</td>\n",
       "      <td>right</td>\n",
       "      <td>5.0</td>\n",
       "      <td>91</td>\n",
       "      <td>91</td>\n",
       "      <td>3.0</td>\n",
       "      <td>80000000.0</td>\n",
       "    </tr>\n",
       "    <tr>\n",
       "      <th>3</th>\n",
       "      <td>8</td>\n",
       "      <td>Sergio Ramos</td>\n",
       "      <td>32</td>\n",
       "      <td>europe</td>\n",
       "      <td>2020-12-31</td>\n",
       "      <td>DF</td>\n",
       "      <td>right</td>\n",
       "      <td>4.0</td>\n",
       "      <td>91</td>\n",
       "      <td>91</td>\n",
       "      <td>3.0</td>\n",
       "      <td>51000000.0</td>\n",
       "    </tr>\n",
       "    <tr>\n",
       "      <th>4</th>\n",
       "      <td>9</td>\n",
       "      <td>J. Oblak</td>\n",
       "      <td>25</td>\n",
       "      <td>europe</td>\n",
       "      <td>2021-12-31</td>\n",
       "      <td>GK</td>\n",
       "      <td>right</td>\n",
       "      <td>3.0</td>\n",
       "      <td>90</td>\n",
       "      <td>93</td>\n",
       "      <td>1.0</td>\n",
       "      <td>68000000.0</td>\n",
       "    </tr>\n",
       "    <tr>\n",
       "      <th>...</th>\n",
       "      <td>...</td>\n",
       "      <td>...</td>\n",
       "      <td>...</td>\n",
       "      <td>...</td>\n",
       "      <td>...</td>\n",
       "      <td>...</td>\n",
       "      <td>...</td>\n",
       "      <td>...</td>\n",
       "      <td>...</td>\n",
       "      <td>...</td>\n",
       "      <td>...</td>\n",
       "      <td>...</td>\n",
       "    </tr>\n",
       "    <tr>\n",
       "      <th>8927</th>\n",
       "      <td>16925</td>\n",
       "      <td>S. Adewusi</td>\n",
       "      <td>18</td>\n",
       "      <td>africa</td>\n",
       "      <td>2019-12-31</td>\n",
       "      <td>MF</td>\n",
       "      <td>right</td>\n",
       "      <td>1.0</td>\n",
       "      <td>48</td>\n",
       "      <td>63</td>\n",
       "      <td>3.0</td>\n",
       "      <td>60000.0</td>\n",
       "    </tr>\n",
       "    <tr>\n",
       "      <th>8928</th>\n",
       "      <td>16936</td>\n",
       "      <td>C. Ehlich</td>\n",
       "      <td>19</td>\n",
       "      <td>europe</td>\n",
       "      <td>2020-12-31</td>\n",
       "      <td>DF</td>\n",
       "      <td>right</td>\n",
       "      <td>1.0</td>\n",
       "      <td>47</td>\n",
       "      <td>59</td>\n",
       "      <td>2.0</td>\n",
       "      <td>40000.0</td>\n",
       "    </tr>\n",
       "    <tr>\n",
       "      <th>8929</th>\n",
       "      <td>16941</td>\n",
       "      <td>N. Fuentes</td>\n",
       "      <td>18</td>\n",
       "      <td>south america</td>\n",
       "      <td>2021-12-31</td>\n",
       "      <td>DF</td>\n",
       "      <td>right</td>\n",
       "      <td>1.0</td>\n",
       "      <td>47</td>\n",
       "      <td>64</td>\n",
       "      <td>2.0</td>\n",
       "      <td>50000.0</td>\n",
       "    </tr>\n",
       "    <tr>\n",
       "      <th>8930</th>\n",
       "      <td>16942</td>\n",
       "      <td>J. Milli</td>\n",
       "      <td>18</td>\n",
       "      <td>europe</td>\n",
       "      <td>2021-12-31</td>\n",
       "      <td>GK</td>\n",
       "      <td>right</td>\n",
       "      <td>1.0</td>\n",
       "      <td>47</td>\n",
       "      <td>65</td>\n",
       "      <td>1.0</td>\n",
       "      <td>50000.0</td>\n",
       "    </tr>\n",
       "    <tr>\n",
       "      <th>8931</th>\n",
       "      <td>16948</td>\n",
       "      <td>N. Christoffersson</td>\n",
       "      <td>19</td>\n",
       "      <td>europe</td>\n",
       "      <td>2020-12-31</td>\n",
       "      <td>ST</td>\n",
       "      <td>right</td>\n",
       "      <td>1.0</td>\n",
       "      <td>47</td>\n",
       "      <td>63</td>\n",
       "      <td>2.0</td>\n",
       "      <td>60000.0</td>\n",
       "    </tr>\n",
       "  </tbody>\n",
       "</table>\n",
       "<p>8932 rows × 12 columns</p>\n",
       "</div>"
      ],
      "text/plain": [
       "         id                name  age      continent contract_until position  \\\n",
       "0         0            L. Messi   31  south america     2021-12-31       ST   \n",
       "1         3              De Gea   27         europe     2020-12-31       GK   \n",
       "2         7           L. Suárez   31  south america     2021-12-31       ST   \n",
       "3         8        Sergio Ramos   32         europe     2020-12-31       DF   \n",
       "4         9            J. Oblak   25         europe     2021-12-31       GK   \n",
       "...     ...                 ...  ...            ...            ...      ...   \n",
       "8927  16925          S. Adewusi   18         africa     2019-12-31       MF   \n",
       "8928  16936           C. Ehlich   19         europe     2020-12-31       DF   \n",
       "8929  16941          N. Fuentes   18  south america     2021-12-31       DF   \n",
       "8930  16942            J. Milli   18         europe     2021-12-31       GK   \n",
       "8931  16948  N. Christoffersson   19         europe     2020-12-31       ST   \n",
       "\n",
       "     prefer_foot  reputation  stat_overall  stat_potential  stat_skill_moves  \\\n",
       "0           left         5.0            94              94               4.0   \n",
       "1          right         4.0            91              93               1.0   \n",
       "2          right         5.0            91              91               3.0   \n",
       "3          right         4.0            91              91               3.0   \n",
       "4          right         3.0            90              93               1.0   \n",
       "...          ...         ...           ...             ...               ...   \n",
       "8927       right         1.0            48              63               3.0   \n",
       "8928       right         1.0            47              59               2.0   \n",
       "8929       right         1.0            47              64               2.0   \n",
       "8930       right         1.0            47              65               1.0   \n",
       "8931       right         1.0            47              63               2.0   \n",
       "\n",
       "            value  \n",
       "0     110500000.0  \n",
       "1      72000000.0  \n",
       "2      80000000.0  \n",
       "3      51000000.0  \n",
       "4      68000000.0  \n",
       "...           ...  \n",
       "8927      60000.0  \n",
       "8928      40000.0  \n",
       "8929      50000.0  \n",
       "8930      50000.0  \n",
       "8931      60000.0  \n",
       "\n",
       "[8932 rows x 12 columns]"
      ]
     },
     "execution_count": 25,
     "metadata": {},
     "output_type": "execute_result"
    }
   ],
   "source": [
    "data"
   ]
  },
  {
   "cell_type": "code",
   "execution_count": 26,
   "id": "ef3925b4",
   "metadata": {},
   "outputs": [
    {
     "data": {
      "text/plain": [
       "array([[31, 'south america', Timestamp('2021-12-31 00:00:00'), ..., 94,\n",
       "        4.0, 110500000.0],\n",
       "       [27, 'europe', Timestamp('2020-12-31 00:00:00'), ..., 93, 1.0,\n",
       "        72000000.0],\n",
       "       [31, 'south america', Timestamp('2021-12-31 00:00:00'), ..., 91,\n",
       "        3.0, 80000000.0],\n",
       "       ...,\n",
       "       [18, 'south america', Timestamp('2021-12-31 00:00:00'), ..., 64,\n",
       "        2.0, 50000.0],\n",
       "       [18, 'europe', Timestamp('2021-12-31 00:00:00'), ..., 65, 1.0,\n",
       "        50000.0],\n",
       "       [19, 'europe', Timestamp('2020-12-31 00:00:00'), ..., 63, 2.0,\n",
       "        60000.0]], dtype=object)"
      ]
     },
     "execution_count": 26,
     "metadata": {},
     "output_type": "execute_result"
    }
   ],
   "source": [
    "values= data.values[:,2:]\n",
    "values"
   ]
  },
  {
   "cell_type": "code",
   "execution_count": 27,
   "id": "e5660366",
   "metadata": {},
   "outputs": [
    {
     "name": "stdout",
     "output_type": "stream",
     "text": [
      "Requirement already satisfied: sklearn in c:\\users\\juyeo\\anaconda3\\lib\\site-packages (0.0)\n",
      "Requirement already satisfied: scikit-learn in c:\\users\\juyeo\\anaconda3\\lib\\site-packages (from sklearn) (1.0.1)\n",
      "Requirement already satisfied: joblib>=0.11 in c:\\users\\juyeo\\anaconda3\\lib\\site-packages (from scikit-learn->sklearn) (1.1.0)\n",
      "Requirement already satisfied: threadpoolctl>=2.0.0 in c:\\users\\juyeo\\anaconda3\\lib\\site-packages (from scikit-learn->sklearn) (3.0.0)\n",
      "Requirement already satisfied: numpy>=1.14.6 in c:\\users\\juyeo\\anaconda3\\lib\\site-packages (from scikit-learn->sklearn) (1.21.4)\n",
      "Requirement already satisfied: scipy>=1.1.0 in c:\\users\\juyeo\\anaconda3\\lib\\site-packages (from scikit-learn->sklearn) (1.7.3)\n"
     ]
    }
   ],
   "source": [
    "!pip install sklearn"
   ]
  },
  {
   "cell_type": "code",
   "execution_count": 28,
   "id": "72ee0094",
   "metadata": {},
   "outputs": [],
   "source": [
    "from sklearn.preprocessing import LabelEncoder\n",
    "encoder = LabelEncoder()\n",
    "\n",
    "#trian 데이터 전처리\n",
    "values[:,1] = encoder.fit_transform(values[:,1])\n",
    "values[:,2] = encoder.fit_transform(values[:,2])\n",
    "values[:,3] = encoder.fit_transform(values[:,3])\n",
    "values[:,4] = encoder.fit_transform(values[:,4])"
   ]
  },
  {
   "cell_type": "code",
   "execution_count": 29,
   "id": "bf3a6690",
   "metadata": {},
   "outputs": [],
   "source": [
    "#정규화\n",
    "from sklearn.preprocessing import MinMaxScaler\n",
    "scaler = MinMaxScaler(feature_range=(0,1))\n",
    "scaled = scaler.fit_transform(values)\n",
    "\n",
    "X = scaled[:,:-1]\n",
    "y = scaled[:,-1]"
   ]
  },
  {
   "cell_type": "markdown",
   "id": "23a339b3",
   "metadata": {},
   "source": [
    "X = values[:,:-1]\n",
    "y = values[:,-1]"
   ]
  },
  {
   "cell_type": "code",
   "execution_count": 30,
   "id": "2fe72f76",
   "metadata": {},
   "outputs": [],
   "source": [
    "t_values = test.values[:,2:]\n",
    "\n",
    "#test 데이터 전처리\n",
    "t_values[:,1] = encoder.fit_transform(t_values[:,1])\n",
    "t_values[:,2] = encoder.fit_transform(t_values[:,2])\n",
    "t_values[:,3] = encoder.fit_transform(t_values[:,3])\n",
    "t_values[:,4] = encoder.fit_transform(t_values[:,4])\n",
    "\n",
    "x = t_values"
   ]
  },
  {
   "cell_type": "code",
   "execution_count": 31,
   "id": "0de39a0d",
   "metadata": {},
   "outputs": [],
   "source": [
    "#데이터 셋 분리\n",
    "from sklearn.model_selection import train_test_split\n",
    "X_train, X_test, y_train, y_test = train_test_split(X, y, test_size=0.2, random_state=0)"
   ]
  },
  {
   "cell_type": "markdown",
   "id": "80862607",
   "metadata": {},
   "source": [
    "### 결정 트리 (회귀)"
   ]
  },
  {
   "cell_type": "code",
   "execution_count": 32,
   "id": "9345debb",
   "metadata": {},
   "outputs": [],
   "source": [
    "from sklearn.tree import DecisionTreeRegressor"
   ]
  },
  {
   "cell_type": "code",
   "execution_count": 33,
   "id": "569bdd13",
   "metadata": {
    "scrolled": true
   },
   "outputs": [
    {
     "data": {
      "text/plain": [
       "DecisionTreeRegressor()"
      ]
     },
     "execution_count": 33,
     "metadata": {},
     "output_type": "execute_result"
    }
   ],
   "source": [
    "dtree_reg = DecisionTreeRegressor()\n",
    "dtree_reg.fit(X_train,y_train)"
   ]
  },
  {
   "cell_type": "code",
   "execution_count": 34,
   "id": "3bd015cd",
   "metadata": {},
   "outputs": [
    {
     "name": "stdout",
     "output_type": "stream",
     "text": [
      "[0.00782876 0.00850756 0.00782876 ... 0.01077021 0.00285094 0.01167526]\n"
     ]
    }
   ],
   "source": [
    "yhat = dtree_reg.predict(X_test)\n",
    "print(yhat)"
   ]
  },
  {
   "cell_type": "code",
   "execution_count": 35,
   "id": "35f65cb4",
   "metadata": {
    "scrolled": true
   },
   "outputs": [
    {
     "data": {
      "image/png": "[encoded data removed]",
      "text/plain": [
       "<Figure size 432x288 with 1 Axes>"
      ]
     },
     "metadata": {
      "needs_background": "light"
     },
     "output_type": "display_data"
    }
   ],
   "source": [
    "plt.plot(y_test)\n",
    "plt.plot(yhat)\n",
    "plt.title('dtree_reg')\n",
    "plt.show()"
   ]
  },
  {
   "cell_type": "code",
   "execution_count": 36,
   "id": "22244907",
   "metadata": {
    "scrolled": true
   },
   "outputs": [
    {
     "name": "stdout",
     "output_type": "stream",
     "text": [
      "예측성능 비교지표 RMSE: 0.010\n"
     ]
    }
   ],
   "source": [
    "from sklearn.metrics import mean_squared_error\n",
    "rmse = np.sqrt(mean_squared_error(y_test, yhat))\n",
    "print('예측성능 비교지표 RMSE: %.3f' % rmse)"
   ]
  },
  {
   "cell_type": "markdown",
   "id": "0ff921f9",
   "metadata": {},
   "source": [
    "#### test 적용"
   ]
  },
  {
   "cell_type": "code",
   "execution_count": 37,
   "id": "b87f8a31",
   "metadata": {},
   "outputs": [
    {
     "name": "stdout",
     "output_type": "stream",
     "text": [
      "[1.00000000e+00 7.23956919e-01 7.23956919e-01 ... 3.62023713e-04\n",
      " 2.71517784e-04 2.71517784e-04]\n"
     ]
    },
    {
     "data": {
      "text/plain": [
       "array([1.105e+08, 8.000e+07, 8.000e+07, ..., 5.000e+04, 4.000e+04,\n",
       "       4.000e+04])"
      ]
     },
     "execution_count": 37,
     "metadata": {},
     "output_type": "execute_result"
    }
   ],
   "source": [
    "x = scaler.fit_transform(x)\n",
    "dtree = dtree_reg.predict(x)\n",
    "print(dtree)\n",
    "\n",
    "dtree_pred = dtree*(max(data['value'])-min(data['value']))+min(data['value'])\n",
    "dtree_pred"
   ]
  },
  {
   "cell_type": "markdown",
   "id": "caed02ab",
   "metadata": {},
   "source": [
    "### 회귀"
   ]
  },
  {
   "cell_type": "code",
   "execution_count": 38,
   "id": "54c30b00",
   "metadata": {
    "scrolled": true
   },
   "outputs": [
    {
     "name": "stdout",
     "output_type": "stream",
     "text": [
      "[0.02505886 0.03178613 0.03338664 ... 0.03503389 0.00595708 0.03265097]\n",
      "예측성능 비교지표 RMSE: 0.032\n",
      "[37536596.32324287 39271627.90498683 32073465.56527463 ...\n",
      " -3865420.27978954 -4210405.79510682 -4723991.62161371]\n"
     ]
    }
   ],
   "source": [
    "from sklearn.linear_model import LinearRegression\n",
    "\n",
    "lin_reg = LinearRegression()\n",
    "lin_reg.fit(X_train, y_train)\n",
    "lin_pred = lin_reg.predict(X_test)\n",
    "print(lin_pred)\n",
    "\n",
    "from sklearn.metrics import mean_squared_error\n",
    "rmse = np.sqrt(mean_squared_error(y_test, lin_pred))\n",
    "print('예측성능 비교지표 RMSE: %.3f' % rmse)\n",
    "\n",
    "x = scaler.fit_transform(x)\n",
    "lin = lin_reg.predict(x)\n",
    "lin_pred = lin*(max(data['value'])-min(data['value']))+min(data['value'])\n",
    "print(lin_pred)"
   ]
  },
  {
   "cell_type": "code",
   "execution_count": 39,
   "id": "e4626385",
   "metadata": {
    "scrolled": true
   },
   "outputs": [
    {
     "data": {
      "text/plain": [
       "[<matplotlib.lines.Line2D at 0x1b6dca76ca0>]"
      ]
     },
     "execution_count": 39,
     "metadata": {},
     "output_type": "execute_result"
    },
    {
     "data": {
      "image/png": "[encoded data removed]",
      "text/plain": [
       "<Figure size 432x288 with 1 Axes>"
      ]
     },
     "metadata": {
      "needs_background": "light"
     },
     "output_type": "display_data"
    }
   ],
   "source": [
    "plt.plot(lin_pred)"
   ]
  },
  {
   "cell_type": "code",
   "execution_count": 40,
   "id": "78197709",
   "metadata": {},
   "outputs": [
    {
     "name": "stdout",
     "output_type": "stream",
     "text": [
      "예측성능 비교지표 RMSE: 0.032\n",
      "[37249387.66644491 38794289.18069473 31719038.53953673 ...\n",
      " -3865048.23906968 -4300068.53570766 -4771677.65994748]\n"
     ]
    }
   ],
   "source": [
    "from sklearn.linear_model import Ridge\n",
    "\n",
    "ridge_reg = Ridge(alpha=1, solver=\"cholesky\")\n",
    "ridge_reg.fit(X_train, y_train)\n",
    "ridge = ridge_reg.predict(X_test)\n",
    "\n",
    "from sklearn.metrics import mean_squared_error\n",
    "rmse = np.sqrt(mean_squared_error(y_test, ridge))\n",
    "print('예측성능 비교지표 RMSE: %.3f' % rmse)\n",
    "\n",
    "x = scaler.fit_transform(x)\n",
    "ridge = ridge_reg.predict(x)\n",
    "ridge_pred = ridge*(max(data['value'])-min(data['value']))+min(data['value'])\n",
    "print(ridge_pred)"
   ]
  },
  {
   "cell_type": "code",
   "execution_count": 41,
   "id": "f16bc29e",
   "metadata": {},
   "outputs": [
    {
     "name": "stdout",
     "output_type": "stream",
     "text": [
      "예측성능 비교지표 RMSE: 0.054\n",
      "[2768151.85444367 2768151.85444367 2768151.85444367 ... 2768151.85444367\n",
      " 2768151.85444367 2768151.85444367]\n"
     ]
    }
   ],
   "source": [
    "from sklearn.linear_model import Lasso\n",
    "\n",
    "lasso_reg = Lasso(alpha=0.1)\n",
    "lasso_reg.fit(X_train, y_train)\n",
    "lasso = lasso_reg.predict(X_test)\n",
    "\n",
    "from sklearn.metrics import mean_squared_error\n",
    "rmse = np.sqrt(mean_squared_error(y_test, lasso))\n",
    "print('예측성능 비교지표 RMSE: %.3f' % rmse)\n",
    "\n",
    "x = scaler.fit_transform(x)\n",
    "lasso = lasso_reg.predict(x)\n",
    "lasso_pred = lasso*(max(data['value'])-min(data['value']))+min(data['value'])\n",
    "print(lasso_pred)"
   ]
  },
  {
   "cell_type": "code",
   "execution_count": 42,
   "id": "85099dfa",
   "metadata": {},
   "outputs": [
    {
     "name": "stdout",
     "output_type": "stream",
     "text": [
      "예측성능 비교지표 RMSE: 0.054\n",
      "[2768151.85444367 2768151.85444367 2768151.85444367 ... 2768151.85444367\n",
      " 2768151.85444367 2768151.85444367]\n"
     ]
    }
   ],
   "source": [
    "from sklearn.linear_model import ElasticNet\n",
    "elastic_net = ElasticNet(alpha=0.1, l1_ratio=0.5)\n",
    "\n",
    "elastic_net.fit(X_train, y_train)\n",
    "elastic = elastic_net.predict(X_test)\n",
    "\n",
    "from sklearn.metrics import mean_squared_error\n",
    "rmse = np.sqrt(mean_squared_error(y_test, elastic))\n",
    "print('예측성능 비교지표 RMSE: %.3f' % rmse)\n",
    "\n",
    "x = scaler.fit_transform(x)\n",
    "elastic = elastic_net.predict(x)\n",
    "elastic_pred = elastic*(max(data['value'])-min(data['value']))+min(data['value'])\n",
    "print(elastic_pred)"
   ]
  },
  {
   "cell_type": "markdown",
   "id": "e823cc0f",
   "metadata": {},
   "source": [
    "### 제출"
   ]
  },
  {
   "cell_type": "code",
   "execution_count": 43,
   "id": "225fb663",
   "metadata": {},
   "outputs": [],
   "source": [
    "sub = pd.read_csv('submission.csv')"
   ]
  },
  {
   "cell_type": "code",
   "execution_count": 44,
   "id": "69b70999",
   "metadata": {
    "scrolled": false
   },
   "outputs": [],
   "source": [
    "sub_1 = sub\n",
    "sub_1['value'] = dtree_pred\n",
    "sub_1\n",
    "sub_1.to_csv('sub_dtree.csv')"
   ]
  },
  {
   "cell_type": "code",
   "execution_count": 45,
   "id": "e7c8243c",
   "metadata": {},
   "outputs": [],
   "source": [
    "sub_1 = sub\n",
    "sub_1['value'] = lin_pred\n",
    "sub_1.to_csv('sub_lin_pred.csv')"
   ]
  },
  {
   "cell_type": "code",
   "execution_count": 46,
   "id": "2f076369",
   "metadata": {},
   "outputs": [],
   "source": [
    "sub_1 = sub\n",
    "sub_1['value'] = ridge_pred\n",
    "sub_1.to_csv('sub_ridge_pred.csv')"
   ]
  },
  {
   "cell_type": "code",
   "execution_count": 47,
   "id": "d31864aa",
   "metadata": {},
   "outputs": [],
   "source": [
    "sub_1 = sub\n",
    "sub_1['value'] = lasso_pred\n",
    "sub_1.to_csv('sub_lasso_pred.csv')"
   ]
  },
  {
   "cell_type": "code",
   "execution_count": 48,
   "id": "f415442c",
   "metadata": {},
   "outputs": [],
   "source": [
    "sub_1 = sub\n",
    "sub_1['value'] = elastic_pred\n",
    "sub_1.to_csv('sub_elastic_pred.csv')"
   ]
  }
 ],
 "metadata": {
  "kernelspec": {
   "display_name": "Python [conda env:root] *",
   "language": "python",
   "name": "conda-root-py"
  },
  "language_info": {
   "codemirror_mode": {
    "name": "ipython",
    "version": 3
   },
   "file_extension": ".py",
   "mimetype": "text/x-python",
   "name": "python",
   "nbconvert_exporter": "python",
   "pygments_lexer": "ipython3",
   "version": "3.8.8"
  }
 },
 "nbformat": 4,
 "nbformat_minor": 5
}
