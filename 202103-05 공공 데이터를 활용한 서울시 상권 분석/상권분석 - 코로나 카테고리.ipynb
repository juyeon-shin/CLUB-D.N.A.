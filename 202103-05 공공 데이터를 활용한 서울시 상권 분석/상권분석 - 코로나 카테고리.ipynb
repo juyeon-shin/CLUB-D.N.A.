{
 "cells": [
  {
   "cell_type": "code",
   "execution_count": 2,
   "metadata": {},
   "outputs": [],
   "source": [
    "import pandas as pd\n",
    "from matplotlib import pyplot as plt\n",
    "from matplotlib import font_manager, rc\n",
    "rc('font', family='New Gulim')\n",
    "import numpy as np"
   ]
  },
  {
   "cell_type": "code",
   "execution_count": 3,
   "metadata": {},
   "outputs": [],
   "source": [
    "data=pd.read_csv('C:/Users/juyeo/Desktop/store/KT_data_20200717/index.csv')"
   ]
  },
  {
   "cell_type": "code",
   "execution_count": 4,
   "metadata": {},
   "outputs": [
    {
     "data": {
      "text/html": [
       "<div>\n",
       "<style scoped>\n",
       "    .dataframe tbody tr th:only-of-type {\n",
       "        vertical-align: middle;\n",
       "    }\n",
       "\n",
       "    .dataframe tbody tr th {\n",
       "        vertical-align: top;\n",
       "    }\n",
       "\n",
       "    .dataframe thead th {\n",
       "        text-align: right;\n",
       "    }\n",
       "</style>\n",
       "<table border=\"1\" class=\"dataframe\">\n",
       "  <thead>\n",
       "    <tr style=\"text-align: right;\">\n",
       "      <th></th>\n",
       "      <th>period</th>\n",
       "      <th>catl</th>\n",
       "      <th>catm</th>\n",
       "      <th>age</th>\n",
       "      <th>gender</th>\n",
       "      <th>sido</th>\n",
       "      <th>sigungu</th>\n",
       "      <th>cgi</th>\n",
       "    </tr>\n",
       "  </thead>\n",
       "  <tbody>\n",
       "    <tr>\n",
       "      <th>0</th>\n",
       "      <td>201901</td>\n",
       "      <td>건강/의료용품</td>\n",
       "      <td>건강관리용품</td>\n",
       "      <td>20</td>\n",
       "      <td>F</td>\n",
       "      <td>서울</td>\n",
       "      <td>관악구</td>\n",
       "      <td>115.374642</td>\n",
       "    </tr>\n",
       "    <tr>\n",
       "      <th>1</th>\n",
       "      <td>201901</td>\n",
       "      <td>건강/의료용품</td>\n",
       "      <td>건강관리용품</td>\n",
       "      <td>20</td>\n",
       "      <td>F</td>\n",
       "      <td>서울</td>\n",
       "      <td>광진구</td>\n",
       "      <td>119.596454</td>\n",
       "    </tr>\n",
       "    <tr>\n",
       "      <th>2</th>\n",
       "      <td>201901</td>\n",
       "      <td>건강/의료용품</td>\n",
       "      <td>건강관리용품</td>\n",
       "      <td>20</td>\n",
       "      <td>F</td>\n",
       "      <td>서울</td>\n",
       "      <td>도봉구</td>\n",
       "      <td>156.992847</td>\n",
       "    </tr>\n",
       "    <tr>\n",
       "      <th>3</th>\n",
       "      <td>201901</td>\n",
       "      <td>건강/의료용품</td>\n",
       "      <td>건강관리용품</td>\n",
       "      <td>20</td>\n",
       "      <td>F</td>\n",
       "      <td>서울</td>\n",
       "      <td>동작구</td>\n",
       "      <td>58.342726</td>\n",
       "    </tr>\n",
       "    <tr>\n",
       "      <th>4</th>\n",
       "      <td>201901</td>\n",
       "      <td>건강/의료용품</td>\n",
       "      <td>건강관리용품</td>\n",
       "      <td>20</td>\n",
       "      <td>F</td>\n",
       "      <td>서울</td>\n",
       "      <td>마포구</td>\n",
       "      <td>145.147595</td>\n",
       "    </tr>\n",
       "    <tr>\n",
       "      <th>...</th>\n",
       "      <td>...</td>\n",
       "      <td>...</td>\n",
       "      <td>...</td>\n",
       "      <td>...</td>\n",
       "      <td>...</td>\n",
       "      <td>...</td>\n",
       "      <td>...</td>\n",
       "      <td>...</td>\n",
       "    </tr>\n",
       "    <tr>\n",
       "      <th>127520</th>\n",
       "      <td>202005</td>\n",
       "      <td>화장품</td>\n",
       "      <td>화장품</td>\n",
       "      <td>all</td>\n",
       "      <td>all</td>\n",
       "      <td>서울</td>\n",
       "      <td>강서구</td>\n",
       "      <td>51.365660</td>\n",
       "    </tr>\n",
       "    <tr>\n",
       "      <th>127521</th>\n",
       "      <td>202005</td>\n",
       "      <td>화장품</td>\n",
       "      <td>화장품</td>\n",
       "      <td>all</td>\n",
       "      <td>all</td>\n",
       "      <td>서울</td>\n",
       "      <td>관악구</td>\n",
       "      <td>61.997865</td>\n",
       "    </tr>\n",
       "    <tr>\n",
       "      <th>127522</th>\n",
       "      <td>202005</td>\n",
       "      <td>화장품</td>\n",
       "      <td>화장품</td>\n",
       "      <td>all</td>\n",
       "      <td>all</td>\n",
       "      <td>서울</td>\n",
       "      <td>금천구</td>\n",
       "      <td>82.198402</td>\n",
       "    </tr>\n",
       "    <tr>\n",
       "      <th>127523</th>\n",
       "      <td>202005</td>\n",
       "      <td>화장품</td>\n",
       "      <td>화장품</td>\n",
       "      <td>all</td>\n",
       "      <td>all</td>\n",
       "      <td>서울</td>\n",
       "      <td>도봉구</td>\n",
       "      <td>35.875600</td>\n",
       "    </tr>\n",
       "    <tr>\n",
       "      <th>127524</th>\n",
       "      <td>202005</td>\n",
       "      <td>화장품</td>\n",
       "      <td>화장품</td>\n",
       "      <td>all</td>\n",
       "      <td>all</td>\n",
       "      <td>서울</td>\n",
       "      <td>용산구</td>\n",
       "      <td>45.569377</td>\n",
       "    </tr>\n",
       "  </tbody>\n",
       "</table>\n",
       "<p>127525 rows × 8 columns</p>\n",
       "</div>"
      ],
      "text/plain": [
       "        period     catl    catm  age gender sido sigungu         cgi\n",
       "0       201901  건강/의료용품  건강관리용품   20      F   서울     관악구  115.374642\n",
       "1       201901  건강/의료용품  건강관리용품   20      F   서울     광진구  119.596454\n",
       "2       201901  건강/의료용품  건강관리용품   20      F   서울     도봉구  156.992847\n",
       "3       201901  건강/의료용품  건강관리용품   20      F   서울     동작구   58.342726\n",
       "4       201901  건강/의료용품  건강관리용품   20      F   서울     마포구  145.147595\n",
       "...        ...      ...     ...  ...    ...  ...     ...         ...\n",
       "127520  202005      화장품     화장품  all    all   서울     강서구   51.365660\n",
       "127521  202005      화장품     화장품  all    all   서울     관악구   61.997865\n",
       "127522  202005      화장품     화장품  all    all   서울     금천구   82.198402\n",
       "127523  202005      화장품     화장품  all    all   서울     도봉구   35.875600\n",
       "127524  202005      화장품     화장품  all    all   서울     용산구   45.569377\n",
       "\n",
       "[127525 rows x 8 columns]"
      ]
     },
     "execution_count": 4,
     "metadata": {},
     "output_type": "execute_result"
    }
   ],
   "source": [
    "data"
   ]
  },
  {
   "cell_type": "code",
   "execution_count": 5,
   "metadata": {},
   "outputs": [],
   "source": [
    "def get_gulist(word):\n",
    "    gulist = data[data['sigungu'] == word].reset_index(drop=True)\n",
    "    return gulist\n"
   ]
  },
  {
   "cell_type": "code",
   "execution_count": 6,
   "metadata": {},
   "outputs": [],
   "source": [
    "# 연령별 케이스 추출\n",
    "\n",
    "def get_case(word, age):\n",
    "    gulist = get_gulist(word)\n",
    "    cases = gulist[gulist['age'] == age]\n",
    "    return cases\n"
   ]
  },
  {
   "cell_type": "code",
   "execution_count": 7,
   "metadata": {},
   "outputs": [],
   "source": [
    "# 연령, 성별, 품목별(카테고리 중분류) 성장지수 변화 꺾은선그래프\n",
    "\n",
    "def get_plot(word, age, sex, catm):\n",
    "    case = get_case(word, age)\n",
    "    \n",
    "    a = case[case['catm'] == catm] # 여기 catm만 원하는 카테고리로 바꾸고 실행\n",
    "    b = a[a['gender'] == sex][['period', 'cgi']]\n",
    "\n",
    "    x_values = range(len(b))\n",
    "\n",
    "    y_values1 = b['cgi']\n",
    "    y_values2 = []\n",
    "    for i in range(len(x_values)):\n",
    "        y_values2.append(100)\n",
    "\n",
    "    plt.figure(figsize=(20, 4))\n",
    "    plt.plot(x_values, y_values1, y_values2)\n",
    "\n",
    "    ax = plt.subplot()\n",
    "    ax.set_xticks(range(len(x_values)))\n",
    "    ax.set_xticklabels(b['period'])\n",
    "\n",
    "    plt.show()\n"
   ]
  },
  {
   "cell_type": "code",
   "execution_count": 8,
   "metadata": {},
   "outputs": [],
   "source": [
    "def get_plot2(word, age, sex, period):\n",
    "    case = get_case(word, age)\n",
    "    \n",
    "    a = case[case['period'] == period] # 여기 catm만 원하는 카테고리로 바꾸고 실행\n",
    "    b = a[a['gender'] == sex][['catm', 'cgi']]\n",
    "\n",
    "    x_values = range(len(b))\n",
    "\n",
    "    y_values1 = b['cgi']\n",
    "    y_values2 = []\n",
    "    for i in range(len(x_values)):\n",
    "        y_values2.append(100)\n",
    "\n",
    "    labels = b['catm']\n",
    "    index = np.arange(len(labels))\n",
    "\n",
    "    plt.barh(index, y_values1, color='red', alpha=0.5)\n",
    "    plt.title('자치구 = ' + word + ' / 연령 = ' + age + ' / 성별 = ' + sex, fontsize=15)\n",
    "    plt.yticks(index, labels, fontsize=10)\n",
    "\n",
    "    plt.show()"
   ]
  },
  {
   "cell_type": "code",
   "execution_count": 9,
   "metadata": {},
   "outputs": [],
   "source": [
    "# # 실행부\n",
    "# \n",
    "# '건강/의료용품': ['건강관리용품'],  \n",
    "# '식품': ['가공식품', '기호식품', '담배', '빙과류', '빵류', '신선식품', '유제품류', '음료', '제과류', '주류'],  \n",
    "# '일용품': ['생활용품', '애완동물용품'],  \n",
    "# '화장품': ['기타화장품', '바디/헤어용품', '뷰티소품', '화장품'] \n",
    "#  \n",
    "# **그래프가 비어있으면 카테고리 정보가 없는거니까 다른 카테고리로 넣어서 해보면 됨!**  \n",
    "#모든 카테고리 다 해볼 필요 없고 여러개 해보면서 결과 눈에 띄는것만 분석에 사용하면 될듯"
   ]
  },
  {
   "cell_type": "code",
   "execution_count": 16,
   "metadata": {},
   "outputs": [
    {
     "name": "stderr",
     "output_type": "stream",
     "text": [
      "<ipython-input-7-5e66f72101b8>:19: MatplotlibDeprecationWarning: Adding an axes using the same arguments as a previous axes currently reuses the earlier instance.  In a future version, a new instance will always be created and returned.  Meanwhile, this warning can be suppressed, and the future behavior ensured, by passing a unique label to each axes instance.\n",
      "  ax = plt.subplot()\n"
     ]
    },
    {
     "data": {
      "image/png": "[encoded data removed]",
      "text/plain": [
       "<Figure size 1440x288 with 1 Axes>"
      ]
     },
     "metadata": {
      "needs_background": "light"
     },
     "output_type": "display_data"
    }
   ],
   "source": [
    "# 성장지수 변화 그래프\n",
    "get_plot('동작구', 'all', 'all', '빙과류')"
   ]
  },
  {
   "cell_type": "code",
   "execution_count": 14,
   "metadata": {},
   "outputs": [
    {
     "data": {
      "image/png": "[encoded data removed]",
      "text/plain": [
       "<Figure size 432x288 with 1 Axes>"
      ]
     },
     "metadata": {
      "needs_background": "light"
     },
     "output_type": "display_data"
    }
   ],
   "source": [
    "# 한 시점에서의 전품목 성장지수\n",
    "get_plot2('금천구', 'all', 'all', 201905)"
   ]
  },
  {
   "cell_type": "code",
   "execution_count": 53,
   "metadata": {},
   "outputs": [
    {
     "data": {
      "image/png": "[encoded data removed]",
      "text/plain": [
       "<Figure size 432x288 with 1 Axes>"
      ]
     },
     "metadata": {
      "needs_background": "light"
     },
     "output_type": "display_data"
    }
   ],
   "source": [
    "get_plot2('동작구', 'all', 'all', 202005)"
   ]
  },
  {
   "cell_type": "code",
   "execution_count": null,
   "metadata": {},
   "outputs": [],
   "source": []
  }
 ],
 "metadata": {
  "kernelspec": {
   "display_name": "Python 3 (ipykernel)",
   "language": "python",
   "name": "python3"
  },
  "language_info": {
   "codemirror_mode": {
    "name": "ipython",
    "version": 3
   },
   "file_extension": ".py",
   "mimetype": "text/x-python",
   "name": "python",
   "nbconvert_exporter": "python",
   "pygments_lexer": "ipython3",
   "version": "3.8.8"
  }
 },
 "nbformat": 4,
 "nbformat_minor": 4
}
