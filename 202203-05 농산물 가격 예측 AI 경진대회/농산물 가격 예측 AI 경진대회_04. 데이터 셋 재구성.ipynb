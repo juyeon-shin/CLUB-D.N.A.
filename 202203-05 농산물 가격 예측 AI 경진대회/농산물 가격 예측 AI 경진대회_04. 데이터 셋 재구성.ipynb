{
 "cells": [
  {
   "cell_type": "markdown",
   "id": "463e6b86",
   "metadata": {},
   "source": [
    "## 농산물 가격 예측 AI 경진대회_04. 데이터 셋 재구성\n",
    "### 0. 패키지 & 데이터 불러오기"
   ]
  },
  {
   "cell_type": "markdown",
   "id": "6853a2c4",
   "metadata": {},
   "source": [
    "!pip install tslearn"
   ]
  },
  {
   "cell_type": "code",
   "execution_count": 1,
   "id": "06415000",
   "metadata": {},
   "outputs": [],
   "source": [
    "import pandas as pd\n",
    "import numpy as np\n",
    "import datetime as dt"
   ]
  },
  {
   "cell_type": "code",
   "execution_count": 2,
   "id": "aff5453f",
   "metadata": {},
   "outputs": [],
   "source": [
    "# 한글 폰트 사용을 위해서 세팅\n",
    "from matplotlib import font_manager, rc\n",
    "font_path = \"C:/Windows/Fonts/NGULIM.TTF\"\n",
    "font = font_manager.FontProperties(fname=font_path).get_name()\n",
    "rc('font', family=font)"
   ]
  },
  {
   "cell_type": "code",
   "execution_count": 3,
   "id": "5f5e6e70",
   "metadata": {
    "scrolled": false
   },
   "outputs": [
    {
     "name": "stderr",
     "output_type": "stream",
     "text": [
      "C:\\Users\\juyeo\\anaconda3\\lib\\site-packages\\IPython\\core\\interactiveshell.py:3457: DtypeWarning: Columns (0) have mixed types.Specify dtype option on import or set low_memory=False.\n",
      "  exec(code_obj, self.user_global_ns, self.user_ns)\n"
     ]
    }
   ],
   "source": [
    "train_4 = pd.read_csv('train_4_feature.csv')\n",
    "train_4_c= train_4.drop(['WHSAL_NM','CMP_NM','DAN_NM','POJ_NM','SIZE_NM','LV_NM'],axis=1)"
   ]
  },
  {
   "cell_type": "code",
   "execution_count": 4,
   "id": "14aabb66",
   "metadata": {
    "scrolled": true
   },
   "outputs": [
    {
     "data": {
      "text/html": [
       "<div>\n",
       "<style scoped>\n",
       "    .dataframe tbody tr th:only-of-type {\n",
       "        vertical-align: middle;\n",
       "    }\n",
       "\n",
       "    .dataframe tbody tr th {\n",
       "        vertical-align: top;\n",
       "    }\n",
       "\n",
       "    .dataframe thead th {\n",
       "        text-align: right;\n",
       "    }\n",
       "</style>\n",
       "<table border=\"1\" class=\"dataframe\">\n",
       "  <thead>\n",
       "    <tr style=\"text-align: right;\">\n",
       "      <th></th>\n",
       "      <th>SALEDATE</th>\n",
       "      <th>PUM_NM</th>\n",
       "      <th>KIND_NM</th>\n",
       "      <th>SAN_NM</th>\n",
       "      <th>DANQ</th>\n",
       "      <th>QTY</th>\n",
       "      <th>COST</th>\n",
       "      <th>TOT_QTY</th>\n",
       "      <th>TOT_AMT</th>\n",
       "    </tr>\n",
       "  </thead>\n",
       "  <tbody>\n",
       "    <tr>\n",
       "      <th>0</th>\n",
       "      <td>20160109</td>\n",
       "      <td>양파</td>\n",
       "      <td>양파(일반)</td>\n",
       "      <td>경상남도 창녕군</td>\n",
       "      <td>20.0</td>\n",
       "      <td>55.0</td>\n",
       "      <td>30200.0</td>\n",
       "      <td>1100.0</td>\n",
       "      <td>1661000.0</td>\n",
       "    </tr>\n",
       "    <tr>\n",
       "      <th>1</th>\n",
       "      <td>20160109</td>\n",
       "      <td>양파</td>\n",
       "      <td>양파(일반)</td>\n",
       "      <td>경상남도 창녕군</td>\n",
       "      <td>20.0</td>\n",
       "      <td>55.0</td>\n",
       "      <td>30200.0</td>\n",
       "      <td>1100.0</td>\n",
       "      <td>1661000.0</td>\n",
       "    </tr>\n",
       "    <tr>\n",
       "      <th>2</th>\n",
       "      <td>20160109</td>\n",
       "      <td>양파</td>\n",
       "      <td>양파(일반)</td>\n",
       "      <td>경상남도 창녕군</td>\n",
       "      <td>20.0</td>\n",
       "      <td>50.0</td>\n",
       "      <td>30200.0</td>\n",
       "      <td>1000.0</td>\n",
       "      <td>1510000.0</td>\n",
       "    </tr>\n",
       "    <tr>\n",
       "      <th>3</th>\n",
       "      <td>20160109</td>\n",
       "      <td>양파</td>\n",
       "      <td>양파(일반)</td>\n",
       "      <td>경상남도 창녕군</td>\n",
       "      <td>20.0</td>\n",
       "      <td>50.0</td>\n",
       "      <td>30200.0</td>\n",
       "      <td>1000.0</td>\n",
       "      <td>1510000.0</td>\n",
       "    </tr>\n",
       "    <tr>\n",
       "      <th>4</th>\n",
       "      <td>20160109</td>\n",
       "      <td>양파</td>\n",
       "      <td>양파(일반)</td>\n",
       "      <td>부산 중구</td>\n",
       "      <td>20.0</td>\n",
       "      <td>300.0</td>\n",
       "      <td>25000.0</td>\n",
       "      <td>6000.0</td>\n",
       "      <td>7500000.0</td>\n",
       "    </tr>\n",
       "  </tbody>\n",
       "</table>\n",
       "</div>"
      ],
      "text/plain": [
       "   SALEDATE PUM_NM KIND_NM    SAN_NM  DANQ    QTY     COST  TOT_QTY    TOT_AMT\n",
       "0  20160109     양파  양파(일반)  경상남도 창녕군  20.0   55.0  30200.0   1100.0  1661000.0\n",
       "1  20160109     양파  양파(일반)  경상남도 창녕군  20.0   55.0  30200.0   1100.0  1661000.0\n",
       "2  20160109     양파  양파(일반)  경상남도 창녕군  20.0   50.0  30200.0   1000.0  1510000.0\n",
       "3  20160109     양파  양파(일반)  경상남도 창녕군  20.0   50.0  30200.0   1000.0  1510000.0\n",
       "4  20160109     양파  양파(일반)     부산 중구  20.0  300.0  25000.0   6000.0  7500000.0"
      ]
     },
     "execution_count": 4,
     "metadata": {},
     "output_type": "execute_result"
    }
   ],
   "source": [
    "train_1 = train_4_c[train_4_c['PUM_NM'] == '배추']\n",
    "train_1.reset_index(inplace=True,drop=True)\n",
    "train_1\n",
    "\n",
    "train_2 = train_4_c[train_4_c['PUM_NM']=='양파']\n",
    "train_2.reset_index(inplace=True,drop=True)\n",
    "train_2.head()"
   ]
  },
  {
   "cell_type": "markdown",
   "id": "50bf0d0a",
   "metadata": {},
   "source": [
    "### 날짜 전처리"
   ]
  },
  {
   "cell_type": "code",
   "execution_count": 5,
   "id": "840ac01b",
   "metadata": {},
   "outputs": [],
   "source": [
    "def pret_date(data):\n",
    "    train_date = data['SALEDATE'].astype('str')\n",
    "    \n",
    "    for i in range(len(train_date)):\n",
    "        if len(train_date[i]) == 8:\n",
    "            train_date[i] = train_date[i][:4]+'-'+train_date[i][4:6]+'-'+train_date[i][6:]\n",
    "        else :\n",
    "            pass\n",
    "        \n",
    "    return train_date"
   ]
  },
  {
   "cell_type": "markdown",
   "id": "f52e6cbb",
   "metadata": {},
   "source": [
    "### 주소 전처리"
   ]
  },
  {
   "cell_type": "code",
   "execution_count": 6,
   "id": "ca4a34aa",
   "metadata": {},
   "outputs": [],
   "source": [
    "def pret_addr(data):\n",
    "    SAN_NM = data['SAN_NM'].astype('str')\n",
    "    split_1 = SAN_NM.str.split(' ')\n",
    "    place = split_1.str[0]\n",
    "    \n",
    "    for i in range(len(place)):\n",
    "        if '광역시' in place[i]:\n",
    "            place[i] = place[i][:-3]\n",
    "        else :\n",
    "            pass\n",
    "        \n",
    "    for i in range(len(place)):\n",
    "        if place[i] == '서울':\n",
    "            place[i] = '서울경기'\n",
    "        elif place[i] == '서울특별시':\n",
    "            place[i] = '서울경기'\n",
    "        elif place[i] == '인천':\n",
    "            place[i] = '서울경기'\n",
    "        elif place[i] == '경기':\n",
    "            place[i] = '서울경기'\n",
    "        elif place[i] == '경기도':\n",
    "            place[i] = '서울경기'\n",
    "        elif place[i] == '강원도':\n",
    "            place[i] = '강원'\n",
    "        elif place[i] == '충청남도':\n",
    "            place[i] = '충남'\n",
    "        elif place[i] == '대전':\n",
    "            place[i] = '충남'\n",
    "        elif place[i] == '충청북도':\n",
    "            place[i] = '충북'\n",
    "        elif place[i] == '세종시':\n",
    "            place[i] = '충북'\n",
    "        elif place[i] == '전라남도':\n",
    "            place[i] = '전남'\n",
    "        elif place[i] == '광주':\n",
    "            place[i] = '전남'\n",
    "        elif place[i] == '전라북도':\n",
    "            place[i] = '전북'\n",
    "        elif place[i] == '경상남도':\n",
    "            place[i] = '경남'\n",
    "        elif place[i] == '부산':\n",
    "            place[i] = '경남'\n",
    "        elif place[i] == '경상북도':\n",
    "            place[i] = '경북'\n",
    "        elif place[i] == '울산':\n",
    "            place[i] = '경북'\n",
    "        elif place[i] == '대구':\n",
    "            place[i] = '경북'\n",
    "        elif place[i] == '제주도':\n",
    "            place[i] = '제주'\n",
    "        else :\n",
    "            place[i] = '전국'\n",
    "    \n",
    "    return place"
   ]
  },
  {
   "cell_type": "code",
   "execution_count": 7,
   "id": "c63ff76b",
   "metadata": {},
   "outputs": [],
   "source": [
    "def make_data(data):\n",
    "    make_data = pd.DataFrame()\n",
    "    make_data['날짜'] = pret_date(data)\n",
    "    make_data['지점'] = pret_addr(data)\n",
    "    return make_data"
   ]
  },
  {
   "cell_type": "code",
   "execution_count": 8,
   "id": "47d58793",
   "metadata": {},
   "outputs": [],
   "source": [
    "data_cabbage = make_data(train_1)\n",
    "data_onion = make_data(train_2)"
   ]
  },
  {
   "cell_type": "code",
   "execution_count": 10,
   "id": "a22e2e71",
   "metadata": {},
   "outputs": [
    {
     "data": {
      "text/plain": [
       "array(['전남', '경남', '경북', '서울경기', '충남', '전국', '강원', '제주', '전북', '충북'],\n",
       "      dtype=object)"
      ]
     },
     "execution_count": 10,
     "metadata": {},
     "output_type": "execute_result"
    }
   ],
   "source": [
    "data_cabbage['지점'].unique()"
   ]
  },
  {
   "cell_type": "code",
   "execution_count": 11,
   "id": "3663c2b0",
   "metadata": {},
   "outputs": [],
   "source": [
    "data_cabbage.to_csv('data_cabbage.csv',index=False)\n",
    "data_onion.to_csv('data_onion.csv',index=False)"
   ]
  }
 ],
 "metadata": {
  "kernelspec": {
   "display_name": "Python 3 (ipykernel)",
   "language": "python",
   "name": "python3"
  },
  "language_info": {
   "codemirror_mode": {
    "name": "ipython",
    "version": 3
   },
   "file_extension": ".py",
   "mimetype": "text/x-python",
   "name": "python",
   "nbconvert_exporter": "python",
   "pygments_lexer": "ipython3",
   "version": "3.8.8"
  }
 },
 "nbformat": 4,
 "nbformat_minor": 5
}
