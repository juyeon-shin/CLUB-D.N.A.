{
 "cells": [
  {
   "cell_type": "code",
   "execution_count": 1,
   "id": "b4398458",
   "metadata": {},
   "outputs": [],
   "source": [
    "import pandas as pd\n",
    "import numpy as np"
   ]
  },
  {
   "cell_type": "code",
   "execution_count": 2,
   "id": "3e1e5a98",
   "metadata": {},
   "outputs": [
    {
     "data": {
      "text/html": [
       "<div>\n",
       "<style scoped>\n",
       "    .dataframe tbody tr th:only-of-type {\n",
       "        vertical-align: middle;\n",
       "    }\n",
       "\n",
       "    .dataframe tbody tr th {\n",
       "        vertical-align: top;\n",
       "    }\n",
       "\n",
       "    .dataframe thead th {\n",
       "        text-align: right;\n",
       "    }\n",
       "</style>\n",
       "<table border=\"1\" class=\"dataframe\">\n",
       "  <thead>\n",
       "    <tr style=\"text-align: right;\">\n",
       "      <th></th>\n",
       "      <th>date</th>\n",
       "      <th>요일</th>\n",
       "      <th>배추_거래량(kg)</th>\n",
       "      <th>배추_가격(원/kg)</th>\n",
       "      <th>무_거래량(kg)</th>\n",
       "      <th>무_가격(원/kg)</th>\n",
       "      <th>양파_거래량(kg)</th>\n",
       "      <th>양파_가격(원/kg)</th>\n",
       "      <th>건고추_거래량(kg)</th>\n",
       "      <th>건고추_가격(원/kg)</th>\n",
       "      <th>...</th>\n",
       "      <th>청상추_거래량(kg)</th>\n",
       "      <th>청상추_가격(원/kg)</th>\n",
       "      <th>백다다기_거래량(kg)</th>\n",
       "      <th>백다다기_가격(원/kg)</th>\n",
       "      <th>애호박_거래량(kg)</th>\n",
       "      <th>애호박_가격(원/kg)</th>\n",
       "      <th>캠벨얼리_거래량(kg)</th>\n",
       "      <th>캠벨얼리_가격(원/kg)</th>\n",
       "      <th>샤인마스캇_거래량(kg)</th>\n",
       "      <th>샤인마스캇_가격(원/kg)</th>\n",
       "    </tr>\n",
       "  </thead>\n",
       "  <tbody>\n",
       "    <tr>\n",
       "      <th>0</th>\n",
       "      <td>2016-01-01</td>\n",
       "      <td>금요일</td>\n",
       "      <td>0.0</td>\n",
       "      <td>0.0</td>\n",
       "      <td>0.0</td>\n",
       "      <td>0.0</td>\n",
       "      <td>0.0</td>\n",
       "      <td>0.0</td>\n",
       "      <td>0.0</td>\n",
       "      <td>0.0</td>\n",
       "      <td>...</td>\n",
       "      <td>0.0</td>\n",
       "      <td>0.0</td>\n",
       "      <td>0.0</td>\n",
       "      <td>0.0</td>\n",
       "      <td>0.0</td>\n",
       "      <td>0.0</td>\n",
       "      <td>0.0</td>\n",
       "      <td>0.0</td>\n",
       "      <td>0.0</td>\n",
       "      <td>0.0</td>\n",
       "    </tr>\n",
       "    <tr>\n",
       "      <th>1</th>\n",
       "      <td>2016-01-02</td>\n",
       "      <td>토요일</td>\n",
       "      <td>80860.0</td>\n",
       "      <td>329.0</td>\n",
       "      <td>80272.0</td>\n",
       "      <td>360.0</td>\n",
       "      <td>122787.5</td>\n",
       "      <td>1281.0</td>\n",
       "      <td>3.0</td>\n",
       "      <td>11000.0</td>\n",
       "      <td>...</td>\n",
       "      <td>5125.0</td>\n",
       "      <td>9235.0</td>\n",
       "      <td>434.0</td>\n",
       "      <td>2109.0</td>\n",
       "      <td>19159.0</td>\n",
       "      <td>2414.0</td>\n",
       "      <td>880.0</td>\n",
       "      <td>2014.0</td>\n",
       "      <td>0.0</td>\n",
       "      <td>0.0</td>\n",
       "    </tr>\n",
       "    <tr>\n",
       "      <th>2</th>\n",
       "      <td>2016-01-03</td>\n",
       "      <td>일요일</td>\n",
       "      <td>0.0</td>\n",
       "      <td>0.0</td>\n",
       "      <td>0.0</td>\n",
       "      <td>0.0</td>\n",
       "      <td>0.0</td>\n",
       "      <td>0.0</td>\n",
       "      <td>0.0</td>\n",
       "      <td>0.0</td>\n",
       "      <td>...</td>\n",
       "      <td>0.0</td>\n",
       "      <td>0.0</td>\n",
       "      <td>0.0</td>\n",
       "      <td>0.0</td>\n",
       "      <td>0.0</td>\n",
       "      <td>0.0</td>\n",
       "      <td>0.0</td>\n",
       "      <td>0.0</td>\n",
       "      <td>0.0</td>\n",
       "      <td>0.0</td>\n",
       "    </tr>\n",
       "    <tr>\n",
       "      <th>3</th>\n",
       "      <td>2016-01-04</td>\n",
       "      <td>월요일</td>\n",
       "      <td>1422742.5</td>\n",
       "      <td>478.0</td>\n",
       "      <td>1699653.7</td>\n",
       "      <td>382.0</td>\n",
       "      <td>2315079.0</td>\n",
       "      <td>1235.0</td>\n",
       "      <td>699.0</td>\n",
       "      <td>4464.0</td>\n",
       "      <td>...</td>\n",
       "      <td>38525.5</td>\n",
       "      <td>7631.0</td>\n",
       "      <td>500702.0</td>\n",
       "      <td>2046.0</td>\n",
       "      <td>620539.0</td>\n",
       "      <td>2018.0</td>\n",
       "      <td>2703.8</td>\n",
       "      <td>3885.0</td>\n",
       "      <td>0.0</td>\n",
       "      <td>0.0</td>\n",
       "    </tr>\n",
       "    <tr>\n",
       "      <th>4</th>\n",
       "      <td>2016-01-05</td>\n",
       "      <td>화요일</td>\n",
       "      <td>1167241.0</td>\n",
       "      <td>442.0</td>\n",
       "      <td>1423482.3</td>\n",
       "      <td>422.0</td>\n",
       "      <td>2092960.1</td>\n",
       "      <td>1213.0</td>\n",
       "      <td>1112.6</td>\n",
       "      <td>4342.0</td>\n",
       "      <td>...</td>\n",
       "      <td>32615.0</td>\n",
       "      <td>6926.0</td>\n",
       "      <td>147638.0</td>\n",
       "      <td>2268.0</td>\n",
       "      <td>231958.0</td>\n",
       "      <td>2178.0</td>\n",
       "      <td>8810.0</td>\n",
       "      <td>2853.0</td>\n",
       "      <td>0.0</td>\n",
       "      <td>0.0</td>\n",
       "    </tr>\n",
       "  </tbody>\n",
       "</table>\n",
       "<p>5 rows × 44 columns</p>\n",
       "</div>"
      ],
      "text/plain": [
       "         date   요일  배추_거래량(kg)  배추_가격(원/kg)  무_거래량(kg)  무_가격(원/kg)  \\\n",
       "0  2016-01-01  금요일         0.0          0.0        0.0         0.0   \n",
       "1  2016-01-02  토요일     80860.0        329.0    80272.0       360.0   \n",
       "2  2016-01-03  일요일         0.0          0.0        0.0         0.0   \n",
       "3  2016-01-04  월요일   1422742.5        478.0  1699653.7       382.0   \n",
       "4  2016-01-05  화요일   1167241.0        442.0  1423482.3       422.0   \n",
       "\n",
       "   양파_거래량(kg)  양파_가격(원/kg)  건고추_거래량(kg)  건고추_가격(원/kg)  ...  청상추_거래량(kg)  \\\n",
       "0         0.0          0.0          0.0           0.0  ...          0.0   \n",
       "1    122787.5       1281.0          3.0       11000.0  ...       5125.0   \n",
       "2         0.0          0.0          0.0           0.0  ...          0.0   \n",
       "3   2315079.0       1235.0        699.0        4464.0  ...      38525.5   \n",
       "4   2092960.1       1213.0       1112.6        4342.0  ...      32615.0   \n",
       "\n",
       "   청상추_가격(원/kg)  백다다기_거래량(kg)  백다다기_가격(원/kg)  애호박_거래량(kg)  애호박_가격(원/kg)  \\\n",
       "0           0.0           0.0            0.0          0.0           0.0   \n",
       "1        9235.0         434.0         2109.0      19159.0        2414.0   \n",
       "2           0.0           0.0            0.0          0.0           0.0   \n",
       "3        7631.0      500702.0         2046.0     620539.0        2018.0   \n",
       "4        6926.0      147638.0         2268.0     231958.0        2178.0   \n",
       "\n",
       "   캠벨얼리_거래량(kg)  캠벨얼리_가격(원/kg)  샤인마스캇_거래량(kg)  샤인마스캇_가격(원/kg)  \n",
       "0           0.0            0.0            0.0             0.0  \n",
       "1         880.0         2014.0            0.0             0.0  \n",
       "2           0.0            0.0            0.0             0.0  \n",
       "3        2703.8         3885.0            0.0             0.0  \n",
       "4        8810.0         2853.0            0.0             0.0  \n",
       "\n",
       "[5 rows x 44 columns]"
      ]
     },
     "execution_count": 2,
     "metadata": {},
     "output_type": "execute_result"
    }
   ],
   "source": [
    "Train = pd.read_csv('public_data/train.csv')\n",
    "Train.head()"
   ]
  },
  {
   "cell_type": "code",
   "execution_count": 3,
   "id": "230c96a4",
   "metadata": {},
   "outputs": [],
   "source": [
    "def Make_TimeSeries_dataset(data,step):\n",
    "    \n",
    "    data = np.array(data)\n",
    "    T_data = []\n",
    "    for i in range(len(data)):\n",
    "        if len(data[i:i+step]) == step:\n",
    "            T_data.append(data[i:i+step])\n",
    "        else :\n",
    "            break\n",
    "\n",
    "    T_data = pd.DataFrame(T_data)\n",
    "    return T_data"
   ]
  },
  {
   "cell_type": "code",
   "execution_count": 4,
   "id": "7275d1fd",
   "metadata": {},
   "outputs": [],
   "source": [
    "algi = '배추_가격(원/kg)'\n",
    "Train = Train[Train[algi] !=0.0]\n",
    "Train.reset_index(drop=True,inplace=True)\n",
    "data = Train[algi]"
   ]
  },
  {
   "cell_type": "markdown",
   "id": "cec0d786",
   "metadata": {},
   "source": [
    "### train, valid, test 분리"
   ]
  },
  {
   "cell_type": "code",
   "execution_count": 5,
   "id": "30061b0e",
   "metadata": {},
   "outputs": [
    {
     "name": "stdout",
     "output_type": "stream",
     "text": [
      "(721,) (315,) (444,)\n",
      "(691, 31) (285, 31) (414, 31)\n"
     ]
    }
   ],
   "source": [
    "pre_train = data[:len(data)//10*7]\n",
    "train = pre_train[:len(pre_train)//10*7]\n",
    "valid = pre_train[len(pre_train)//10*7:]\n",
    "test = data[len(data)//10*7:]\n",
    "print(train.shape, valid.shape,test.shape)\n",
    "\n",
    "train_data = Make_TimeSeries_dataset(train,31).values\n",
    "valid_data = Make_TimeSeries_dataset(valid,31).values\n",
    "test_data = Make_TimeSeries_dataset(test,31).values\n",
    "print(train_data.shape, valid_data.shape,test_data.shape)"
   ]
  },
  {
   "cell_type": "markdown",
   "id": "6877363c",
   "metadata": {},
   "source": [
    "### Scaling"
   ]
  },
  {
   "cell_type": "code",
   "execution_count": 6,
   "id": "92687533",
   "metadata": {},
   "outputs": [],
   "source": [
    "from sklearn.preprocessing import StandardScaler\n",
    "Scaler= StandardScaler()"
   ]
  },
  {
   "cell_type": "code",
   "execution_count": 7,
   "id": "70230d10",
   "metadata": {},
   "outputs": [],
   "source": [
    "train_s = Scaler.fit_transform(train_data)\n",
    "valid_s = Scaler.transform(valid_data)\n",
    "test_s = Scaler.transform(test_data)"
   ]
  },
  {
   "cell_type": "code",
   "execution_count": 8,
   "id": "67be36b8",
   "metadata": {},
   "outputs": [],
   "source": [
    "X_train = train_s[:,:-1]\n",
    "y_train = train_s[:,-1]\n",
    "X_valid = valid_s[:,:-1]\n",
    "y_valid = valid_s[:,-1]"
   ]
  },
  {
   "cell_type": "markdown",
   "id": "f6b7f5e4",
   "metadata": {},
   "source": [
    "### reshape"
   ]
  },
  {
   "cell_type": "code",
   "execution_count": 9,
   "id": "ae9508dc",
   "metadata": {},
   "outputs": [
    {
     "name": "stdout",
     "output_type": "stream",
     "text": [
      "(691, 30, 1) (285, 30, 1) (414, 31, 1)\n"
     ]
    }
   ],
   "source": [
    "X_train= X_train.reshape(X_train.shape[0],X_train.shape[1],1)\n",
    "X_valid= X_valid.reshape(X_valid.shape[0],X_valid.shape[1],1)\n",
    "X_test = test_s.reshape(test_s.shape[0],test_s.shape[1],1)\n",
    "print(X_train.shape, X_valid.shape,X_test.shape)"
   ]
  },
  {
   "cell_type": "markdown",
   "id": "aa46f2e4",
   "metadata": {},
   "source": [
    "### 모델링"
   ]
  },
  {
   "cell_type": "code",
   "execution_count": 10,
   "id": "0c6a030f",
   "metadata": {
    "scrolled": true
   },
   "outputs": [
    {
     "name": "stdout",
     "output_type": "stream",
     "text": [
      "Epoch 1/20\n",
      "WARNING:tensorflow:Model was constructed with shape (None, 691, 1) for input KerasTensor(type_spec=TensorSpec(shape=(None, 691, 1), dtype=tf.float32, name='lstm_input'), name='lstm_input', description=\"created by layer 'lstm_input'\"), but it was called on an input with incompatible shape (None, 30, 1).\n",
      "WARNING:tensorflow:Model was constructed with shape (None, 691, 1) for input KerasTensor(type_spec=TensorSpec(shape=(None, 691, 1), dtype=tf.float32, name='lstm_input'), name='lstm_input', description=\"created by layer 'lstm_input'\"), but it was called on an input with incompatible shape (None, 30, 1).\n",
      "22/22 [==============================] - ETA: 0s - loss: 0.7730WARNING:tensorflow:Model was constructed with shape (None, 691, 1) for input KerasTensor(type_spec=TensorSpec(shape=(None, 691, 1), dtype=tf.float32, name='lstm_input'), name='lstm_input', description=\"created by layer 'lstm_input'\"), but it was called on an input with incompatible shape (None, 30, 1).\n",
      "22/22 [==============================] - 18s 231ms/step - loss: 0.7730 - val_loss: 0.2704\n",
      "Epoch 2/20\n",
      "22/22 [==============================] - 2s 84ms/step - loss: 0.5556 - val_loss: 0.1938\n",
      "Epoch 3/20\n",
      "22/22 [==============================] - 2s 91ms/step - loss: 0.4808 - val_loss: 0.1810\n",
      "Epoch 4/20\n",
      "22/22 [==============================] - 2s 88ms/step - loss: 0.4559 - val_loss: 0.1874\n",
      "Epoch 5/20\n",
      "22/22 [==============================] - 2s 89ms/step - loss: 0.4342 - val_loss: 0.1735\n",
      "Epoch 6/20\n",
      "22/22 [==============================] - 2s 88ms/step - loss: 0.4216 - val_loss: 0.1675\n",
      "Epoch 7/20\n",
      "22/22 [==============================] - 2s 88ms/step - loss: 0.4197 - val_loss: 0.1683\n",
      "Epoch 8/20\n",
      "22/22 [==============================] - 2s 86ms/step - loss: 0.4047 - val_loss: 0.1563\n",
      "Epoch 9/20\n",
      "22/22 [==============================] - 2s 91ms/step - loss: 0.4054 - val_loss: 0.1611\n",
      "Epoch 10/20\n",
      "22/22 [==============================] - 2s 92ms/step - loss: 0.3966 - val_loss: 0.1328\n",
      "Epoch 11/20\n",
      "22/22 [==============================] - 2s 92ms/step - loss: 0.3912 - val_loss: 0.1286\n",
      "Epoch 12/20\n",
      "22/22 [==============================] - 2s 88ms/step - loss: 0.3859 - val_loss: 0.1324\n",
      "Epoch 13/20\n",
      "22/22 [==============================] - 2s 91ms/step - loss: 0.3850 - val_loss: 0.1349\n",
      "Epoch 14/20\n",
      "22/22 [==============================] - 2s 90ms/step - loss: 0.3847 - val_loss: 0.1256\n",
      "Epoch 15/20\n",
      "22/22 [==============================] - 2s 89ms/step - loss: 0.3773 - val_loss: 0.1230\n",
      "Epoch 16/20\n",
      "22/22 [==============================] - 2s 89ms/step - loss: 0.3769 - val_loss: 0.1076\n",
      "Epoch 17/20\n",
      "22/22 [==============================] - 2s 89ms/step - loss: 0.3731 - val_loss: 0.1051\n",
      "Epoch 18/20\n",
      "22/22 [==============================] - 2s 95ms/step - loss: 0.3694 - val_loss: 0.1114\n",
      "Epoch 19/20\n",
      "22/22 [==============================] - 2s 96ms/step - loss: 0.3704 - val_loss: 0.1143\n",
      "Epoch 20/20\n",
      "22/22 [==============================] - 2s 93ms/step - loss: 0.3677 - val_loss: 0.1011\n",
      "9/9 [==============================] - 0s 21ms/step - loss: 0.1011\n",
      "0.10112401843070984\n"
     ]
    }
   ],
   "source": [
    "import tensorflow as tf\n",
    "from tensorflow import keras\n",
    "\n",
    "model = keras.models.Sequential([\n",
    "    keras.layers.LSTM(30,return_sequences=True,input_shape=(X_train.shape[0],X_train.shape[2])),\n",
    "    keras.layers.LSTM(30,return_sequences=True),\n",
    "    keras.layers.LSTM(30,return_sequences=True),\n",
    "    keras.layers.LSTM(30),\n",
    "    keras.layers.Dense(1)\n",
    "])\n",
    "\n",
    "model.compile(loss=\"mse\", optimizer=\"adam\")\n",
    "history = model.fit(X_train, y_train, epochs=20,validation_data=(X_valid, y_valid))\n",
    "print(model.evaluate(X_valid, y_valid))"
   ]
  },
  {
   "cell_type": "code",
   "execution_count": 11,
   "id": "aae9725a",
   "metadata": {
    "scrolled": true
   },
   "outputs": [
    {
     "data": {
      "image/png": "[encoded data removed]",
      "text/plain": [
       "<Figure size 432x288 with 1 Axes>"
      ]
     },
     "metadata": {
      "needs_background": "light"
     },
     "output_type": "display_data"
    }
   ],
   "source": [
    "# plot history\n",
    "import matplotlib.pyplot as plt\n",
    "plt.plot(history.history['loss'], label='train')\n",
    "plt.plot(history.history['val_loss'], label='valid')\n",
    "plt.legend()\n",
    "plt.show()"
   ]
  },
  {
   "cell_type": "markdown",
   "id": "9b9950c5",
   "metadata": {},
   "source": [
    "### 적용?"
   ]
  },
  {
   "cell_type": "code",
   "execution_count": 12,
   "id": "b85758a2",
   "metadata": {},
   "outputs": [
    {
     "name": "stdout",
     "output_type": "stream",
     "text": [
      "WARNING:tensorflow:Model was constructed with shape (None, 691, 1) for input KerasTensor(type_spec=TensorSpec(shape=(None, 691, 1), dtype=tf.float32, name='lstm_input'), name='lstm_input', description=\"created by layer 'lstm_input'\"), but it was called on an input with incompatible shape (None, 31, 1).\n"
     ]
    }
   ],
   "source": [
    "y_pred = model.predict(X_test)\n",
    "predict_y = y_pred*np.std(train)+np.mean(train)\n",
    "origin_y = Make_TimeSeries_dataset(test,32).values[:,-1]"
   ]
  },
  {
   "cell_type": "code",
   "execution_count": 13,
   "id": "c10448e1",
   "metadata": {},
   "outputs": [
    {
     "data": {
      "image/png": "[encoded data removed]",
      "text/plain": [
       "<Figure size 432x288 with 1 Axes>"
      ]
     },
     "metadata": {
      "needs_background": "light"
     },
     "output_type": "display_data"
    }
   ],
   "source": [
    "plt.plot(origin_y, label='origin')\n",
    "plt.plot(predict_y, label='predict')\n",
    "plt.legend()\n",
    "plt.show()"
   ]
  }
 ],
 "metadata": {
  "kernelspec": {
   "display_name": "Python 3 (ipykernel)",
   "language": "python",
   "name": "python3"
  },
  "language_info": {
   "codemirror_mode": {
    "name": "ipython",
    "version": 3
   },
   "file_extension": ".py",
   "mimetype": "text/x-python",
   "name": "python",
   "nbconvert_exporter": "python",
   "pygments_lexer": "ipython3",
   "version": "3.8.8"
  }
 },
 "nbformat": 4,
 "nbformat_minor": 5
}
