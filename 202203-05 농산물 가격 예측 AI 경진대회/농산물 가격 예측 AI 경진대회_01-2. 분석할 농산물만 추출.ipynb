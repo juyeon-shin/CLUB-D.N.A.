{
 "cells": [
  {
   "cell_type": "markdown",
   "id": "365e542e",
   "metadata": {},
   "source": [
    "## 농산물 가격 예측 AI 경진대회 분석할 농산물만 추출\n",
    "### 0. 패키지 & 데이터 불러오기"
   ]
  },
  {
   "cell_type": "code",
   "execution_count": 1,
   "id": "4b2e2705",
   "metadata": {},
   "outputs": [],
   "source": [
    "import pandas as pd\n",
    "import numpy as np\n",
    "import datetime as dt\n",
    "import glob\n",
    "\n",
    "import seaborn as sns\n",
    "import matplotlib.pyplot as plt## 농산물 가격 예측 AI 경진대회 at 파일 추출\n",
    "### 0. 패키지 & 데이터 불러오기"
   ]
  },
  {
   "cell_type": "code",
   "execution_count": 2,
   "id": "06a376f7",
   "metadata": {},
   "outputs": [],
   "source": [
    "# 한글 폰트 사용을 위해서 세팅\n",
    "from matplotlib import font_manager, rc\n",
    "font_path = \"C:/Windows/Fonts/NGULIM.TTF\"\n",
    "font = font_manager.FontProperties(fname=font_path).get_name()\n",
    "rc('font', family=font)"
   ]
  },
  {
   "cell_type": "code",
   "execution_count": 3,
   "id": "8e7188c0",
   "metadata": {
    "scrolled": true
   },
   "outputs": [
    {
     "data": {
      "text/plain": [
       "['C:/Users/juyeo/Desktop/03. 농산물 가격예측 AI 경진대회/public_data/train_AT_TSALET_ALL\\\\AT_TSALET_ALL_201601.csv',\n",
       " 'C:/Users/juyeo/Desktop/03. 농산물 가격예측 AI 경진대회/public_data/train_AT_TSALET_ALL\\\\AT_TSALET_ALL_201602.csv',\n",
       " 'C:/Users/juyeo/Desktop/03. 농산물 가격예측 AI 경진대회/public_data/train_AT_TSALET_ALL\\\\AT_TSALET_ALL_201603.csv',\n",
       " 'C:/Users/juyeo/Desktop/03. 농산물 가격예측 AI 경진대회/public_data/train_AT_TSALET_ALL\\\\AT_TSALET_ALL_201604.csv',\n",
       " 'C:/Users/juyeo/Desktop/03. 농산물 가격예측 AI 경진대회/public_data/train_AT_TSALET_ALL\\\\AT_TSALET_ALL_201605.csv',\n",
       " 'C:/Users/juyeo/Desktop/03. 농산물 가격예측 AI 경진대회/public_data/train_AT_TSALET_ALL\\\\AT_TSALET_ALL_201606.csv',\n",
       " 'C:/Users/juyeo/Desktop/03. 농산물 가격예측 AI 경진대회/public_data/train_AT_TSALET_ALL\\\\AT_TSALET_ALL_201607.csv',\n",
       " 'C:/Users/juyeo/Desktop/03. 농산물 가격예측 AI 경진대회/public_data/train_AT_TSALET_ALL\\\\AT_TSALET_ALL_201608.csv',\n",
       " 'C:/Users/juyeo/Desktop/03. 농산물 가격예측 AI 경진대회/public_data/train_AT_TSALET_ALL\\\\AT_TSALET_ALL_201609.csv',\n",
       " 'C:/Users/juyeo/Desktop/03. 농산물 가격예측 AI 경진대회/public_data/train_AT_TSALET_ALL\\\\AT_TSALET_ALL_201610.csv',\n",
       " 'C:/Users/juyeo/Desktop/03. 농산물 가격예측 AI 경진대회/public_data/train_AT_TSALET_ALL\\\\AT_TSALET_ALL_201611.csv',\n",
       " 'C:/Users/juyeo/Desktop/03. 농산물 가격예측 AI 경진대회/public_data/train_AT_TSALET_ALL\\\\AT_TSALET_ALL_201612.csv',\n",
       " 'C:/Users/juyeo/Desktop/03. 농산물 가격예측 AI 경진대회/public_data/train_AT_TSALET_ALL\\\\AT_TSALET_ALL_201701.csv',\n",
       " 'C:/Users/juyeo/Desktop/03. 농산물 가격예측 AI 경진대회/public_data/train_AT_TSALET_ALL\\\\AT_TSALET_ALL_201702.csv',\n",
       " 'C:/Users/juyeo/Desktop/03. 농산물 가격예측 AI 경진대회/public_data/train_AT_TSALET_ALL\\\\AT_TSALET_ALL_201703.csv',\n",
       " 'C:/Users/juyeo/Desktop/03. 농산물 가격예측 AI 경진대회/public_data/train_AT_TSALET_ALL\\\\AT_TSALET_ALL_201704.csv',\n",
       " 'C:/Users/juyeo/Desktop/03. 농산물 가격예측 AI 경진대회/public_data/train_AT_TSALET_ALL\\\\AT_TSALET_ALL_201705.csv',\n",
       " 'C:/Users/juyeo/Desktop/03. 농산물 가격예측 AI 경진대회/public_data/train_AT_TSALET_ALL\\\\AT_TSALET_ALL_201706.csv',\n",
       " 'C:/Users/juyeo/Desktop/03. 농산물 가격예측 AI 경진대회/public_data/train_AT_TSALET_ALL\\\\AT_TSALET_ALL_201707.csv',\n",
       " 'C:/Users/juyeo/Desktop/03. 농산물 가격예측 AI 경진대회/public_data/train_AT_TSALET_ALL\\\\AT_TSALET_ALL_201708.csv',\n",
       " 'C:/Users/juyeo/Desktop/03. 농산물 가격예측 AI 경진대회/public_data/train_AT_TSALET_ALL\\\\AT_TSALET_ALL_201709.csv',\n",
       " 'C:/Users/juyeo/Desktop/03. 농산물 가격예측 AI 경진대회/public_data/train_AT_TSALET_ALL\\\\AT_TSALET_ALL_201710.csv',\n",
       " 'C:/Users/juyeo/Desktop/03. 농산물 가격예측 AI 경진대회/public_data/train_AT_TSALET_ALL\\\\AT_TSALET_ALL_201711.csv',\n",
       " 'C:/Users/juyeo/Desktop/03. 농산물 가격예측 AI 경진대회/public_data/train_AT_TSALET_ALL\\\\AT_TSALET_ALL_201712.csv',\n",
       " 'C:/Users/juyeo/Desktop/03. 농산물 가격예측 AI 경진대회/public_data/train_AT_TSALET_ALL\\\\AT_TSALET_ALL_201801.csv',\n",
       " 'C:/Users/juyeo/Desktop/03. 농산물 가격예측 AI 경진대회/public_data/train_AT_TSALET_ALL\\\\AT_TSALET_ALL_201802.csv',\n",
       " 'C:/Users/juyeo/Desktop/03. 농산물 가격예측 AI 경진대회/public_data/train_AT_TSALET_ALL\\\\AT_TSALET_ALL_201803.csv',\n",
       " 'C:/Users/juyeo/Desktop/03. 농산물 가격예측 AI 경진대회/public_data/train_AT_TSALET_ALL\\\\AT_TSALET_ALL_201804.csv',\n",
       " 'C:/Users/juyeo/Desktop/03. 농산물 가격예측 AI 경진대회/public_data/train_AT_TSALET_ALL\\\\AT_TSALET_ALL_201805.csv',\n",
       " 'C:/Users/juyeo/Desktop/03. 농산물 가격예측 AI 경진대회/public_data/train_AT_TSALET_ALL\\\\AT_TSALET_ALL_201806.csv',\n",
       " 'C:/Users/juyeo/Desktop/03. 농산물 가격예측 AI 경진대회/public_data/train_AT_TSALET_ALL\\\\AT_TSALET_ALL_201807.csv',\n",
       " 'C:/Users/juyeo/Desktop/03. 농산물 가격예측 AI 경진대회/public_data/train_AT_TSALET_ALL\\\\AT_TSALET_ALL_201808.csv',\n",
       " 'C:/Users/juyeo/Desktop/03. 농산물 가격예측 AI 경진대회/public_data/train_AT_TSALET_ALL\\\\AT_TSALET_ALL_201809.csv',\n",
       " 'C:/Users/juyeo/Desktop/03. 농산물 가격예측 AI 경진대회/public_data/train_AT_TSALET_ALL\\\\AT_TSALET_ALL_201810.csv',\n",
       " 'C:/Users/juyeo/Desktop/03. 농산물 가격예측 AI 경진대회/public_data/train_AT_TSALET_ALL\\\\AT_TSALET_ALL_201811.csv',\n",
       " 'C:/Users/juyeo/Desktop/03. 농산물 가격예측 AI 경진대회/public_data/train_AT_TSALET_ALL\\\\AT_TSALET_ALL_201812.csv',\n",
       " 'C:/Users/juyeo/Desktop/03. 농산물 가격예측 AI 경진대회/public_data/train_AT_TSALET_ALL\\\\AT_TSALET_ALL_201901.csv',\n",
       " 'C:/Users/juyeo/Desktop/03. 농산물 가격예측 AI 경진대회/public_data/train_AT_TSALET_ALL\\\\AT_TSALET_ALL_201902.csv',\n",
       " 'C:/Users/juyeo/Desktop/03. 농산물 가격예측 AI 경진대회/public_data/train_AT_TSALET_ALL\\\\AT_TSALET_ALL_201903.csv',\n",
       " 'C:/Users/juyeo/Desktop/03. 농산물 가격예측 AI 경진대회/public_data/train_AT_TSALET_ALL\\\\AT_TSALET_ALL_201904.csv',\n",
       " 'C:/Users/juyeo/Desktop/03. 농산물 가격예측 AI 경진대회/public_data/train_AT_TSALET_ALL\\\\AT_TSALET_ALL_201905.csv',\n",
       " 'C:/Users/juyeo/Desktop/03. 농산물 가격예측 AI 경진대회/public_data/train_AT_TSALET_ALL\\\\AT_TSALET_ALL_201906.csv',\n",
       " 'C:/Users/juyeo/Desktop/03. 농산물 가격예측 AI 경진대회/public_data/train_AT_TSALET_ALL\\\\AT_TSALET_ALL_201907.csv',\n",
       " 'C:/Users/juyeo/Desktop/03. 농산물 가격예측 AI 경진대회/public_data/train_AT_TSALET_ALL\\\\AT_TSALET_ALL_201908.csv',\n",
       " 'C:/Users/juyeo/Desktop/03. 농산물 가격예측 AI 경진대회/public_data/train_AT_TSALET_ALL\\\\AT_TSALET_ALL_201909.csv',\n",
       " 'C:/Users/juyeo/Desktop/03. 농산물 가격예측 AI 경진대회/public_data/train_AT_TSALET_ALL\\\\AT_TSALET_ALL_201910.csv',\n",
       " 'C:/Users/juyeo/Desktop/03. 농산물 가격예측 AI 경진대회/public_data/train_AT_TSALET_ALL\\\\AT_TSALET_ALL_201911.csv',\n",
       " 'C:/Users/juyeo/Desktop/03. 농산물 가격예측 AI 경진대회/public_data/train_AT_TSALET_ALL\\\\AT_TSALET_ALL_201912.csv',\n",
       " 'C:/Users/juyeo/Desktop/03. 농산물 가격예측 AI 경진대회/public_data/train_AT_TSALET_ALL\\\\AT_TSALET_ALL_202001.csv',\n",
       " 'C:/Users/juyeo/Desktop/03. 농산물 가격예측 AI 경진대회/public_data/train_AT_TSALET_ALL\\\\AT_TSALET_ALL_202002.csv',\n",
       " 'C:/Users/juyeo/Desktop/03. 농산물 가격예측 AI 경진대회/public_data/train_AT_TSALET_ALL\\\\AT_TSALET_ALL_202003.csv',\n",
       " 'C:/Users/juyeo/Desktop/03. 농산물 가격예측 AI 경진대회/public_data/train_AT_TSALET_ALL\\\\AT_TSALET_ALL_202004.csv',\n",
       " 'C:/Users/juyeo/Desktop/03. 농산물 가격예측 AI 경진대회/public_data/train_AT_TSALET_ALL\\\\AT_TSALET_ALL_202005.csv',\n",
       " 'C:/Users/juyeo/Desktop/03. 농산물 가격예측 AI 경진대회/public_data/train_AT_TSALET_ALL\\\\AT_TSALET_ALL_202006.csv',\n",
       " 'C:/Users/juyeo/Desktop/03. 농산물 가격예측 AI 경진대회/public_data/train_AT_TSALET_ALL\\\\AT_TSALET_ALL_202007.csv',\n",
       " 'C:/Users/juyeo/Desktop/03. 농산물 가격예측 AI 경진대회/public_data/train_AT_TSALET_ALL\\\\AT_TSALET_ALL_202008.csv',\n",
       " 'C:/Users/juyeo/Desktop/03. 농산물 가격예측 AI 경진대회/public_data/train_AT_TSALET_ALL\\\\AT_TSALET_ALL_202009.csv']"
      ]
     },
     "execution_count": 3,
     "metadata": {},
     "output_type": "execute_result"
    }
   ],
   "source": [
    "train_list= glob.glob('C:/Users/juyeo/Desktop/03. 농산물 가격예측 AI 경진대회/public_data/train_AT_TSALET_ALL/*.csv')\n",
    "train_list"
   ]
  },
  {
   "cell_type": "markdown",
   "id": "06cbcc50",
   "metadata": {},
   "source": [
    "### 1. 분석할 농산물 행만 추출"
   ]
  },
  {
   "cell_type": "code",
   "execution_count": null,
   "id": "5b28e0e1",
   "metadata": {},
   "outputs": [],
   "source": [
    "product = ['배추','양파','건고추','새송이']\n",
    "train_at_feature = pd.DataFrame()\n",
    "\n",
    "for train in train_list:\n",
    "    current_data = pd.read_csv(train)\n",
    "    for i in product:\n",
    "        new_data = current_data[current_data['PUM_NM'] == i]\n",
    "        train_at_feature = pd.concat([train_at_feature,new_data])\n",
    "        \n",
    "train_at_feature"
   ]
  },
  {
   "cell_type": "code",
   "execution_count": null,
   "id": "e59002c5",
   "metadata": {},
   "outputs": [],
   "source": [
    "train_4 = train_at_freature[train_at_feature['SALEDATE','PUM_NM','KIND_NM','SAN_NM','DANQ','QTY','COST','TOT_QTY','TOT_AMT']]"
   ]
  },
  {
   "cell_type": "code",
   "execution_count": null,
   "id": "6cc11474",
   "metadata": {},
   "outputs": [],
   "source": []
  },
  {
   "cell_type": "code",
   "execution_count": null,
   "id": "f2b09abd",
   "metadata": {},
   "outputs": [],
   "source": [
    "train_4"
   ]
  },
  {
   "cell_type": "code",
   "execution_count": 5,
   "id": "24ea2dc4",
   "metadata": {},
   "outputs": [],
   "source": [
    "train_4.to_csv('train_4_feature.csv',index=False)"
   ]
  }
 ],
 "metadata": {
  "kernelspec": {
   "display_name": "Python 3 (ipykernel)",
   "language": "python",
   "name": "python3"
  },
  "language_info": {
   "codemirror_mode": {
    "name": "ipython",
    "version": 3
   },
   "file_extension": ".py",
   "mimetype": "text/x-python",
   "name": "python",
   "nbconvert_exporter": "python",
   "pygments_lexer": "ipython3",
   "version": "3.8.8"
  }
 },
 "nbformat": 4,
 "nbformat_minor": 5
}
