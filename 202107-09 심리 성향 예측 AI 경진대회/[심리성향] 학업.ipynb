{
 "cells": [
  {
   "cell_type": "markdown",
   "id": "3686367a",
   "metadata": {},
   "source": [
    "## 심리성향 예측 AI 경진대회"
   ]
  },
  {
   "cell_type": "markdown",
   "id": "3081df2c",
   "metadata": {},
   "source": [
    "|변수|설명|\n",
    "|-----|----|\n",
    "|index|번호|\n",
    "|Q_A (a~t)|비식별화를 위해 일부 질문은 Secret 처리(1=Disagree, 2=Slightly disagree, 3=Neutral, 4=Slightly agree, 5=Agree.)|\n",
    "|Q_E (a~t)| 해당 문항에 답하는 시간|\n",
    "|Qa|Secret|\n",
    "|Qb|The biggest difference between most criminals and other people is that the criminals are stupid enough to get caught.(대부분의 범죄자와 다른 사람들의 가장 큰 차이점은 범죄자들이 잡힐 만큼 어리석다는 것입니다.)|\n",
    "|Qc|Anyone who completely trusts anyone else is asking for trouble.(다른 사람을 완전히 신뢰하는 사람은 문제를 요구하는 것입니다.)|\n",
    "|Qd|Secret|\n",
    "|Qe|P.T. Barnum was wrong when he said that there's a sucker born every minute.(PT Barnum은 매분마다 태어난다고 말한 것은 틀렸습니다.)|\n",
    "|Qf|There is no excuse for lying to someone else.(남에게 거짓말을 하는 것은 변명의 여지가 없다)|\n",
    "|Qg|Secret|\n",
    "|Qh|Most people forget more easily the death of their parents than the loss of their property.(대부분의 사람들은 재산을 잃는 것보다 부모의 죽음을 더 쉽게 잊는다)|\n",
    "|Qi|Secret|\n",
    "|Qj|It is safest to assume that all people have a vicious streak and it will come out when they are given a chance.(모든 사람에게 악의가 있고 기회가 있을 때 나타날 것이라고 가정하는 것이 가장 안전합니다.)|\n",
    "|Qk|All in all, it is better to be humble and honest than to be important and dishonest.(대체로 중요하고 부정직한 것보다 겸손하고 부정직한 것이 더 낫습니다.)|\n",
    "|Ql|Secret|\n",
    "|Qm|It is hard to get ahead without cutting corners here and there.(여기 저기 모퉁이를 자르지 않고는 앞서가기 어렵다)|\n",
    "|Qn|Secret|\n",
    "|Qo|The best way to handle people is to tell them what they want to hear.(사람들을 다루는 가장 좋은 방법은 그들이 듣고 싶은 말을 하는 것이다)|\n",
    "|Qp|Secret|\n",
    "|Qq|Most people are basically good and kind.(대부분의 사람들은 기본적으로 착하고 친절합니다.)|\n",
    "|Qr|One should take action only when sure it is morally right.(One should take action only when sure it is morally right.)|\n",
    "|Qs|It is wise to flatter important people.(중요한 사람에게 아첨하는 것이 현명합니다.)|\n",
    "|Qt|Secret|\n",
    "|age_group|연령|\n",
    "|education|교육 수준 (1=Less than high school, 2=High school, 3=University degree, 4=Graduate degree, 0=무응답)|\n",
    "|engnat|모국어가 영어 (1=Yes, 2=No, 0=무응답)|\n",
    "|familysize|형제자매 수|\n",
    "|gender|성별 (Male, Female)|\n",
    "|hand|필기하는 손 (1=Right, 2=Left, 3=Both, 0=무응답)|\n",
    "|married|혼인 상태 (1=Never married, 2=Currently married, 3=Previously married, 0=Other)|\n",
    "|race|인종 (Asian, Arab, Black, Indigenous Australian, Native American, White, Other)|\n",
    "|religion|종교 (Agnostic, Atheist, Buddhist, Christian_Catholic, Christian_Mormon, Christian_Protestant, Christian_Other, Hindu, Jewish, Muslim, Sikh, Other)|\n",
    "|tp__(01~07)|items were rated \"I see myself as:\" _____ such that( 나는 나를 이렇게 생각한다)|\n",
    "|tp01|Extraverted, enthusiastic.(외향적, 열정적)|\n",
    "|tp02|Critical, quarrelsome.(크리티컬, 다툼)|\n",
    "|tp03|Dependable, self-disciplined.(신뢰할 수 있는, 자제력 있는)|\n",
    "|tp04|Anxious, easily upset.(불안하고 화를 쉽게 낸다)|\n",
    "|tp05|Open to new experiences, complex.(오픈 마인드, 복잡함)|\n",
    "|tp06|Reserved, quiet.(예약된, 조용한)|\n",
    "|tp07|Sympathetic, warm.(동정심, 따뜻함)|\n",
    "|tp08|Disorganized, careless.(무질서하고 부주의한)|\n",
    "|tp09|Calm, emotionally stable.(차분하고 정서적으로 안정된)|\n",
    "|tp10|Conventional, uncreative.(기존의, 창의적이지 않은)|\n",
    "|urban|유년기의 거주 구역(1=Rural (country side), 2=Suburban, 3=Urban (town, city), 0=무응답)|\n",
    "|wr_(01~13)|실존하는 해당 단어의 정의을 앎 (1=Yes, 0=No)|\n",
    "|wf_(01~03)|허구인 단어의 정의를 앎 (1=Yes, 0=No)|\n",
    "|voted (타겟)|지난 해 국가 선거 투표 여부 (1=Yes, 2=No)|"
   ]
  },
  {
   "cell_type": "code",
   "execution_count": 15,
   "id": "722bc54d",
   "metadata": {},
   "outputs": [],
   "source": [
    "import numpy as np\n",
    "import pandas as pd\n",
    "import seaborn as sns\n",
    "import matplotlib.pyplot as plt\n",
    "\n",
    "plt.rc('font', family='New Gulim')"
   ]
  },
  {
   "cell_type": "code",
   "execution_count": 16,
   "id": "a8026b57",
   "metadata": {},
   "outputs": [],
   "source": [
    "train = pd.read_csv('train.csv')\n",
    "test = pd. read_csv('test_x.csv')\n",
    "sample_submission = pd.read_csv('sample_submission.csv')"
   ]
  },
  {
   "cell_type": "code",
   "execution_count": 17,
   "id": "4827aea8",
   "metadata": {},
   "outputs": [
    {
     "data": {
      "text/html": [
       "<div>\n",
       "<style scoped>\n",
       "    .dataframe tbody tr th:only-of-type {\n",
       "        vertical-align: middle;\n",
       "    }\n",
       "\n",
       "    .dataframe tbody tr th {\n",
       "        vertical-align: top;\n",
       "    }\n",
       "\n",
       "    .dataframe thead th {\n",
       "        text-align: right;\n",
       "    }\n",
       "</style>\n",
       "<table border=\"1\" class=\"dataframe\">\n",
       "  <thead>\n",
       "    <tr style=\"text-align: right;\">\n",
       "      <th></th>\n",
       "      <th>voted</th>\n",
       "    </tr>\n",
       "    <tr>\n",
       "      <th>education</th>\n",
       "      <th></th>\n",
       "    </tr>\n",
       "  </thead>\n",
       "  <tbody>\n",
       "    <tr>\n",
       "      <th>2</th>\n",
       "      <td>0</td>\n",
       "    </tr>\n",
       "    <tr>\n",
       "      <th>4</th>\n",
       "      <td>0</td>\n",
       "    </tr>\n",
       "    <tr>\n",
       "      <th>3</th>\n",
       "      <td>0</td>\n",
       "    </tr>\n",
       "    <tr>\n",
       "      <th>4</th>\n",
       "      <td>0</td>\n",
       "    </tr>\n",
       "    <tr>\n",
       "      <th>3</th>\n",
       "      <td>0</td>\n",
       "    </tr>\n",
       "    <tr>\n",
       "      <th>...</th>\n",
       "      <td>...</td>\n",
       "    </tr>\n",
       "    <tr>\n",
       "      <th>2</th>\n",
       "      <td>0</td>\n",
       "    </tr>\n",
       "    <tr>\n",
       "      <th>2</th>\n",
       "      <td>0</td>\n",
       "    </tr>\n",
       "    <tr>\n",
       "      <th>2</th>\n",
       "      <td>0</td>\n",
       "    </tr>\n",
       "    <tr>\n",
       "      <th>4</th>\n",
       "      <td>0</td>\n",
       "    </tr>\n",
       "    <tr>\n",
       "      <th>2</th>\n",
       "      <td>0</td>\n",
       "    </tr>\n",
       "  </tbody>\n",
       "</table>\n",
       "<p>45532 rows × 1 columns</p>\n",
       "</div>"
      ],
      "text/plain": [
       "           voted\n",
       "education       \n",
       "2              0\n",
       "4              0\n",
       "3              0\n",
       "4              0\n",
       "3              0\n",
       "...          ...\n",
       "2              0\n",
       "2              0\n",
       "2              0\n",
       "4              0\n",
       "2              0\n",
       "\n",
       "[45532 rows x 1 columns]"
      ]
     },
     "execution_count": 17,
     "metadata": {},
     "output_type": "execute_result"
    }
   ],
   "source": [
    "data = pd.DataFrame(train['voted']-1, train['education'])\n",
    "data"
   ]
  },
  {
   "cell_type": "code",
   "execution_count": 12,
   "id": "92f342db",
   "metadata": {},
   "outputs": [
    {
     "data": {
      "text/plain": [
       "0        1\n",
       "1        1\n",
       "2        0\n",
       "3        0\n",
       "4        0\n",
       "        ..\n",
       "45527    1\n",
       "45528    1\n",
       "45529    0\n",
       "45530    0\n",
       "45531    0\n",
       "Name: voted, Length: 45532, dtype: int64"
      ]
     },
     "execution_count": 12,
     "metadata": {},
     "output_type": "execute_result"
    }
   ],
   "source": [
    "train['voted']-1"
   ]
  },
  {
   "cell_type": "code",
   "execution_count": 11,
   "id": "37496410",
   "metadata": {},
   "outputs": [
    {
     "data": {
      "text/plain": [
       "education\n",
       "0    1.522727\n",
       "1    1.950275\n",
       "2    1.632967\n",
       "3    1.403494\n",
       "4    1.380316\n",
       "Name: voted, dtype: float64"
      ]
     },
     "execution_count": 11,
     "metadata": {},
     "output_type": "execute_result"
    }
   ],
   "source": [
    "edu = train.groupby(['education']).mean()\n",
    "edu['voted']"
   ]
  },
  {
   "cell_type": "code",
   "execution_count": null,
   "id": "fd912962",
   "metadata": {},
   "outputs": [],
   "source": []
  },
  {
   "cell_type": "code",
   "execution_count": null,
   "id": "38f56c39",
   "metadata": {},
   "outputs": [],
   "source": []
  }
 ],
 "metadata": {
  "kernelspec": {
   "display_name": "Python 3",
   "language": "python",
   "name": "python3"
  },
  "language_info": {
   "codemirror_mode": {
    "name": "ipython",
    "version": 3
   },
   "file_extension": ".py",
   "mimetype": "text/x-python",
   "name": "python",
   "nbconvert_exporter": "python",
   "pygments_lexer": "ipython3",
   "version": "3.8.8"
  }
 },
 "nbformat": 4,
 "nbformat_minor": 5
}
